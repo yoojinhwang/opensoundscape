{
 "cells": [
  {
   "cell_type": "markdown",
   "metadata": {},
   "source": [
    "# Binary Bird Classifer from Using CNN"
   ]
  },
  {
   "cell_type": "markdown",
   "metadata": {},
   "source": [
    "Open Soundscape: http://opensoundscape.org/en/latest/train.html\n",
    "\n",
    "First, use the following packages to create a machine learning classifier. First, from OpenSoundscape import the following three functions (`run_command`, `binary_train_valid_split`, and `train`) and three classes (`Audio`, `Spectrogram`, and `SingleTargetAudioDataset`)."
   ]
  },
  {
   "cell_type": "code",
   "execution_count": 1,
   "metadata": {},
   "outputs": [],
   "source": [
    "from opensoundscape.audio import Audio\n",
    "from opensoundscape.spectrogram import Spectrogram\n",
    "from opensoundscape.datasets import SingleTargetAudioDataset\n",
    "\n",
    "from opensoundscape.helpers import run_command\n",
    "from opensoundscape.data_selection import binary_train_valid_split\n",
    "from opensoundscape.torch.train import train\n",
    "\n",
    "# For working with dataframes, arrays, and plotting\n",
    "import numpy as np\n",
    "import pandas as pd\n",
    "import matplotlib.pyplot as plt\n",
    "\n",
    "# For importing data / audio-related python library\n",
    "import librosa\n",
    "import os\n",
    "import pandas as pd\n"
   ]
  },
  {
   "cell_type": "markdown",
   "metadata": {},
   "source": [
    "# Split the data into n-segment chunks"
   ]
  },
  {
   "cell_type": "markdown",
   "metadata": {},
   "source": [
    "## Import Data\n",
    "Import all the audio files and resample to 44.1kHz"
   ]
  },
  {
   "cell_type": "code",
   "execution_count": 2,
   "metadata": {},
   "outputs": [],
   "source": [
    "def find_n_second_multiples_and_filenames(dir_path, n): \n",
    "    \"\"\" \n",
    "    dir_path (path): path of a directory with desired files\n",
    "    n (int): split data into n-second clips\n",
    "    wav_data (n dimensional list)\n",
    "    \"\"\"\n",
    "    \n",
    "    wav_data = []\n",
    "    allfilenames = []\n",
    "    timestamp = []\n",
    "\n",
    "    for filename in os.listdir(dir_path):\n",
    "        filepath = os.path.join(dir_path, filename)\n",
    "        print(filepath)\n",
    "        \n",
    "        data, sr = librosa.load(filepath, sr=44100)\n",
    "        num_samples_in_n_seconds =  n  * sr \n",
    "        length_data = len(data)\n",
    "        length_in_seconds = length_data / sr \n",
    "        \n",
    "        if length_data < num_samples_in_n_seconds: \n",
    "            pass\n",
    "        \n",
    "        elif length_data > num_samples_in_n_seconds: \n",
    "            data = data[:-(length_data % num_samples_in_n_seconds)]\n",
    "            num_of_n_clips = int(np.floor(length_data / num_samples_in_n_seconds))\n",
    "            \n",
    "            for i in range(num_of_n_clips): \n",
    "                allfilenames.append(filename)\n",
    "                data_n_seconds = data[i*num_samples_in_n_seconds:(i+1)*num_samples_in_n_seconds]\n",
    "                timestamp.append([i*n,(i+1)*n])\n",
    "                wav_data.append(data_n_seconds)\n",
    "\n",
    "        else: #length_data == num_samples_in_n_seconds: \n",
    "            allfilenames.append(filename)\n",
    "            wav_data.append([data])\n",
    "            \n",
    "    return wav_data, allfilenames, timestamp\n"
   ]
  },
  {
   "cell_type": "markdown",
   "metadata": {},
   "source": [
    "# Labelling Dataset\n",
    "\n",
    "In order to use a binary bird classifier with a CNN, we need to label the audio files we input to see if it has a bird or not. The dataset we will be using to train the CNN will ultimately have audio files from AudioSet and Xeno Canto data. "
   ]
  },
  {
   "cell_type": "code",
   "execution_count": 3,
   "metadata": {},
   "outputs": [
    {
     "name": "stdout",
     "output_type": "stream",
     "text": [
      "/home/e4e/Desktop/binary_bird_small_testset/_8MvhMlbwiE_40.000.wav\n",
      "/home/e4e/Desktop/binary_bird_small_testset/_6spzSHLoY0_30.000.wav\n",
      "/home/e4e/Desktop/binary_bird_small_testset/_7AHvLZsXFQ_580.000.wav\n",
      "/home/e4e/Desktop/binary_bird_small_testset/_8HcEdMMbzQ_130.000.wav\n",
      "/home/e4e/Desktop/binary_bird_small_testset/XC22019 - Blue-crowned Trogon - Trogon curucui.mp3\n"
     ]
    },
    {
     "name": "stderr",
     "output_type": "stream",
     "text": [
      "/home/e4e/acoustic-species-id-environments/Yoo-Jin/opensoundscape/opensoundscape-env/lib/python3.8/site-packages/librosa/core/audio.py:161: UserWarning: PySoundFile failed. Trying audioread instead.\n",
      "  warnings.warn('PySoundFile failed. Trying audioread instead.')\n"
     ]
    },
    {
     "name": "stdout",
     "output_type": "stream",
     "text": [
      "/home/e4e/Desktop/binary_bird_small_testset/XC22211 - White-bellied Tody-Tyrant - Hemitriccus griseipectus.mp3\n",
      "/home/e4e/Desktop/binary_bird_small_testset/XC22072 - Sapphire-spangled Emerald - Amazilia lactea.mp3\n"
     ]
    },
    {
     "name": "stderr",
     "output_type": "stream",
     "text": [
      "/home/e4e/acoustic-species-id-environments/Yoo-Jin/opensoundscape/opensoundscape-env/lib/python3.8/site-packages/librosa/core/audio.py:161: UserWarning: PySoundFile failed. Trying audioread instead.\n",
      "  warnings.warn('PySoundFile failed. Trying audioread instead.')\n",
      "/home/e4e/acoustic-species-id-environments/Yoo-Jin/opensoundscape/opensoundscape-env/lib/python3.8/site-packages/librosa/core/audio.py:161: UserWarning: PySoundFile failed. Trying audioread instead.\n",
      "  warnings.warn('PySoundFile failed. Trying audioread instead.')\n"
     ]
    },
    {
     "name": "stdout",
     "output_type": "stream",
     "text": [
      "/home/e4e/Desktop/binary_bird_small_testset/XC22279 - Greyish Mourner - Rhytipterna simplex.mp3\n",
      "/home/e4e/Desktop/binary_bird_small_testset/_3ZOigx8e3c_30.000.wav\n"
     ]
    },
    {
     "name": "stderr",
     "output_type": "stream",
     "text": [
      "/home/e4e/acoustic-species-id-environments/Yoo-Jin/opensoundscape/opensoundscape-env/lib/python3.8/site-packages/librosa/core/audio.py:161: UserWarning: PySoundFile failed. Trying audioread instead.\n",
      "  warnings.warn('PySoundFile failed. Trying audioread instead.')\n"
     ]
    },
    {
     "name": "stdout",
     "output_type": "stream",
     "text": [
      "/home/e4e/Desktop/binary_bird_small_testset/_5mfNxFuXos_30.000.wav\n",
      "/home/e4e/Desktop/binary_bird_small_testset/_4oW93l094k_30.000.wav\n",
      "/home/e4e/Desktop/binary_bird_small_testset/_1woPC5HWSg_30.000.wav\n",
      "/home/e4e/Desktop/binary_bird_small_testset/XC22193 - Red-necked Woodpecker - Campephilus rubricollis.mp3\n",
      "/home/e4e/Desktop/binary_bird_small_testset/_4rolMIFkgQ_30.000.wav\n"
     ]
    },
    {
     "name": "stderr",
     "output_type": "stream",
     "text": [
      "/home/e4e/acoustic-species-id-environments/Yoo-Jin/opensoundscape/opensoundscape-env/lib/python3.8/site-packages/librosa/core/audio.py:161: UserWarning: PySoundFile failed. Trying audioread instead.\n",
      "  warnings.warn('PySoundFile failed. Trying audioread instead.')\n"
     ]
    },
    {
     "name": "stdout",
     "output_type": "stream",
     "text": [
      "/home/e4e/Desktop/binary_bird_small_testset/XC22208 - White-crested Spadebill - Platyrinchus platyrhynchos.mp3\n",
      "/home/e4e/Desktop/binary_bird_small_testset/_3yc8z3kXgg_30.000.wav\n"
     ]
    },
    {
     "name": "stderr",
     "output_type": "stream",
     "text": [
      "/home/e4e/acoustic-species-id-environments/Yoo-Jin/opensoundscape/opensoundscape-env/lib/python3.8/site-packages/librosa/core/audio.py:161: UserWarning: PySoundFile failed. Trying audioread instead.\n",
      "  warnings.warn('PySoundFile failed. Trying audioread instead.')\n"
     ]
    },
    {
     "name": "stdout",
     "output_type": "stream",
     "text": [
      "/home/e4e/Desktop/binary_bird_small_testset/XC22082 - Channel-billed Toucan - Ramphastos vitellinus.mp3\n",
      "/home/e4e/Desktop/binary_bird_small_testset/XC22270 - White-crested Spadebill - Platyrinchus platyrhynchos.mp3\n"
     ]
    },
    {
     "name": "stderr",
     "output_type": "stream",
     "text": [
      "/home/e4e/acoustic-species-id-environments/Yoo-Jin/opensoundscape/opensoundscape-env/lib/python3.8/site-packages/librosa/core/audio.py:161: UserWarning: PySoundFile failed. Trying audioread instead.\n",
      "  warnings.warn('PySoundFile failed. Trying audioread instead.')\n",
      "/home/e4e/acoustic-species-id-environments/Yoo-Jin/opensoundscape/opensoundscape-env/lib/python3.8/site-packages/librosa/core/audio.py:161: UserWarning: PySoundFile failed. Trying audioread instead.\n",
      "  warnings.warn('PySoundFile failed. Trying audioread instead.')\n"
     ]
    },
    {
     "name": "stdout",
     "output_type": "stream",
     "text": [
      "/home/e4e/Desktop/binary_bird_small_testset/_5FQFj1d9Qs_550.000.wav\n",
      "/home/e4e/Desktop/binary_bird_small_testset/_3F2ThHyn64_30.000.wav\n",
      "/home/e4e/Desktop/binary_bird_small_testset/XC22087 - Silky-tailed Nightjar - Antrostomus sericocaudatus.mp3\n",
      "/home/e4e/Desktop/binary_bird_small_testset/XC22269 - White-crested Spadebill - Platyrinchus platyrhynchos.mp3\n"
     ]
    },
    {
     "name": "stderr",
     "output_type": "stream",
     "text": [
      "/home/e4e/acoustic-species-id-environments/Yoo-Jin/opensoundscape/opensoundscape-env/lib/python3.8/site-packages/librosa/core/audio.py:161: UserWarning: PySoundFile failed. Trying audioread instead.\n",
      "  warnings.warn('PySoundFile failed. Trying audioread instead.')\n",
      "/home/e4e/acoustic-species-id-environments/Yoo-Jin/opensoundscape/opensoundscape-env/lib/python3.8/site-packages/librosa/core/audio.py:161: UserWarning: PySoundFile failed. Trying audioread instead.\n",
      "  warnings.warn('PySoundFile failed. Trying audioread instead.')\n"
     ]
    },
    {
     "name": "stdout",
     "output_type": "stream",
     "text": [
      "/home/e4e/Desktop/binary_bird_small_testset/XC22099 - White-bellied Tody-Tyrant - Hemitriccus griseipectus.mp3\n",
      "/home/e4e/Desktop/binary_bird_small_testset/XC22035 - White-bellied Tody-Tyrant - Hemitriccus griseipectus.mp3\n"
     ]
    },
    {
     "name": "stderr",
     "output_type": "stream",
     "text": [
      "/home/e4e/acoustic-species-id-environments/Yoo-Jin/opensoundscape/opensoundscape-env/lib/python3.8/site-packages/librosa/core/audio.py:161: UserWarning: PySoundFile failed. Trying audioread instead.\n",
      "  warnings.warn('PySoundFile failed. Trying audioread instead.')\n",
      "/home/e4e/acoustic-species-id-environments/Yoo-Jin/opensoundscape/opensoundscape-env/lib/python3.8/site-packages/librosa/core/audio.py:161: UserWarning: PySoundFile failed. Trying audioread instead.\n",
      "  warnings.warn('PySoundFile failed. Trying audioread instead.')\n"
     ]
    }
   ],
   "source": [
    "dir_path = '/home/e4e/Desktop/binary_bird_small_testset' #pwd and also os.path.expanduser\n",
    "wav_data, allfilenames, timestamp = find_n_second_multiples_and_filenames(dir_path, 10)"
   ]
  },
  {
   "cell_type": "markdown",
   "metadata": {},
   "source": [
    "Since we are using xeno canto data (which is labelled data - bird and not bird), we need to label each of these files. In order to do so, we extract this information from the filename. Note that all the xeno canto data starts with 'XC'. "
   ]
  },
  {
   "cell_type": "code",
   "execution_count": 4,
   "metadata": {},
   "outputs": [],
   "source": [
    "def label_files(file_list): \n",
    "    bird_present_binary = []\n",
    "    bird_species_list = []\n",
    "    for f in file_list: \n",
    "        if f[:2] == 'XC':\n",
    "            bird_present_binary.append(1)\n",
    "            bird_species_list.append(os.path.splitext(f.split(\"-\",1)[1].strip())[0])\n",
    "        else:\n",
    "            bird_present_binary.append(0)\n",
    "            bird_species_list.append('N/A')\n",
    "    return bird_species_list, bird_present_binary\n",
    "            \n",
    "bird_species_list, bird_present_binary = label_files(allfilenames)\n",
    "\n",
    "assert(len(allfilenames)==len(bird_present_binary))\n",
    "assert(len(bird_species_list)==len(bird_present_binary))"
   ]
  },
  {
   "cell_type": "code",
   "execution_count": 5,
   "metadata": {
    "scrolled": true
   },
   "outputs": [
    {
     "name": "stdout",
     "output_type": "stream",
     "text": [
      "['N/A', 'N/A', 'N/A', 'N/A', 'Blue-crowned Trogon - Trogon curucui', 'Blue-crowned Trogon - Trogon curucui', 'White-bellied Tody-Tyrant - Hemitriccus griseipectus', 'White-bellied Tody-Tyrant - Hemitriccus griseipectus', 'White-bellied Tody-Tyrant - Hemitriccus griseipectus', 'White-bellied Tody-Tyrant - Hemitriccus griseipectus', 'N/A', 'N/A', 'N/A', 'N/A', 'Red-necked Woodpecker - Campephilus rubricollis', 'N/A', 'White-crested Spadebill - Platyrinchus platyrhynchos', 'N/A', 'Channel-billed Toucan - Ramphastos vitellinus', 'N/A', 'N/A', 'Silky-tailed Nightjar - Antrostomus sericocaudatus', 'Silky-tailed Nightjar - Antrostomus sericocaudatus', 'White-bellied Tody-Tyrant - Hemitriccus griseipectus', 'White-bellied Tody-Tyrant - Hemitriccus griseipectus'] [0, 0, 0, 0, 1, 1, 1, 1, 1, 1, 0, 0, 0, 0, 1, 0, 1, 0, 1, 0, 0, 1, 1, 1, 1]\n"
     ]
    }
   ],
   "source": [
    "print(bird_species_list, bird_present_binary)"
   ]
  },
  {
   "cell_type": "markdown",
   "metadata": {},
   "source": [
    "## Put all this data into a Pandas dataframe\n",
    "There would be a pandas dataframe that would include filenames, the timestamp of the file, if a bird is present in the file, and the bird species."
   ]
  },
  {
   "cell_type": "code",
   "execution_count": 6,
   "metadata": {},
   "outputs": [
    {
     "name": "stdout",
     "output_type": "stream",
     "text": [
      "['_8MvhMlbwiE_40.000.wav', '_6spzSHLoY0_30.000.wav', '_7AHvLZsXFQ_580.000.wav', '_8HcEdMMbzQ_130.000.wav', 'XC22019 - Blue-crowned Trogon - Trogon curucui.mp3', 'XC22019 - Blue-crowned Trogon - Trogon curucui.mp3', 'XC22211 - White-bellied Tody-Tyrant - Hemitriccus griseipectus.mp3', 'XC22211 - White-bellied Tody-Tyrant - Hemitriccus griseipectus.mp3', 'XC22211 - White-bellied Tody-Tyrant - Hemitriccus griseipectus.mp3', 'XC22211 - White-bellied Tody-Tyrant - Hemitriccus griseipectus.mp3', '_3ZOigx8e3c_30.000.wav', '_5mfNxFuXos_30.000.wav', '_4oW93l094k_30.000.wav', '_1woPC5HWSg_30.000.wav', 'XC22193 - Red-necked Woodpecker - Campephilus rubricollis.mp3', '_4rolMIFkgQ_30.000.wav', 'XC22208 - White-crested Spadebill - Platyrinchus platyrhynchos.mp3', '_3yc8z3kXgg_30.000.wav', 'XC22082 - Channel-billed Toucan - Ramphastos vitellinus.mp3', '_5FQFj1d9Qs_550.000.wav', '_3F2ThHyn64_30.000.wav', 'XC22087 - Silky-tailed Nightjar - Antrostomus sericocaudatus.mp3', 'XC22087 - Silky-tailed Nightjar - Antrostomus sericocaudatus.mp3', 'XC22099 - White-bellied Tody-Tyrant - Hemitriccus griseipectus.mp3', 'XC22035 - White-bellied Tody-Tyrant - Hemitriccus griseipectus.mp3']\n"
     ]
    }
   ],
   "source": [
    "print(allfilenames)"
   ]
  },
  {
   "cell_type": "code",
   "execution_count": 7,
   "metadata": {},
   "outputs": [
    {
     "name": "stdout",
     "output_type": "stream",
     "text": [
      "25\n",
      "13\n",
      "25\n",
      "25\n"
     ]
    }
   ],
   "source": [
    "print(len(allfilenames))\n",
    "print(len(timestamp))\n",
    "print(len(bird_present_binary))\n",
    "print(len(bird_species_list))"
   ]
  },
  {
   "cell_type": "code",
   "execution_count": 8,
   "metadata": {},
   "outputs": [
    {
     "name": "stdout",
     "output_type": "stream",
     "text": [
      "                                            Filenames  Bird present  \\\n",
      "0                              _8MvhMlbwiE_40.000.wav             0   \n",
      "1                              _6spzSHLoY0_30.000.wav             0   \n",
      "2                             _7AHvLZsXFQ_580.000.wav             0   \n",
      "3                             _8HcEdMMbzQ_130.000.wav             0   \n",
      "4   XC22019 - Blue-crowned Trogon - Trogon curucui...             1   \n",
      "5   XC22019 - Blue-crowned Trogon - Trogon curucui...             1   \n",
      "6   XC22211 - White-bellied Tody-Tyrant - Hemitric...             1   \n",
      "7   XC22211 - White-bellied Tody-Tyrant - Hemitric...             1   \n",
      "8   XC22211 - White-bellied Tody-Tyrant - Hemitric...             1   \n",
      "9   XC22211 - White-bellied Tody-Tyrant - Hemitric...             1   \n",
      "10                             _3ZOigx8e3c_30.000.wav             0   \n",
      "11                             _5mfNxFuXos_30.000.wav             0   \n",
      "12                             _4oW93l094k_30.000.wav             0   \n",
      "13                             _1woPC5HWSg_30.000.wav             0   \n",
      "14  XC22193 - Red-necked Woodpecker - Campephilus ...             1   \n",
      "15                             _4rolMIFkgQ_30.000.wav             0   \n",
      "16  XC22208 - White-crested Spadebill - Platyrinch...             1   \n",
      "17                             _3yc8z3kXgg_30.000.wav             0   \n",
      "18  XC22082 - Channel-billed Toucan - Ramphastos v...             1   \n",
      "19                            _5FQFj1d9Qs_550.000.wav             0   \n",
      "20                             _3F2ThHyn64_30.000.wav             0   \n",
      "21  XC22087 - Silky-tailed Nightjar - Antrostomus ...             1   \n",
      "22  XC22087 - Silky-tailed Nightjar - Antrostomus ...             1   \n",
      "23  XC22099 - White-bellied Tody-Tyrant - Hemitric...             1   \n",
      "24  XC22035 - White-bellied Tody-Tyrant - Hemitric...             1   \n",
      "\n",
      "                                         Bird species  \n",
      "0                                                 N/A  \n",
      "1                                                 N/A  \n",
      "2                                                 N/A  \n",
      "3                                                 N/A  \n",
      "4                Blue-crowned Trogon - Trogon curucui  \n",
      "5                Blue-crowned Trogon - Trogon curucui  \n",
      "6   White-bellied Tody-Tyrant - Hemitriccus grisei...  \n",
      "7   White-bellied Tody-Tyrant - Hemitriccus grisei...  \n",
      "8   White-bellied Tody-Tyrant - Hemitriccus grisei...  \n",
      "9   White-bellied Tody-Tyrant - Hemitriccus grisei...  \n",
      "10                                                N/A  \n",
      "11                                                N/A  \n",
      "12                                                N/A  \n",
      "13                                                N/A  \n",
      "14    Red-necked Woodpecker - Campephilus rubricollis  \n",
      "15                                                N/A  \n",
      "16  White-crested Spadebill - Platyrinchus platyrh...  \n",
      "17                                                N/A  \n",
      "18      Channel-billed Toucan - Ramphastos vitellinus  \n",
      "19                                                N/A  \n",
      "20                                                N/A  \n",
      "21  Silky-tailed Nightjar - Antrostomus sericocaud...  \n",
      "22  Silky-tailed Nightjar - Antrostomus sericocaud...  \n",
      "23  White-bellied Tody-Tyrant - Hemitriccus grisei...  \n",
      "24  White-bellied Tody-Tyrant - Hemitriccus grisei...  \n",
      "{0: 'bird-absent', 1: 'bird-present'}\n"
     ]
    }
   ],
   "source": [
    "labels = {'Filenames': allfilenames,\n",
    "        'Bird present': bird_present_binary,\n",
    "        'Bird species': bird_species_list\n",
    "        }\n",
    "\n",
    "df = pd.DataFrame(labels, columns = ['Filenames', 'Bird present', 'Bird species'])\n",
    "label_dict = {0:'bird-absent', 1:'bird-present'}\n",
    "\n",
    "print(df)\n",
    "print(label_dict)"
   ]
  },
  {
   "cell_type": "code",
   "execution_count": 9,
   "metadata": {},
   "outputs": [],
   "source": [
    "# Make allfilenames into a path \n",
    "\n",
    "# '/Volumes/Elements/Binary_Bird_Classifer_Small_Testset/[\\'5D0E8668.WAV\\', \\'5D0E8668.WAV\\', \\'5D0E8668.WAV\\', \\'5D0E8668.WAV\\', \\'5D0E8668.WAV\\', \\'5D0E8668.WAV\\', \\'5D0EA4E0.WAV\\', \\'5D0EA4E0.WAV\\', \\'5D0EA4E0.WAV\\', \\'5D0EA4E0.WAV\\', \\'5D0EA4E0.WAV\\', \\'5D0EA4E0.WAV\\', \\'5D0EA738.WAV\\', \\'5D0EA738.WAV\\', \\'5D0EA738.WAV\\', \\'5D0EA738.WAV\\', \\'5D0EA738.WAV\\', \\'5D0EA738.WAV\\', \\'5D0EA990.WAV\\', \\'5D0EA990.WAV\\', \\'5D0EA990.WAV\\', \\'5D0EA990.WAV\\', \\'5D0EA990.WAV\\', \\'5D0EA990.WAV\\', \\'5D0EABE8.WAV\\', \\'5D0EABE8.WAV\\', \\'5D0EABE8.WAV\\', \\'5D0EABE8.WAV\\', \\'5D0EABE8.WAV\\', \\'5D0EABE8.WAV\\', \\'5D0EAE40.WAV\\', \\'5D0EAE40.WAV\\', \\'5D0EAE40.WAV\\', \\'5D0EAE40.WAV\\', \\'5D0EAE40.WAV\\', \\'5D0EAE40.WAV\\', \\'5D0EB098.WAV\\', \\'5D0EB098.WAV\\', \\'5D0EB098.WAV\\', \\'5D0EB098.WAV\\', \\'5D0EB098.WAV\\', \\'5D0EB098.WAV\\', \\'5D0EB2F0.WAV\\', \\'5D0EB2F0.WAV\\', \\'5D0EB2F0.WAV\\', \\'5D0EB2F0.WAV\\', \\'5D0EB2F0.WAV\\', \\'5D0EB2F0.WAV\\', \\'5D0EC808.WAV\\', \\'5D0EC808.WAV\\', \\'5D0EC808.WAV\\', \\'5D0EC808.WAV\\', \\'5D0EC808.WAV\\', \\'5D0EC808.WAV\\', \\'5D0FC078.WAV\\', \\'5D0FC078.WAV\\', \\'5D0FC078.WAV\\', \\'5D0FC078.WAV\\', \\'5D0FC078.WAV\\', \\'5D0FC078.WAV\\', \\'XC22404 - Black Antbird - Cercomacroides serva.mp3\\', \\'XC22404 - Black Antbird - Cercomacroides serva.mp3\\', \\'XC22458 - White-eyed Antwren - Epinecrophylla leucophthalma.mp3\\', \\'XC22458 - White-eyed Antwren - Epinecrophylla leucophthalma.mp3\\', \\'XC23434 - White-winged Shrike-Tanager - Lanio versicolor.mp3\\', \\'XC23434 - White-winged Shrike-Tanager - Lanio versicolor.mp3\\', \"XC40313 - Goeldi\\'s Antbird - Akletos goeldii.mp3\", \"XC40313 - Goeldi\\'s Antbird - Akletos goeldii.mp3\", \"XC40313 - Goeldi\\'s Antbird - Akletos goeldii.mp3\", \"XC40313 - Goeldi\\'s Antbird - Akletos goeldii.mp3\", \"XC40313 - Goeldi\\'s Antbird - Akletos goeldii.mp3\", \"XC40313 - Goeldi\\'s Antbird - Akletos goeldii.mp3\"]'\n",
    "s = pd.Series(allfilenames)\n",
    "\n",
    "for i in range(len(allfilenames)): \n",
    "    df['Filenames'] = '/home/e4e/Desktop/binary_bird_small_testset/' + allfilenames[i]\n",
    "    "
   ]
  },
  {
   "cell_type": "code",
   "execution_count": 10,
   "metadata": {},
   "outputs": [
    {
     "name": "stdout",
     "output_type": "stream",
     "text": [
      "                                            Filenames  Bird present  \\\n",
      "0   /home/e4e/Desktop/binary_bird_small_testset/XC...             0   \n",
      "1   /home/e4e/Desktop/binary_bird_small_testset/XC...             0   \n",
      "2   /home/e4e/Desktop/binary_bird_small_testset/XC...             0   \n",
      "3   /home/e4e/Desktop/binary_bird_small_testset/XC...             0   \n",
      "4   /home/e4e/Desktop/binary_bird_small_testset/XC...             1   \n",
      "5   /home/e4e/Desktop/binary_bird_small_testset/XC...             1   \n",
      "6   /home/e4e/Desktop/binary_bird_small_testset/XC...             1   \n",
      "7   /home/e4e/Desktop/binary_bird_small_testset/XC...             1   \n",
      "8   /home/e4e/Desktop/binary_bird_small_testset/XC...             1   \n",
      "9   /home/e4e/Desktop/binary_bird_small_testset/XC...             1   \n",
      "10  /home/e4e/Desktop/binary_bird_small_testset/XC...             0   \n",
      "11  /home/e4e/Desktop/binary_bird_small_testset/XC...             0   \n",
      "12  /home/e4e/Desktop/binary_bird_small_testset/XC...             0   \n",
      "13  /home/e4e/Desktop/binary_bird_small_testset/XC...             0   \n",
      "14  /home/e4e/Desktop/binary_bird_small_testset/XC...             1   \n",
      "15  /home/e4e/Desktop/binary_bird_small_testset/XC...             0   \n",
      "16  /home/e4e/Desktop/binary_bird_small_testset/XC...             1   \n",
      "17  /home/e4e/Desktop/binary_bird_small_testset/XC...             0   \n",
      "18  /home/e4e/Desktop/binary_bird_small_testset/XC...             1   \n",
      "19  /home/e4e/Desktop/binary_bird_small_testset/XC...             0   \n",
      "20  /home/e4e/Desktop/binary_bird_small_testset/XC...             0   \n",
      "21  /home/e4e/Desktop/binary_bird_small_testset/XC...             1   \n",
      "22  /home/e4e/Desktop/binary_bird_small_testset/XC...             1   \n",
      "23  /home/e4e/Desktop/binary_bird_small_testset/XC...             1   \n",
      "24  /home/e4e/Desktop/binary_bird_small_testset/XC...             1   \n",
      "\n",
      "                                         Bird species  \n",
      "0                                                 N/A  \n",
      "1                                                 N/A  \n",
      "2                                                 N/A  \n",
      "3                                                 N/A  \n",
      "4                Blue-crowned Trogon - Trogon curucui  \n",
      "5                Blue-crowned Trogon - Trogon curucui  \n",
      "6   White-bellied Tody-Tyrant - Hemitriccus grisei...  \n",
      "7   White-bellied Tody-Tyrant - Hemitriccus grisei...  \n",
      "8   White-bellied Tody-Tyrant - Hemitriccus grisei...  \n",
      "9   White-bellied Tody-Tyrant - Hemitriccus grisei...  \n",
      "10                                                N/A  \n",
      "11                                                N/A  \n",
      "12                                                N/A  \n",
      "13                                                N/A  \n",
      "14    Red-necked Woodpecker - Campephilus rubricollis  \n",
      "15                                                N/A  \n",
      "16  White-crested Spadebill - Platyrinchus platyrh...  \n",
      "17                                                N/A  \n",
      "18      Channel-billed Toucan - Ramphastos vitellinus  \n",
      "19                                                N/A  \n",
      "20                                                N/A  \n",
      "21  Silky-tailed Nightjar - Antrostomus sericocaud...  \n",
      "22  Silky-tailed Nightjar - Antrostomus sericocaud...  \n",
      "23  White-bellied Tody-Tyrant - Hemitriccus grisei...  \n",
      "24  White-bellied Tody-Tyrant - Hemitriccus grisei...  \n"
     ]
    }
   ],
   "source": [
    "print(df)"
   ]
  },
  {
   "cell_type": "code",
   "execution_count": 11,
   "metadata": {},
   "outputs": [
    {
     "name": "stdout",
     "output_type": "stream",
     "text": [
      "<bound method NDFrame.head of                                             Filenames  Bird present  \\\n",
      "0   /home/e4e/Desktop/binary_bird_small_testset/XC...             0   \n",
      "1   /home/e4e/Desktop/binary_bird_small_testset/XC...             0   \n",
      "2   /home/e4e/Desktop/binary_bird_small_testset/XC...             0   \n",
      "3   /home/e4e/Desktop/binary_bird_small_testset/XC...             0   \n",
      "4   /home/e4e/Desktop/binary_bird_small_testset/XC...             1   \n",
      "5   /home/e4e/Desktop/binary_bird_small_testset/XC...             1   \n",
      "6   /home/e4e/Desktop/binary_bird_small_testset/XC...             1   \n",
      "7   /home/e4e/Desktop/binary_bird_small_testset/XC...             1   \n",
      "8   /home/e4e/Desktop/binary_bird_small_testset/XC...             1   \n",
      "9   /home/e4e/Desktop/binary_bird_small_testset/XC...             1   \n",
      "10  /home/e4e/Desktop/binary_bird_small_testset/XC...             0   \n",
      "11  /home/e4e/Desktop/binary_bird_small_testset/XC...             0   \n",
      "12  /home/e4e/Desktop/binary_bird_small_testset/XC...             0   \n",
      "13  /home/e4e/Desktop/binary_bird_small_testset/XC...             0   \n",
      "14  /home/e4e/Desktop/binary_bird_small_testset/XC...             1   \n",
      "15  /home/e4e/Desktop/binary_bird_small_testset/XC...             0   \n",
      "16  /home/e4e/Desktop/binary_bird_small_testset/XC...             1   \n",
      "17  /home/e4e/Desktop/binary_bird_small_testset/XC...             0   \n",
      "18  /home/e4e/Desktop/binary_bird_small_testset/XC...             1   \n",
      "19  /home/e4e/Desktop/binary_bird_small_testset/XC...             0   \n",
      "20  /home/e4e/Desktop/binary_bird_small_testset/XC...             0   \n",
      "21  /home/e4e/Desktop/binary_bird_small_testset/XC...             1   \n",
      "22  /home/e4e/Desktop/binary_bird_small_testset/XC...             1   \n",
      "23  /home/e4e/Desktop/binary_bird_small_testset/XC...             1   \n",
      "24  /home/e4e/Desktop/binary_bird_small_testset/XC...             1   \n",
      "\n",
      "                                         Bird species  \n",
      "0                                                 N/A  \n",
      "1                                                 N/A  \n",
      "2                                                 N/A  \n",
      "3                                                 N/A  \n",
      "4                Blue-crowned Trogon - Trogon curucui  \n",
      "5                Blue-crowned Trogon - Trogon curucui  \n",
      "6   White-bellied Tody-Tyrant - Hemitriccus grisei...  \n",
      "7   White-bellied Tody-Tyrant - Hemitriccus grisei...  \n",
      "8   White-bellied Tody-Tyrant - Hemitriccus grisei...  \n",
      "9   White-bellied Tody-Tyrant - Hemitriccus grisei...  \n",
      "10                                                N/A  \n",
      "11                                                N/A  \n",
      "12                                                N/A  \n",
      "13                                                N/A  \n",
      "14    Red-necked Woodpecker - Campephilus rubricollis  \n",
      "15                                                N/A  \n",
      "16  White-crested Spadebill - Platyrinchus platyrh...  \n",
      "17                                                N/A  \n",
      "18      Channel-billed Toucan - Ramphastos vitellinus  \n",
      "19                                                N/A  \n",
      "20                                                N/A  \n",
      "21  Silky-tailed Nightjar - Antrostomus sericocaud...  \n",
      "22  Silky-tailed Nightjar - Antrostomus sericocaud...  \n",
      "23  White-bellied Tody-Tyrant - Hemitriccus grisei...  \n",
      "24  White-bellied Tody-Tyrant - Hemitriccus grisei...  >\n"
     ]
    }
   ],
   "source": [
    "print(df.head)"
   ]
  },
  {
   "cell_type": "markdown",
   "metadata": {},
   "source": [
    "# Machine learning: training\n",
    "\n",
    "Biologists are increasingly using acoustic recorders to study species of interest. Many bioacousticians want to determine the identity of the sounds they have recorded; a variety of manual and automated methods exist for this purpose. Automated methods can make it easier and faster to quickly predict which species or sounds are in one's recordings.\n",
    "\n",
    "Using a process called machine learning, bioacousticians can create (or \"train\") algorithms that can predict the identities of species vocalizing in acoustic recordings. These algorithms, called classifiers, typically do not identify sounds using the recording alone. Instead, they use image recognition techniques to identify sounds in spectrograms created from short segments of audio.\n",
    "\n",
    "This tutorial will guide you through the process of training a simple classifier for a single species. To download the tutorial as a Jupyter Notebook and run it on your own computer, click the \"Edit on GitHub\" button at the top right of the tutorial. You will have to [install OpenSoundscape](installation.html#installation) to use the tutorial."
   ]
  },
  {
   "cell_type": "markdown",
   "metadata": {},
   "source": [
    "Import the following machine learning-related modules. OpenSoundscape uses PyTorch to do machine learning."
   ]
  },
  {
   "cell_type": "code",
   "execution_count": 12,
   "metadata": {},
   "outputs": [],
   "source": [
    "import torch\n",
    "import torch.nn\n",
    "import torch.optim\n",
    "import torchvision.models"
   ]
  },
  {
   "cell_type": "markdown",
   "metadata": {},
   "source": [
    "Lastly, use a few miscellaneous functions."
   ]
  },
  {
   "cell_type": "code",
   "execution_count": 13,
   "metadata": {},
   "outputs": [],
   "source": [
    "# For interacting with paths on the filesystem\n",
    "import os.path\n",
    "from pathlib import Path\n",
    "from sklearn.model_selection import train_test_split\n",
    "\n",
    "# For handling output of the training function\n",
    "import io\n",
    "from contextlib import redirect_stdout"
   ]
  },
  {
   "cell_type": "markdown",
   "metadata": {},
   "source": [
    "## Prepare audio data\n",
    "\n",
    "### Download labeled audio files\n",
    "\n",
    "Training a machine learning model requires some pre-labeled data. These data, in the form of audio recordings or spectrograms, are labeled with whether or not they contain the sound of the species of interest. These data can be obtained from online databases such as Xeno-Canto.org, or by labeling one's own ARU data using a program like Cornell's \"Raven\" sound analysis software.\n",
    "\n",
    "For ML pipelines, we need a training, validation, and test set. \n",
    "Outline: \n",
    "- Use audio augmented data of the actual test set for the training and validation set (split)\n",
    "- Then use the actual test set (collection of Xeno Canto data and Audioset) for the test set \n",
    "\n",
    "1. Training set: sample of data used to fit the model AKA the actual dataset that we use to train the model (audio augmented set of data)\n",
    "2. Validation: sample of data used to provide an unbiased evaluation of a model fit on the training dataset while tuning model hyperparameters\n",
    "3. Test set: sample of data used to provide an unbiased evaluation of a final model fit on the training dataset (usually unlabelled data)\n",
    "\n",
    "Sources: \n",
    "https://towardsdatascience.com/train-validation-and-test-sets-72cb40cba9e7 "
   ]
  },
  {
   "cell_type": "markdown",
   "metadata": {},
   "source": [
    "### Audio Augmentation\n",
    "Reference for audio augmentation as seen here: https://github.com/UCSD-E4E/passive-acoustic-biodiversity/blob/master/Audio_Data_Augmentation/Data_Augmentation_Tutorial.ipynb"
   ]
  },
  {
   "cell_type": "code",
   "execution_count": 14,
   "metadata": {},
   "outputs": [
    {
     "name": "stdout",
     "output_type": "stream",
     "text": [
      "25\n"
     ]
    },
    {
     "data": {
      "text/html": [
       "<div>\n",
       "<style scoped>\n",
       "    .dataframe tbody tr th:only-of-type {\n",
       "        vertical-align: middle;\n",
       "    }\n",
       "\n",
       "    .dataframe tbody tr th {\n",
       "        vertical-align: top;\n",
       "    }\n",
       "\n",
       "    .dataframe thead th {\n",
       "        text-align: right;\n",
       "    }\n",
       "</style>\n",
       "<table border=\"1\" class=\"dataframe\">\n",
       "  <thead>\n",
       "    <tr style=\"text-align: right;\">\n",
       "      <th></th>\n",
       "      <th>Filenames</th>\n",
       "      <th>Bird present</th>\n",
       "      <th>Bird species</th>\n",
       "    </tr>\n",
       "  </thead>\n",
       "  <tbody>\n",
       "    <tr>\n",
       "      <th>0</th>\n",
       "      <td>/home/e4e/Desktop/binary_bird_small_testset/XC...</td>\n",
       "      <td>0</td>\n",
       "      <td>N/A</td>\n",
       "    </tr>\n",
       "    <tr>\n",
       "      <th>1</th>\n",
       "      <td>/home/e4e/Desktop/binary_bird_small_testset/XC...</td>\n",
       "      <td>0</td>\n",
       "      <td>N/A</td>\n",
       "    </tr>\n",
       "    <tr>\n",
       "      <th>2</th>\n",
       "      <td>/home/e4e/Desktop/binary_bird_small_testset/XC...</td>\n",
       "      <td>0</td>\n",
       "      <td>N/A</td>\n",
       "    </tr>\n",
       "    <tr>\n",
       "      <th>3</th>\n",
       "      <td>/home/e4e/Desktop/binary_bird_small_testset/XC...</td>\n",
       "      <td>0</td>\n",
       "      <td>N/A</td>\n",
       "    </tr>\n",
       "    <tr>\n",
       "      <th>4</th>\n",
       "      <td>/home/e4e/Desktop/binary_bird_small_testset/XC...</td>\n",
       "      <td>1</td>\n",
       "      <td>Blue-crowned Trogon - Trogon curucui</td>\n",
       "    </tr>\n",
       "  </tbody>\n",
       "</table>\n",
       "</div>"
      ],
      "text/plain": [
       "                                           Filenames  Bird present  \\\n",
       "0  /home/e4e/Desktop/binary_bird_small_testset/XC...             0   \n",
       "1  /home/e4e/Desktop/binary_bird_small_testset/XC...             0   \n",
       "2  /home/e4e/Desktop/binary_bird_small_testset/XC...             0   \n",
       "3  /home/e4e/Desktop/binary_bird_small_testset/XC...             0   \n",
       "4  /home/e4e/Desktop/binary_bird_small_testset/XC...             1   \n",
       "\n",
       "                           Bird species  \n",
       "0                                   N/A  \n",
       "1                                   N/A  \n",
       "2                                   N/A  \n",
       "3                                   N/A  \n",
       "4  Blue-crowned Trogon - Trogon curucui  "
      ]
     },
     "execution_count": 14,
     "metadata": {},
     "output_type": "execute_result"
    }
   ],
   "source": [
    "print(len(df))\n",
    "df.head()"
   ]
  },
  {
   "cell_type": "code",
   "execution_count": 15,
   "metadata": {},
   "outputs": [],
   "source": [
    "train_df, valid_df = train_test_split(df, train_size=0.8, stratify=labels['Bird present'])\n"
   ]
  },
  {
   "cell_type": "code",
   "execution_count": 16,
   "metadata": {},
   "outputs": [
    {
     "name": "stdout",
     "output_type": "stream",
     "text": [
      "Fraction of original dataframe with bird species present: 0.52\n",
      "Fraction of train samples with bird species present: 0.50\n",
      "Fraction of train samples with bird species present: 0.60\n"
     ]
    }
   ],
   "source": [
    "num_samples = df.shape[0]\n",
    "num_present = sum(df['Bird present'] == 1)\n",
    "print(f\"Fraction of original dataframe with bird species present: {num_present/num_samples:.2f}\")\n",
    "\n",
    "num_train_samples = train_df.shape[0]\n",
    "num_train_present = sum(train_df['Bird present'] == 1)\n",
    "print(f\"Fraction of train samples with bird species present: {num_train_present/num_train_samples:.2f}\")\n",
    "    \n",
    "num_valid_samples = valid_df.shape[0]\n",
    "num_valid_present = sum(valid_df['Bird present'] == 1)\n",
    "print(f\"Fraction of train samples with bird species present: {num_valid_present/num_valid_samples:.2f}\")\n"
   ]
  },
  {
   "cell_type": "markdown",
   "metadata": {},
   "source": [
    "### Format as `SingleTargetAudioDataset`s\n",
    "\n",
    "Turn these dataframes into \"Datasets\" using the `SingleTargetAudioDataset` class. Once they are set up in this class, they can be used by the training algorithm. Data augmentation could be applied in this step, but is not demonstrated here; for more information, see the [relevant API documentation](api.html#opensoundscape.datasets.SingleTargetAudioDataset).\n",
    "\n",
    "To use this class, specify the names of the relevant columns in the dataframes:"
   ]
  },
  {
   "cell_type": "code",
   "execution_count": 17,
   "metadata": {},
   "outputs": [],
   "source": [
    "train_dataset = SingleTargetAudioDataset(\n",
    "    df=train_df, label_dict=label_dict, label_column='Bird present', filename_column='Filenames', add_noise=True)\n",
    "valid_dataset = SingleTargetAudioDataset(\n",
    "    df=valid_df, label_dict=label_dict, label_column='Bird present', filename_column='Filenames', add_noise=True)\n"
   ]
  },
  {
   "cell_type": "markdown",
   "metadata": {},
   "source": [
    "## Train the machine learning model\n",
    "Next, set up the architecture of the machine learning model and train it. \n",
    "\n",
    "### Set up model architecture\n",
    "The model architecture is a neural network. Neural networks are so-named for their loose similarity to neurons. Each **neuron** takes in a small amount of data, performs a transformation to the data, and passes it on with some weight to the next neuron. Neurons are usually organized in **layers**; each neuron in one layer can be connected to one or multiple neurons in the next layer. Complex structures can arise from this series of connections.\n",
    "\n",
    "The neural network used here is a combination of a feature extractor and a classifier. The **feature extractor** is a convolutional neural network (CNN). CNNs are a special class of neural network commonly used for image classification. They are able to interpret pixels that are near each other to identify shapes or textures in images, like lines, dots, and edges. During the training process, the CNN learns which shapes and textures are important for distinguishing between different classes.\n",
    "\n",
    "The specific CNN used here is `resnet18`, using the `pretrained=True` option. This means that the model loaded is a version that somebody has already trained on another image dataset called ImageNet, so it has a head start on understanding features commonly seen in images. Although spectrograms aren't the same type of images as the photographs used in ImageNet, using the pretrained model will allow the model to more quickly adapt to identifying spectrograms."
   ]
  },
  {
   "cell_type": "code",
   "execution_count": 18,
   "metadata": {},
   "outputs": [],
   "source": [
    "model = torchvision.models.resnet18(pretrained = True)"
   ]
  },
  {
   "cell_type": "markdown",
   "metadata": {},
   "source": [
    "Although we refer to the whole neural network as a classifier, the part of the neural network that actually does the species classification is its `fc`, or \"fully connected,\" layers. This part of the neural network is called \"fully connected\" because it consists of several layers of neurons, where every neuron in each layer is connected to every other neuron in its adjacent layers.\n",
    "\n",
    "These layers come after the CNN layers, which have already interpreted an image's features. The `fc` layers then use those interpretations to classify the image. The number of output features of the CNN, therefore, is the number of input features of the `fc` layers:"
   ]
  },
  {
   "cell_type": "code",
   "execution_count": 19,
   "metadata": {},
   "outputs": [
    {
     "data": {
      "text/plain": [
       "512"
      ]
     },
     "execution_count": 19,
     "metadata": {},
     "output_type": "execute_result"
    }
   ],
   "source": [
    "model.fc.in_features"
   ]
  },
  {
   "cell_type": "markdown",
   "metadata": {},
   "source": [
    "Use a `Linear` classifier for the `fc`. To set up the `Linear` classifier, identify the input and output size for this classifier. As described above, the `fc` takes in the outputs of the feature extractor, so `in_features = model.fc.in_features`. The model identifies one species, so it has to be able to output a \"present\" or \"absent\" classification. Thus, `out_features=2`. A multi-species model would use `out_features=number_of_species`."
   ]
  },
  {
   "cell_type": "code",
   "execution_count": 20,
   "metadata": {},
   "outputs": [],
   "source": [
    "model.fc = torch.nn.Linear(in_features = model.fc.in_features, out_features = 2)\n"
   ]
  },
  {
   "cell_type": "markdown",
   "metadata": {},
   "source": [
    "### Train the model\n",
    "\n",
    "Next, create set up a directory in which to save results."
   ]
  },
  {
   "cell_type": "code",
   "execution_count": 21,
   "metadata": {},
   "outputs": [],
   "source": [
    "results_path = Path('/home/e4e/Desktop/model_train_results')\n",
    "if not results_path.exists(): results_path.mkdir()\n"
   ]
  },
  {
   "cell_type": "code",
   "execution_count": 22,
   "metadata": {},
   "outputs": [
    {
     "name": "stdout",
     "output_type": "stream",
     "text": [
      "/home/e4e/Desktop/model_train_results\n"
     ]
    }
   ],
   "source": [
    "print(results_path)"
   ]
  },
  {
   "cell_type": "markdown",
   "metadata": {},
   "source": [
    "The scikit-learn function may throw errors when calculating metrics; the following code will silence them."
   ]
  },
  {
   "cell_type": "code",
   "execution_count": 23,
   "metadata": {},
   "outputs": [],
   "source": [
    "def warn(*args, **kwargs):\n",
    "    pass\n",
    "import warnings\n",
    "warnings.warn = warn"
   ]
  },
  {
   "cell_type": "markdown",
   "metadata": {},
   "source": [
    "Finally, run the model training with the following parameters:\n",
    "* `save_dir`: the directory in which to save results (which is created if it doesn't exist)\n",
    "* `model`: the model set up in the previous cell\n",
    "* `train_dataset`: the training dataset created using `SingleTargetAudioDataset`\n",
    "* `optimizer`: the optimizer to use for training the algorithm\n",
    "* `loss_fn`: the loss function used to assess the algorithm's performance during training\n",
    "* `epochs`: the number of times the model will run through the training data\n",
    "* `log_every`: how frequently to save performance data and save intermediate machine learning weights (`log_every=1` will save every epoch)\n",
    "\n",
    "The `train` function allows the user to control more parameters, but they are not demonstrated here. For more information, see the [train API](http://opensoundscape.org/en/latest/api.html#module-opensoundscape.torch.train)."
   ]
  },
  {
   "cell_type": "code",
   "execution_count": 24,
   "metadata": {},
   "outputs": [
    {
     "name": "stdout",
     "output_type": "stream",
     "text": [
      "<_io.StringIO object at 0x7fc8ee79c280>\n"
     ]
    }
   ],
   "source": [
    "train_outputs = io.StringIO()\n",
    "print(train_outputs)\n",
    "\n",
    "with redirect_stdout(train_outputs):\n",
    "    train(\n",
    "        save_dir = results_path,\n",
    "        model = model,\n",
    "        train_dataset = train_dataset,\n",
    "        valid_dataset = valid_dataset,\n",
    "        optimizer = torch.optim.SGD(model.parameters(), lr=1e-3),\n",
    "        loss_fn = torch.nn.CrossEntropyLoss(),\n",
    "        epochs=5,\n",
    "        log_every=1,\n",
    "        print_logging=True,\n",
    "    )\n",
    "    "
   ]
  },
  {
   "cell_type": "markdown",
   "metadata": {},
   "source": [
    "## Evaluate model performance\n",
    "When training is complete, it is important to check the training results to see how well the model identifies sounds. This model was only trained on a limited amount of data, so the model is expected to not be usable--it is for demonstration purposes only.\n",
    "\n",
    "The outputs of the training function were saved to `train_outputs`. Check out the first 100 characters of this output.\n",
    "\n",
    "Notes on the statistics: \n",
    "- loss: In neural network, we want to minimize the error and the objective function for this is called a loss function. The value calculated by the loss function is referred to as \"loss\" \n",
    "- accuracy: Accuracy is the fraction of prediction our model got right aka the number of correct predictions / total number of predictions\n",
    "- precision: Answers the question: what proportion of positive identifications was actually correct? A model that produces no false positives (e.g. labels an audio file as a bird but does not contain any bird sounds) would have a precision of 1.0. Equation: TP / (TP + FP) \n",
    "- recall: Answers the question: what proportion of actual positives was identified correctly? A model that produces no false negatives has a recall of 1.0. So, in equation form: TP/ TP + FN\n",
    "- f1: A metric that relies on both precision and recall. \n",
    "\n",
    "Resources: \n",
    "- https://developers.google.com/machine-learning/crash-course/classification/precision-and-recall "
   ]
  },
  {
   "cell_type": "code",
   "execution_count": 25,
   "metadata": {
    "scrolled": true
   },
   "outputs": [
    {
     "name": "stdout",
     "output_type": "stream",
     "text": [
      "Epoch 0\n",
      "  Training.\n",
      "  Validating.\n",
      "  Validation results:\n",
      "    train_loss: 0.8142339870333671\n",
      "    train_accuracy: 0.25\n",
      "    train_precision: [0.   0.25]\n",
      "    train_recall: [0.   0.25]\n",
      "    train_f1: [0.   0.25]\n",
      "    valid_accuracy: 0.4\n",
      "    valid_precision: [0.4 0. ]\n",
      "    valid_recall: [0.4 0. ]\n",
      "    valid_f1: [0.4 0. ]\n",
      "  Saved results to /home/e4e/Desktop/model_train_results/epoch-0.tar.\n",
      "Epoch 1\n",
      "  Training.\n",
      "  Validating.\n",
      "  Validation results:\n",
      "    train_loss: 0.6826314836740494\n",
      "    train_accuracy: 0.6\n",
      "    train_precision: [0.25 0.35]\n",
      "    train_recall: [0.25 0.35]\n",
      "    train_f1: [0.25 0.35]\n",
      "    valid_accuracy: 0.4\n",
      "    valid_precision: [0.4 0. ]\n",
      "    valid_recall: [0.4 0. ]\n",
      "    valid_f1: [0.4 0. ]\n",
      "  Saved results to /home/e4e/Desktop/model_train_results/epoch-1.tar.\n",
      "Epoch 2\n",
      "  Training.\n",
      "  Validating.\n",
      "  Validation results:\n",
      "    train_loss: 0.8149477183818817\n",
      "    train_accuracy: 0.5\n",
      "    train_precision: [0.3 0.2]\n",
      "    train_recall: [0.3 0.2]\n",
      "    train_f1: [0.3 0.2]\n",
      "    valid_accuracy: 0.4\n",
      "    valid_precision: [0.4 0. ]\n",
      "    valid_recall: [0.4 0. ]\n",
      "    valid_f1: [0.4 0. ]\n",
      "  Saved results to /home/e4e/Desktop/model_train_results/epoch-2.tar.\n",
      "Epoch 3\n",
      "  Training.\n",
      "  Validating.\n",
      "  Validation results:\n",
      "    train_loss: 0.7775835499167443\n",
      "    train_accuracy: 0.55\n",
      "    train_precision: [0.4  0.15]\n",
      "    train_recall: [0.4  0.15]\n",
      "    train_f1: [0.4  0.15]\n",
      "    valid_accuracy: 0.6\n",
      "    valid_precision: [0.  0.6]\n",
      "    valid_recall: [0.  0.6]\n",
      "    valid_f1: [0.  0.6]\n",
      "  Saved results to /home/e4e/Desktop/model_train_results/epoch-3.tar.\n",
      "Epoch 4\n",
      "  Training.\n",
      "  Validating.\n",
      "  Validation results:\n",
      "    train_loss: 0.7890156760811806\n",
      "    train_accuracy: 0.5\n",
      "    train_precision: [0.25 0.25]\n",
      "    train_recall: [0.25 0.25]\n",
      "    train_f1: [0.25 0.25]\n",
      "    valid_accuracy: 0.4\n",
      "    valid_precision: [0.2 0.2]\n",
      "    valid_recall: [0.2 0.2]\n",
      "    valid_f1: [0.2 0.2]\n",
      "  Saved results to /home/e4e/Desktop/model_train_results/epoch-4.tar.\n",
      "Training complete.\n",
      "\n"
     ]
    }
   ],
   "source": [
    "source_text = train_outputs.getvalue()\n",
    "print(source_text)"
   ]
  },
  {
   "cell_type": "markdown",
   "metadata": {},
   "source": [
    "These functions help to parse the log text. They simply extract the resulting \"metric\" in each epoch. Metrics include accuracy, precision, recall, and f1 score."
   ]
  },
  {
   "cell_type": "code",
   "execution_count": 26,
   "metadata": {},
   "outputs": [],
   "source": [
    "def extract_all_lines_containing(source_text, str_to_extract):\n",
    "    \"\"\"Case-sensitive search for lines containing str_to_extract\"\"\"\n",
    "    finished = False\n",
    "    lines = source_text.split('\\n')\n",
    "    extract_lines = [line for line in lines if str_to_extract in line]\n",
    "    return extract_lines\n",
    "\n",
    "def strip_log(log, sep=':     '):\n",
    "    return log.split(sep)[1]\n",
    "\n",
    "def get_metric_from_log(source_text, metric):\n",
    "    if 'precision' in metric or 'recall' in metric:\n",
    "        return [float(strip_log(line, sep=': ').strip('[]').split()[1]) for line in extract_all_lines_containing(source_text, metric)]\n",
    "    return [float(strip_log(line, sep=': ')) for line in extract_all_lines_containing(source_text, metric)]"
   ]
  },
  {
   "cell_type": "code",
   "execution_count": 27,
   "metadata": {},
   "outputs": [],
   "source": [
    "# get_metric_from_log(source_text, 'precision')\n",
    "# get_metric_from_log(source_text, 'accuracy')\n",
    "# get_metric_from_log(source_text, 'recall')\n",
    "# get_metric_from_log(source_text, 'f1 score')"
   ]
  },
  {
   "cell_type": "markdown",
   "metadata": {},
   "source": [
    "Plot the validation accuracy each epoch. These results will look different every time the model is trained, as it is a stochastic process (randomly determined)."
   ]
  },
  {
   "cell_type": "code",
   "execution_count": 28,
   "metadata": {
    "scrolled": true
   },
   "outputs": [
    {
     "data": {
      "image/png": "[encoded data removed]",
      "text/plain": [
       "<Figure size 432x288 with 1 Axes>"
      ]
     },
     "metadata": {
      "needs_background": "light"
     },
     "output_type": "display_data"
    }
   ],
   "source": [
    "metrics_to_plot = ['valid_accuracy', 'train_accuracy']\n",
    "fig, ax = plt.subplots(1, 1)\n",
    "for metric in metrics_to_plot:\n",
    "    results = get_metric_from_log(source_text, metric)\n",
    "    ax.scatter(range(len(results)), results)\n",
    "ax.set_ylim(0, 1)\n",
    "ax.set_title('model training results')\n",
    "ax.legend(metrics_to_plot)\n",
    "plt.show()"
   ]
  },
  {
   "cell_type": "markdown",
   "metadata": {},
   "source": [
    "Lastly, this command \"cleans up\" by deleting all the downloaded files and results. Only run this if you are ready to remove the results of this analysis."
   ]
  },
  {
   "cell_type": "code",
   "execution_count": 29,
   "metadata": {},
   "outputs": [],
   "source": [
    "#import shutil\n",
    "# Delete results\n",
    "#shutil.rmtree(results_path)"
   ]
  }
 ],
 "metadata": {
  "kernelspec": {
   "display_name": "Python 3",
   "language": "python",
   "name": "python3"
  },
  "language_info": {
   "codemirror_mode": {
    "name": "ipython",
    "version": 3
   },
   "file_extension": ".py",
   "mimetype": "text/x-python",
   "name": "python",
   "nbconvert_exporter": "python",
   "pygments_lexer": "ipython3",
   "version": "3.8.5"
  }
 },
 "nbformat": 4,
 "nbformat_minor": 4
}
