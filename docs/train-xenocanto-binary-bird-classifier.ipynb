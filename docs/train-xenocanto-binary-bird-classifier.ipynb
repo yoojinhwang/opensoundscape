{
 "cells": [
  {
   "cell_type": "markdown",
   "metadata": {},
   "source": [
    "# Binary Bird Classifer from Using CNN"
   ]
  },
  {
   "cell_type": "markdown",
   "metadata": {},
   "source": [
    "Open Soundscape: http://opensoundscape.org/en/latest/train.html\n",
    "\n",
    "First, use the following packages to create a machine learning classifier. First, from OpenSoundscape import the following three functions (`run_command`, `binary_train_valid_split`, and `train`) and three classes (`Audio`, `Spectrogram`, and `SingleTargetAudioDataset`)."
   ]
  },
  {
   "cell_type": "code",
   "execution_count": 12,
   "metadata": {},
   "outputs": [],
   "source": [
    "from opensoundscape.audio import Audio\n",
    "from opensoundscape.spectrogram import Spectrogram\n",
    "from opensoundscape.datasets import SingleTargetAudioDataset\n",
    "\n",
    "from opensoundscape.helpers import run_command\n",
    "from opensoundscape.data_selection import binary_train_valid_split\n",
    "from opensoundscape.torch.train import train\n",
    "\n",
    "# For working with dataframes, arrays, and plotting\n",
    "import numpy as np\n",
    "import pandas as pd\n",
    "import matplotlib.pyplot as plt\n",
    "\n",
    "# For importing data / audio-related python library\n",
    "import librosa\n",
    "import os\n",
    "import os.path\n",
    "import pandas as pd\n"
   ]
  },
  {
   "cell_type": "markdown",
   "metadata": {},
   "source": [
    "# Split the data into n-segment chunks"
   ]
  },
  {
   "cell_type": "markdown",
   "metadata": {},
   "source": [
    "## Import Data\n",
    "Import all the audio files and resample to 44.1kHz and then save each 5 second clip to another directory.\n",
    "Make sure to make a directory manually of where you would like your clipped files to go to. "
   ]
  },
  {
   "cell_type": "code",
   "execution_count": 23,
   "metadata": {},
   "outputs": [],
   "source": [
    "split_path_audioset = os.path.join('/media/e4e/Rainforest_Data1/','audioset_nonbird_split')\n",
    "os.mkdir(split_path_audioset)"
   ]
  },
  {
   "cell_type": "code",
   "execution_count": null,
   "metadata": {},
   "outputs": [],
   "source": [
    "split_path = os.path.join('/media/e4e/Rainforest_Data1/', 'Madre_de_Dios_Xeno_Canto_Birdcalls_Split')\n",
    "os.mkdir(split_path)"
   ]
  },
  {
   "cell_type": "code",
   "execution_count": 30,
   "metadata": {},
   "outputs": [
    {
     "ename": "IndentationError",
     "evalue": "expected an indented block (<ipython-input-30-2ed3817f9f5f>, line 26)",
     "output_type": "error",
     "traceback": [
      "\u001b[0;36m  File \u001b[0;32m\"<ipython-input-30-2ed3817f9f5f>\"\u001b[0;36m, line \u001b[0;32m26\u001b[0m\n\u001b[0;31m    num_samples_in_n_seconds =  n  * sr\u001b[0m\n\u001b[0m    ^\u001b[0m\n\u001b[0;31mIndentationError\u001b[0m\u001b[0;31m:\u001b[0m expected an indented block\n"
     ]
    }
   ],
   "source": [
    "def find_n_second_multiples_and_filenames(dir_path, des_dir_path, n): \n",
    "    \"\"\" \n",
    "    dir_path (path): path of a directory with files you want to separate into 5 second clips\n",
    "    des_dir_path (path): path of a directroy \n",
    "    n (int): split data into n-second clips\n",
    "    wav_data (n dimensional list)\n",
    "    \"\"\"\n",
    "    \n",
    "    clip_wav_data = []\n",
    "    allfilenames = []\n",
    "    timestamp = []\n",
    "\n",
    "    for filename in os.listdir(dir_path):\n",
    "        filename_head = os.path.splitext(filename)[0]\n",
    "        filename_tail = os.path.splitext(filename)[1]\n",
    "        filepath = os.path.join(dir_path, filename)\n",
    "        \n",
    "        data, sr = librosa.load(filepath, sr=44100)\n",
    "        \n",
    "        if sr < 44100: \n",
    "            print(\"Sample rate is lower than 44.1kHz\")\n",
    "            pass\n",
    "        \n",
    "        else: \n",
    "            num_samples_in_n_seconds =  n  * sr \n",
    "            length_data = len(data)\n",
    "            length_in_seconds = length_data / sr \n",
    "\n",
    "            if length_data < num_samples_in_n_seconds: \n",
    "                pass\n",
    "\n",
    "            elif length_data > num_samples_in_n_seconds: \n",
    "                data = data[:-(length_data % num_samples_in_n_seconds)]\n",
    "                num_of_n_clips = int(np.floor(length_data / num_samples_in_n_seconds))\n",
    "\n",
    "                for i in range(num_of_n_clips): \n",
    "                    allfilenames.append(filename)\n",
    "                    start = (i*num_samples_in_n_seconds)/sr\n",
    "                    end = ((i+1)*num_samples_in_n_seconds)/sr\n",
    "\n",
    "                    data_n_seconds = data[i*num_samples_in_n_seconds:(i+1)*num_samples_in_n_seconds]\n",
    "                    timestamp.append([i*n,(i+1)*n])\n",
    "\n",
    "                    # filename \n",
    "                    new_filename = filename_head + '_%d%s_%d%s' % (start,'s',end,'s') + filename_tail\n",
    "                    new_directory = os.path.join(des_dir_path, new_filename)\n",
    "\n",
    "                    # write file\n",
    "                    librosa.output.write_wav(new_directory, data_n_seconds, sr)\n",
    "\n",
    "            else: #length_data == num_samples_in_n_seconds: \n",
    "                allfilenames.append(filename)\n",
    "\n",
    "                new_directory = os.path.join(des_dir_path, filename)\n",
    "                librosa.output.write_wav(new_directory, data, sr)\n",
    "            \n",
    "    return allfilenames, timestamp\n"
   ]
  },
  {
   "cell_type": "markdown",
   "metadata": {},
   "source": [
    "Spltting the data from the Audioset and Xeno Canto data."
   ]
  },
  {
   "cell_type": "code",
   "execution_count": 24,
   "metadata": {
    "scrolled": true
   },
   "outputs": [
    {
     "name": "stdout",
     "output_type": "stream",
     "text": [
      "/media/e4e/Rainforest_Data1/audioset_nonbird/it8_3gt0uUo_2.000.wav\n",
      "/media/e4e/Rainforest_Data1/audioset_nonbird/0-Hzui4Qpl4_40.000.wav\n",
      "/media/e4e/Rainforest_Data1/audioset_nonbird/0-N62G9etNE_30.000.wav\n",
      "/media/e4e/Rainforest_Data1/audioset_nonbird/0-yskgO46Bg_30.000.wav\n",
      "/media/e4e/Rainforest_Data1/audioset_nonbird/00cREXaIlnQ_30.000.wav\n",
      "/media/e4e/Rainforest_Data1/audioset_nonbird/00G2vNrTnCc_10.000.wav\n",
      "/media/e4e/Rainforest_Data1/audioset_nonbird/00KM53yZi2A_30.000.wav\n",
      "/media/e4e/Rainforest_Data1/audioset_nonbird/00XaUxjGuX8_170.000.wav\n",
      "/media/e4e/Rainforest_Data1/audioset_nonbird/01SaXyGY5SM_30.000.wav\n",
      "/media/e4e/Rainforest_Data1/audioset_nonbird/01x0zZpL87I_19.000.wav\n",
      "/media/e4e/Rainforest_Data1/audioset_nonbird/02-0m4RbDUI_30.000.wav\n",
      "/media/e4e/Rainforest_Data1/audioset_nonbird/03c-hmoUfuc_30.000.wav\n",
      "/media/e4e/Rainforest_Data1/audioset_nonbird/03zeVlBWhdY_30.000.wav\n",
      "/media/e4e/Rainforest_Data1/audioset_nonbird/0439dMJj-FY_30.000.wav\n",
      "/media/e4e/Rainforest_Data1/audioset_nonbird/04ChQ0fqzxQ_120.000.wav\n",
      "/media/e4e/Rainforest_Data1/audioset_nonbird/04ISXje8c_g_11.000.wav\n",
      "/media/e4e/Rainforest_Data1/audioset_nonbird/06Nq51sogmQ_10.000.wav\n",
      "/media/e4e/Rainforest_Data1/audioset_nonbird/06si40RVDco_30.000.wav\n",
      "/media/e4e/Rainforest_Data1/audioset_nonbird/076qdKSC8nU_30.000.wav\n",
      "/media/e4e/Rainforest_Data1/audioset_nonbird/07mCK08xGRc_10.000.wav\n",
      "/media/e4e/Rainforest_Data1/audioset_nonbird/07rwFurzpw8_21.000.wav\n",
      "/media/e4e/Rainforest_Data1/audioset_nonbird/08mf5GxT820_30.000.wav\n",
      "/media/e4e/Rainforest_Data1/audioset_nonbird/08QQAMaw24E_30.000.wav\n",
      "/media/e4e/Rainforest_Data1/audioset_nonbird/08Ua8a01P5g_13.000.wav\n",
      "/media/e4e/Rainforest_Data1/audioset_nonbird/097K1uMIPyQ_30.000.wav\n",
      "/media/e4e/Rainforest_Data1/audioset_nonbird/0a5KHX_odJ8_30.000.wav\n",
      "/media/e4e/Rainforest_Data1/audioset_nonbird/0AA0R8gbxcI_30.000.wav\n",
      "/media/e4e/Rainforest_Data1/audioset_nonbird/0aaLWD7TUSU_30.000.wav\n",
      "/media/e4e/Rainforest_Data1/audioset_nonbird/0AkRWunFZPk_190.000.wav\n",
      "/media/e4e/Rainforest_Data1/audioset_nonbird/0ARh-9Amrv0_260.000.wav\n",
      "/media/e4e/Rainforest_Data1/audioset_nonbird/0BCXcbaLeoA_30.000.wav\n",
      "/media/e4e/Rainforest_Data1/audioset_nonbird/0bhY7v5dJDY_310.000.wav\n",
      "/media/e4e/Rainforest_Data1/audioset_nonbird/0bKpv6YBl7g_50.000.wav\n",
      "/media/e4e/Rainforest_Data1/audioset_nonbird/0Cl6hXpryhY_30.000.wav\n",
      "/media/e4e/Rainforest_Data1/audioset_nonbird/0crG6jzAUpE_120.000.wav\n",
      "/media/e4e/Rainforest_Data1/audioset_nonbird/0CzC0-cXe8M_30.000.wav\n",
      "/media/e4e/Rainforest_Data1/audioset_nonbird/0cZQm65sZjc_50.000.wav\n",
      "/media/e4e/Rainforest_Data1/audioset_nonbird/0D9ZiiYArKw_30.000.wav\n",
      "/media/e4e/Rainforest_Data1/audioset_nonbird/0dgl6Rvt3X0_30.000.wav\n",
      "/media/e4e/Rainforest_Data1/audioset_nonbird/0dVmGVa3Rbw_20.000.wav\n",
      "/media/e4e/Rainforest_Data1/audioset_nonbird/0EI7FxbdsUE_410.000.wav\n",
      "/media/e4e/Rainforest_Data1/audioset_nonbird/0EiQyHjoaz8_14.000.wav\n",
      "/media/e4e/Rainforest_Data1/audioset_nonbird/0EyIdGgbPEo_30.000.wav\n",
      "/media/e4e/Rainforest_Data1/audioset_nonbird/0fD-eSRrybM_30.000.wav\n",
      "/media/e4e/Rainforest_Data1/audioset_nonbird/0FjrveIENzI_20.000.wav\n",
      "/media/e4e/Rainforest_Data1/audioset_nonbird/0fvq8YY28qI_130.000.wav\n",
      "/media/e4e/Rainforest_Data1/audioset_nonbird/0fwt2zSftIc_62.000.wav\n",
      "/media/e4e/Rainforest_Data1/audioset_nonbird/0fZKF6FprcA_30.000.wav\n",
      "/media/e4e/Rainforest_Data1/audioset_nonbird/0g-KosNgMYA_70.000.wav\n",
      "/media/e4e/Rainforest_Data1/audioset_nonbird/0Ga7T-2e490_17.000.wav\n",
      "/media/e4e/Rainforest_Data1/audioset_nonbird/0GhmrpFuRNQ_540.000.wav\n",
      "/media/e4e/Rainforest_Data1/audioset_nonbird/0H25ve3qts4_1.000.wav\n",
      "/media/e4e/Rainforest_Data1/audioset_nonbird/0hjqlmdPT6g_50.000.wav\n",
      "/media/e4e/Rainforest_Data1/audioset_nonbird/0hOD_iIeePk_30.000.wav\n",
      "/media/e4e/Rainforest_Data1/audioset_nonbird/0hUft9scxzY_460.000.wav\n",
      "/media/e4e/Rainforest_Data1/audioset_nonbird/0HzbpwB3xDk_30.000.wav\n",
      "/media/e4e/Rainforest_Data1/audioset_nonbird/0IMxRf5KZBY_30.000.wav\n",
      "/media/e4e/Rainforest_Data1/audioset_nonbird/0IwGsEzITQs_20.000.wav\n",
      "/media/e4e/Rainforest_Data1/audioset_nonbird/0IxyUtHw6Ec_0.000.wav\n",
      "/media/e4e/Rainforest_Data1/audioset_nonbird/0izHOfrwPn4_180.000.wav\n",
      "/media/e4e/Rainforest_Data1/audioset_nonbird/0J3wJhQVOII_260.000.wav\n",
      "/media/e4e/Rainforest_Data1/audioset_nonbird/0JjprYD2Yhw_20.000.wav\n",
      "/media/e4e/Rainforest_Data1/audioset_nonbird/0jnvb2H25_Q_110.000.wav\n",
      "/media/e4e/Rainforest_Data1/audioset_nonbird/0Jq6WJLLSIk_4.000.wav\n",
      "/media/e4e/Rainforest_Data1/audioset_nonbird/055kC3FYxK0_11.000.wav\n",
      "/media/e4e/Rainforest_Data1/audioset_nonbird/0BgI0XxW0kE_340.000.wav\n",
      "/media/e4e/Rainforest_Data1/audioset_nonbird/0G50t4FlbIA_60.000.wav\n",
      "/media/e4e/Rainforest_Data1/audioset_nonbird/0k6KjLouAHs_30.000.wav\n",
      "/media/e4e/Rainforest_Data1/audioset_nonbird/0noFcocWRzw_10.000.wav\n",
      "/media/e4e/Rainforest_Data1/audioset_nonbird/0rz3h0ghprk_250.000.wav\n",
      "/media/e4e/Rainforest_Data1/audioset_nonbird/0W1En_XsDnM_0.000.wav\n",
      "/media/e4e/Rainforest_Data1/audioset_nonbird/0_B2YnBAz3A_220.000.wav\n",
      "/media/e4e/Rainforest_Data1/audioset_nonbird/154WG9Gv1I4_150.000.wav\n",
      "/media/e4e/Rainforest_Data1/audioset_nonbird/1F23RciUwDE_30.000.wav\n",
      "/media/e4e/Rainforest_Data1/audioset_nonbird/1J4FXUMOw8k_70.000.wav\n",
      "/media/e4e/Rainforest_Data1/audioset_nonbird/1NWxg_BnJ0A_30.000.wav\n",
      "/media/e4e/Rainforest_Data1/audioset_nonbird/0KKTw8pfNjg_290.000.wav\n",
      "/media/e4e/Rainforest_Data1/audioset_nonbird/0kNCB0oGiL4_0.000.wav\n",
      "/media/e4e/Rainforest_Data1/audioset_nonbird/0kY1isykrrs_30.000.wav\n",
      "/media/e4e/Rainforest_Data1/audioset_nonbird/0lJyHuTVMNY_490.000.wav\n",
      "/media/e4e/Rainforest_Data1/audioset_nonbird/0loP4WNnL2k_0.000.wav\n",
      "/media/e4e/Rainforest_Data1/audioset_nonbird/0lPcHRhXlWk_30.000.wav\n",
      "/media/e4e/Rainforest_Data1/audioset_nonbird/0lPip_ffJbk_40.000.wav\n",
      "/media/e4e/Rainforest_Data1/audioset_nonbird/0LTmV_dOmmo_30.000.wav\n",
      "/media/e4e/Rainforest_Data1/audioset_nonbird/0Mba3BS1oRM_30.000.wav\n",
      "/media/e4e/Rainforest_Data1/audioset_nonbird/0MEPG8c0jqk_490.000.wav\n",
      "/media/e4e/Rainforest_Data1/audioset_nonbird/0mNvPaqfwUI_220.000.wav\n",
      "/media/e4e/Rainforest_Data1/audioset_nonbird/0MV5mb0RJLY_120.000.wav\n",
      "/media/e4e/Rainforest_Data1/audioset_nonbird/0N17tEW_WEU_30.000.wav\n",
      "/media/e4e/Rainforest_Data1/audioset_nonbird/0N6S5OoG7Vg_150.000.wav\n",
      "/media/e4e/Rainforest_Data1/audioset_nonbird/0N9EN0BEjP0_430.000.wav\n",
      "/media/e4e/Rainforest_Data1/audioset_nonbird/0NZLG7HMiLg_590.000.wav\n",
      "/media/e4e/Rainforest_Data1/audioset_nonbird/0OhqyNGlJYE_310.000.wav\n",
      "/media/e4e/Rainforest_Data1/audioset_nonbird/0oI0BvmTLvA_20.000.wav\n",
      "/media/e4e/Rainforest_Data1/audioset_nonbird/0p7J0O8ew0k_30.000.wav\n",
      "/media/e4e/Rainforest_Data1/audioset_nonbird/0pLgOm0xgjY_30.000.wav\n",
      "/media/e4e/Rainforest_Data1/audioset_nonbird/0QabiRBcEKc_50.000.wav\n",
      "/media/e4e/Rainforest_Data1/audioset_nonbird/0QdEYUt4LL8_110.000.wav\n",
      "/media/e4e/Rainforest_Data1/audioset_nonbird/0QqQ1j1vBgw_30.000.wav\n",
      "/media/e4e/Rainforest_Data1/audioset_nonbird/0QTme5iyg4A_160.000.wav\n",
      "/media/e4e/Rainforest_Data1/audioset_nonbird/0QYedLfOwcI_40.000.wav\n",
      "/media/e4e/Rainforest_Data1/audioset_nonbird/0qZ54ovyEWQ_310.000.wav\n",
      "/media/e4e/Rainforest_Data1/audioset_nonbird/0R85JknaH-w_90.000.wav\n",
      "/media/e4e/Rainforest_Data1/audioset_nonbird/0rbUCEM20aw_30.000.wav\n",
      "/media/e4e/Rainforest_Data1/audioset_nonbird/0rNQE7fccQg_30.000.wav\n",
      "/media/e4e/Rainforest_Data1/audioset_nonbird/0RyzdrZgrus_6.000.wav\n",
      "/media/e4e/Rainforest_Data1/audioset_nonbird/0s6gEV9d52I_180.000.wav\n",
      "/media/e4e/Rainforest_Data1/audioset_nonbird/0saogke2Mec_30.000.wav\n",
      "/media/e4e/Rainforest_Data1/audioset_nonbird/0sE4JvKFpMI_0.000.wav\n",
      "/media/e4e/Rainforest_Data1/audioset_nonbird/0SLv6CmZas8_2.000.wav\n",
      "/media/e4e/Rainforest_Data1/audioset_nonbird/0slyl34xWug_10.000.wav\n",
      "/media/e4e/Rainforest_Data1/audioset_nonbird/0sstijfm2nM_80.000.wav\n",
      "/media/e4e/Rainforest_Data1/audioset_nonbird/0sYXPO7lzco_270.000.wav\n",
      "/media/e4e/Rainforest_Data1/audioset_nonbird/0toUq9UHCSA_30.000.wav\n",
      "/media/e4e/Rainforest_Data1/audioset_nonbird/0trWdhSvab4_30.000.wav\n",
      "/media/e4e/Rainforest_Data1/audioset_nonbird/0U20V7Kh_kc_290.000.wav\n",
      "/media/e4e/Rainforest_Data1/audioset_nonbird/0UF1FHDPM1A_30.000.wav\n",
      "/media/e4e/Rainforest_Data1/audioset_nonbird/0unBNMBYhwQ_11.000.wav\n",
      "/media/e4e/Rainforest_Data1/audioset_nonbird/0V7-w8K3Fgw_0.000.wav\n",
      "/media/e4e/Rainforest_Data1/audioset_nonbird/0vg9qxNKXOw_30.000.wav\n",
      "/media/e4e/Rainforest_Data1/audioset_nonbird/0VnKeRijmM8_150.000.wav\n"
     ]
    },
    {
     "name": "stdout",
     "output_type": "stream",
     "text": [
      "/media/e4e/Rainforest_Data1/audioset_nonbird/0w7pCxwXzVc_120.000.wav\n",
      "/media/e4e/Rainforest_Data1/audioset_nonbird/0wgqpjfTmJI_110.000.wav\n",
      "/media/e4e/Rainforest_Data1/audioset_nonbird/0wYi8B9PXDY_30.000.wav\n",
      "/media/e4e/Rainforest_Data1/audioset_nonbird/0x82_HySIVU_30.000.wav\n",
      "/media/e4e/Rainforest_Data1/audioset_nonbird/0Xe2zCJNjvk_160.000.wav\n",
      "/media/e4e/Rainforest_Data1/audioset_nonbird/0XeH2s-LzZE_2.000.wav\n",
      "/media/e4e/Rainforest_Data1/audioset_nonbird/0XSNrKgA94g_30.000.wav\n",
      "/media/e4e/Rainforest_Data1/audioset_nonbird/0Ycad70UNwE_60.000.wav\n",
      "/media/e4e/Rainforest_Data1/audioset_nonbird/0ylr6p_m4p0_40.000.wav\n",
      "/media/e4e/Rainforest_Data1/audioset_nonbird/0YsC6M4GFoc_4.000.wav\n",
      "/media/e4e/Rainforest_Data1/audioset_nonbird/0yT6ihPVX54_30.000.wav\n",
      "/media/e4e/Rainforest_Data1/audioset_nonbird/0yTfnhm-Ny0_30.000.wav\n",
      "/media/e4e/Rainforest_Data1/audioset_nonbird/0yxJzCQW5zI_30.000.wav\n",
      "/media/e4e/Rainforest_Data1/audioset_nonbird/0Z760XNy4VM_30.000.wav\n",
      "/media/e4e/Rainforest_Data1/audioset_nonbird/0ZAfYE4bgs8_0.000.wav\n",
      "/media/e4e/Rainforest_Data1/audioset_nonbird/0zgffMTkGtU_20.000.wav\n",
      "/media/e4e/Rainforest_Data1/audioset_nonbird/0zP9jebYSrk_0.000.wav\n",
      "/media/e4e/Rainforest_Data1/audioset_nonbird/0_gci63CtFY_30.000.wav\n",
      "/media/e4e/Rainforest_Data1/audioset_nonbird/0_O6nVfnCH8_210.000.wav\n",
      "/media/e4e/Rainforest_Data1/audioset_nonbird/1-WyAvPxqDM_0.000.wav\n",
      "/media/e4e/Rainforest_Data1/audioset_nonbird/1-X6BOetQ5Q_330.000.wav\n",
      "/media/e4e/Rainforest_Data1/audioset_nonbird/10aF24rMeu0_30.000.wav\n",
      "/media/e4e/Rainforest_Data1/audioset_nonbird/10lWpHyN0Ok_30.000.wav\n",
      "/media/e4e/Rainforest_Data1/audioset_nonbird/10RyykoW3Mw_30.000.wav\n",
      "/media/e4e/Rainforest_Data1/audioset_nonbird/10V4g8MXF-Y_6.000.wav\n",
      "/media/e4e/Rainforest_Data1/audioset_nonbird/11H3SAlnH8I_30.000.wav\n",
      "/media/e4e/Rainforest_Data1/audioset_nonbird/11KWMKfalJo_40.000.wav\n",
      "/media/e4e/Rainforest_Data1/audioset_nonbird/12nRM9_Q6so_260.000.wav\n",
      "/media/e4e/Rainforest_Data1/audioset_nonbird/12OSBJwogFc_30.000.wav\n",
      "/media/e4e/Rainforest_Data1/audioset_nonbird/130v5XJl8G0_70.000.wav\n",
      "/media/e4e/Rainforest_Data1/audioset_nonbird/13oklol49ZY_40.000.wav\n",
      "/media/e4e/Rainforest_Data1/audioset_nonbird/14vbVhCbKVc_30.000.wav\n",
      "/media/e4e/Rainforest_Data1/audioset_nonbird/16JM_ZgvQQ8_150.000.wav\n",
      "/media/e4e/Rainforest_Data1/audioset_nonbird/17WW_p1N7BQ_30.000.wav\n",
      "/media/e4e/Rainforest_Data1/audioset_nonbird/18HRNQyo9mg_25.000.wav\n",
      "/media/e4e/Rainforest_Data1/audioset_nonbird/19_c58yNYVw_10.000.wav\n",
      "/media/e4e/Rainforest_Data1/audioset_nonbird/1a0v-9eNHS0_9.000.wav\n",
      "/media/e4e/Rainforest_Data1/audioset_nonbird/1aZKmCUlXrY_0.000.wav\n",
      "/media/e4e/Rainforest_Data1/audioset_nonbird/1bbyaXEVouE_30.000.wav\n",
      "/media/e4e/Rainforest_Data1/audioset_nonbird/1bKf5nrT4DQ_90.000.wav\n",
      "/media/e4e/Rainforest_Data1/audioset_nonbird/1btWmt9io-Y_310.000.wav\n",
      "/media/e4e/Rainforest_Data1/audioset_nonbird/1BYZiONhW3c_30.000.wav\n",
      "/media/e4e/Rainforest_Data1/audioset_nonbird/1cCg1Y7zDnM_100.000.wav\n",
      "/media/e4e/Rainforest_Data1/audioset_nonbird/1ceaatuz77k_6.000.wav\n",
      "/media/e4e/Rainforest_Data1/audioset_nonbird/1CGx8zxQFx4_70.000.wav\n",
      "/media/e4e/Rainforest_Data1/audioset_nonbird/1CRvPsMwqrc_30.000.wav\n",
      "/media/e4e/Rainforest_Data1/audioset_nonbird/1cxvg7qu0G0_70.000.wav\n",
      "/media/e4e/Rainforest_Data1/audioset_nonbird/1D4LxbOVn1I_30.000.wav\n",
      "/media/e4e/Rainforest_Data1/audioset_nonbird/1dEobByUDYo_21.000.wav\n",
      "/media/e4e/Rainforest_Data1/audioset_nonbird/1DNoynuGLV4_30.000.wav\n",
      "/media/e4e/Rainforest_Data1/audioset_nonbird/1DS0AE3vTwA_140.000.wav\n",
      "/media/e4e/Rainforest_Data1/audioset_nonbird/1DWt70gTqHc_0.000.wav\n",
      "/media/e4e/Rainforest_Data1/audioset_nonbird/1dyFP4MGkIM_30.000.wav\n",
      "/media/e4e/Rainforest_Data1/audioset_nonbird/1ENC2smc8Ig_30.000.wav\n",
      "/media/e4e/Rainforest_Data1/audioset_nonbird/1EWkwWXwI1g_210.000.wav\n",
      "/media/e4e/Rainforest_Data1/audioset_nonbird/1EZ1_l3MpWw_0.000.wav\n",
      "/media/e4e/Rainforest_Data1/audioset_nonbird/1F-jIu9oy6A_60.000.wav\n",
      "/media/e4e/Rainforest_Data1/audioset_nonbird/1f-L1M-S6RQ_30.000.wav\n",
      "/media/e4e/Rainforest_Data1/audioset_nonbird/1Ny5ZlcBlcQ_30.000.wav\n",
      "/media/e4e/Rainforest_Data1/audioset_nonbird/1n_s2Gb5R1Q_30.000.wav\n",
      "/media/e4e/Rainforest_Data1/audioset_nonbird/1o5tdZT6kw8_270.000.wav\n",
      "/media/e4e/Rainforest_Data1/audioset_nonbird/1OFDyTzUj24_30.000.wav\n",
      "/media/e4e/Rainforest_Data1/audioset_nonbird/1oJAVJPX0YY_20.000.wav\n",
      "/media/e4e/Rainforest_Data1/audioset_nonbird/1On2yNySbZ0_210.000.wav\n",
      "/media/e4e/Rainforest_Data1/audioset_nonbird/1Oq1Z8SZNyM_15.000.wav\n",
      "/media/e4e/Rainforest_Data1/audioset_nonbird/1OU19ANx4fg_6.000.wav\n",
      "/media/e4e/Rainforest_Data1/audioset_nonbird/1P5FFxXLSpY_30.000.wav\n",
      "/media/e4e/Rainforest_Data1/audioset_nonbird/1p9rsIR1ezk_30.000.wav\n",
      "/media/e4e/Rainforest_Data1/audioset_nonbird/1PPboJuO1Ks_21.000.wav\n",
      "/media/e4e/Rainforest_Data1/audioset_nonbird/1pViEqMXJH0_30.000.wav\n",
      "/media/e4e/Rainforest_Data1/audioset_nonbird/1PZAgEP1Xhc_240.000.wav\n",
      "/media/e4e/Rainforest_Data1/audioset_nonbird/1rJIR1G1OnY_400.000.wav\n",
      "/media/e4e/Rainforest_Data1/audioset_nonbird/1rtXsGC-q3Q_30.000.wav\n",
      "/media/e4e/Rainforest_Data1/audioset_nonbird/1RW3nDRmu6k_30.000.wav\n",
      "/media/e4e/Rainforest_Data1/audioset_nonbird/1s-oXryGnCw_30.000.wav\n",
      "/media/e4e/Rainforest_Data1/audioset_nonbird/1fD5B_VGkQk_30.000.wav\n",
      "/media/e4e/Rainforest_Data1/audioset_nonbird/1fSsCqTeqYM_50.000.wav\n",
      "/media/e4e/Rainforest_Data1/audioset_nonbird/1g0vAT8GHt0_30.000.wav\n",
      "/media/e4e/Rainforest_Data1/audioset_nonbird/1garMoYilAY_30.000.wav\n",
      "/media/e4e/Rainforest_Data1/audioset_nonbird/1gDNqOQFopY_30.000.wav\n",
      "/media/e4e/Rainforest_Data1/audioset_nonbird/1GFclDpGhu0_200.000.wav\n",
      "/media/e4e/Rainforest_Data1/audioset_nonbird/1GwY2n4HIM0_70.000.wav\n",
      "/media/e4e/Rainforest_Data1/audioset_nonbird/1hABzqBHh7w_30.000.wav\n",
      "/media/e4e/Rainforest_Data1/audioset_nonbird/1HayoASR-54_80.000.wav\n",
      "/media/e4e/Rainforest_Data1/audioset_nonbird/1hba9jmspEQ_30.000.wav\n",
      "/media/e4e/Rainforest_Data1/audioset_nonbird/1hIg-Lsvc7Q_30.000.wav\n",
      "/media/e4e/Rainforest_Data1/audioset_nonbird/1HNGJDppKG0_60.000.wav\n",
      "/media/e4e/Rainforest_Data1/audioset_nonbird/1hUNSCMZi9o_20.000.wav\n",
      "/media/e4e/Rainforest_Data1/audioset_nonbird/1hWAOReJehw_140.000.wav\n",
      "/media/e4e/Rainforest_Data1/audioset_nonbird/1HzPf-GXyls_14.000.wav\n",
      "/media/e4e/Rainforest_Data1/audioset_nonbird/1ILADUzj-M0_190.000.wav\n",
      "/media/e4e/Rainforest_Data1/audioset_nonbird/1IQdvfm9SDY_30.000.wav\n",
      "/media/e4e/Rainforest_Data1/audioset_nonbird/1iqVk7kMnJQ_30.000.wav\n",
      "/media/e4e/Rainforest_Data1/audioset_nonbird/1J-E-QqJdkg_30.000.wav\n",
      "/media/e4e/Rainforest_Data1/audioset_nonbird/1jq7zSF_v7s_140.000.wav\n",
      "/media/e4e/Rainforest_Data1/audioset_nonbird/1Jtg95iZyoQ_90.000.wav\n",
      "/media/e4e/Rainforest_Data1/audioset_nonbird/1jTQsVs5iWM_230.000.wav\n",
      "/media/e4e/Rainforest_Data1/audioset_nonbird/1kkWt3ktlBA_19.000.wav\n",
      "/media/e4e/Rainforest_Data1/audioset_nonbird/1KLmIS-v60U_10.000.wav\n",
      "/media/e4e/Rainforest_Data1/audioset_nonbird/1lCus68cAOc_30.000.wav\n",
      "/media/e4e/Rainforest_Data1/audioset_nonbird/1lIMpk5-2Oc_30.000.wav\n",
      "/media/e4e/Rainforest_Data1/audioset_nonbird/1Lqa2jDTnns_30.000.wav\n",
      "/media/e4e/Rainforest_Data1/audioset_nonbird/1LTxZ2aNytc_30.000.wav\n",
      "/media/e4e/Rainforest_Data1/audioset_nonbird/1MeeK0kD_ys_11.000.wav\n",
      "/media/e4e/Rainforest_Data1/audioset_nonbird/1MRlrSLSN84_0.000.wav\n",
      "/media/e4e/Rainforest_Data1/audioset_nonbird/1MwaXCfUvX8_110.000.wav\n",
      "/media/e4e/Rainforest_Data1/audioset_nonbird/1nGKDBEh3rs_70.000.wav\n",
      "/media/e4e/Rainforest_Data1/audioset_nonbird/1nKxptqHGyY_60.000.wav\n",
      "/media/e4e/Rainforest_Data1/audioset_nonbird/1NMDi2ZmUdo_30.000.wav\n",
      "/media/e4e/Rainforest_Data1/audioset_nonbird/2I0ns0crmrA_6.000.wav\n",
      "/media/e4e/Rainforest_Data1/audioset_nonbird/2i4UNf8tjvU_30.000.wav\n",
      "/media/e4e/Rainforest_Data1/audioset_nonbird/2IEoe3YvCJo_20.000.wav\n",
      "/media/e4e/Rainforest_Data1/audioset_nonbird/2INpPpv4NRg_560.000.wav\n",
      "/media/e4e/Rainforest_Data1/audioset_nonbird/2Ix-fxa8Z-0_340.000.wav\n",
      "/media/e4e/Rainforest_Data1/audioset_nonbird/2j4m7JsNtNA_30.000.wav\n",
      "/media/e4e/Rainforest_Data1/audioset_nonbird/2jKheXvnT6o_30.000.wav\n",
      "/media/e4e/Rainforest_Data1/audioset_nonbird/2Jpg_KvJWL0_30.000.wav\n",
      "/media/e4e/Rainforest_Data1/audioset_nonbird/2JXesKiAqbs_14.000.wav\n",
      "/media/e4e/Rainforest_Data1/audioset_nonbird/2jxgoUnZ8AI_30.000.wav\n",
      "/media/e4e/Rainforest_Data1/audioset_nonbird/2k5j31W0Q7M_320.000.wav\n",
      "/media/e4e/Rainforest_Data1/audioset_nonbird/2kk95G0hzPc_490.000.wav\n"
     ]
    },
    {
     "name": "stdout",
     "output_type": "stream",
     "text": [
      "/media/e4e/Rainforest_Data1/audioset_nonbird/2KMSm4MxJJo_30.000.wav\n",
      "/media/e4e/Rainforest_Data1/audioset_nonbird/2lC1J0_hL68_0.000.wav\n",
      "/media/e4e/Rainforest_Data1/audioset_nonbird/2lM3im4QeIg_30.000.wav\n",
      "/media/e4e/Rainforest_Data1/audioset_nonbird/2mClfU2NStY_12.000.wav\n",
      "/media/e4e/Rainforest_Data1/audioset_nonbird/2mkJkrFeqjc_30.000.wav\n",
      "/media/e4e/Rainforest_Data1/audioset_nonbird/2Mkwgf0Pej0_0.000.wav\n",
      "/media/e4e/Rainforest_Data1/audioset_nonbird/2mw1UMcc_Ys_30.000.wav\n",
      "/media/e4e/Rainforest_Data1/audioset_nonbird/2N2msWTHybg_340.000.wav\n",
      "/media/e4e/Rainforest_Data1/audioset_nonbird/2N8j_VGCrbs_80.000.wav\n",
      "/media/e4e/Rainforest_Data1/audioset_nonbird/2nMi2-nHXYE_570.000.wav\n",
      "/media/e4e/Rainforest_Data1/audioset_nonbird/2Oe5kao1ycY_310.000.wav\n",
      "/media/e4e/Rainforest_Data1/audioset_nonbird/2ofK2gAQue4_180.000.wav\n",
      "/media/e4e/Rainforest_Data1/audioset_nonbird/2P1bR6hShJ4_30.000.wav\n",
      "/media/e4e/Rainforest_Data1/audioset_nonbird/2pt7WZBYeeI_30.000.wav\n",
      "/media/e4e/Rainforest_Data1/audioset_nonbird/2q4_wFFFG_U_30.000.wav\n",
      "/media/e4e/Rainforest_Data1/audioset_nonbird/2qkSxJ1ohCk_30.000.wav\n",
      "/media/e4e/Rainforest_Data1/audioset_nonbird/2qO-OQtOBK0_30.000.wav\n",
      "/media/e4e/Rainforest_Data1/audioset_nonbird/2QuZzkvq_YQ_0.000.wav\n",
      "/media/e4e/Rainforest_Data1/audioset_nonbird/1ssmAAcX5u8_80.000.wav\n",
      "/media/e4e/Rainforest_Data1/audioset_nonbird/1T1RlQPE9sE_20.000.wav\n",
      "/media/e4e/Rainforest_Data1/audioset_nonbird/1T790GA0vkI_290.000.wav\n",
      "/media/e4e/Rainforest_Data1/audioset_nonbird/1tC7bTilFWk_30.000.wav\n",
      "/media/e4e/Rainforest_Data1/audioset_nonbird/1Tg9VvRZN5k_30.000.wav\n",
      "/media/e4e/Rainforest_Data1/audioset_nonbird/1tjJmArxVBM_30.000.wav\n",
      "/media/e4e/Rainforest_Data1/audioset_nonbird/1tQQMIQrSPo_210.000.wav\n",
      "/media/e4e/Rainforest_Data1/audioset_nonbird/1TxC-sdO2rY_10.000.wav\n",
      "/media/e4e/Rainforest_Data1/audioset_nonbird/1tz4xNRRR4M_10.000.wav\n",
      "/media/e4e/Rainforest_Data1/audioset_nonbird/1U38Q2MpYM4_30.000.wav\n",
      "/media/e4e/Rainforest_Data1/audioset_nonbird/1UCNBHZQNVM_30.000.wav\n",
      "/media/e4e/Rainforest_Data1/audioset_nonbird/1uHF1-8TcEk_30.000.wav\n",
      "/media/e4e/Rainforest_Data1/audioset_nonbird/1UK8f9G7kLc_17.000.wav\n",
      "/media/e4e/Rainforest_Data1/audioset_nonbird/1uMME28t_uw_220.000.wav\n",
      "/media/e4e/Rainforest_Data1/audioset_nonbird/1uRrh2ZClNY_330.000.wav\n",
      "/media/e4e/Rainforest_Data1/audioset_nonbird/1UXOJ3IACj4_0.000.wav\n",
      "/media/e4e/Rainforest_Data1/audioset_nonbird/1V-rFaIWnzU_180.000.wav\n",
      "/media/e4e/Rainforest_Data1/audioset_nonbird/1VTxnf2hZ0w_340.000.wav\n",
      "/media/e4e/Rainforest_Data1/audioset_nonbird/1W-KLZJwXkc_10.000.wav\n",
      "/media/e4e/Rainforest_Data1/audioset_nonbird/1W4p9dUBNkA_310.000.wav\n",
      "/media/e4e/Rainforest_Data1/audioset_nonbird/1WGmeX6CLas_0.000.wav\n",
      "/media/e4e/Rainforest_Data1/audioset_nonbird/1WKvCCz-NZU_70.000.wav\n",
      "/media/e4e/Rainforest_Data1/audioset_nonbird/1Wy75ZQz9rg_170.000.wav\n",
      "/media/e4e/Rainforest_Data1/audioset_nonbird/1X0VCv-S2H8_50.000.wav\n",
      "/media/e4e/Rainforest_Data1/audioset_nonbird/1xRNQCP4MbE_30.000.wav\n",
      "/media/e4e/Rainforest_Data1/audioset_nonbird/1y7VNxjEC_U_30.000.wav\n",
      "/media/e4e/Rainforest_Data1/audioset_nonbird/1yNBf7QG__4_16.000.wav\n",
      "/media/e4e/Rainforest_Data1/audioset_nonbird/1yuL1ZCSS4I_11.000.wav\n",
      "/media/e4e/Rainforest_Data1/audioset_nonbird/1Z0G4O0lVwA_30.000.wav\n",
      "/media/e4e/Rainforest_Data1/audioset_nonbird/1z5KCCduAUM_30.000.wav\n",
      "/media/e4e/Rainforest_Data1/audioset_nonbird/1ZaxqZMs21M_220.000.wav\n",
      "/media/e4e/Rainforest_Data1/audioset_nonbird/1ZEzs9zmZaU_30.000.wav\n",
      "/media/e4e/Rainforest_Data1/audioset_nonbird/1ZHnWpLQtyo_30.000.wav\n",
      "/media/e4e/Rainforest_Data1/audioset_nonbird/1zIoNTdug0U_0.000.wav\n",
      "/media/e4e/Rainforest_Data1/audioset_nonbird/1_Q80fDGLRM_10.000.wav\n",
      "/media/e4e/Rainforest_Data1/audioset_nonbird/2-XyCIq8Yp0_50.000.wav\n",
      "/media/e4e/Rainforest_Data1/audioset_nonbird/2-Yz378XB2Q_30.000.wav\n",
      "/media/e4e/Rainforest_Data1/audioset_nonbird/209gneKMspw_170.000.wav\n",
      "/media/e4e/Rainforest_Data1/audioset_nonbird/20iicREGgPo_30.000.wav\n",
      "/media/e4e/Rainforest_Data1/audioset_nonbird/20jOA_gEjvk_240.000.wav\n",
      "/media/e4e/Rainforest_Data1/audioset_nonbird/20Nlj7Cz4E0_30.000.wav\n",
      "/media/e4e/Rainforest_Data1/audioset_nonbird/215ZsQN4dJA_80.000.wav\n",
      "/media/e4e/Rainforest_Data1/audioset_nonbird/21lu8Iaf9II_60.000.wav\n",
      "/media/e4e/Rainforest_Data1/audioset_nonbird/22DYoQhJs4o_570.000.wav\n",
      "/media/e4e/Rainforest_Data1/audioset_nonbird/22gk62Sijnc_300.000.wav\n",
      "/media/e4e/Rainforest_Data1/audioset_nonbird/23HYypV2gcM_590.000.wav\n",
      "/media/e4e/Rainforest_Data1/audioset_nonbird/23l8AQxlZ9s_590.000.wav\n",
      "/media/e4e/Rainforest_Data1/audioset_nonbird/246YXZ4kvBk_10.000.wav\n",
      "/media/e4e/Rainforest_Data1/audioset_nonbird/24sg8LpJYFM_20.000.wav\n",
      "/media/e4e/Rainforest_Data1/audioset_nonbird/24Y8aIUFepo_30.000.wav\n",
      "/media/e4e/Rainforest_Data1/audioset_nonbird/26CM8IXODG4_2.000.wav\n",
      "/media/e4e/Rainforest_Data1/audioset_nonbird/26Rl096vMf0_290.000.wav\n",
      "/media/e4e/Rainforest_Data1/audioset_nonbird/27POI9uH94M_30.000.wav\n",
      "/media/e4e/Rainforest_Data1/audioset_nonbird/27yuklUCZa8_4.000.wav\n",
      "/media/e4e/Rainforest_Data1/audioset_nonbird/28Ih0rDx-Y4_310.000.wav\n",
      "/media/e4e/Rainforest_Data1/audioset_nonbird/2A7xNU3TtbA_0.000.wav\n",
      "/media/e4e/Rainforest_Data1/audioset_nonbird/2aExs2j1s3E_350.000.wav\n",
      "/media/e4e/Rainforest_Data1/audioset_nonbird/2AMP3JIL330_150.000.wav\n",
      "/media/e4e/Rainforest_Data1/audioset_nonbird/2B-xGbzOjYY_30.000.wav\n",
      "/media/e4e/Rainforest_Data1/audioset_nonbird/2rdkLx56T1c_30.000.wav\n",
      "/media/e4e/Rainforest_Data1/audioset_nonbird/2rdTrQnl4c8_40.000.wav\n",
      "/media/e4e/Rainforest_Data1/audioset_nonbird/2REf8hLLYMw_30.000.wav\n",
      "/media/e4e/Rainforest_Data1/audioset_nonbird/2RIrAIR0TGk_30.000.wav\n",
      "/media/e4e/Rainforest_Data1/audioset_nonbird/2s5UxZuCIGk_40.000.wav\n",
      "/media/e4e/Rainforest_Data1/audioset_nonbird/2S8yOM_-P9k_0.000.wav\n",
      "/media/e4e/Rainforest_Data1/audioset_nonbird/2Ssh4YWMroo_30.000.wav\n",
      "/media/e4e/Rainforest_Data1/audioset_nonbird/2Szah76TMgo_2.000.wav\n",
      "/media/e4e/Rainforest_Data1/audioset_nonbird/2tBRn4xKmzM_30.000.wav\n",
      "/media/e4e/Rainforest_Data1/audioset_nonbird/2TprtMP1RDo_30.000.wav\n",
      "/media/e4e/Rainforest_Data1/audioset_nonbird/2TwDPcR64Vo_520.000.wav\n",
      "/media/e4e/Rainforest_Data1/audioset_nonbird/2tXE7snh6Ak_30.000.wav\n",
      "/media/e4e/Rainforest_Data1/audioset_nonbird/2u4zDo5-upw_30.000.wav\n",
      "/media/e4e/Rainforest_Data1/audioset_nonbird/2uagA3ujRtM_0.000.wav\n",
      "/media/e4e/Rainforest_Data1/audioset_nonbird/2uHcWdkV4W4_120.000.wav\n",
      "/media/e4e/Rainforest_Data1/audioset_nonbird/2da1DRLuo9o_30.000.wav\n",
      "/media/e4e/Rainforest_Data1/audioset_nonbird/2Dpz7l4-0iQ_110.000.wav\n",
      "/media/e4e/Rainforest_Data1/audioset_nonbird/2E8vsQB4pug_100.000.wav\n",
      "/media/e4e/Rainforest_Data1/audioset_nonbird/2eYaXTKSpMI_4.000.wav\n",
      "/media/e4e/Rainforest_Data1/audioset_nonbird/2Ez8rOW1gdI_260.000.wav\n",
      "/media/e4e/Rainforest_Data1/audioset_nonbird/2E_N8lnoVKE_30.000.wav\n",
      "/media/e4e/Rainforest_Data1/audioset_nonbird/2f7Ad-XpbnY_30.000.wav\n",
      "/media/e4e/Rainforest_Data1/audioset_nonbird/2f7NnTVQzR0_150.000.wav\n",
      "/media/e4e/Rainforest_Data1/audioset_nonbird/2Fdau5KTEls_30.000.wav\n",
      "/media/e4e/Rainforest_Data1/audioset_nonbird/2ff27NC3YUc_30.000.wav\n",
      "/media/e4e/Rainforest_Data1/audioset_nonbird/2fi0m8ei_B4_30.000.wav\n",
      "/media/e4e/Rainforest_Data1/audioset_nonbird/2gbNCkCPl7w_380.000.wav\n",
      "/media/e4e/Rainforest_Data1/audioset_nonbird/2GepmcbNlJY_0.000.wav\n",
      "/media/e4e/Rainforest_Data1/audioset_nonbird/2gvw16YDwMA_30.000.wav\n",
      "/media/e4e/Rainforest_Data1/audioset_nonbird/2hxIN0MTKbs_30.000.wav\n",
      "/media/e4e/Rainforest_Data1/audioset_nonbird/2uMXfAIMeN0_180.000.wav\n",
      "/media/e4e/Rainforest_Data1/audioset_nonbird/2uU_EoIj3tw_50.000.wav\n",
      "/media/e4e/Rainforest_Data1/audioset_nonbird/2UXH7NW9ae8_30.000.wav\n",
      "/media/e4e/Rainforest_Data1/audioset_nonbird/2uZt59va3Ss_50.000.wav\n",
      "/media/e4e/Rainforest_Data1/audioset_nonbird/2VdW0Qvn2Hw_22.000.wav\n",
      "/media/e4e/Rainforest_Data1/audioset_nonbird/2VjbDttFK44_540.000.wav\n",
      "/media/e4e/Rainforest_Data1/audioset_nonbird/2VuKP6zZDDc_510.000.wav\n",
      "/media/e4e/Rainforest_Data1/audioset_nonbird/2vvtR9Xwzp0_40.000.wav\n",
      "/media/e4e/Rainforest_Data1/audioset_nonbird/2W27eT4HqtE_10.000.wav\n",
      "/media/e4e/Rainforest_Data1/audioset_nonbird/2W4dw8XuetE_50.000.wav\n",
      "/media/e4e/Rainforest_Data1/audioset_nonbird/2Wd2wqMzDYc_500.000.wav\n",
      "/media/e4e/Rainforest_Data1/audioset_nonbird/2WfJBpN4elI_20.000.wav\n",
      "/media/e4e/Rainforest_Data1/audioset_nonbird/2Wr7o5BG6e0_30.000.wav\n",
      "/media/e4e/Rainforest_Data1/audioset_nonbird/2WTk_j_fivY_30.000.wav\n"
     ]
    },
    {
     "name": "stdout",
     "output_type": "stream",
     "text": [
      "/media/e4e/Rainforest_Data1/audioset_nonbird/2xBIHi3oqy4_30.000.wav\n",
      "/media/e4e/Rainforest_Data1/audioset_nonbird/2Yo0MGR2kmA_20.000.wav\n",
      "/media/e4e/Rainforest_Data1/audioset_nonbird/2yX9079mMB4_3.000.wav\n",
      "/media/e4e/Rainforest_Data1/audioset_nonbird/38Z6D7yfsA4_30.000.wav\n",
      "/media/e4e/Rainforest_Data1/audioset_nonbird/39IZIbmQPzA_40.000.wav\n",
      "/media/e4e/Rainforest_Data1/audioset_nonbird/39rXWSXGOyo_80.000.wav\n",
      "/media/e4e/Rainforest_Data1/audioset_nonbird/3AcKnYk_cLY_30.000.wav\n",
      "/media/e4e/Rainforest_Data1/audioset_nonbird/3aM1Kt1sO5s_330.000.wav\n",
      "/media/e4e/Rainforest_Data1/audioset_nonbird/3AwevAQzwcs_30.000.wav\n",
      "/media/e4e/Rainforest_Data1/audioset_nonbird/3AzacBprTzU_60.000.wav\n",
      "/media/e4e/Rainforest_Data1/audioset_nonbird/3BM0gDnXzoo_120.000.wav\n",
      "/media/e4e/Rainforest_Data1/audioset_nonbird/3c-vZ4GpIKs_30.000.wav\n",
      "/media/e4e/Rainforest_Data1/audioset_nonbird/3d9geu1pBAc_210.000.wav\n",
      "/media/e4e/Rainforest_Data1/audioset_nonbird/3dgg5f9CyP4_30.000.wav\n",
      "/media/e4e/Rainforest_Data1/audioset_nonbird/3DMExvlPy-o_24.000.wav\n",
      "/media/e4e/Rainforest_Data1/audioset_nonbird/3e927DjM6Iw_90.000.wav\n",
      "/media/e4e/Rainforest_Data1/audioset_nonbird/3EcfiEc08zY_70.000.wav\n",
      "/media/e4e/Rainforest_Data1/audioset_nonbird/3FhjfPkNp-w_30.000.wav\n",
      "/media/e4e/Rainforest_Data1/audioset_nonbird/3gCD4JFbxuo_90.000.wav\n",
      "/media/e4e/Rainforest_Data1/audioset_nonbird/3g_GUoCbzTc_30.000.wav\n",
      "/media/e4e/Rainforest_Data1/audioset_nonbird/3hb1pYdEuLE_6.000.wav\n",
      "/media/e4e/Rainforest_Data1/audioset_nonbird/3hLxPQpmfQo_30.000.wav\n",
      "/media/e4e/Rainforest_Data1/audioset_nonbird/3InTvnjfheM_10.000.wav\n",
      "/media/e4e/Rainforest_Data1/audioset_nonbird/3iQ_xRurgS8_30.000.wav\n",
      "/media/e4e/Rainforest_Data1/audioset_nonbird/3iVJw9topU0_0.000.wav\n",
      "/media/e4e/Rainforest_Data1/audioset_nonbird/3IX29m1L9UY_30.000.wav\n",
      "/media/e4e/Rainforest_Data1/audioset_nonbird/3Jc3uW-Lcs0_30.000.wav\n",
      "/media/e4e/Rainforest_Data1/audioset_nonbird/3juGfzF29Sc_140.000.wav\n",
      "/media/e4e/Rainforest_Data1/audioset_nonbird/3kXukXBvDQQ_220.000.wav\n",
      "/media/e4e/Rainforest_Data1/audioset_nonbird/3Liy9uBgsQM_60.000.wav\n",
      "/media/e4e/Rainforest_Data1/audioset_nonbird/3LLKsRSkAbE_110.000.wav\n",
      "/media/e4e/Rainforest_Data1/audioset_nonbird/3LtXT2KVI-c_30.000.wav\n",
      "/media/e4e/Rainforest_Data1/audioset_nonbird/3LxtO_vMokk_10.000.wav\n",
      "/media/e4e/Rainforest_Data1/audioset_nonbird/3m2vl8_-ESA_40.000.wav\n",
      "/media/e4e/Rainforest_Data1/audioset_nonbird/3M9qo2FUqKg_110.000.wav\n",
      "/media/e4e/Rainforest_Data1/audioset_nonbird/3mDPQ_CPopw_30.000.wav\n",
      "/media/e4e/Rainforest_Data1/audioset_nonbird/3mkiTkMVemM_30.000.wav\n",
      "/media/e4e/Rainforest_Data1/audioset_nonbird/3Mo-YFd31rs_16.000.wav\n",
      "/media/e4e/Rainforest_Data1/audioset_nonbird/3mtdpXbogzk_180.000.wav\n",
      "/media/e4e/Rainforest_Data1/audioset_nonbird/3MUeg3nD2OU_120.000.wav\n",
      "/media/e4e/Rainforest_Data1/audioset_nonbird/3NEBbZ_hsAc_27.000.wav\n",
      "/media/e4e/Rainforest_Data1/audioset_nonbird/3nqcNxcTdFI_30.000.wav\n",
      "/media/e4e/Rainforest_Data1/audioset_nonbird/3NwKXCGLjAk_30.000.wav\n",
      "/media/e4e/Rainforest_Data1/audioset_nonbird/3oabnbtJRNQ_80.000.wav\n",
      "/media/e4e/Rainforest_Data1/audioset_nonbird/3OlQmVVOzbQ_250.000.wav\n",
      "/media/e4e/Rainforest_Data1/audioset_nonbird/3oqo61gK5Co_370.000.wav\n",
      "/media/e4e/Rainforest_Data1/audioset_nonbird/3oYSlw6l0XA_380.000.wav\n",
      "/media/e4e/Rainforest_Data1/audioset_nonbird/3p3A4QDXw-g_30.000.wav\n",
      "/media/e4e/Rainforest_Data1/audioset_nonbird/2zAUcAhX5wQ_30.000.wav\n",
      "/media/e4e/Rainforest_Data1/audioset_nonbird/2ZbuPK4b41I_30.000.wav\n",
      "/media/e4e/Rainforest_Data1/audioset_nonbird/2zdYIRTUQYE_30.000.wav\n",
      "/media/e4e/Rainforest_Data1/audioset_nonbird/2zec0wuZgLE_500.000.wav\n",
      "/media/e4e/Rainforest_Data1/audioset_nonbird/2zFwh2eRu0s_21.000.wav\n",
      "/media/e4e/Rainforest_Data1/audioset_nonbird/2ZhiOvhUTGA_30.000.wav\n",
      "/media/e4e/Rainforest_Data1/audioset_nonbird/2zKyMjBnL0Y_60.000.wav\n",
      "/media/e4e/Rainforest_Data1/audioset_nonbird/2zO-nlygkFo_30.000.wav\n",
      "/media/e4e/Rainforest_Data1/audioset_nonbird/3-a8i_MEUl8_30.000.wav\n",
      "/media/e4e/Rainforest_Data1/audioset_nonbird/3-QgZPCM4nk_160.000.wav\n",
      "/media/e4e/Rainforest_Data1/audioset_nonbird/302w8uJn_zE_30.000.wav\n",
      "/media/e4e/Rainforest_Data1/audioset_nonbird/30HtOudq2v8_20.000.wav\n",
      "/media/e4e/Rainforest_Data1/audioset_nonbird/31Ij3GJLGjI_30.000.wav\n",
      "/media/e4e/Rainforest_Data1/audioset_nonbird/31tnXPlhA7w_30.000.wav\n",
      "/media/e4e/Rainforest_Data1/audioset_nonbird/32Wp1Qo1MaY_13.000.wav\n",
      "/media/e4e/Rainforest_Data1/audioset_nonbird/33fqw0k_qkM_220.000.wav\n",
      "/media/e4e/Rainforest_Data1/audioset_nonbird/33UghN1hNF8_4.000.wav\n",
      "/media/e4e/Rainforest_Data1/audioset_nonbird/35CqIfFXjyQ_21.000.wav\n",
      "/media/e4e/Rainforest_Data1/audioset_nonbird/35HFjLYQiwY_30.000.wav\n",
      "/media/e4e/Rainforest_Data1/audioset_nonbird/35ig21J679o_30.000.wav\n",
      "/media/e4e/Rainforest_Data1/audioset_nonbird/36YUxW6ImW4_0.000.wav\n",
      "/media/e4e/Rainforest_Data1/audioset_nonbird/37ER1zpg_F4_30.000.wav\n",
      "/media/e4e/Rainforest_Data1/audioset_nonbird/37QWwibfvXU_30.000.wav\n",
      "/media/e4e/Rainforest_Data1/audioset_nonbird/3posAjJWEi4_400.000.wav\n",
      "/media/e4e/Rainforest_Data1/audioset_nonbird/3qe9RK3sMBs_0.000.wav\n",
      "/media/e4e/Rainforest_Data1/audioset_nonbird/3qEb6Y-D7Mw_50.000.wav\n",
      "/media/e4e/Rainforest_Data1/audioset_nonbird/3rOi5Gd0LLY_250.000.wav\n",
      "/media/e4e/Rainforest_Data1/audioset_nonbird/3RZlNwEv3XI_30.000.wav\n",
      "/media/e4e/Rainforest_Data1/audioset_nonbird/3saUiDqAqEc_30.000.wav\n",
      "/media/e4e/Rainforest_Data1/audioset_nonbird/3sflCnetnS0_30.000.wav\n",
      "/media/e4e/Rainforest_Data1/audioset_nonbird/3sYet9VDmBo_30.000.wav\n",
      "/media/e4e/Rainforest_Data1/audioset_nonbird/3SyOlb_hSjg_30.000.wav\n",
      "/media/e4e/Rainforest_Data1/audioset_nonbird/3t6pqBKV0kY_30.000.wav\n",
      "/media/e4e/Rainforest_Data1/audioset_nonbird/3TCAgDf9LNk_30.000.wav\n",
      "/media/e4e/Rainforest_Data1/audioset_nonbird/3tgvXXiYvBI_190.000.wav\n",
      "/media/e4e/Rainforest_Data1/audioset_nonbird/3TRVC6TLnp4_30.000.wav\n",
      "/media/e4e/Rainforest_Data1/audioset_nonbird/3tUlhM80ObM_0.000.wav\n",
      "/media/e4e/Rainforest_Data1/audioset_nonbird/3TyBFLPxDw8_0.000.wav\n",
      "/media/e4e/Rainforest_Data1/audioset_nonbird/3UWDo636wes_30.000.wav\n",
      "/media/e4e/Rainforest_Data1/audioset_nonbird/3uz_ZrGsIaA_30.000.wav\n",
      "/media/e4e/Rainforest_Data1/audioset_nonbird/3V7-llXothY_0.000.wav\n",
      "/media/e4e/Rainforest_Data1/audioset_nonbird/3vLc6D64xcs_330.000.wav\n",
      "/media/e4e/Rainforest_Data1/audioset_nonbird/3Vpt-gR-8Lk_30.000.wav\n",
      "/media/e4e/Rainforest_Data1/audioset_nonbird/3vUrU1ZCqOo_30.000.wav\n",
      "/media/e4e/Rainforest_Data1/audioset_nonbird/3wL1fEcpD44_0.000.wav\n",
      "/media/e4e/Rainforest_Data1/audioset_nonbird/3xaj9jx7648_30.000.wav\n",
      "/media/e4e/Rainforest_Data1/audioset_nonbird/3xDZU7GME7E_170.000.wav\n",
      "/media/e4e/Rainforest_Data1/audioset_nonbird/3xh2kScw64U_30.000.wav\n",
      "/media/e4e/Rainforest_Data1/audioset_nonbird/3XJo4kA5mVI_13.000.wav\n",
      "/media/e4e/Rainforest_Data1/audioset_nonbird/3YR887u9elA_0.000.wav\n",
      "/media/e4e/Rainforest_Data1/audioset_nonbird/3YzCyEJ_hvg_0.000.wav\n",
      "/media/e4e/Rainforest_Data1/audioset_nonbird/3z3WIjdV_js_50.000.wav\n",
      "/media/e4e/Rainforest_Data1/audioset_nonbird/3z81DgWf-NY_21.000.wav\n",
      "/media/e4e/Rainforest_Data1/audioset_nonbird/3za2WvNjiBk_0.000.wav\n",
      "/media/e4e/Rainforest_Data1/audioset_nonbird/3ZGi57Zl1Qk_30.000.wav\n",
      "/media/e4e/Rainforest_Data1/audioset_nonbird/3ziIRrklTNg_30.000.wav\n",
      "/media/e4e/Rainforest_Data1/audioset_nonbird/3ZNrH765Djw_10.000.wav\n",
      "/media/e4e/Rainforest_Data1/audioset_nonbird/3zntWbS9XeI_70.000.wav\n",
      "/media/e4e/Rainforest_Data1/audioset_nonbird/3ZqS1eG_BRI_130.000.wav\n",
      "/media/e4e/Rainforest_Data1/audioset_nonbird/3ZZDuYU2HM4_520.000.wav\n",
      "/media/e4e/Rainforest_Data1/audioset_nonbird/4DJIt2MEgV4_30.000.wav\n",
      "/media/e4e/Rainforest_Data1/audioset_nonbird/4DsPpi-2yTM_250.000.wav\n",
      "/media/e4e/Rainforest_Data1/audioset_nonbird/4dVBMGZequQ_410.000.wav\n",
      "/media/e4e/Rainforest_Data1/audioset_nonbird/4DxSUbxjR0w_30.000.wav\n",
      "/media/e4e/Rainforest_Data1/audioset_nonbird/4eaTaE1u2t4_570.000.wav\n",
      "/media/e4e/Rainforest_Data1/audioset_nonbird/4egukLBpAcQ_30.000.wav\n",
      "/media/e4e/Rainforest_Data1/audioset_nonbird/4EJQu1zqP50_380.000.wav\n",
      "/media/e4e/Rainforest_Data1/audioset_nonbird/4eLBAlJq1cg_20.000.wav\n",
      "/media/e4e/Rainforest_Data1/audioset_nonbird/4EnJ-JGde6o_0.000.wav\n",
      "/media/e4e/Rainforest_Data1/audioset_nonbird/4ep09nZl3LA_30.000.wav\n",
      "/media/e4e/Rainforest_Data1/audioset_nonbird/4EvSIu0tvLw_30.000.wav\n",
      "/media/e4e/Rainforest_Data1/audioset_nonbird/4Feti5Ln-LY_0.000.wav\n",
      "/media/e4e/Rainforest_Data1/audioset_nonbird/4g8ES0jGr8c_420.000.wav\n"
     ]
    },
    {
     "name": "stdout",
     "output_type": "stream",
     "text": [
      "/media/e4e/Rainforest_Data1/audioset_nonbird/4G92jhdrbhs_30.000.wav\n",
      "/media/e4e/Rainforest_Data1/audioset_nonbird/4G9OxASMGKE_100.000.wav\n",
      "/media/e4e/Rainforest_Data1/audioset_nonbird/1V9CWQNZRF8_450.000.wav\n",
      "/media/e4e/Rainforest_Data1/audioset_nonbird/1_hGvbEiYAs_30.000.wav\n",
      "/media/e4e/Rainforest_Data1/audioset_nonbird/2bdZuOcZCi4_240.000.wav\n",
      "/media/e4e/Rainforest_Data1/audioset_nonbird/2HZcxlRs-hg_30.000.wav\n",
      "/media/e4e/Rainforest_Data1/audioset_nonbird/2LRhkMH48_Q_30.000.wav\n",
      "/media/e4e/Rainforest_Data1/audioset_nonbird/2qZqgRg5E6o_260.000.wav\n",
      "/media/e4e/Rainforest_Data1/audioset_nonbird/2uKKkYgtlws_410.000.wav\n",
      "/media/e4e/Rainforest_Data1/audioset_nonbird/2Y_7sGgczAU_170.000.wav\n",
      "/media/e4e/Rainforest_Data1/audioset_nonbird/2__RQYoZrjI_19.000.wav\n",
      "/media/e4e/Rainforest_Data1/audioset_nonbird/38F6eeIR-s0_30.000.wav\n",
      "/media/e4e/Rainforest_Data1/audioset_nonbird/3fqWosszpnE_50.000.wav\n",
      "/media/e4e/Rainforest_Data1/audioset_nonbird/3lxTtZfYS18_30.000.wav\n",
      "/media/e4e/Rainforest_Data1/audioset_nonbird/3pdT176TlfE_30.000.wav\n",
      "/media/e4e/Rainforest_Data1/audioset_nonbird/3unaemuTuGY_30.000.wav\n",
      "/media/e4e/Rainforest_Data1/audioset_nonbird/4GLN768p5Z0_120.000.wav\n",
      "/media/e4e/Rainforest_Data1/audioset_nonbird/4GPDqOodSUU_140.000.wav\n",
      "/media/e4e/Rainforest_Data1/audioset_nonbird/4gTHEt6np5o_30.000.wav\n",
      "/media/e4e/Rainforest_Data1/audioset_nonbird/4GxRRVp3hD4_18.000.wav\n",
      "/media/e4e/Rainforest_Data1/audioset_nonbird/4h3fCqylgZA_30.000.wav\n",
      "/media/e4e/Rainforest_Data1/audioset_nonbird/4hd2CLrzCZs_30.000.wav\n",
      "/media/e4e/Rainforest_Data1/audioset_nonbird/4heWGT4YjiM_30.000.wav\n",
      "/media/e4e/Rainforest_Data1/audioset_nonbird/4hhr6ppEQ4s_360.000.wav\n",
      "/media/e4e/Rainforest_Data1/audioset_nonbird/4HvT5SJzS3w_80.000.wav\n",
      "/media/e4e/Rainforest_Data1/audioset_nonbird/4IJCSuJoo9o_2.000.wav\n",
      "/media/e4e/Rainforest_Data1/audioset_nonbird/4iPQgalitDs_250.000.wav\n",
      "/media/e4e/Rainforest_Data1/audioset_nonbird/4isFtP23Sh0_30.000.wav\n",
      "/media/e4e/Rainforest_Data1/audioset_nonbird/4IvFk-bZ0-M_20.000.wav\n",
      "/media/e4e/Rainforest_Data1/audioset_nonbird/4Iw554vfwe0_30.000.wav\n",
      "/media/e4e/Rainforest_Data1/audioset_nonbird/4IZKViDklnM_30.000.wav\n",
      "/media/e4e/Rainforest_Data1/audioset_nonbird/4K6nNmzeTk0_30.000.wav\n",
      "/media/e4e/Rainforest_Data1/audioset_nonbird/4KEmXh9FmmI_30.000.wav\n",
      "/media/e4e/Rainforest_Data1/audioset_nonbird/4KftZggyMsk_10.000.wav\n",
      "/media/e4e/Rainforest_Data1/audioset_nonbird/4KNMw4YcCBQ_430.000.wav\n",
      "/media/e4e/Rainforest_Data1/audioset_nonbird/4kNSVFyrnQU_30.000.wav\n",
      "/media/e4e/Rainforest_Data1/audioset_nonbird/4KxLSx-EhHI_0.000.wav\n",
      "/media/e4e/Rainforest_Data1/audioset_nonbird/4m5khG0emPE_30.000.wav\n",
      "/media/e4e/Rainforest_Data1/audioset_nonbird/4mFlh-BqdGo_0.000.wav\n",
      "/media/e4e/Rainforest_Data1/audioset_nonbird/4mHz3q8glIY_0.000.wav\n",
      "/media/e4e/Rainforest_Data1/audioset_nonbird/4MRzQbAIyV4_90.000.wav\n",
      "/media/e4e/Rainforest_Data1/audioset_nonbird/4MSJcPKYJA8_80.000.wav\n",
      "/media/e4e/Rainforest_Data1/audioset_nonbird/4nF2ymOlbGc_30.000.wav\n",
      "/media/e4e/Rainforest_Data1/audioset_nonbird/4nfoiWViyo0_21.000.wav\n",
      "/media/e4e/Rainforest_Data1/audioset_nonbird/4o-0oXZHOpE_21.000.wav\n",
      "/media/e4e/Rainforest_Data1/audioset_nonbird/4pAIQCwNNjo_110.000.wav\n",
      "/media/e4e/Rainforest_Data1/audioset_nonbird/3_OLj6XChvM_30.000.wav\n",
      "/media/e4e/Rainforest_Data1/audioset_nonbird/4-8NRSfk_a8_100.000.wav\n",
      "/media/e4e/Rainforest_Data1/audioset_nonbird/40k3AAbA7tM_410.000.wav\n",
      "/media/e4e/Rainforest_Data1/audioset_nonbird/40vmsGsFBsw_0.000.wav\n",
      "/media/e4e/Rainforest_Data1/audioset_nonbird/42CPymJ_MXI_60.000.wav\n",
      "/media/e4e/Rainforest_Data1/audioset_nonbird/42P93B_GzGA_30.000.wav\n",
      "/media/e4e/Rainforest_Data1/audioset_nonbird/446etGsnI_E_30.000.wav\n",
      "/media/e4e/Rainforest_Data1/audioset_nonbird/44FH_mXBLTA_30.000.wav\n",
      "/media/e4e/Rainforest_Data1/audioset_nonbird/44pSl3RuM-c_230.000.wav\n",
      "/media/e4e/Rainforest_Data1/audioset_nonbird/45h1cMSHzYU_110.000.wav\n",
      "/media/e4e/Rainforest_Data1/audioset_nonbird/45JHcLU57B8_20.000.wav\n",
      "/media/e4e/Rainforest_Data1/audioset_nonbird/45oHAaBAkm0_500.000.wav\n",
      "/media/e4e/Rainforest_Data1/audioset_nonbird/45vBbOhzS6g_50.000.wav\n",
      "/media/e4e/Rainforest_Data1/audioset_nonbird/46t-4NFQ9_w_2.000.wav\n",
      "/media/e4e/Rainforest_Data1/audioset_nonbird/48Jgt4igVEI_21.000.wav\n",
      "/media/e4e/Rainforest_Data1/audioset_nonbird/498ynMnZ6Lo_30.000.wav\n",
      "/media/e4e/Rainforest_Data1/audioset_nonbird/49efBAywR9Y_150.000.wav\n",
      "/media/e4e/Rainforest_Data1/audioset_nonbird/4AEQkIAfYio_30.000.wav\n",
      "/media/e4e/Rainforest_Data1/audioset_nonbird/4aJfQpHt9lY_160.000.wav\n",
      "/media/e4e/Rainforest_Data1/audioset_nonbird/4AtBxhm2yYs_30.000.wav\n",
      "/media/e4e/Rainforest_Data1/audioset_nonbird/4AvuMzSkees_150.000.wav\n",
      "/media/e4e/Rainforest_Data1/audioset_nonbird/4AWUlyZP_CM_90.000.wav\n",
      "/media/e4e/Rainforest_Data1/audioset_nonbird/4AYMycTRYPQ_80.000.wav\n",
      "/media/e4e/Rainforest_Data1/audioset_nonbird/4BO6EbCTKwM_16.000.wav\n",
      "/media/e4e/Rainforest_Data1/audioset_nonbird/4bx70EFdOKE_240.000.wav\n",
      "/media/e4e/Rainforest_Data1/audioset_nonbird/4by-XGXdrXg_470.000.wav\n",
      "/media/e4e/Rainforest_Data1/audioset_nonbird/4CCErQFp018_30.000.wav\n",
      "/media/e4e/Rainforest_Data1/audioset_nonbird/4cM5nWHnbS8_200.000.wav\n",
      "/media/e4e/Rainforest_Data1/audioset_nonbird/4PRjMiZOx5I_30.000.wav\n",
      "/media/e4e/Rainforest_Data1/audioset_nonbird/4PYTtp78Ig0_60.000.wav\n",
      "/media/e4e/Rainforest_Data1/audioset_nonbird/4Q1DDOpej1o_0.000.wav\n",
      "/media/e4e/Rainforest_Data1/audioset_nonbird/4Q1y8-PIf4k_30.000.wav\n",
      "/media/e4e/Rainforest_Data1/audioset_nonbird/4qaJW0mvsoY_30.000.wav\n",
      "/media/e4e/Rainforest_Data1/audioset_nonbird/4qevqi0-WYk_110.000.wav\n",
      "/media/e4e/Rainforest_Data1/audioset_nonbird/4R1WPK3u8II_10.000.wav\n",
      "/media/e4e/Rainforest_Data1/audioset_nonbird/4RqJOZgHHgk_30.000.wav\n",
      "/media/e4e/Rainforest_Data1/audioset_nonbird/4rTbxsWwy1M_30.000.wav\n",
      "/media/e4e/Rainforest_Data1/audioset_nonbird/4sx42_C10zw_30.000.wav\n",
      "/media/e4e/Rainforest_Data1/audioset_nonbird/4TglPdylDzQ_150.000.wav\n",
      "/media/e4e/Rainforest_Data1/audioset_nonbird/4TgXgwVndiw_160.000.wav\n",
      "/media/e4e/Rainforest_Data1/audioset_nonbird/4tKvAMmAUMM_30.000.wav\n",
      "/media/e4e/Rainforest_Data1/audioset_nonbird/4Tpy1lsfcSM_30.000.wav\n",
      "/media/e4e/Rainforest_Data1/audioset_nonbird/4TshFWSsrn8_290.000.wav\n",
      "/media/e4e/Rainforest_Data1/audioset_nonbird/4UCZF_UnG10_27.000.wav\n",
      "/media/e4e/Rainforest_Data1/audioset_nonbird/4UkP1uB1nLU_0.000.wav\n",
      "/media/e4e/Rainforest_Data1/audioset_nonbird/4UZmJIVaL1U_14.000.wav\n",
      "/media/e4e/Rainforest_Data1/audioset_nonbird/4v5EzR3qeW0_40.000.wav\n",
      "/media/e4e/Rainforest_Data1/audioset_nonbird/4V7Bhqy04VE_50.000.wav\n",
      "/media/e4e/Rainforest_Data1/audioset_nonbird/4vfWdTvX7qc_30.000.wav\n",
      "/media/e4e/Rainforest_Data1/audioset_nonbird/4vWKRuJ6iXU_440.000.wav\n",
      "/media/e4e/Rainforest_Data1/audioset_nonbird/4vz3UNoIQ0U_30.000.wav\n",
      "/media/e4e/Rainforest_Data1/audioset_nonbird/4W0m9yTSlaI_270.000.wav\n",
      "/media/e4e/Rainforest_Data1/audioset_nonbird/4W8BYc8ZMaE_30.000.wav\n",
      "/media/e4e/Rainforest_Data1/audioset_nonbird/4Wp37UanAOs_110.000.wav\n",
      "/media/e4e/Rainforest_Data1/audioset_nonbird/4WRgvRI06zc_30.000.wav\n",
      "/media/e4e/Rainforest_Data1/audioset_nonbird/4X2aUZFZlzc_30.000.wav\n",
      "/media/e4e/Rainforest_Data1/audioset_nonbird/4XASfgEfhqw_10.000.wav\n",
      "/media/e4e/Rainforest_Data1/audioset_nonbird/4xgYnUrMefU_110.000.wav\n",
      "/media/e4e/Rainforest_Data1/audioset_nonbird/4Y5LBUVS1T8_30.000.wav\n",
      "/media/e4e/Rainforest_Data1/audioset_nonbird/4yCfA1G-R2E_540.000.wav\n",
      "/media/e4e/Rainforest_Data1/audioset_nonbird/4YjA50pOah4_15.000.wav\n",
      "/media/e4e/Rainforest_Data1/audioset_nonbird/4Z2Tt3NInDM_30.000.wav\n",
      "/media/e4e/Rainforest_Data1/audioset_nonbird/56j7jaEtDTc_290.000.wav\n",
      "/media/e4e/Rainforest_Data1/audioset_nonbird/56oHsMiQ8QY_30.000.wav\n",
      "/media/e4e/Rainforest_Data1/audioset_nonbird/572i4h3JcnU_210.000.wav\n",
      "/media/e4e/Rainforest_Data1/audioset_nonbird/58L2pwpFbrc_30.000.wav\n",
      "/media/e4e/Rainforest_Data1/audioset_nonbird/58RUWX8te8U_0.000.wav\n",
      "/media/e4e/Rainforest_Data1/audioset_nonbird/58VP5N8owns_150.000.wav\n",
      "/media/e4e/Rainforest_Data1/audioset_nonbird/5Ad0cKvD7sY_230.000.wav\n",
      "/media/e4e/Rainforest_Data1/audioset_nonbird/5AdvAAdZ8Xs_570.000.wav\n",
      "/media/e4e/Rainforest_Data1/audioset_nonbird/5AmicEkp3Oc_170.000.wav\n",
      "/media/e4e/Rainforest_Data1/audioset_nonbird/5asfoHsxI2w_30.000.wav\n",
      "/media/e4e/Rainforest_Data1/audioset_nonbird/5b6lStP8UXE_380.000.wav\n",
      "/media/e4e/Rainforest_Data1/audioset_nonbird/5B7d8e42ODw_30.000.wav\n",
      "/media/e4e/Rainforest_Data1/audioset_nonbird/5BLIgNC4-4w_160.000.wav\n"
     ]
    },
    {
     "name": "stdout",
     "output_type": "stream",
     "text": [
      "/media/e4e/Rainforest_Data1/audioset_nonbird/5bLzJ_iMl4s_30.000.wav\n",
      "/media/e4e/Rainforest_Data1/audioset_nonbird/5c9Z5UYsUV4_470.000.wav\n",
      "/media/e4e/Rainforest_Data1/audioset_nonbird/5Cam1KCQ4aY_50.000.wav\n",
      "/media/e4e/Rainforest_Data1/audioset_nonbird/5CCAZ8-BEec_80.000.wav\n",
      "/media/e4e/Rainforest_Data1/audioset_nonbird/5CnpbvcJ204_2.000.wav\n",
      "/media/e4e/Rainforest_Data1/audioset_nonbird/5d3bdvi6A5I_10.000.wav\n",
      "/media/e4e/Rainforest_Data1/audioset_nonbird/5DjZHCumLfs_11.000.wav\n",
      "/media/e4e/Rainforest_Data1/audioset_nonbird/5e8dnZnkLkw_60.000.wav\n",
      "/media/e4e/Rainforest_Data1/audioset_nonbird/5EENvIhhAF4_60.000.wav\n",
      "/media/e4e/Rainforest_Data1/audioset_nonbird/5Eu8C0010X0_21.000.wav\n",
      "/media/e4e/Rainforest_Data1/audioset_nonbird/5E_8bEnP43Y_30.000.wav\n",
      "/media/e4e/Rainforest_Data1/audioset_nonbird/5fLzQegwHUg_30.000.wav\n",
      "/media/e4e/Rainforest_Data1/audioset_nonbird/5FNqczmbnKA_7.000.wav\n",
      "/media/e4e/Rainforest_Data1/audioset_nonbird/5frU7dK3VSw_90.000.wav\n",
      "/media/e4e/Rainforest_Data1/audioset_nonbird/5Ft2-BDXIj4_120.000.wav\n",
      "/media/e4e/Rainforest_Data1/audioset_nonbird/5g-IxiNh_k8_3.000.wav\n",
      "/media/e4e/Rainforest_Data1/audioset_nonbird/5uPCUwX1fio_23.000.wav\n",
      "/media/e4e/Rainforest_Data1/audioset_nonbird/5uUROIui4Z0_0.000.wav\n",
      "/media/e4e/Rainforest_Data1/audioset_nonbird/5uwrCy_eG9Q_180.000.wav\n",
      "/media/e4e/Rainforest_Data1/audioset_nonbird/5V0xKS-FGMk_30.000.wav\n",
      "/media/e4e/Rainforest_Data1/audioset_nonbird/5v8wU0nKPgI_0.000.wav\n",
      "/media/e4e/Rainforest_Data1/audioset_nonbird/5Vc5xbPuqtM_30.000.wav\n",
      "/media/e4e/Rainforest_Data1/audioset_nonbird/5VDGoEnaayA_0.000.wav\n",
      "/media/e4e/Rainforest_Data1/audioset_nonbird/5vrw6zbiRQA_40.000.wav\n",
      "/media/e4e/Rainforest_Data1/audioset_nonbird/5VUNaWHmkHw_30.000.wav\n",
      "/media/e4e/Rainforest_Data1/audioset_nonbird/5wbc84KnDS0_60.000.wav\n",
      "/media/e4e/Rainforest_Data1/audioset_nonbird/5WpHlhb6ENA_450.000.wav\n",
      "/media/e4e/Rainforest_Data1/audioset_nonbird/5xNifFUzmCc_60.000.wav\n",
      "/media/e4e/Rainforest_Data1/audioset_nonbird/5Y3AXzZqg2k_30.000.wav\n",
      "/media/e4e/Rainforest_Data1/audioset_nonbird/5y4wrLFWy9Q_30.000.wav\n",
      "/media/e4e/Rainforest_Data1/audioset_nonbird/5Y6yGSVhX1g_50.000.wav\n",
      "/media/e4e/Rainforest_Data1/audioset_nonbird/5Y7LXX1FxVw_30.000.wav\n",
      "/media/e4e/Rainforest_Data1/audioset_nonbird/5Y86GNKYKbg_30.000.wav\n",
      "/media/e4e/Rainforest_Data1/audioset_nonbird/5yGj9JooT_Q_30.000.wav\n",
      "/media/e4e/Rainforest_Data1/audioset_nonbird/5yNsNnsuj_k_30.000.wav\n",
      "/media/e4e/Rainforest_Data1/audioset_nonbird/5YuUjP3HODY_110.000.wav\n",
      "/media/e4e/Rainforest_Data1/audioset_nonbird/5z1rE_l-0Ow_0.000.wav\n",
      "/media/e4e/Rainforest_Data1/audioset_nonbird/5zBNpxyX-KI_0.000.wav\n",
      "/media/e4e/Rainforest_Data1/audioset_nonbird/5ZpVhmhVYoI_60.000.wav\n",
      "/media/e4e/Rainforest_Data1/audioset_nonbird/5ZqT7KgdYu8_30.000.wav\n",
      "/media/e4e/Rainforest_Data1/audioset_nonbird/67FDBLycTik_270.000.wav\n",
      "/media/e4e/Rainforest_Data1/audioset_nonbird/67LwMQTrdI4_280.000.wav\n",
      "/media/e4e/Rainforest_Data1/audioset_nonbird/67QlKV8dtjI_180.000.wav\n",
      "/media/e4e/Rainforest_Data1/audioset_nonbird/67zcVX2srso_30.000.wav\n",
      "/media/e4e/Rainforest_Data1/audioset_nonbird/68JZ3hkB-qU_100.000.wav\n",
      "/media/e4e/Rainforest_Data1/audioset_nonbird/68_o_B0C4pI_30.000.wav\n",
      "/media/e4e/Rainforest_Data1/audioset_nonbird/69oU6LfyQ_4_30.000.wav\n",
      "/media/e4e/Rainforest_Data1/audioset_nonbird/6a8Y3l5piBY_30.000.wav\n",
      "/media/e4e/Rainforest_Data1/audioset_nonbird/6Ae312IQZPY_30.000.wav\n",
      "/media/e4e/Rainforest_Data1/audioset_nonbird/6agTJDB5lno_20.000.wav\n",
      "/media/e4e/Rainforest_Data1/audioset_nonbird/6axs0nGKcss_0.000.wav\n",
      "/media/e4e/Rainforest_Data1/audioset_nonbird/6B0nUnowXFU_470.000.wav\n",
      "/media/e4e/Rainforest_Data1/audioset_nonbird/6b2ZMMrLTz8_5.000.wav\n",
      "/media/e4e/Rainforest_Data1/audioset_nonbird/6boVy5aF4kg_30.000.wav\n",
      "/media/e4e/Rainforest_Data1/audioset_nonbird/6BPC__fbhPk_21.000.wav\n",
      "/media/e4e/Rainforest_Data1/audioset_nonbird/6CtlF65Ue4U_30.000.wav\n",
      "/media/e4e/Rainforest_Data1/audioset_nonbird/6dFdcTWdues_400.000.wav\n",
      "/media/e4e/Rainforest_Data1/audioset_nonbird/6dgTnGDYiZc_9.000.wav\n",
      "/media/e4e/Rainforest_Data1/audioset_nonbird/6DMa3Y8zhds_30.000.wav\n",
      "/media/e4e/Rainforest_Data1/audioset_nonbird/6dX8n6W3qTo_30.000.wav\n",
      "/media/e4e/Rainforest_Data1/audioset_nonbird/6E2jKYWemGI_320.000.wav\n",
      "/media/e4e/Rainforest_Data1/audioset_nonbird/6EHZlbbX8vI_380.000.wav\n",
      "/media/e4e/Rainforest_Data1/audioset_nonbird/6eSMimdQZKM_30.000.wav\n",
      "/media/e4e/Rainforest_Data1/audioset_nonbird/6fQqyrMAuFI_500.000.wav\n",
      "/media/e4e/Rainforest_Data1/audioset_nonbird/6FUmapkqPn0_80.000.wav\n",
      "/media/e4e/Rainforest_Data1/audioset_nonbird/6FVA4hqp1Ro_30.000.wav\n",
      "/media/e4e/Rainforest_Data1/audioset_nonbird/6gK8eYhRuw8_330.000.wav\n",
      "/media/e4e/Rainforest_Data1/audioset_nonbird/6GXGC1K7b5k_0.000.wav\n",
      "/media/e4e/Rainforest_Data1/audioset_nonbird/6HL_DKWK-WA_10.000.wav\n",
      "/media/e4e/Rainforest_Data1/audioset_nonbird/6hSPFL2Zlpg_30.000.wav\n",
      "/media/e4e/Rainforest_Data1/audioset_nonbird/5-8_Gnbp2JA_24.000.wav\n",
      "/media/e4e/Rainforest_Data1/audioset_nonbird/5-x2pk3YYAs_11.000.wav\n",
      "/media/e4e/Rainforest_Data1/audioset_nonbird/50cOkl6Mz5E_530.000.wav\n",
      "/media/e4e/Rainforest_Data1/audioset_nonbird/50QEapyTPD4_480.000.wav\n",
      "/media/e4e/Rainforest_Data1/audioset_nonbird/51NV5b5e5As_50.000.wav\n",
      "/media/e4e/Rainforest_Data1/audioset_nonbird/51vf4399MIs_30.000.wav\n",
      "/media/e4e/Rainforest_Data1/audioset_nonbird/51xPNk17AMg_26.000.wav\n",
      "/media/e4e/Rainforest_Data1/audioset_nonbird/52iNL3o4O5E_100.000.wav\n",
      "/media/e4e/Rainforest_Data1/audioset_nonbird/52uYyV64Nbk_30.000.wav\n",
      "/media/e4e/Rainforest_Data1/audioset_nonbird/534-Tg2cSto_30.000.wav\n",
      "/media/e4e/Rainforest_Data1/audioset_nonbird/54LSA7aZTBA_0.000.wav\n",
      "/media/e4e/Rainforest_Data1/audioset_nonbird/55JJBmhOa9g_30.000.wav\n",
      "/media/e4e/Rainforest_Data1/audioset_nonbird/55L7peYRB_Q_120.000.wav\n",
      "/media/e4e/Rainforest_Data1/audioset_nonbird/55l9j-CggDQ_30.000.wav\n",
      "/media/e4e/Rainforest_Data1/audioset_nonbird/566i3rpolg8_150.000.wav\n",
      "/media/e4e/Rainforest_Data1/audioset_nonbird/6HZ6nAzcQsQ_280.000.wav\n",
      "/media/e4e/Rainforest_Data1/audioset_nonbird/6IJWGktn2mw_30.000.wav\n",
      "/media/e4e/Rainforest_Data1/audioset_nonbird/6iLVoiATJg4_350.000.wav\n",
      "/media/e4e/Rainforest_Data1/audioset_nonbird/6iNLmtQmy3Y_30.000.wav\n",
      "/media/e4e/Rainforest_Data1/audioset_nonbird/6j8OCM8sL8I_20.000.wav\n",
      "/media/e4e/Rainforest_Data1/audioset_nonbird/6J9XeiKqzw0_18.000.wav\n",
      "/media/e4e/Rainforest_Data1/audioset_nonbird/6jAZGb8k6tE_90.000.wav\n",
      "/media/e4e/Rainforest_Data1/audioset_nonbird/6JFxZfN77nY_250.000.wav\n",
      "/media/e4e/Rainforest_Data1/audioset_nonbird/6jiO0tPLK7U_90.000.wav\n",
      "/media/e4e/Rainforest_Data1/audioset_nonbird/6jNme_qT8VU_290.000.wav\n",
      "/media/e4e/Rainforest_Data1/audioset_nonbird/6JrNJELJvP0_30.000.wav\n",
      "/media/e4e/Rainforest_Data1/audioset_nonbird/6Kn4bXCPvaA_30.000.wav\n",
      "/media/e4e/Rainforest_Data1/audioset_nonbird/6KqFiP_ux5U_50.000.wav\n",
      "/media/e4e/Rainforest_Data1/audioset_nonbird/6kuESYFcEqw_30.000.wav\n",
      "/media/e4e/Rainforest_Data1/audioset_nonbird/6m3-rzozCRE_20.000.wav\n",
      "/media/e4e/Rainforest_Data1/audioset_nonbird/6mdJY-GVdvs_30.000.wav\n",
      "/media/e4e/Rainforest_Data1/audioset_nonbird/6mR5YWrD8Q4_30.000.wav\n",
      "/media/e4e/Rainforest_Data1/audioset_nonbird/6MssjoV8tuU_280.000.wav\n",
      "/media/e4e/Rainforest_Data1/audioset_nonbird/6NLbCVK_YKI_30.000.wav\n",
      "/media/e4e/Rainforest_Data1/audioset_nonbird/6nWD63_RWQM_25.000.wav\n",
      "/media/e4e/Rainforest_Data1/audioset_nonbird/6o-kOtY8tdY_250.000.wav\n",
      "/media/e4e/Rainforest_Data1/audioset_nonbird/_-7I00cZUE0_64.000.wav\n",
      "/media/e4e/Rainforest_Data1/audioset_nonbird/_-fsiDpnxeE_220.000.wav\n",
      "/media/e4e/Rainforest_Data1/audioset_nonbird/_-ZSRcrbRGI_140.000.wav\n",
      "/media/e4e/Rainforest_Data1/audioset_nonbird/_-_5kbw2Mcw_0.000.wav\n",
      "/media/e4e/Rainforest_Data1/audioset_nonbird/_-_U21mzk40_30.000.wav\n",
      "/media/e4e/Rainforest_Data1/audioset_nonbird/5gyMt0YzPQ0_30.000.wav\n",
      "/media/e4e/Rainforest_Data1/audioset_nonbird/5hE2DZdl0IA_40.000.wav\n",
      "/media/e4e/Rainforest_Data1/audioset_nonbird/5he7KOB6_0g_10.000.wav\n",
      "/media/e4e/Rainforest_Data1/audioset_nonbird/5Hr6HKMTS18_400.000.wav\n",
      "/media/e4e/Rainforest_Data1/audioset_nonbird/5idUwdU4Ftk_80.000.wav\n",
      "/media/e4e/Rainforest_Data1/audioset_nonbird/5iyGfGJYbzo_0.000.wav\n",
      "/media/e4e/Rainforest_Data1/audioset_nonbird/5i_aQPG-1nc_30.000.wav\n",
      "/media/e4e/Rainforest_Data1/audioset_nonbird/5jH3VC0aOEU_140.000.wav\n",
      "/media/e4e/Rainforest_Data1/audioset_nonbird/5jNp0IQb5QQ_320.000.wav\n",
      "/media/e4e/Rainforest_Data1/audioset_nonbird/5jpljP-cYyA_410.000.wav\n"
     ]
    },
    {
     "name": "stdout",
     "output_type": "stream",
     "text": [
      "/media/e4e/Rainforest_Data1/audioset_nonbird/5Jyk1kWjddg_400.000.wav\n",
      "/media/e4e/Rainforest_Data1/audioset_nonbird/5k9PJcsu8BY_100.000.wav\n",
      "/media/e4e/Rainforest_Data1/audioset_nonbird/5kDbwE7mFck_30.000.wav\n",
      "/media/e4e/Rainforest_Data1/audioset_nonbird/5KL_ccQwAuo_30.000.wav\n",
      "/media/e4e/Rainforest_Data1/audioset_nonbird/5l-gviwfjVk_130.000.wav\n",
      "/media/e4e/Rainforest_Data1/audioset_nonbird/5l-SoHOFw_c_30.000.wav\n",
      "/media/e4e/Rainforest_Data1/audioset_nonbird/45_hB4QUjNk_30.000.wav\n",
      "/media/e4e/Rainforest_Data1/audioset_nonbird/4dGlrvX_EfI_20.000.wav\n",
      "/media/e4e/Rainforest_Data1/audioset_nonbird/4GGUH7ykdCg_22.000.wav\n",
      "/media/e4e/Rainforest_Data1/audioset_nonbird/4JMyWnkJMwc_160.000.wav\n",
      "/media/e4e/Rainforest_Data1/audioset_nonbird/4PGJ6iClzqo_0.000.wav\n",
      "/media/e4e/Rainforest_Data1/audioset_nonbird/4tzNNlFWsa4_40.000.wav\n",
      "/media/e4e/Rainforest_Data1/audioset_nonbird/4_qChbvQ8J8_230.000.wav\n",
      "/media/e4e/Rainforest_Data1/audioset_nonbird/56FVUJKj_N4_30.000.wav\n",
      "/media/e4e/Rainforest_Data1/audioset_nonbird/5LBdR-vZ_i4_180.000.wav\n",
      "/media/e4e/Rainforest_Data1/audioset_nonbird/5lHsbS2jnvs_0.000.wav\n",
      "/media/e4e/Rainforest_Data1/audioset_nonbird/5lOHKcRIFqk_580.000.wav\n",
      "/media/e4e/Rainforest_Data1/audioset_nonbird/5lVMHDU8dAY_30.000.wav\n",
      "/media/e4e/Rainforest_Data1/audioset_nonbird/5lw-BHt_rXY_30.000.wav\n",
      "/media/e4e/Rainforest_Data1/audioset_nonbird/5MeHhWGqSrw_30.000.wav\n",
      "/media/e4e/Rainforest_Data1/audioset_nonbird/5MOJnA715fA_410.000.wav\n",
      "/media/e4e/Rainforest_Data1/audioset_nonbird/5n8I-br2n1U_70.000.wav\n",
      "/media/e4e/Rainforest_Data1/audioset_nonbird/5na6Lhs34ho_130.000.wav\n",
      "/media/e4e/Rainforest_Data1/audioset_nonbird/5NCUtndrsHg_30.000.wav\n",
      "/media/e4e/Rainforest_Data1/audioset_nonbird/5nH4u0KE56Q_30.000.wav\n",
      "/media/e4e/Rainforest_Data1/audioset_nonbird/5PYzLVpPSXA_70.000.wav\n",
      "/media/e4e/Rainforest_Data1/audioset_nonbird/5q-BH-tvxEg_0.000.wav\n",
      "/media/e4e/Rainforest_Data1/audioset_nonbird/5qkqb0U3mTg_30.000.wav\n",
      "/media/e4e/Rainforest_Data1/audioset_nonbird/5QNq0IEPICQ_30.000.wav\n",
      "/media/e4e/Rainforest_Data1/audioset_nonbird/5QP1Tc3XbDc_30.000.wav\n",
      "/media/e4e/Rainforest_Data1/audioset_nonbird/5RFSFyp2W2k_230.000.wav\n",
      "/media/e4e/Rainforest_Data1/audioset_nonbird/5rnKvpocxB0_480.000.wav\n",
      "/media/e4e/Rainforest_Data1/audioset_nonbird/5rSpIXAOjgk_50.000.wav\n",
      "/media/e4e/Rainforest_Data1/audioset_nonbird/5S9W9-nTgLE_30.000.wav\n",
      "/media/e4e/Rainforest_Data1/audioset_nonbird/5sBPYyOezc8_30.000.wav\n",
      "/media/e4e/Rainforest_Data1/audioset_nonbird/5sg9sCOXFIk_140.000.wav\n",
      "/media/e4e/Rainforest_Data1/audioset_nonbird/5sha3VV_-eE_220.000.wav\n",
      "/media/e4e/Rainforest_Data1/audioset_nonbird/5syIeYVoavM_20.000.wav\n",
      "/media/e4e/Rainforest_Data1/audioset_nonbird/5tM4bPM6E_w_70.000.wav\n",
      "/media/e4e/Rainforest_Data1/audioset_nonbird/5TTyaxIvBo4_70.000.wav\n",
      "/media/e4e/Rainforest_Data1/audioset_nonbird/5TuZZKMFZk0_30.000.wav\n",
      "/media/e4e/Rainforest_Data1/audioset_nonbird/5UA2K65wuvs_25.000.wav\n",
      "/media/e4e/Rainforest_Data1/audioset_nonbird/7NXmDbHoJn0_30.000.wav\n",
      "/media/e4e/Rainforest_Data1/audioset_nonbird/7NyLkxUSPCQ_6.000.wav\n",
      "/media/e4e/Rainforest_Data1/audioset_nonbird/7nZcwE5VxgM_470.000.wav\n",
      "/media/e4e/Rainforest_Data1/audioset_nonbird/7OExK7ETCnA_310.000.wav\n",
      "/media/e4e/Rainforest_Data1/audioset_nonbird/7oHaG3Ez5-4_30.000.wav\n",
      "/media/e4e/Rainforest_Data1/audioset_nonbird/7oPPuNGddHU_30.000.wav\n",
      "/media/e4e/Rainforest_Data1/audioset_nonbird/7P7sCHtDLU8_30.000.wav\n",
      "/media/e4e/Rainforest_Data1/audioset_nonbird/7PKWXAPazJs_80.000.wav\n",
      "/media/e4e/Rainforest_Data1/audioset_nonbird/7PtHb9jQCtg_130.000.wav\n",
      "/media/e4e/Rainforest_Data1/audioset_nonbird/7qcZbGLSggs_320.000.wav\n",
      "/media/e4e/Rainforest_Data1/audioset_nonbird/7qE47XOqcG0_100.000.wav\n",
      "/media/e4e/Rainforest_Data1/audioset_nonbird/7QnyKZe6VBA_30.000.wav\n",
      "/media/e4e/Rainforest_Data1/audioset_nonbird/7QTCtJkc2NQ_21.000.wav\n",
      "/media/e4e/Rainforest_Data1/audioset_nonbird/7Qtr6D2TWBE_350.000.wav\n",
      "/media/e4e/Rainforest_Data1/audioset_nonbird/7qznoSW2ecI_540.000.wav\n",
      "/media/e4e/Rainforest_Data1/audioset_nonbird/7riRm0kxRRE_20.000.wav\n",
      "/media/e4e/Rainforest_Data1/audioset_nonbird/7S88FsFE5EE_30.000.wav\n",
      "/media/e4e/Rainforest_Data1/audioset_nonbird/7sgNkeZCPQc_30.000.wav\n",
      "/media/e4e/Rainforest_Data1/audioset_nonbird/7sjPS_ru0Kw_30.000.wav\n",
      "/media/e4e/Rainforest_Data1/audioset_nonbird/7skzapW_Jy4_24.000.wav\n",
      "/media/e4e/Rainforest_Data1/audioset_nonbird/7ssccf2qjx8_30.000.wav\n",
      "/media/e4e/Rainforest_Data1/audioset_nonbird/87NvADAjdYo_51.000.wav\n",
      "/media/e4e/Rainforest_Data1/audioset_nonbird/88N23-hjddY_280.000.wav\n",
      "/media/e4e/Rainforest_Data1/audioset_nonbird/88OXNd0yTMI_40.000.wav\n",
      "/media/e4e/Rainforest_Data1/audioset_nonbird/89t0486uIfo_90.000.wav\n",
      "/media/e4e/Rainforest_Data1/audioset_nonbird/8a0Ctyt3Fpo_270.000.wav\n",
      "/media/e4e/Rainforest_Data1/audioset_nonbird/8A1xDCkq5dk_30.000.wav\n",
      "/media/e4e/Rainforest_Data1/audioset_nonbird/8AY0aXAQjwY_250.000.wav\n",
      "/media/e4e/Rainforest_Data1/audioset_nonbird/8aYqigfxXZE_80.000.wav\n",
      "/media/e4e/Rainforest_Data1/audioset_nonbird/8AYXpxT4jcs_90.000.wav\n",
      "/media/e4e/Rainforest_Data1/audioset_nonbird/8bakI0ITCqQ_30.000.wav\n",
      "/media/e4e/Rainforest_Data1/audioset_nonbird/8bB2BcjSzBU_40.000.wav\n",
      "/media/e4e/Rainforest_Data1/audioset_nonbird/8bRQgDQyTNw_0.000.wav\n",
      "/media/e4e/Rainforest_Data1/audioset_nonbird/8BT53kPlgCU_21.000.wav\n",
      "/media/e4e/Rainforest_Data1/audioset_nonbird/8CdOjt_83qY_70.000.wav\n",
      "/media/e4e/Rainforest_Data1/audioset_nonbird/8cJ8g7qfYx4_330.000.wav\n",
      "/media/e4e/Rainforest_Data1/audioset_nonbird/8CqqK9CzuXM_90.000.wav\n",
      "/media/e4e/Rainforest_Data1/audioset_nonbird/8CY7G2NrlxY_30.000.wav\n",
      "/media/e4e/Rainforest_Data1/audioset_nonbird/8d6SwUPTyOQ_30.000.wav\n",
      "/media/e4e/Rainforest_Data1/audioset_nonbird/8DHtPopFvII_80.000.wav\n",
      "/media/e4e/Rainforest_Data1/audioset_nonbird/8ewn7JCJbEM_30.000.wav\n",
      "/media/e4e/Rainforest_Data1/audioset_nonbird/8ExbE_3GOdE_320.000.wav\n",
      "/media/e4e/Rainforest_Data1/audioset_nonbird/8EYWMAUKRHU_100.000.wav\n",
      "/media/e4e/Rainforest_Data1/audioset_nonbird/8fph3pyNw0Y_30.000.wav\n",
      "/media/e4e/Rainforest_Data1/audioset_nonbird/8fvDLvGQkB4_140.000.wav\n",
      "/media/e4e/Rainforest_Data1/audioset_nonbird/6-RIiM19Be8_160.000.wav\n",
      "/media/e4e/Rainforest_Data1/audioset_nonbird/6-yQsEH2WYA_30.000.wav\n",
      "/media/e4e/Rainforest_Data1/audioset_nonbird/60TUirEXrow_70.000.wav\n",
      "/media/e4e/Rainforest_Data1/audioset_nonbird/61OJbbAK2Y0_340.000.wav\n",
      "/media/e4e/Rainforest_Data1/audioset_nonbird/61pRpDeX0DE_30.000.wav\n",
      "/media/e4e/Rainforest_Data1/audioset_nonbird/61T8j-vXtnA_430.000.wav\n",
      "/media/e4e/Rainforest_Data1/audioset_nonbird/620GoTv5Ic8_30.000.wav\n",
      "/media/e4e/Rainforest_Data1/audioset_nonbird/63Qy15I3QGE_30.000.wav\n",
      "/media/e4e/Rainforest_Data1/audioset_nonbird/63rqIYPHvlc_30.000.wav\n",
      "/media/e4e/Rainforest_Data1/audioset_nonbird/648d32vaTOw_30.000.wav\n",
      "/media/e4e/Rainforest_Data1/audioset_nonbird/64FYj_KHcC4_50.000.wav\n",
      "/media/e4e/Rainforest_Data1/audioset_nonbird/65BX-Gf3018_580.000.wav\n",
      "/media/e4e/Rainforest_Data1/audioset_nonbird/65d-NiFDy48_150.000.wav\n",
      "/media/e4e/Rainforest_Data1/audioset_nonbird/65JEfWpy7N0_110.000.wav\n",
      "/media/e4e/Rainforest_Data1/audioset_nonbird/6667wr0XeZU_30.000.wav\n",
      "/media/e4e/Rainforest_Data1/audioset_nonbird/8n02_u1shaM_6.000.wav\n",
      "/media/e4e/Rainforest_Data1/audioset_nonbird/8oe6egO0YOc_30.000.wav\n",
      "/media/e4e/Rainforest_Data1/audioset_nonbird/8oEdgb8iXYA_1.000.wav\n",
      "/media/e4e/Rainforest_Data1/audioset_nonbird/8OKAwDv20R8_6.000.wav\n",
      "/media/e4e/Rainforest_Data1/audioset_nonbird/8OukwZl_vsg_30.000.wav\n",
      "/media/e4e/Rainforest_Data1/audioset_nonbird/8OXipUhZO3s_490.000.wav\n",
      "/media/e4e/Rainforest_Data1/audioset_nonbird/8Pr66M8jczI_70.000.wav\n",
      "/media/e4e/Rainforest_Data1/audioset_nonbird/8pYHLfKqHL4_230.000.wav\n",
      "/media/e4e/Rainforest_Data1/audioset_nonbird/8qMwRaqKt3Y_50.000.wav\n",
      "/media/e4e/Rainforest_Data1/audioset_nonbird/8qsCZLEoA1Q_4.000.wav\n",
      "/media/e4e/Rainforest_Data1/audioset_nonbird/8rdFWmDjL9c_30.000.wav\n",
      "/media/e4e/Rainforest_Data1/audioset_nonbird/8RK1x263Ou0_100.000.wav\n",
      "/media/e4e/Rainforest_Data1/audioset_nonbird/8rKtax0rSuw_30.000.wav\n",
      "/media/e4e/Rainforest_Data1/audioset_nonbird/8rMlNbKlp_s_0.000.wav\n",
      "/media/e4e/Rainforest_Data1/audioset_nonbird/8S7zsWndDfk_70.000.wav\n",
      "/media/e4e/Rainforest_Data1/audioset_nonbird/8sd513xQzV4_30.000.wav\n",
      "/media/e4e/Rainforest_Data1/audioset_nonbird/8Sfjahpupqg_0.000.wav\n",
      "/media/e4e/Rainforest_Data1/audioset_nonbird/8StqowT8hME_30.000.wav\n",
      "/media/e4e/Rainforest_Data1/audioset_nonbird/8t7QNZMRngA_510.000.wav\n"
     ]
    },
    {
     "name": "stdout",
     "output_type": "stream",
     "text": [
      "/media/e4e/Rainforest_Data1/audioset_nonbird/8u08numU0Lw_30.000.wav\n",
      "/media/e4e/Rainforest_Data1/audioset_nonbird/8UMdVUartLw_120.000.wav\n",
      "/media/e4e/Rainforest_Data1/audioset_nonbird/8UNCaKU0O4A_80.000.wav\n",
      "/media/e4e/Rainforest_Data1/audioset_nonbird/8UQoSJ--jfw_100.000.wav\n",
      "/media/e4e/Rainforest_Data1/audioset_nonbird/9b76VsTpjF0_10.000.wav\n",
      "/media/e4e/Rainforest_Data1/audioset_nonbird/9Bd657cv4cQ_450.000.wav\n",
      "/media/e4e/Rainforest_Data1/audioset_nonbird/9BGpWG8iqpQ_0.000.wav\n",
      "/media/e4e/Rainforest_Data1/audioset_nonbird/9BXbL0m6iq8_130.000.wav\n",
      "/media/e4e/Rainforest_Data1/audioset_nonbird/9BXEbdUrsDQ_19.000.wav\n",
      "/media/e4e/Rainforest_Data1/audioset_nonbird/9cAeyIVi67U_20.000.wav\n",
      "/media/e4e/Rainforest_Data1/audioset_nonbird/9caOHhE4rSM_400.000.wav\n",
      "/media/e4e/Rainforest_Data1/audioset_nonbird/9Ci8qOMBNNU_70.000.wav\n",
      "/media/e4e/Rainforest_Data1/audioset_nonbird/9CkgB0rVaEo_80.000.wav\n",
      "/media/e4e/Rainforest_Data1/audioset_nonbird/9cNWeCPlyOw_120.000.wav\n",
      "/media/e4e/Rainforest_Data1/audioset_nonbird/9CWYBBTkEus_40.000.wav\n",
      "/media/e4e/Rainforest_Data1/audioset_nonbird/9cYVBOJmXIw_30.000.wav\n",
      "/media/e4e/Rainforest_Data1/audioset_nonbird/9DJVHVONlao_60.000.wav\n",
      "/media/e4e/Rainforest_Data1/audioset_nonbird/9djxR8Ps5aU_0.000.wav\n",
      "/media/e4e/Rainforest_Data1/audioset_nonbird/9DQf6EgjbNE_11.000.wav\n",
      "/media/e4e/Rainforest_Data1/audioset_nonbird/9EeYdPhdBwo_30.000.wav\n",
      "/media/e4e/Rainforest_Data1/audioset_nonbird/9EsgN-WS2qY_30.000.wav\n",
      "/media/e4e/Rainforest_Data1/audioset_nonbird/9FDQ8uXlKQ8_120.000.wav\n",
      "/media/e4e/Rainforest_Data1/audioset_nonbird/9FDzG0xNp5s_150.000.wav\n",
      "/media/e4e/Rainforest_Data1/audioset_nonbird/9fIuFJnLSXA_250.000.wav\n",
      "/media/e4e/Rainforest_Data1/audioset_nonbird/9Flb2vqHgYs_0.000.wav\n",
      "/media/e4e/Rainforest_Data1/audioset_nonbird/9FtxEZ4i8cs_30.000.wav\n",
      "/media/e4e/Rainforest_Data1/audioset_nonbird/9fzAWj5YJ9c_30.000.wav\n",
      "/media/e4e/Rainforest_Data1/audioset_nonbird/9g8sN-K5G0Q_550.000.wav\n",
      "/media/e4e/Rainforest_Data1/audioset_nonbird/9gCeNCnWZhE_30.000.wav\n",
      "/media/e4e/Rainforest_Data1/audioset_nonbird/9gI0gN5vDVg_170.000.wav\n",
      "/media/e4e/Rainforest_Data1/audioset_nonbird/9grtLEqt_RM_330.000.wav\n",
      "/media/e4e/Rainforest_Data1/audioset_nonbird/9hFe3dE4HZg_190.000.wav\n",
      "/media/e4e/Rainforest_Data1/audioset_nonbird/9HT3ezdUlQs_330.000.wav\n",
      "/media/e4e/Rainforest_Data1/audioset_nonbird/9IMO27jHA6o_200.000.wav\n",
      "/media/e4e/Rainforest_Data1/audioset_nonbird/6om-fZvxe70_30.000.wav\n",
      "/media/e4e/Rainforest_Data1/audioset_nonbird/6PLlWvC4BiQ_160.000.wav\n",
      "/media/e4e/Rainforest_Data1/audioset_nonbird/6PPu1C_00po_30.000.wav\n",
      "/media/e4e/Rainforest_Data1/audioset_nonbird/6psjy93yoTA_30.000.wav\n",
      "/media/e4e/Rainforest_Data1/audioset_nonbird/6q0MGwl-xZA_30.000.wav\n",
      "/media/e4e/Rainforest_Data1/audioset_nonbird/6qrJMLyyHII_440.000.wav\n",
      "/media/e4e/Rainforest_Data1/audioset_nonbird/6qtIvxTeL1c_30.000.wav\n",
      "/media/e4e/Rainforest_Data1/audioset_nonbird/6r00ZvsYi9g_150.000.wav\n",
      "/media/e4e/Rainforest_Data1/audioset_nonbird/6R8cO4ARzkY_30.000.wav\n",
      "/media/e4e/Rainforest_Data1/audioset_nonbird/6sfjS8pGgjM_30.000.wav\n",
      "/media/e4e/Rainforest_Data1/audioset_nonbird/6slrju_ar9U_280.000.wav\n",
      "/media/e4e/Rainforest_Data1/audioset_nonbird/6SNm9kiw9Dk_30.000.wav\n",
      "/media/e4e/Rainforest_Data1/audioset_nonbird/6U942AYlcXA_30.000.wav\n",
      "/media/e4e/Rainforest_Data1/audioset_nonbird/6UY-HKyolKk_30.000.wav\n",
      "/media/e4e/Rainforest_Data1/audioset_nonbird/6VBURvUgzls_30.000.wav\n",
      "/media/e4e/Rainforest_Data1/audioset_nonbird/6vCO2y-bYoU_30.000.wav\n",
      "/media/e4e/Rainforest_Data1/audioset_nonbird/6VKGFVNlZyI_280.000.wav\n",
      "/media/e4e/Rainforest_Data1/audioset_nonbird/6vlK5YIeFQE_20.000.wav\n",
      "/media/e4e/Rainforest_Data1/audioset_nonbird/6VoAE-AWk28_490.000.wav\n",
      "/media/e4e/Rainforest_Data1/audioset_nonbird/6VQGk8IrV-4_30.000.wav\n",
      "/media/e4e/Rainforest_Data1/audioset_nonbird/9iwSNlh8EnE_150.000.wav\n",
      "/media/e4e/Rainforest_Data1/audioset_nonbird/9j-M5q5uSr8_140.000.wav\n",
      "/media/e4e/Rainforest_Data1/audioset_nonbird/9JNW3l8IOio_30.000.wav\n",
      "/media/e4e/Rainforest_Data1/audioset_nonbird/9jty9kPV4E4_30.000.wav\n",
      "/media/e4e/Rainforest_Data1/audioset_nonbird/9JwAddAl120_310.000.wav\n",
      "/media/e4e/Rainforest_Data1/audioset_nonbird/9jwXobMM-Rs_30.000.wav\n",
      "/media/e4e/Rainforest_Data1/audioset_nonbird/9KASxFLpXsI_90.000.wav\n",
      "/media/e4e/Rainforest_Data1/audioset_nonbird/9kdEsZH5ohc_30.000.wav\n",
      "/media/e4e/Rainforest_Data1/audioset_nonbird/9kFZhnbKUXo_30.000.wav\n",
      "/media/e4e/Rainforest_Data1/audioset_nonbird/9KmiTXxlxtM_120.000.wav\n",
      "/media/e4e/Rainforest_Data1/audioset_nonbird/9l0ZJENyWq0_10.000.wav\n",
      "/media/e4e/Rainforest_Data1/audioset_nonbird/9lbVTD_LYrY_80.000.wav\n",
      "/media/e4e/Rainforest_Data1/audioset_nonbird/9Lf3LgWVyis_510.000.wav\n",
      "/media/e4e/Rainforest_Data1/audioset_nonbird/9LJnjmcRcb8_280.000.wav\n",
      "/media/e4e/Rainforest_Data1/audioset_nonbird/9lKIoqoJy0M_30.000.wav\n",
      "/media/e4e/Rainforest_Data1/audioset_nonbird/70CjsIbLwU0_30.000.wav\n",
      "/media/e4e/Rainforest_Data1/audioset_nonbird/70h3XP3UF1A_30.000.wav\n",
      "/media/e4e/Rainforest_Data1/audioset_nonbird/70pyoqX0U9Y_30.000.wav\n",
      "/media/e4e/Rainforest_Data1/audioset_nonbird/71hqRT9U0wg_10.000.wav\n",
      "/media/e4e/Rainforest_Data1/audioset_nonbird/71Ip-XpntRE_50.000.wav\n",
      "/media/e4e/Rainforest_Data1/audioset_nonbird/72b5UupN-Nw_150.000.wav\n",
      "/media/e4e/Rainforest_Data1/audioset_nonbird/72Jfe3u5ynQ_120.000.wav\n",
      "/media/e4e/Rainforest_Data1/audioset_nonbird/72RI4phr0F8_20.000.wav\n",
      "/media/e4e/Rainforest_Data1/audioset_nonbird/72vme5Tdc_g_30.000.wav\n",
      "/media/e4e/Rainforest_Data1/audioset_nonbird/73cuZZq-J3w_20.000.wav\n",
      "/media/e4e/Rainforest_Data1/audioset_nonbird/74MFxrG2aSI_8.000.wav\n",
      "/media/e4e/Rainforest_Data1/audioset_nonbird/752bW5cjXzw_110.000.wav\n",
      "/media/e4e/Rainforest_Data1/audioset_nonbird/75fbvRo1bII_30.000.wav\n",
      "/media/e4e/Rainforest_Data1/audioset_nonbird/75kY3TfDbU0_70.000.wav\n",
      "/media/e4e/Rainforest_Data1/audioset_nonbird/75PJeJ2hGcw_30.000.wav\n",
      "/media/e4e/Rainforest_Data1/audioset_nonbird/75wvnWAqoM0_30.000.wav\n",
      "/media/e4e/Rainforest_Data1/audioset_nonbird/75yifjn7bHo_10.000.wav\n",
      "/media/e4e/Rainforest_Data1/audioset_nonbird/769OqI16Hhg_320.000.wav\n",
      "/media/e4e/Rainforest_Data1/audioset_nonbird/76CGUzFMGUE_300.000.wav\n",
      "/media/e4e/Rainforest_Data1/audioset_nonbird/76iqAPVH8gY_30.000.wav\n",
      "/media/e4e/Rainforest_Data1/audioset_nonbird/6wCfnFWF-cY_120.000.wav\n",
      "/media/e4e/Rainforest_Data1/audioset_nonbird/6WDfhQNFgCM_30.000.wav\n",
      "/media/e4e/Rainforest_Data1/audioset_nonbird/6whH7-zKhfY_30.000.wav\n",
      "/media/e4e/Rainforest_Data1/audioset_nonbird/6Wk4xP93TyA_0.000.wav\n",
      "/media/e4e/Rainforest_Data1/audioset_nonbird/6wO8ORMfyFI_430.000.wav\n",
      "/media/e4e/Rainforest_Data1/audioset_nonbird/6xeH0Azt9aI_0.000.wav\n",
      "/media/e4e/Rainforest_Data1/audioset_nonbird/6xEHP-C-ZuU_30.000.wav\n",
      "/media/e4e/Rainforest_Data1/audioset_nonbird/6xlV_D4yJDc_30.000.wav\n",
      "/media/e4e/Rainforest_Data1/audioset_nonbird/6Y8wSI1l-Lw_30.000.wav\n",
      "/media/e4e/Rainforest_Data1/audioset_nonbird/6ybaD3QZgrM_0.000.wav\n",
      "/media/e4e/Rainforest_Data1/audioset_nonbird/6yTj1KuoEC8_0.000.wav\n",
      "/media/e4e/Rainforest_Data1/audioset_nonbird/6Yu8mOyBtGk_280.000.wav\n",
      "/media/e4e/Rainforest_Data1/audioset_nonbird/6Yw-dFQQJs8_30.000.wav\n",
      "/media/e4e/Rainforest_Data1/audioset_nonbird/6yxJylPGrEU_100.000.wav\n",
      "/media/e4e/Rainforest_Data1/audioset_nonbird/6ZEFb6Zi3sI_210.000.wav\n",
      "/media/e4e/Rainforest_Data1/audioset_nonbird/6ZRd1OWBLAg_19.000.wav\n",
      "/media/e4e/Rainforest_Data1/audioset_nonbird/6zTszR6wgys_200.000.wav\n",
      "/media/e4e/Rainforest_Data1/audioset_nonbird/6zzGSdu05gA_70.000.wav\n",
      "/media/e4e/Rainforest_Data1/audioset_nonbird/6_05TgGc634_30.000.wav\n",
      "/media/e4e/Rainforest_Data1/audioset_nonbird/6_NEAEGeFIw_30.000.wav\n",
      "/media/e4e/Rainforest_Data1/audioset_nonbird/6_TGlFO0DCk_10.000.wav\n",
      "/media/e4e/Rainforest_Data1/audioset_nonbird/6_zzu2KON6c_80.000.wav\n",
      "/media/e4e/Rainforest_Data1/audioset_nonbird/7-htobm4qu0_30.000.wav\n",
      "/media/e4e/Rainforest_Data1/audioset_nonbird/7-Ly3ICovLE_30.000.wav\n",
      "/media/e4e/Rainforest_Data1/audioset_nonbird/7-V8cMwkXTk_30.000.wav\n",
      "/media/e4e/Rainforest_Data1/audioset_nonbird/7-Wm2TyvMs8_30.000.wav\n",
      "/media/e4e/Rainforest_Data1/audioset_nonbird/7761uBKNpd8_30.000.wav\n",
      "/media/e4e/Rainforest_Data1/audioset_nonbird/78BivgombIE_90.000.wav\n",
      "/media/e4e/Rainforest_Data1/audioset_nonbird/78t2zq75Amg_10.000.wav\n",
      "/media/e4e/Rainforest_Data1/audioset_nonbird/7916WqcPKBA_30.000.wav\n",
      "/media/e4e/Rainforest_Data1/audioset_nonbird/7AMjN4TLZU0_410.000.wav\n",
      "/media/e4e/Rainforest_Data1/audioset_nonbird/7AN6Sfm3cFc_140.000.wav\n"
     ]
    },
    {
     "name": "stdout",
     "output_type": "stream",
     "text": [
      "/media/e4e/Rainforest_Data1/audioset_nonbird/7blprMMvWLA_70.000.wav\n",
      "/media/e4e/Rainforest_Data1/audioset_nonbird/7c-hiuqSxu8_50.000.wav\n",
      "/media/e4e/Rainforest_Data1/audioset_nonbird/_1woPC5HWSg_30.000.wav\n",
      "/media/e4e/Rainforest_Data1/audioset_nonbird/_22gJ5kB31k_30.000.wav\n",
      "/media/e4e/Rainforest_Data1/audioset_nonbird/_3F2ThHyn64_30.000.wav\n",
      "/media/e4e/Rainforest_Data1/audioset_nonbird/_3yc8z3kXgg_30.000.wav\n",
      "/media/e4e/Rainforest_Data1/audioset_nonbird/_3ZOigx8e3c_30.000.wav\n",
      "/media/e4e/Rainforest_Data1/audioset_nonbird/_4oW93l094k_30.000.wav\n",
      "/media/e4e/Rainforest_Data1/audioset_nonbird/_4rolMIFkgQ_30.000.wav\n",
      "/media/e4e/Rainforest_Data1/audioset_nonbird/_547JTmvb9g_30.000.wav\n",
      "/media/e4e/Rainforest_Data1/audioset_nonbird/_5FQFj1d9Qs_550.000.wav\n",
      "/media/e4e/Rainforest_Data1/audioset_nonbird/_5mfNxFuXos_30.000.wav\n",
      "/media/e4e/Rainforest_Data1/audioset_nonbird/_6spzSHLoY0_30.000.wav\n",
      "/media/e4e/Rainforest_Data1/audioset_nonbird/_78P-0zWJtg_420.000.wav\n",
      "/media/e4e/Rainforest_Data1/audioset_nonbird/_7AHvLZsXFQ_580.000.wav\n",
      "/media/e4e/Rainforest_Data1/audioset_nonbird/_8HcEdMMbzQ_130.000.wav\n",
      "/media/e4e/Rainforest_Data1/audioset_nonbird/5L6MN2Hlsxw_200.000.wav\n",
      "/media/e4e/Rainforest_Data1/audioset_nonbird/5Q5R_a86vYA_90.000.wav\n",
      "/media/e4e/Rainforest_Data1/audioset_nonbird/5uL1_hgx7FA_30.000.wav\n",
      "/media/e4e/Rainforest_Data1/audioset_nonbird/5_MhQoXWEwM_40.000.wav\n",
      "/media/e4e/Rainforest_Data1/audioset_nonbird/67af4R5J5yY_30.000.wav\n",
      "/media/e4e/Rainforest_Data1/audioset_nonbird/6BULemu-01A_30.000.wav\n",
      "/media/e4e/Rainforest_Data1/audioset_nonbird/6HvJzsvx8Io_120.000.wav\n",
      "/media/e4e/Rainforest_Data1/audioset_nonbird/6OgSNQOTw2U_60.000.wav\n",
      "/media/e4e/Rainforest_Data1/audioset_nonbird/6V_3HbfFcSc_50.000.wav\n",
      "/media/e4e/Rainforest_Data1/audioset_nonbird/709PYLVhbqM_270.000.wav\n",
      "/media/e4e/Rainforest_Data1/audioset_nonbird/76_7ZaSEPw0_20.000.wav\n",
      "/media/e4e/Rainforest_Data1/audioset_nonbird/1SLrRllxMkU_60.000.wav\n",
      "/media/e4e/Rainforest_Data1/audioset_nonbird/3_54-fv4bQE_30.000.wav\n",
      "/media/e4e/Rainforest_Data1/audioset_nonbird/5gHyYcdMwzY_120.000.wav\n",
      "/media/e4e/Rainforest_Data1/audioset_nonbird/7c6ZTF6cF88_30.000.wav\n",
      "/media/e4e/Rainforest_Data1/audioset_nonbird/9_eXYyA8N18_530.000.wav\n",
      "/media/e4e/Rainforest_Data1/audioset_nonbird/AL1PGm5Mk1M_20.000.wav\n",
      "/media/e4e/Rainforest_Data1/audioset_nonbird/bG7GnOHpnj8_30.000.wav\n",
      "/media/e4e/Rainforest_Data1/audioset_nonbird/CG_FRQwVoCk_90.000.wav\n",
      "/media/e4e/Rainforest_Data1/audioset_nonbird/DEs_Sp9S1Nw_30.000.wav\n",
      "/media/e4e/Rainforest_Data1/audioset_nonbird/Ef0c2AieZ24_130.000.wav\n",
      "/media/e4e/Rainforest_Data1/audioset_nonbird/fIer0uCLqSM_30.000.wav\n",
      "/media/e4e/Rainforest_Data1/audioset_nonbird/GO_1gBjIR1c_30.000.wav\n",
      "/media/e4e/Rainforest_Data1/audioset_nonbird/hj7VJnNq6A4_240.000.wav\n",
      "/media/e4e/Rainforest_Data1/audioset_nonbird/7Cg5tp9oQ6Y_30.000.wav\n",
      "/media/e4e/Rainforest_Data1/audioset_nonbird/7CRVoUCXg_A_30.000.wav\n",
      "/media/e4e/Rainforest_Data1/audioset_nonbird/7EAkRbG8qKk_140.000.wav\n",
      "/media/e4e/Rainforest_Data1/audioset_nonbird/7ey4Ga1mJ2k_30.000.wav\n",
      "/media/e4e/Rainforest_Data1/audioset_nonbird/7eYzzqFHGQw_100.000.wav\n",
      "/media/e4e/Rainforest_Data1/audioset_nonbird/7feO8KCS1n8_20.000.wav\n",
      "/media/e4e/Rainforest_Data1/audioset_nonbird/7FHHtRuAz0s_20.000.wav\n",
      "/media/e4e/Rainforest_Data1/audioset_nonbird/7FT1WnwOcxA_40.000.wav\n",
      "/media/e4e/Rainforest_Data1/audioset_nonbird/7FTYb5K3uxk_22.000.wav\n",
      "/media/e4e/Rainforest_Data1/audioset_nonbird/7fVfG0DrLjI_30.000.wav\n",
      "/media/e4e/Rainforest_Data1/audioset_nonbird/7g6aZTBe2xE_30.000.wav\n",
      "/media/e4e/Rainforest_Data1/audioset_nonbird/7G8ZGuGNrw8_30.000.wav\n",
      "/media/e4e/Rainforest_Data1/audioset_nonbird/7GCUGTrsFOE_30.000.wav\n",
      "/media/e4e/Rainforest_Data1/audioset_nonbird/7gkjn-LLInI_30.000.wav\n",
      "/media/e4e/Rainforest_Data1/audioset_nonbird/7gr6ZOKZwuQ_10.000.wav\n",
      "/media/e4e/Rainforest_Data1/audioset_nonbird/7Gua0-UrKIw_30.000.wav\n",
      "/media/e4e/Rainforest_Data1/audioset_nonbird/7gWTLcqkXqs_10.000.wav\n",
      "/media/e4e/Rainforest_Data1/audioset_nonbird/7GwY2GSLjlA_30.000.wav\n",
      "/media/e4e/Rainforest_Data1/audioset_nonbird/7GZdzd_wcBg_230.000.wav\n",
      "/media/e4e/Rainforest_Data1/audioset_nonbird/7hgbxirpVh0_330.000.wav\n",
      "/media/e4e/Rainforest_Data1/audioset_nonbird/7hkBIwQkrQo_30.000.wav\n",
      "/media/e4e/Rainforest_Data1/audioset_nonbird/7ho9Ro2ElOA_140.000.wav\n",
      "/media/e4e/Rainforest_Data1/audioset_nonbird/7Hxcbujj06U_240.000.wav\n",
      "/media/e4e/Rainforest_Data1/audioset_nonbird/7J-LWKNIrP4_30.000.wav\n",
      "/media/e4e/Rainforest_Data1/audioset_nonbird/7jWRIjFaoeU_30.000.wav\n",
      "/media/e4e/Rainforest_Data1/audioset_nonbird/7k4cJLDX2mk_50.000.wav\n",
      "/media/e4e/Rainforest_Data1/audioset_nonbird/7KiTXYwaD04_7.000.wav\n",
      "/media/e4e/Rainforest_Data1/audioset_nonbird/7KkKa0Enlfg_16.000.wav\n",
      "/media/e4e/Rainforest_Data1/audioset_nonbird/7KlioS6HQLs_50.000.wav\n",
      "/media/e4e/Rainforest_Data1/audioset_nonbird/7L5ceYe0f_s_120.000.wav\n",
      "/media/e4e/Rainforest_Data1/audioset_nonbird/7lq3_nKXh0M_30.000.wav\n",
      "/media/e4e/Rainforest_Data1/audioset_nonbird/7LWqCLxcNXc_19.000.wav\n",
      "/media/e4e/Rainforest_Data1/audioset_nonbird/7Ma67n3TbwI_0.000.wav\n",
      "/media/e4e/Rainforest_Data1/audioset_nonbird/7mtYFBOmeNs_30.000.wav\n",
      "/media/e4e/Rainforest_Data1/audioset_nonbird/7MXamVgKszI_30.000.wav\n",
      "/media/e4e/Rainforest_Data1/audioset_nonbird/7N0_PkCVojc_580.000.wav\n",
      "/media/e4e/Rainforest_Data1/audioset_nonbird/7nglQSmcjAk_30.000.wav\n",
      "/media/e4e/Rainforest_Data1/audioset_nonbird/7NH1WJlSiYI_30.000.wav\n",
      "/media/e4e/Rainforest_Data1/audioset_nonbird/7nQxWCn_dBg_160.000.wav\n",
      "/media/e4e/Rainforest_Data1/audioset_nonbird/9m6_YMjxtiU_446.000.wav\n",
      "/media/e4e/Rainforest_Data1/audioset_nonbird/9M8gu4EAoaQ_380.000.wav\n",
      "/media/e4e/Rainforest_Data1/audioset_nonbird/9MiKmOtYGgE_510.000.wav\n",
      "/media/e4e/Rainforest_Data1/audioset_nonbird/9Mlw_GHFOh0_570.000.wav\n",
      "/media/e4e/Rainforest_Data1/audioset_nonbird/9nsLTLNvOSw_150.000.wav\n",
      "/media/e4e/Rainforest_Data1/audioset_nonbird/9o3v311zs7Q_510.000.wav\n",
      "/media/e4e/Rainforest_Data1/audioset_nonbird/9O55mB0-BTM_0.000.wav\n",
      "/media/e4e/Rainforest_Data1/audioset_nonbird/9OcAwC8y-eQ_30.000.wav\n",
      "/media/e4e/Rainforest_Data1/audioset_nonbird/9oeGmqm6g8E_80.000.wav\n",
      "/media/e4e/Rainforest_Data1/audioset_nonbird/9ojbyFOqc_Q_30.000.wav\n",
      "/media/e4e/Rainforest_Data1/audioset_nonbird/9oOIOed962s_30.000.wav\n",
      "/media/e4e/Rainforest_Data1/audioset_nonbird/9oWxeWgfflM_30.000.wav\n",
      "/media/e4e/Rainforest_Data1/audioset_nonbird/9p9Lg1SqJpg_110.000.wav\n",
      "/media/e4e/Rainforest_Data1/audioset_nonbird/9piLf5SXqEk_460.000.wav\n",
      "/media/e4e/Rainforest_Data1/audioset_nonbird/9PmzQI8ZYpg_30.000.wav\n",
      "/media/e4e/Rainforest_Data1/audioset_nonbird/9q2xqtfEgdo_280.000.wav\n",
      "/media/e4e/Rainforest_Data1/audioset_nonbird/9q9pzXBPGtM_30.000.wav\n",
      "/media/e4e/Rainforest_Data1/audioset_nonbird/9QjeuVkBTYk_140.000.wav\n",
      "/media/e4e/Rainforest_Data1/audioset_nonbird/9rfdrGTUUms_70.000.wav\n",
      "/media/e4e/Rainforest_Data1/audioset_nonbird/9rUsx3fuA_4_70.000.wav\n",
      "/media/e4e/Rainforest_Data1/audioset_nonbird/9rw3qz2ouRQ_290.000.wav\n",
      "/media/e4e/Rainforest_Data1/audioset_nonbird/9rYm7_RV_lo_160.000.wav\n",
      "/media/e4e/Rainforest_Data1/audioset_nonbird/9sJU5MALkgg_68.000.wav\n",
      "/media/e4e/Rainforest_Data1/audioset_nonbird/9SsBpBWsIpE_30.000.wav\n",
      "/media/e4e/Rainforest_Data1/audioset_nonbird/9StcA3Gjtgc_30.000.wav\n",
      "/media/e4e/Rainforest_Data1/audioset_nonbird/9Ti98L4PRCo_17.000.wav\n",
      "/media/e4e/Rainforest_Data1/audioset_nonbird/9TzyRdTYDvo_24.000.wav\n",
      "/media/e4e/Rainforest_Data1/audioset_nonbird/9uE695MH79A_30.000.wav\n",
      "/media/e4e/Rainforest_Data1/audioset_nonbird/9uTzThSwQ80_580.000.wav\n",
      "/media/e4e/Rainforest_Data1/audioset_nonbird/9Uwy0v4hYK4_0.000.wav\n",
      "/media/e4e/Rainforest_Data1/audioset_nonbird/7T04388Ijk8_30.000.wav\n",
      "/media/e4e/Rainforest_Data1/audioset_nonbird/7t2HZLZ1PQs_28.000.wav\n",
      "/media/e4e/Rainforest_Data1/audioset_nonbird/7tbxN_Mq8Qg_270.000.wav\n",
      "/media/e4e/Rainforest_Data1/audioset_nonbird/7tfaSPv7ccU_80.000.wav\n",
      "/media/e4e/Rainforest_Data1/audioset_nonbird/7TGF85i5nC0_10.000.wav\n",
      "/media/e4e/Rainforest_Data1/audioset_nonbird/7TkvzwbNYwU_60.000.wav\n",
      "/media/e4e/Rainforest_Data1/audioset_nonbird/7TTnUHzI8NQ_350.000.wav\n",
      "/media/e4e/Rainforest_Data1/audioset_nonbird/7u4X2wK1SlY_530.000.wav\n",
      "/media/e4e/Rainforest_Data1/audioset_nonbird/7uJZ85F8HrU_450.000.wav\n",
      "/media/e4e/Rainforest_Data1/audioset_nonbird/7uNqVJelenY_30.000.wav\n",
      "/media/e4e/Rainforest_Data1/audioset_nonbird/7UoFNdp0UYg_20.000.wav\n"
     ]
    },
    {
     "name": "stdout",
     "output_type": "stream",
     "text": [
      "/media/e4e/Rainforest_Data1/audioset_nonbird/7uRlXg1OQs4_70.000.wav\n",
      "/media/e4e/Rainforest_Data1/audioset_nonbird/7UWBbVHVHQc_30.000.wav\n",
      "/media/e4e/Rainforest_Data1/audioset_nonbird/7vQaa2QxCwc_20.000.wav\n",
      "/media/e4e/Rainforest_Data1/audioset_nonbird/7XKKkMATqgc_120.000.wav\n",
      "/media/e4e/Rainforest_Data1/audioset_nonbird/7xNpLhhPypk_20.000.wav\n",
      "/media/e4e/Rainforest_Data1/audioset_nonbird/7XOpiU_dNe0_470.000.wav\n",
      "/media/e4e/Rainforest_Data1/audioset_nonbird/7XTiQF56_lA_30.000.wav\n",
      "/media/e4e/Rainforest_Data1/audioset_nonbird/7YxSEDHwuKQ_310.000.wav\n",
      "/media/e4e/Rainforest_Data1/audioset_nonbird/7zS81_mUsK0_80.000.wav\n",
      "/media/e4e/Rainforest_Data1/audioset_nonbird/8-2A4UkCrlk_30.000.wav\n",
      "/media/e4e/Rainforest_Data1/audioset_nonbird/8-D_LgbKshE_30.000.wav\n",
      "/media/e4e/Rainforest_Data1/audioset_nonbird/8-Xl4Esvdkc_10.000.wav\n",
      "/media/e4e/Rainforest_Data1/audioset_nonbird/80nWT6sboTo_60.000.wav\n",
      "/media/e4e/Rainforest_Data1/audioset_nonbird/81btQM0UoLk_5.000.wav\n",
      "/media/e4e/Rainforest_Data1/audioset_nonbird/81v8YxRNnZc_30.000.wav\n",
      "/media/e4e/Rainforest_Data1/audioset_nonbird/82ai4ABAaRQ_150.000.wav\n",
      "/media/e4e/Rainforest_Data1/audioset_nonbird/83Ki9DGYDXM_20.000.wav\n",
      "/media/e4e/Rainforest_Data1/audioset_nonbird/83kODAKb3XY_70.000.wav\n",
      "/media/e4e/Rainforest_Data1/audioset_nonbird/83XmpVJP-YY_1.000.wav\n",
      "/media/e4e/Rainforest_Data1/audioset_nonbird/84E9i9_ELBs_30.000.wav\n",
      "/media/e4e/Rainforest_Data1/audioset_nonbird/84fDGWoRtsU_210.000.wav\n",
      "/media/e4e/Rainforest_Data1/audioset_nonbird/84flVacRHUI_21.000.wav\n",
      "/media/e4e/Rainforest_Data1/audioset_nonbird/84jS0NjXLGc_30.000.wav\n",
      "/media/e4e/Rainforest_Data1/audioset_nonbird/84vLeRd4pw0_480.000.wav\n",
      "/media/e4e/Rainforest_Data1/audioset_nonbird/9V49HCOSNrQ_40.000.wav\n",
      "/media/e4e/Rainforest_Data1/audioset_nonbird/9VE1-3q27Qg_20.000.wav\n",
      "/media/e4e/Rainforest_Data1/audioset_nonbird/9VziOIkNXsE_30.000.wav\n",
      "/media/e4e/Rainforest_Data1/audioset_nonbird/9w9j2IPMtu8_270.000.wav\n",
      "/media/e4e/Rainforest_Data1/audioset_nonbird/9wkgTdE7nz8_30.000.wav\n",
      "/media/e4e/Rainforest_Data1/audioset_nonbird/9wYmnN99riA_50.000.wav\n",
      "/media/e4e/Rainforest_Data1/audioset_nonbird/9XBiG9vs-Us_480.000.wav\n",
      "/media/e4e/Rainforest_Data1/audioset_nonbird/9xLXQP-tulE_150.000.wav\n",
      "/media/e4e/Rainforest_Data1/audioset_nonbird/9xm0YLR853E_30.000.wav\n",
      "/media/e4e/Rainforest_Data1/audioset_nonbird/9xvmNaF73fo_30.000.wav\n",
      "/media/e4e/Rainforest_Data1/audioset_nonbird/9Ycf6vsdAhk_30.000.wav\n",
      "/media/e4e/Rainforest_Data1/audioset_nonbird/9ye2Fn62xDc_60.000.wav\n",
      "/media/e4e/Rainforest_Data1/audioset_nonbird/9yZ1v9fFct8_28.000.wav\n",
      "/media/e4e/Rainforest_Data1/audioset_nonbird/9zfId46t1vM_30.000.wav\n",
      "/media/e4e/Rainforest_Data1/audioset_nonbird/9zW-E0XdWdw_160.000.wav\n",
      "/media/e4e/Rainforest_Data1/audioset_nonbird/9ZYj5toEbGA_0.000.wav\n",
      "/media/e4e/Rainforest_Data1/audioset_nonbird/a46fFNSxAXU_60.000.wav\n",
      "/media/e4e/Rainforest_Data1/audioset_nonbird/A49MX2yGR_s_110.000.wav\n",
      "/media/e4e/Rainforest_Data1/audioset_nonbird/a4dgvEncdKE_25.000.wav\n",
      "/media/e4e/Rainforest_Data1/audioset_nonbird/a4HgsaaMErU_0.000.wav\n",
      "/media/e4e/Rainforest_Data1/audioset_nonbird/a4jcJ7QZ-OQ_150.000.wav\n",
      "/media/e4e/Rainforest_Data1/audioset_nonbird/a4qJQUK3sDE_30.000.wav\n",
      "/media/e4e/Rainforest_Data1/audioset_nonbird/a59ivTlYoNk_310.000.wav\n",
      "/media/e4e/Rainforest_Data1/audioset_nonbird/a5EL5rj_058_190.000.wav\n",
      "/media/e4e/Rainforest_Data1/audioset_nonbird/A5lX7rsPIDw_300.000.wav\n",
      "/media/e4e/Rainforest_Data1/audioset_nonbird/a5vTn5286-A_80.000.wav\n",
      "/media/e4e/Rainforest_Data1/audioset_nonbird/A60nOXvCEv4_30.000.wav\n",
      "/media/e4e/Rainforest_Data1/audioset_nonbird/A66FeoLZelA_30.000.wav\n",
      "/media/e4e/Rainforest_Data1/audioset_nonbird/A68tYY9AA9Q_30.000.wav\n",
      "/media/e4e/Rainforest_Data1/audioset_nonbird/A6I3JI4vJv0_0.000.wav\n",
      "/media/e4e/Rainforest_Data1/audioset_nonbird/A6T7Pu4pL1M_30.000.wav\n",
      "/media/e4e/Rainforest_Data1/audioset_nonbird/8G9eS_GHUiY_30.000.wav\n",
      "/media/e4e/Rainforest_Data1/audioset_nonbird/8gyY5kN5IjA_30.000.wav\n",
      "/media/e4e/Rainforest_Data1/audioset_nonbird/8hatW8g_XVI_480.000.wav\n",
      "/media/e4e/Rainforest_Data1/audioset_nonbird/8HhaU-YvFq0_10.000.wav\n",
      "/media/e4e/Rainforest_Data1/audioset_nonbird/8HJcD-xKYo4_80.000.wav\n",
      "/media/e4e/Rainforest_Data1/audioset_nonbird/8hSmQpOPXJE_50.000.wav\n",
      "/media/e4e/Rainforest_Data1/audioset_nonbird/8iPHp9N_rBY_130.000.wav\n",
      "/media/e4e/Rainforest_Data1/audioset_nonbird/8ITneSmsrlU_0.000.wav\n",
      "/media/e4e/Rainforest_Data1/audioset_nonbird/8JgqLELdUkY_30.000.wav\n",
      "/media/e4e/Rainforest_Data1/audioset_nonbird/8kbHA22EWd0_330.000.wav\n",
      "/media/e4e/Rainforest_Data1/audioset_nonbird/8KLNJ8d8Vqc_30.000.wav\n",
      "/media/e4e/Rainforest_Data1/audioset_nonbird/8LqIRaKUo2M_110.000.wav\n",
      "/media/e4e/Rainforest_Data1/audioset_nonbird/8LwuZRyysMc_40.000.wav\n",
      "/media/e4e/Rainforest_Data1/audioset_nonbird/8LXFSLK3otM_10.000.wav\n",
      "/media/e4e/Rainforest_Data1/audioset_nonbird/8Mh5vlYV1IE_500.000.wav\n",
      "/media/e4e/Rainforest_Data1/audioset_nonbird/A6xkwSUGb6w_30.000.wav\n",
      "/media/e4e/Rainforest_Data1/audioset_nonbird/a70NNOiWZzg_30.000.wav\n",
      "/media/e4e/Rainforest_Data1/audioset_nonbird/A74lbeD1k1o_30.000.wav\n",
      "/media/e4e/Rainforest_Data1/audioset_nonbird/a7g3P1HGV4E_0.000.wav\n",
      "/media/e4e/Rainforest_Data1/audioset_nonbird/A7H5hYSZQkM_170.000.wav\n",
      "/media/e4e/Rainforest_Data1/audioset_nonbird/a7I-8v9uZis_0.000.wav\n",
      "/media/e4e/Rainforest_Data1/audioset_nonbird/A7j0RGqTVP4_30.000.wav\n",
      "/media/e4e/Rainforest_Data1/audioset_nonbird/A7mA5CKhl4w_180.000.wav\n",
      "/media/e4e/Rainforest_Data1/audioset_nonbird/a7WAfwKi88Q_30.000.wav\n",
      "/media/e4e/Rainforest_Data1/audioset_nonbird/A8H0c7S3z84_30.000.wav\n",
      "/media/e4e/Rainforest_Data1/audioset_nonbird/a8lTHIkElQs_40.000.wav\n",
      "/media/e4e/Rainforest_Data1/audioset_nonbird/A8o272XEOZc_30.000.wav\n",
      "/media/e4e/Rainforest_Data1/audioset_nonbird/a9iCA_YXm-Y_30.000.wav\n",
      "/media/e4e/Rainforest_Data1/audioset_nonbird/A9KMqwqLboE_30.000.wav\n",
      "/media/e4e/Rainforest_Data1/audioset_nonbird/AA0N8XMqx9s_30.000.wav\n",
      "/media/e4e/Rainforest_Data1/audioset_nonbird/AABgGgkXH94_30.000.wav\n",
      "/media/e4e/Rainforest_Data1/audioset_nonbird/AabLItDN-qk_90.000.wav\n",
      "/media/e4e/Rainforest_Data1/audioset_nonbird/AaIyiZzru1o_110.000.wav\n",
      "/media/e4e/Rainforest_Data1/audioset_nonbird/AAP5pAB-4jM_0.000.wav\n",
      "/media/e4e/Rainforest_Data1/audioset_nonbird/aB3_CIlkwzQ_40.000.wav\n",
      "/media/e4e/Rainforest_Data1/audioset_nonbird/aBbdPO4U7Cc_30.000.wav\n",
      "/media/e4e/Rainforest_Data1/audioset_nonbird/aBBlkULIznI_360.000.wav\n",
      "/media/e4e/Rainforest_Data1/audioset_nonbird/ABCUrbSmLuo_30.000.wav\n",
      "/media/e4e/Rainforest_Data1/audioset_nonbird/Abezh6k-jOM_30.000.wav\n",
      "/media/e4e/Rainforest_Data1/audioset_nonbird/AbG--Dq3t7Y_320.000.wav\n",
      "/media/e4e/Rainforest_Data1/audioset_nonbird/ABH4iCT5Iik_30.000.wav\n",
      "/media/e4e/Rainforest_Data1/audioset_nonbird/aBHdl_TiseI_30.000.wav\n",
      "/media/e4e/Rainforest_Data1/audioset_nonbird/abkHKDE-IDc_30.000.wav\n",
      "/media/e4e/Rainforest_Data1/audioset_nonbird/ABs3qGwvW-U_20.000.wav\n",
      "/media/e4e/Rainforest_Data1/audioset_nonbird/ABsCEKemTpQ_30.000.wav\n",
      "/media/e4e/Rainforest_Data1/audioset_nonbird/8v-mW43m_YI_30.000.wav\n",
      "/media/e4e/Rainforest_Data1/audioset_nonbird/8v9ggmYDE7I_220.000.wav\n",
      "/media/e4e/Rainforest_Data1/audioset_nonbird/8vasA2D2_Kc_30.000.wav\n",
      "/media/e4e/Rainforest_Data1/audioset_nonbird/8VCi0bFQ2bQ_30.000.wav\n",
      "/media/e4e/Rainforest_Data1/audioset_nonbird/8w-V_hYvxXs_160.000.wav\n",
      "/media/e4e/Rainforest_Data1/audioset_nonbird/8W82WdRBx4E_20.000.wav\n",
      "/media/e4e/Rainforest_Data1/audioset_nonbird/8Wk-ZmlsUqY_28.000.wav\n",
      "/media/e4e/Rainforest_Data1/audioset_nonbird/8WQnGWD-XJE_40.000.wav\n",
      "/media/e4e/Rainforest_Data1/audioset_nonbird/8ws1ligErwo_0.000.wav\n",
      "/media/e4e/Rainforest_Data1/audioset_nonbird/8wT5dihdt4E_260.000.wav\n",
      "/media/e4e/Rainforest_Data1/audioset_nonbird/8wYBLuA9Ddk_360.000.wav\n",
      "/media/e4e/Rainforest_Data1/audioset_nonbird/8x7Ta89QLo4_160.000.wav\n",
      "/media/e4e/Rainforest_Data1/audioset_nonbird/8XJaTBqc2Kc_110.000.wav\n",
      "/media/e4e/Rainforest_Data1/audioset_nonbird/8xoenlVVBZw_30.000.wav\n",
      "/media/e4e/Rainforest_Data1/audioset_nonbird/8yCW3Hxgj88_40.000.wav\n",
      "/media/e4e/Rainforest_Data1/audioset_nonbird/8ye1N5ffroQ_30.000.wav\n",
      "/media/e4e/Rainforest_Data1/audioset_nonbird/8Z2qdI0LlN0_11.000.wav\n",
      "/media/e4e/Rainforest_Data1/audioset_nonbird/8zcXuYEmXUE_100.000.wav\n",
      "/media/e4e/Rainforest_Data1/audioset_nonbird/8zkxGLEdFbQ_30.000.wav\n",
      "/media/e4e/Rainforest_Data1/audioset_nonbird/8ZLicrR-MTE_30.000.wav\n",
      "/media/e4e/Rainforest_Data1/audioset_nonbird/8zuOvjviOvc_170.000.wav\n"
     ]
    },
    {
     "name": "stdout",
     "output_type": "stream",
     "text": [
      "/media/e4e/Rainforest_Data1/audioset_nonbird/90Ve7L8wjTc_0.000.wav\n",
      "/media/e4e/Rainforest_Data1/audioset_nonbird/91Dzp-CQnSs_320.000.wav\n",
      "/media/e4e/Rainforest_Data1/audioset_nonbird/91vNnzSBEyg_20.000.wav\n",
      "/media/e4e/Rainforest_Data1/audioset_nonbird/92BvO3C848c_0.000.wav\n",
      "/media/e4e/Rainforest_Data1/audioset_nonbird/92k_81uqMSM_70.000.wav\n",
      "/media/e4e/Rainforest_Data1/audioset_nonbird/92WhvpMzkGY_20.000.wav\n",
      "/media/e4e/Rainforest_Data1/audioset_nonbird/966I5NCjnsg_30.000.wav\n",
      "/media/e4e/Rainforest_Data1/audioset_nonbird/96a4smrM_30_30.000.wav\n",
      "/media/e4e/Rainforest_Data1/audioset_nonbird/977gktKZYhA_30.000.wav\n",
      "/media/e4e/Rainforest_Data1/audioset_nonbird/97aoiaWwRVk_20.000.wav\n",
      "/media/e4e/Rainforest_Data1/audioset_nonbird/97I9DusMgLY_150.000.wav\n",
      "/media/e4e/Rainforest_Data1/audioset_nonbird/98zUd-1I4mU_30.000.wav\n",
      "/media/e4e/Rainforest_Data1/audioset_nonbird/99-mbUX8mJw_30.000.wav\n",
      "/media/e4e/Rainforest_Data1/audioset_nonbird/9aK2LBnTT2s_30.000.wav\n",
      "/media/e4e/Rainforest_Data1/audioset_nonbird/9AXe0XczeEs_190.000.wav\n",
      "/media/e4e/Rainforest_Data1/audioset_nonbird/AbVek_IClzU_430.000.wav\n",
      "/media/e4e/Rainforest_Data1/audioset_nonbird/aBXntqgPo6Q_40.000.wav\n",
      "/media/e4e/Rainforest_Data1/audioset_nonbird/AbXpwy6Xd_4_50.000.wav\n",
      "/media/e4e/Rainforest_Data1/audioset_nonbird/AC41T8MHStg_30.000.wav\n",
      "/media/e4e/Rainforest_Data1/audioset_nonbird/aC8bd3sac1w_30.000.wav\n",
      "/media/e4e/Rainforest_Data1/audioset_nonbird/ACGuC6SH4V4_150.000.wav\n",
      "/media/e4e/Rainforest_Data1/audioset_nonbird/AcJXSEfGGcI_30.000.wav\n",
      "/media/e4e/Rainforest_Data1/audioset_nonbird/Aclv9drugo0_50.000.wav\n",
      "/media/e4e/Rainforest_Data1/audioset_nonbird/aCt1gdSARiU_30.000.wav\n",
      "/media/e4e/Rainforest_Data1/audioset_nonbird/acvV6yYNc7Y_30.000.wav\n",
      "/media/e4e/Rainforest_Data1/audioset_nonbird/ACWNRYsyMGk_30.000.wav\n",
      "/media/e4e/Rainforest_Data1/audioset_nonbird/aCX6vJhHO2c_30.000.wav\n",
      "/media/e4e/Rainforest_Data1/audioset_nonbird/ad6lpG9Q5ZE_0.000.wav\n",
      "/media/e4e/Rainforest_Data1/audioset_nonbird/ADfGYZobXbA_50.000.wav\n",
      "/media/e4e/Rainforest_Data1/audioset_nonbird/ADgA1beJaTc_130.000.wav\n",
      "/media/e4e/Rainforest_Data1/audioset_nonbird/ADjyDcauxzM_30.000.wav\n",
      "/media/e4e/Rainforest_Data1/audioset_nonbird/ADKdn23-RYA_280.000.wav\n",
      "/media/e4e/Rainforest_Data1/audioset_nonbird/Adx8YwotoOY_150.000.wav\n",
      "/media/e4e/Rainforest_Data1/audioset_nonbird/aDxgGqd05S0_30.000.wav\n",
      "/media/e4e/Rainforest_Data1/audioset_nonbird/ADxuhHNZVCc_30.000.wav\n",
      "/media/e4e/Rainforest_Data1/audioset_nonbird/7jlAuKQov7w_170.000.wav\n",
      "/media/e4e/Rainforest_Data1/audioset_nonbird/7NRXbm31TuU_270.000.wav\n",
      "/media/e4e/Rainforest_Data1/audioset_nonbird/7S_iHrdfrvQ_30.000.wav\n",
      "/media/e4e/Rainforest_Data1/audioset_nonbird/7_Sr2zv1sQc_80.000.wav\n",
      "/media/e4e/Rainforest_Data1/audioset_nonbird/86p6UVFIcFI_30.000.wav\n",
      "/media/e4e/Rainforest_Data1/audioset_nonbird/8f_j4cLE-d4_330.000.wav\n",
      "/media/e4e/Rainforest_Data1/audioset_nonbird/8MX4uYyJWtk_360.000.wav\n",
      "/media/e4e/Rainforest_Data1/audioset_nonbird/8uq_elo2T0s_10.000.wav\n",
      "/media/e4e/Rainforest_Data1/audioset_nonbird/8_KoNRnCEPE_0.000.wav\n",
      "/media/e4e/Rainforest_Data1/audioset_nonbird/9aYWDgVmqcU_30.000.wav\n",
      "/media/e4e/Rainforest_Data1/audioset_nonbird/9DyTx0hvmqE_60.000.wav\n",
      "/media/e4e/Rainforest_Data1/audioset_nonbird/9IuFwl2AtcI_30.000.wav\n",
      "/media/e4e/Rainforest_Data1/audioset_nonbird/9lS1eC9ydMs_400.000.wav\n",
      "/media/e4e/Rainforest_Data1/audioset_nonbird/9PxjyMuZJs8_430.000.wav\n",
      "/media/e4e/Rainforest_Data1/audioset_nonbird/9UYLuL1Z1YQ_80.000.wav\n",
      "/media/e4e/Rainforest_Data1/audioset_nonbird/AGNqX_OL-dU_60.000.wav\n",
      "/media/e4e/Rainforest_Data1/audioset_nonbird/Agoupe7nOhk_190.000.wav\n",
      "/media/e4e/Rainforest_Data1/audioset_nonbird/AGqCcrX619E_60.000.wav\n",
      "/media/e4e/Rainforest_Data1/audioset_nonbird/AHm_49I6rzM_120.000.wav\n",
      "/media/e4e/Rainforest_Data1/audioset_nonbird/AHom7lBbtoY_30.000.wav\n",
      "/media/e4e/Rainforest_Data1/audioset_nonbird/AHoWincIkzc_30.000.wav\n",
      "/media/e4e/Rainforest_Data1/audioset_nonbird/AHPRhJ4u0ss_27.000.wav\n",
      "/media/e4e/Rainforest_Data1/audioset_nonbird/AIDJFkDURPY_30.000.wav\n",
      "/media/e4e/Rainforest_Data1/audioset_nonbird/AiHZ9hODcXg_450.000.wav\n",
      "/media/e4e/Rainforest_Data1/audioset_nonbird/AiLw2qlOGhY_30.000.wav\n",
      "/media/e4e/Rainforest_Data1/audioset_nonbird/AIuayXjDos8_130.000.wav\n",
      "/media/e4e/Rainforest_Data1/audioset_nonbird/AiV8hsnubyA_30.000.wav\n",
      "/media/e4e/Rainforest_Data1/audioset_nonbird/AIVt3e5EVtc_70.000.wav\n",
      "/media/e4e/Rainforest_Data1/audioset_nonbird/aIXGe5fsx7A_0.000.wav\n",
      "/media/e4e/Rainforest_Data1/audioset_nonbird/aiyBTv4PKcM_60.000.wav\n",
      "/media/e4e/Rainforest_Data1/audioset_nonbird/aj1pv3GKtZY_60.000.wav\n",
      "/media/e4e/Rainforest_Data1/audioset_nonbird/AJ2_gn8V2fo_30.000.wav\n",
      "/media/e4e/Rainforest_Data1/audioset_nonbird/AJKmKTU32_c_30.000.wav\n",
      "/media/e4e/Rainforest_Data1/audioset_nonbird/Ajl5A3YbR88_120.000.wav\n",
      "/media/e4e/Rainforest_Data1/audioset_nonbird/ajMa6azANNw_13.000.wav\n",
      "/media/e4e/Rainforest_Data1/audioset_nonbird/AjncbOBIDck_30.000.wav\n",
      "/media/e4e/Rainforest_Data1/audioset_nonbird/AJNOn6GBymE_30.000.wav\n",
      "/media/e4e/Rainforest_Data1/audioset_nonbird/AJrOCO6-4hs_130.000.wav\n",
      "/media/e4e/Rainforest_Data1/audioset_nonbird/AJx0innvZaM_30.000.wav\n",
      "/media/e4e/Rainforest_Data1/audioset_nonbird/aJzJT6w6Wio_0.000.wav\n",
      "/media/e4e/Rainforest_Data1/audioset_nonbird/AK0kZUDk294_2.000.wav\n",
      "/media/e4e/Rainforest_Data1/audioset_nonbird/ak45lKmvYHc_220.000.wav\n",
      "/media/e4e/Rainforest_Data1/audioset_nonbird/Ak5z3u-g1RI_30.000.wav\n",
      "/media/e4e/Rainforest_Data1/audioset_nonbird/AkAdDFHQars_30.000.wav\n",
      "/media/e4e/Rainforest_Data1/audioset_nonbird/AKdT8WAIGmk_30.000.wav\n",
      "/media/e4e/Rainforest_Data1/audioset_nonbird/AkEfnF6zVxc_220.000.wav\n",
      "/media/e4e/Rainforest_Data1/audioset_nonbird/aKFVZu_4Lq4_30.000.wav\n",
      "/media/e4e/Rainforest_Data1/audioset_nonbird/akgqVmFFDiY_30.000.wav\n",
      "/media/e4e/Rainforest_Data1/audioset_nonbird/AKI0VrXEDww_190.000.wav\n",
      "/media/e4e/Rainforest_Data1/audioset_nonbird/akjMGNYTAdA_30.000.wav\n",
      "/media/e4e/Rainforest_Data1/audioset_nonbird/AKkJyVmEQrc_20.000.wav\n",
      "/media/e4e/Rainforest_Data1/audioset_nonbird/AkUDv7JexjQ_520.000.wav\n",
      "/media/e4e/Rainforest_Data1/audioset_nonbird/aKUz6xLcwZw_50.000.wav\n",
      "/media/e4e/Rainforest_Data1/audioset_nonbird/AKViLhvFJhk_30.000.wav\n",
      "/media/e4e/Rainforest_Data1/audioset_nonbird/AKxHQn994OI_140.000.wav\n",
      "/media/e4e/Rainforest_Data1/audioset_nonbird/AL-dutJvx0s_30.000.wav\n",
      "/media/e4e/Rainforest_Data1/audioset_nonbird/aQyyRCDX1XA_30.000.wav\n",
      "/media/e4e/Rainforest_Data1/audioset_nonbird/Ar5r0pzgaRU_30.000.wav\n",
      "/media/e4e/Rainforest_Data1/audioset_nonbird/Ar6i_U3gisg_190.000.wav\n",
      "/media/e4e/Rainforest_Data1/audioset_nonbird/ARfWAetq5XE_10.000.wav\n",
      "/media/e4e/Rainforest_Data1/audioset_nonbird/arkgpTGrhz8_130.000.wav\n",
      "/media/e4e/Rainforest_Data1/audioset_nonbird/ARl2M8Zfg6k_30.000.wav\n",
      "/media/e4e/Rainforest_Data1/audioset_nonbird/ArmIysvGUyk_20.000.wav\n",
      "/media/e4e/Rainforest_Data1/audioset_nonbird/Arp482w8r_s_30.000.wav\n",
      "/media/e4e/Rainforest_Data1/audioset_nonbird/arQk5cecT_k_30.000.wav\n",
      "/media/e4e/Rainforest_Data1/audioset_nonbird/Arv2C36Jhfk_60.000.wav\n",
      "/media/e4e/Rainforest_Data1/audioset_nonbird/aRXH3wsZTjk_0.000.wav\n",
      "/media/e4e/Rainforest_Data1/audioset_nonbird/AS0PySOANPo_130.000.wav\n",
      "/media/e4e/Rainforest_Data1/audioset_nonbird/As1qH-6EF4I_30.000.wav\n",
      "/media/e4e/Rainforest_Data1/audioset_nonbird/aS4pa9XV7yA_30.000.wav\n",
      "/media/e4e/Rainforest_Data1/audioset_nonbird/asAEqbDmGzo_420.000.wav\n",
      "/media/e4e/Rainforest_Data1/audioset_nonbird/AsghD21CFr4_30.000.wav\n",
      "/media/e4e/Rainforest_Data1/audioset_nonbird/aSKL1yylync_270.000.wav\n",
      "/media/e4e/Rainforest_Data1/audioset_nonbird/aSx7vaSqFXs_180.000.wav\n",
      "/media/e4e/Rainforest_Data1/audioset_nonbird/At3hmrH23NI_400.000.wav\n",
      "/media/e4e/Rainforest_Data1/audioset_nonbird/AT5uw2HpDOg_30.000.wav\n",
      "/media/e4e/Rainforest_Data1/audioset_nonbird/At5v5ZZQHmw_30.000.wav\n",
      "/media/e4e/Rainforest_Data1/audioset_nonbird/AtjcXV7VchY_30.000.wav\n",
      "/media/e4e/Rainforest_Data1/audioset_nonbird/Atrj65qRrBo_200.000.wav\n",
      "/media/e4e/Rainforest_Data1/audioset_nonbird/auC_LgwFF8g_30.000.wav\n",
      "/media/e4e/Rainforest_Data1/audioset_nonbird/AUdO2Y4JWaY_30.000.wav\n",
      "/media/e4e/Rainforest_Data1/audioset_nonbird/AuLA8lxJKRg_30.000.wav\n",
      "/media/e4e/Rainforest_Data1/audioset_nonbird/AUoXXvgkkd0_30.000.wav\n",
      "/media/e4e/Rainforest_Data1/audioset_nonbird/aUvCj81_Sys_40.000.wav\n",
      "/media/e4e/Rainforest_Data1/audioset_nonbird/AUXS8zwFV0k_30.000.wav\n",
      "/media/e4e/Rainforest_Data1/audioset_nonbird/AU_zMd4gZOA_30.000.wav\n"
     ]
    },
    {
     "name": "stdout",
     "output_type": "stream",
     "text": [
      "/media/e4e/Rainforest_Data1/audioset_nonbird/avcRRcIRnbY_30.000.wav\n",
      "/media/e4e/Rainforest_Data1/audioset_nonbird/AvEJZqK2G1A_30.000.wav\n",
      "/media/e4e/Rainforest_Data1/audioset_nonbird/avfNGRfjAjo_40.000.wav\n",
      "/media/e4e/Rainforest_Data1/audioset_nonbird/AvhBRiwWJU4_30.000.wav\n",
      "/media/e4e/Rainforest_Data1/audioset_nonbird/AVL7Kbpw13U_130.000.wav\n",
      "/media/e4e/Rainforest_Data1/audioset_nonbird/AVmJF1uaRuE_30.000.wav\n",
      "/media/e4e/Rainforest_Data1/audioset_nonbird/AvVFDfdKGhY_0.000.wav\n",
      "/media/e4e/Rainforest_Data1/audioset_nonbird/aW3DY8XDrmw_22.000.wav\n",
      "/media/e4e/Rainforest_Data1/audioset_nonbird/AW5bJHRY30A_30.000.wav\n",
      "/media/e4e/Rainforest_Data1/audioset_nonbird/AW7QOxVqTPE_30.000.wav\n",
      "/media/e4e/Rainforest_Data1/audioset_nonbird/aW9PDD_Eb7s_240.000.wav\n",
      "/media/e4e/Rainforest_Data1/audioset_nonbird/aWaMcq7HuKw_0.000.wav\n",
      "/media/e4e/Rainforest_Data1/audioset_nonbird/AWaqF8SLo0A_250.000.wav\n",
      "/media/e4e/Rainforest_Data1/audioset_nonbird/aWdLkDo5GlY_80.000.wav\n",
      "/media/e4e/Rainforest_Data1/audioset_nonbird/AwJ8orGuOXg_0.000.wav\n",
      "/media/e4e/Rainforest_Data1/audioset_nonbird/Awmx8XlgcaE_40.000.wav\n",
      "/media/e4e/Rainforest_Data1/audioset_nonbird/awoCnJ473jM_30.000.wav\n",
      "/media/e4e/Rainforest_Data1/audioset_nonbird/awTVK3Q4ygs_0.000.wav\n",
      "/media/e4e/Rainforest_Data1/audioset_nonbird/AWynHWLA31g_25.000.wav\n",
      "/media/e4e/Rainforest_Data1/audioset_nonbird/aWzHvxPoWdo_220.000.wav\n",
      "/media/e4e/Rainforest_Data1/audioset_nonbird/AwZrv_S86R4_30.000.wav\n",
      "/media/e4e/Rainforest_Data1/audioset_nonbird/aXaC8DTLKYU_190.000.wav\n",
      "/media/e4e/Rainforest_Data1/audioset_nonbird/AxAtUuHEg_c_30.000.wav\n",
      "/media/e4e/Rainforest_Data1/audioset_nonbird/axBqV0ccuHI_30.000.wav\n",
      "/media/e4e/Rainforest_Data1/audioset_nonbird/aXgGLSqyyYs_40.000.wav\n",
      "/media/e4e/Rainforest_Data1/audioset_nonbird/AxJI24BcHxs_16.000.wav\n",
      "/media/e4e/Rainforest_Data1/audioset_nonbird/AxM2BofYfPY_30.000.wav\n",
      "/media/e4e/Rainforest_Data1/audioset_nonbird/axnod76rCBg_10.000.wav\n",
      "/media/e4e/Rainforest_Data1/audioset_nonbird/aXt_de2-HBE_590.000.wav\n",
      "/media/e4e/Rainforest_Data1/audioset_nonbird/AxyBxbGF-Qg_40.000.wav\n",
      "/media/e4e/Rainforest_Data1/audioset_nonbird/b6silFrtOJQ_30.000.wav\n",
      "/media/e4e/Rainforest_Data1/audioset_nonbird/b6WMJMU_m90_480.000.wav\n",
      "/media/e4e/Rainforest_Data1/audioset_nonbird/b8vONiPGMl8_0.000.wav\n",
      "/media/e4e/Rainforest_Data1/audioset_nonbird/b93GiuJ3KpY_30.000.wav\n",
      "/media/e4e/Rainforest_Data1/audioset_nonbird/B9j8-Cf1ZW8_110.000.wav\n",
      "/media/e4e/Rainforest_Data1/audioset_nonbird/B9p1c_XCqE4_150.000.wav\n",
      "/media/e4e/Rainforest_Data1/audioset_nonbird/B9ue-jL3RFs_30.000.wav\n",
      "/media/e4e/Rainforest_Data1/audioset_nonbird/ba3QPheW8mI_170.000.wav\n",
      "/media/e4e/Rainforest_Data1/audioset_nonbird/ba43-gH05H4_40.000.wav\n",
      "/media/e4e/Rainforest_Data1/audioset_nonbird/bA8idGxNUkQ_26.000.wav\n",
      "/media/e4e/Rainforest_Data1/audioset_nonbird/BAcOXGA5Na8_30.000.wav\n",
      "/media/e4e/Rainforest_Data1/audioset_nonbird/BAekfGvUtFM_30.000.wav\n",
      "/media/e4e/Rainforest_Data1/audioset_nonbird/BaMThaDkWk4_30.000.wav\n",
      "/media/e4e/Rainforest_Data1/audioset_nonbird/bAu5ONLjR5Q_30.000.wav\n",
      "/media/e4e/Rainforest_Data1/audioset_nonbird/BAyIKuqSSsY_30.000.wav\n",
      "/media/e4e/Rainforest_Data1/audioset_nonbird/9_L9CXHPd9M_100.000.wav\n",
      "/media/e4e/Rainforest_Data1/audioset_nonbird/9_rQrzfoKGU_30.000.wav\n",
      "/media/e4e/Rainforest_Data1/audioset_nonbird/a-NddvpUTi8_8.000.wav\n",
      "/media/e4e/Rainforest_Data1/audioset_nonbird/A-oSBMP-Zy4_30.000.wav\n",
      "/media/e4e/Rainforest_Data1/audioset_nonbird/a-RitCsJEJw_10.000.wav\n",
      "/media/e4e/Rainforest_Data1/audioset_nonbird/a0fymQ8ppG0_150.000.wav\n",
      "/media/e4e/Rainforest_Data1/audioset_nonbird/A0J_487VquE_30.000.wav\n",
      "/media/e4e/Rainforest_Data1/audioset_nonbird/a18gR7Jc7s4_440.000.wav\n",
      "/media/e4e/Rainforest_Data1/audioset_nonbird/a1tG1JLWeVY_14.000.wav\n",
      "/media/e4e/Rainforest_Data1/audioset_nonbird/A1TNpj9hHW0_30.000.wav\n",
      "/media/e4e/Rainforest_Data1/audioset_nonbird/a2Iik1XpkDk_25.000.wav\n",
      "/media/e4e/Rainforest_Data1/audioset_nonbird/A3a5-aOyIJk_30.000.wav\n",
      "/media/e4e/Rainforest_Data1/audioset_nonbird/a3jZ7QBDhgc_30.000.wav\n",
      "/media/e4e/Rainforest_Data1/audioset_nonbird/a3MzdAVL46E_470.000.wav\n",
      "/media/e4e/Rainforest_Data1/audioset_nonbird/A3wWsW2Jzvo_30.000.wav\n",
      "/media/e4e/Rainforest_Data1/audioset_nonbird/BBE88kG16j8_30.000.wav\n",
      "/media/e4e/Rainforest_Data1/audioset_nonbird/BbedVdUH4LA_30.000.wav\n",
      "/media/e4e/Rainforest_Data1/audioset_nonbird/BBnKoKbaa3M_190.000.wav\n",
      "/media/e4e/Rainforest_Data1/audioset_nonbird/bbO-1C_BP_k_10.000.wav\n",
      "/media/e4e/Rainforest_Data1/audioset_nonbird/BbWdsbZ9TsM_130.000.wav\n",
      "/media/e4e/Rainforest_Data1/audioset_nonbird/bCfXb8jtAsg_200.000.wav\n",
      "/media/e4e/Rainforest_Data1/audioset_nonbird/BCkQB86s3Uw_30.000.wav\n",
      "/media/e4e/Rainforest_Data1/audioset_nonbird/bCLn9M_HQj0_40.000.wav\n",
      "/media/e4e/Rainforest_Data1/audioset_nonbird/bcLzhglqLu0_20.000.wav\n",
      "/media/e4e/Rainforest_Data1/audioset_nonbird/Bcrh-fR3XJk_30.000.wav\n",
      "/media/e4e/Rainforest_Data1/audioset_nonbird/bcv2AR3btaE_270.000.wav\n",
      "/media/e4e/Rainforest_Data1/audioset_nonbird/BCvT_bkoAkE_30.000.wav\n",
      "/media/e4e/Rainforest_Data1/audioset_nonbird/Bcvy6c6-AHw_30.000.wav\n",
      "/media/e4e/Rainforest_Data1/audioset_nonbird/BDCa5Q1hGug_0.000.wav\n",
      "/media/e4e/Rainforest_Data1/audioset_nonbird/BDGxPfRUpR0_180.000.wav\n",
      "/media/e4e/Rainforest_Data1/audioset_nonbird/Be324oaAItU_30.000.wav\n",
      "/media/e4e/Rainforest_Data1/audioset_nonbird/Be61A67ltP4_80.000.wav\n",
      "/media/e4e/Rainforest_Data1/audioset_nonbird/BeDIckb14z0_30.000.wav\n",
      "/media/e4e/Rainforest_Data1/audioset_nonbird/bEsCE_KoWQA_30.000.wav\n",
      "/media/e4e/Rainforest_Data1/audioset_nonbird/BETa92ALukA_0.000.wav\n",
      "/media/e4e/Rainforest_Data1/audioset_nonbird/betIn2CIoDw_0.000.wav\n",
      "/media/e4e/Rainforest_Data1/audioset_nonbird/bevjTw1a3L8_30.000.wav\n",
      "/media/e4e/Rainforest_Data1/audioset_nonbird/beZ8aWBs3P0_40.000.wav\n",
      "/media/e4e/Rainforest_Data1/audioset_nonbird/Bf2m1sXaXk4_10.000.wav\n",
      "/media/e4e/Rainforest_Data1/audioset_nonbird/BfBGiwJfhyM_50.000.wav\n",
      "/media/e4e/Rainforest_Data1/audioset_nonbird/BfQ3-G4gjlM_30.000.wav\n",
      "/media/e4e/Rainforest_Data1/audioset_nonbird/BFqHyCoypfM_16.000.wav\n",
      "/media/e4e/Rainforest_Data1/audioset_nonbird/BfTn7dwunFY_110.000.wav\n",
      "/media/e4e/Rainforest_Data1/audioset_nonbird/Bg1PHH0bRVI_90.000.wav\n",
      "/media/e4e/Rainforest_Data1/audioset_nonbird/Bg7-uVNQ8to_30.000.wav\n",
      "/media/e4e/Rainforest_Data1/audioset_nonbird/brfKKehFtmw_30.000.wav\n",
      "/media/e4e/Rainforest_Data1/audioset_nonbird/BRhvg3c0Jq4_30.000.wav\n",
      "/media/e4e/Rainforest_Data1/audioset_nonbird/brLNDkRpS54_0.000.wav\n",
      "/media/e4e/Rainforest_Data1/audioset_nonbird/BRxLCDd3hPc_490.000.wav\n",
      "/media/e4e/Rainforest_Data1/audioset_nonbird/BS1fqEDAvh0_330.000.wav\n",
      "/media/e4e/Rainforest_Data1/audioset_nonbird/BsB01z1_MIs_30.000.wav\n",
      "/media/e4e/Rainforest_Data1/audioset_nonbird/bsHlyV39TG4_0.000.wav\n",
      "/media/e4e/Rainforest_Data1/audioset_nonbird/bSxca8xb-Fs_10.000.wav\n",
      "/media/e4e/Rainforest_Data1/audioset_nonbird/BsYFCAuPjwE_30.000.wav\n",
      "/media/e4e/Rainforest_Data1/audioset_nonbird/bt6HajgJ9Ls_420.000.wav\n",
      "/media/e4e/Rainforest_Data1/audioset_nonbird/BTNz6NftP34_30.000.wav\n",
      "/media/e4e/Rainforest_Data1/audioset_nonbird/BtxOD0uTlWc_160.000.wav\n",
      "/media/e4e/Rainforest_Data1/audioset_nonbird/Btzx6gXrQx8_30.000.wav\n",
      "/media/e4e/Rainforest_Data1/audioset_nonbird/buiGf1NtOz0_30.000.wav\n",
      "/media/e4e/Rainforest_Data1/audioset_nonbird/BuIMVqz85uk_30.000.wav\n",
      "/media/e4e/Rainforest_Data1/audioset_nonbird/buLfCXuwIaw_240.000.wav\n",
      "/media/e4e/Rainforest_Data1/audioset_nonbird/BUSFTmkQTvw_30.000.wav\n",
      "/media/e4e/Rainforest_Data1/audioset_nonbird/bUZQeCVNzKc_140.000.wav\n",
      "/media/e4e/Rainforest_Data1/audioset_nonbird/BUzsQ6WohH4_30.000.wav\n",
      "/media/e4e/Rainforest_Data1/audioset_nonbird/bV8qnp-Vos8_330.000.wav\n",
      "/media/e4e/Rainforest_Data1/audioset_nonbird/BVa9xfU-s6w_30.000.wav\n",
      "/media/e4e/Rainforest_Data1/audioset_nonbird/BvBzP0VHdXI_30.000.wav\n",
      "/media/e4e/Rainforest_Data1/audioset_nonbird/bvDg9YVA7U8_230.000.wav\n",
      "/media/e4e/Rainforest_Data1/audioset_nonbird/BvjaNZKOYiU_30.000.wav\n",
      "/media/e4e/Rainforest_Data1/audioset_nonbird/BvtZGHZbC1c_50.000.wav\n",
      "/media/e4e/Rainforest_Data1/audioset_nonbird/bvuUz9Z4BaE_6.000.wav\n",
      "/media/e4e/Rainforest_Data1/audioset_nonbird/bWaNlcXuGmI_270.000.wav\n",
      "/media/e4e/Rainforest_Data1/audioset_nonbird/bwHPVG6vbNQ_20.000.wav\n",
      "/media/e4e/Rainforest_Data1/audioset_nonbird/BWVFAQXNpic_30.000.wav\n",
      "/media/e4e/Rainforest_Data1/audioset_nonbird/Bwxum4q7nA4_370.000.wav\n",
      "/media/e4e/Rainforest_Data1/audioset_nonbird/Bx726MYz6Uo_30.000.wav\n"
     ]
    },
    {
     "name": "stdout",
     "output_type": "stream",
     "text": [
      "/media/e4e/Rainforest_Data1/audioset_nonbird/bx7dXl-Y_SE_390.000.wav\n",
      "/media/e4e/Rainforest_Data1/audioset_nonbird/bx8qJpeAok8_22.000.wav\n",
      "/media/e4e/Rainforest_Data1/audioset_nonbird/BXbDldBfcl4_30.000.wav\n",
      "/media/e4e/Rainforest_Data1/audioset_nonbird/Bxkt2vx9EOQ_240.000.wav\n",
      "/media/e4e/Rainforest_Data1/audioset_nonbird/BxnLAGsByCI_10.000.wav\n",
      "/media/e4e/Rainforest_Data1/audioset_nonbird/bXtS2woenCY_0.000.wav\n",
      "/media/e4e/Rainforest_Data1/audioset_nonbird/bY1f3qXSZa0_510.000.wav\n",
      "/media/e4e/Rainforest_Data1/audioset_nonbird/ByacfcUJSYA_30.000.wav\n",
      "/media/e4e/Rainforest_Data1/audioset_nonbird/BYBRY2mupcc_30.000.wav\n",
      "/media/e4e/Rainforest_Data1/audioset_nonbird/BymkWsAcLR4_0.000.wav\n",
      "/media/e4e/Rainforest_Data1/audioset_nonbird/Byndzwec79o_30.000.wav\n",
      "/media/e4e/Rainforest_Data1/audioset_nonbird/ByNI_BUprIU_40.000.wav\n",
      "/media/e4e/Rainforest_Data1/audioset_nonbird/bYnO0qJZ_XA_240.000.wav\n",
      "/media/e4e/Rainforest_Data1/audioset_nonbird/bYwoYjbPm-I_30.000.wav\n",
      "/media/e4e/Rainforest_Data1/audioset_nonbird/bZadyuv2utE_80.000.wav\n",
      "/media/e4e/Rainforest_Data1/audioset_nonbird/BzQw9qtl32o_10.000.wav\n",
      "/media/e4e/Rainforest_Data1/audioset_nonbird/Bzr_Akg7WJ0_30.000.wav\n",
      "/media/e4e/Rainforest_Data1/audioset_nonbird/BZS9-bQJDoo_100.000.wav\n",
      "/media/e4e/Rainforest_Data1/audioset_nonbird/BZU01hhyVKs_480.000.wav\n",
      "/media/e4e/Rainforest_Data1/audioset_nonbird/bZuXMxR2S4U_40.000.wav\n",
      "/media/e4e/Rainforest_Data1/audioset_nonbird/bZw3W8YOk54_30.000.wav\n",
      "/media/e4e/Rainforest_Data1/audioset_nonbird/AEA7rHzk2V8_30.000.wav\n",
      "/media/e4e/Rainforest_Data1/audioset_nonbird/AedlWfHafgw_21.000.wav\n",
      "/media/e4e/Rainforest_Data1/audioset_nonbird/AeDNy6Ff7VE_30.000.wav\n",
      "/media/e4e/Rainforest_Data1/audioset_nonbird/AeFH_7umjh0_30.000.wav\n",
      "/media/e4e/Rainforest_Data1/audioset_nonbird/AElgGuUSSKE_30.000.wav\n",
      "/media/e4e/Rainforest_Data1/audioset_nonbird/AERuSJe-Ais_11.000.wav\n",
      "/media/e4e/Rainforest_Data1/audioset_nonbird/aESAKt3teu0_30.000.wav\n",
      "/media/e4e/Rainforest_Data1/audioset_nonbird/AEUe6uKxTv8_30.000.wav\n",
      "/media/e4e/Rainforest_Data1/audioset_nonbird/aEvzwCZFeJ0_30.000.wav\n",
      "/media/e4e/Rainforest_Data1/audioset_nonbird/AF0CtMb81t8_30.000.wav\n",
      "/media/e4e/Rainforest_Data1/audioset_nonbird/Af4OOFNWp2Q_0.000.wav\n",
      "/media/e4e/Rainforest_Data1/audioset_nonbird/Afe4krYpJs4_370.000.wav\n",
      "/media/e4e/Rainforest_Data1/audioset_nonbird/AFGcqc-gfiw_30.000.wav\n",
      "/media/e4e/Rainforest_Data1/audioset_nonbird/AfGGAC3vPJI_30.000.wav\n",
      "/media/e4e/Rainforest_Data1/audioset_nonbird/AFJN5sQt1ec_30.000.wav\n",
      "/media/e4e/Rainforest_Data1/audioset_nonbird/afnR1C7HTh8_30.000.wav\n",
      "/media/e4e/Rainforest_Data1/audioset_nonbird/afsW2VeCfak_10.000.wav\n",
      "/media/e4e/Rainforest_Data1/audioset_nonbird/AFsX8-IXV-0_30.000.wav\n",
      "/media/e4e/Rainforest_Data1/audioset_nonbird/AFwgR9v62DY_30.000.wav\n",
      "/media/e4e/Rainforest_Data1/audioset_nonbird/AFwtBviVhhM_30.000.wav\n",
      "/media/e4e/Rainforest_Data1/audioset_nonbird/AFz5TIs_Gug_30.000.wav\n",
      "/media/e4e/Rainforest_Data1/audioset_nonbird/AG105FogvfY_400.000.wav\n",
      "/media/e4e/Rainforest_Data1/audioset_nonbird/aG5AePYS13k_20.000.wav\n",
      "/media/e4e/Rainforest_Data1/audioset_nonbird/AG7Zm7D4JIE_30.000.wav\n",
      "/media/e4e/Rainforest_Data1/audioset_nonbird/C4tnmwJ_CzY_60.000.wav\n",
      "/media/e4e/Rainforest_Data1/audioset_nonbird/c4WHl22izOQ_530.000.wav\n",
      "/media/e4e/Rainforest_Data1/audioset_nonbird/c5D90N1qrD0_30.000.wav\n",
      "/media/e4e/Rainforest_Data1/audioset_nonbird/c5enYUVx-hw_100.000.wav\n",
      "/media/e4e/Rainforest_Data1/audioset_nonbird/c5Il2Mx1Wrw_280.000.wav\n",
      "/media/e4e/Rainforest_Data1/audioset_nonbird/C607Hi51zxg_0.000.wav\n",
      "/media/e4e/Rainforest_Data1/audioset_nonbird/c6wCaNMJwQM_100.000.wav\n",
      "/media/e4e/Rainforest_Data1/audioset_nonbird/c75UVr7GiNI_590.000.wav\n",
      "/media/e4e/Rainforest_Data1/audioset_nonbird/C7kV6y4PQeI_30.000.wav\n",
      "/media/e4e/Rainforest_Data1/audioset_nonbird/c7ooSwFdKSU_30.000.wav\n",
      "/media/e4e/Rainforest_Data1/audioset_nonbird/c8FxPxMeZ_Q_80.000.wav\n",
      "/media/e4e/Rainforest_Data1/audioset_nonbird/c8j3tDbIeuk_30.000.wav\n",
      "/media/e4e/Rainforest_Data1/audioset_nonbird/C8VECv8kicU_180.000.wav\n",
      "/media/e4e/Rainforest_Data1/audioset_nonbird/c8ya3LwNjWQ_140.000.wav\n",
      "/media/e4e/Rainforest_Data1/audioset_nonbird/c8ZoJu_3XPI_110.000.wav\n",
      "/media/e4e/Rainforest_Data1/audioset_nonbird/C9iQP_ex7zE_30.000.wav\n",
      "/media/e4e/Rainforest_Data1/audioset_nonbird/C9PIV4pBPic_30.000.wav\n",
      "/media/e4e/Rainforest_Data1/audioset_nonbird/ca-rGWC4xPc_30.000.wav\n",
      "/media/e4e/Rainforest_Data1/audioset_nonbird/A458iJLZGvg_80.000.wav\n",
      "/media/e4e/Rainforest_Data1/audioset_nonbird/A6TdlZiEF6U_0.000.wav\n",
      "/media/e4e/Rainforest_Data1/audioset_nonbird/aAbdei_9yNE_22.000.wav\n",
      "/media/e4e/Rainforest_Data1/audioset_nonbird/ABUQP_h7RTI_340.000.wav\n",
      "/media/e4e/Rainforest_Data1/audioset_nonbird/aD_CFBDRdUw_520.000.wav\n",
      "/media/e4e/Rainforest_Data1/audioset_nonbird/AE_0-t-I50g_0.000.wav\n",
      "/media/e4e/Rainforest_Data1/audioset_nonbird/AGA3hiGZJCo_0.000.wav\n",
      "/media/e4e/Rainforest_Data1/audioset_nonbird/AIz2rceSCtQ_30.000.wav\n",
      "/media/e4e/Rainforest_Data1/audioset_nonbird/cPDzVwZ4Wpw_300.000.wav\n",
      "/media/e4e/Rainforest_Data1/audioset_nonbird/cpGLTc_21MA_320.000.wav\n",
      "/media/e4e/Rainforest_Data1/audioset_nonbird/CPKq9sDIs2M_80.000.wav\n",
      "/media/e4e/Rainforest_Data1/audioset_nonbird/CpqX_eohHsU_150.000.wav\n",
      "/media/e4e/Rainforest_Data1/audioset_nonbird/CPRhbA4owRw_150.000.wav\n",
      "/media/e4e/Rainforest_Data1/audioset_nonbird/cpVfhI_CTto_590.000.wav\n",
      "/media/e4e/Rainforest_Data1/audioset_nonbird/Cpwy_3wUjSc_330.000.wav\n",
      "/media/e4e/Rainforest_Data1/audioset_nonbird/cq1_zcY_DuQ_30.000.wav\n",
      "/media/e4e/Rainforest_Data1/audioset_nonbird/CQ7GRM1GQYs_30.000.wav\n",
      "/media/e4e/Rainforest_Data1/audioset_nonbird/CqAFWc1jWCQ_30.000.wav\n",
      "/media/e4e/Rainforest_Data1/audioset_nonbird/CQGQV-JxPoI_30.000.wav\n",
      "/media/e4e/Rainforest_Data1/audioset_nonbird/cQiVY6w90_8_260.000.wav\n",
      "/media/e4e/Rainforest_Data1/audioset_nonbird/CQOWZGxQ4zw_40.000.wav\n",
      "/media/e4e/Rainforest_Data1/audioset_nonbird/CQTUoapmD_s_30.000.wav\n",
      "/media/e4e/Rainforest_Data1/audioset_nonbird/CrCsfXn48q0_230.000.wav\n",
      "/media/e4e/Rainforest_Data1/audioset_nonbird/cReLETAjLHI_30.000.wav\n",
      "/media/e4e/Rainforest_Data1/audioset_nonbird/crN2BK2COR0_10.000.wav\n",
      "/media/e4e/Rainforest_Data1/audioset_nonbird/CrQnxJFGemM_70.000.wav\n",
      "/media/e4e/Rainforest_Data1/audioset_nonbird/CrrBlYphsdU_190.000.wav\n",
      "/media/e4e/Rainforest_Data1/audioset_nonbird/crS5cwurdfY_160.000.wav\n",
      "/media/e4e/Rainforest_Data1/audioset_nonbird/crZub_3qeEw_300.000.wav\n",
      "/media/e4e/Rainforest_Data1/audioset_nonbird/CSCvisy9SmA_500.000.wav\n",
      "/media/e4e/Rainforest_Data1/audioset_nonbird/CSEqIdBIXAY_30.000.wav\n",
      "/media/e4e/Rainforest_Data1/audioset_nonbird/CskYGpg14bQ_30.000.wav\n",
      "/media/e4e/Rainforest_Data1/audioset_nonbird/CSl8sCaZBrs_10.000.wav\n",
      "/media/e4e/Rainforest_Data1/audioset_nonbird/CSw6eakeSbI_80.000.wav\n",
      "/media/e4e/Rainforest_Data1/audioset_nonbird/CuS-ok0xG9g_0.000.wav\n",
      "/media/e4e/Rainforest_Data1/audioset_nonbird/CuW5g2Gf-U8_30.000.wav\n",
      "/media/e4e/Rainforest_Data1/audioset_nonbird/cVgw01vB-yQ_0.000.wav\n",
      "/media/e4e/Rainforest_Data1/audioset_nonbird/CVJcVPvjUJo_110.000.wav\n",
      "/media/e4e/Rainforest_Data1/audioset_nonbird/cVmGCbErSyw_30.000.wav\n",
      "/media/e4e/Rainforest_Data1/audioset_nonbird/CvnFpsHV_HY_20.000.wav\n",
      "/media/e4e/Rainforest_Data1/audioset_nonbird/CVVxdfUG-yg_0.000.wav\n",
      "/media/e4e/Rainforest_Data1/audioset_nonbird/Cvwyf4tOrqc_30.000.wav\n",
      "/media/e4e/Rainforest_Data1/audioset_nonbird/CvxmI5iWBsM_27.000.wav\n",
      "/media/e4e/Rainforest_Data1/audioset_nonbird/CvZmBlCY-a8_180.000.wav\n",
      "/media/e4e/Rainforest_Data1/audioset_nonbird/Cw7YZ8zayH8_30.000.wav\n",
      "/media/e4e/Rainforest_Data1/audioset_nonbird/Cwbtn_h6TP8_260.000.wav\n",
      "/media/e4e/Rainforest_Data1/audioset_nonbird/cwl47x100hc_11.000.wav\n",
      "/media/e4e/Rainforest_Data1/audioset_nonbird/CwxN2HuWqzM_30.000.wav\n",
      "/media/e4e/Rainforest_Data1/audioset_nonbird/CWY1Y5hjfpo_30.000.wav\n",
      "/media/e4e/Rainforest_Data1/audioset_nonbird/AL9giWwCO0I_30.000.wav\n",
      "/media/e4e/Rainforest_Data1/audioset_nonbird/aLEn8qj_XKk_50.000.wav\n",
      "/media/e4e/Rainforest_Data1/audioset_nonbird/AlhgZaR30A0_30.000.wav\n",
      "/media/e4e/Rainforest_Data1/audioset_nonbird/aLI2-yorP5c_280.000.wav\n",
      "/media/e4e/Rainforest_Data1/audioset_nonbird/AlizFhTq8io_70.000.wav\n",
      "/media/e4e/Rainforest_Data1/audioset_nonbird/Alj6G_oFY4E_25.000.wav\n",
      "/media/e4e/Rainforest_Data1/audioset_nonbird/AlPu_yxLT2g_230.000.wav\n",
      "/media/e4e/Rainforest_Data1/audioset_nonbird/AlsDSDTiaWI_30.000.wav\n",
      "/media/e4e/Rainforest_Data1/audioset_nonbird/AmC1pCa1GfE_40.000.wav\n"
     ]
    },
    {
     "name": "stdout",
     "output_type": "stream",
     "text": [
      "/media/e4e/Rainforest_Data1/audioset_nonbird/Amd-OLa3tMI_30.000.wav\n",
      "/media/e4e/Rainforest_Data1/audioset_nonbird/AmDDp-cCo24_0.000.wav\n",
      "/media/e4e/Rainforest_Data1/audioset_nonbird/AMfWo0DTsEM_30.000.wav\n",
      "/media/e4e/Rainforest_Data1/audioset_nonbird/amKDjVcs1Vg_30.000.wav\n",
      "/media/e4e/Rainforest_Data1/audioset_nonbird/aMkIMbCCyYU_140.000.wav\n",
      "/media/e4e/Rainforest_Data1/audioset_nonbird/AMLJZImQ5Xk_30.000.wav\n",
      "/media/e4e/Rainforest_Data1/audioset_nonbird/amniAzV2-jM_30.000.wav\n",
      "/media/e4e/Rainforest_Data1/audioset_nonbird/Amo2eRlYrzg_30.000.wav\n",
      "/media/e4e/Rainforest_Data1/audioset_nonbird/an2mZpaPTpA_410.000.wav\n",
      "/media/e4e/Rainforest_Data1/audioset_nonbird/An32hX6i1gs_30.000.wav\n",
      "/media/e4e/Rainforest_Data1/audioset_nonbird/AN60q9nSnMk_30.000.wav\n",
      "/media/e4e/Rainforest_Data1/audioset_nonbird/anB4oZ5n1Mw_300.000.wav\n",
      "/media/e4e/Rainforest_Data1/audioset_nonbird/AnErEDywInE_30.000.wav\n",
      "/media/e4e/Rainforest_Data1/audioset_nonbird/an_HVZmdeSM_30.000.wav\n",
      "/media/e4e/Rainforest_Data1/audioset_nonbird/ao-TFiShaWU_120.000.wav\n",
      "/media/e4e/Rainforest_Data1/audioset_nonbird/ao6IlfkrCWs_30.000.wav\n",
      "/media/e4e/Rainforest_Data1/audioset_nonbird/AobHGHJSd-s_190.000.wav\n",
      "/media/e4e/Rainforest_Data1/audioset_nonbird/AoD_3noPFNQ_30.000.wav\n",
      "/media/e4e/Rainforest_Data1/audioset_nonbird/AOKeCClythw_0.000.wav\n",
      "/media/e4e/Rainforest_Data1/audioset_nonbird/aosi9ropfEk_30.000.wav\n",
      "/media/e4e/Rainforest_Data1/audioset_nonbird/AOUCx6SE67M_360.000.wav\n",
      "/media/e4e/Rainforest_Data1/audioset_nonbird/aouKweCzxj8_290.000.wav\n",
      "/media/e4e/Rainforest_Data1/audioset_nonbird/aP0nFHftn9A_70.000.wav\n",
      "/media/e4e/Rainforest_Data1/audioset_nonbird/AP1VIeJhAFo_110.000.wav\n",
      "/media/e4e/Rainforest_Data1/audioset_nonbird/Ap9gDgwq1DU_30.000.wav\n",
      "/media/e4e/Rainforest_Data1/audioset_nonbird/aPONneIX9UE_480.000.wav\n",
      "/media/e4e/Rainforest_Data1/audioset_nonbird/aPQ4OYMYWqM_30.000.wav\n",
      "/media/e4e/Rainforest_Data1/audioset_nonbird/aPQTrv2B1sw_250.000.wav\n",
      "/media/e4e/Rainforest_Data1/audioset_nonbird/apY2ZvB3FJA_30.000.wav\n",
      "/media/e4e/Rainforest_Data1/audioset_nonbird/Aq58qBpVkv8_160.000.wav\n",
      "/media/e4e/Rainforest_Data1/audioset_nonbird/cWzIMlh6czk_10.000.wav\n",
      "/media/e4e/Rainforest_Data1/audioset_nonbird/cWZLGpaVwwE_30.000.wav\n",
      "/media/e4e/Rainforest_Data1/audioset_nonbird/CXDnZHfzD6Q_30.000.wav\n",
      "/media/e4e/Rainforest_Data1/audioset_nonbird/CxqgtOQZDEg_30.000.wav\n",
      "/media/e4e/Rainforest_Data1/audioset_nonbird/CXRemJ1ZLC8_250.000.wav\n",
      "/media/e4e/Rainforest_Data1/audioset_nonbird/cxXhHDgduHo_30.000.wav\n",
      "/media/e4e/Rainforest_Data1/audioset_nonbird/cY27F0cqnSU_230.000.wav\n",
      "/media/e4e/Rainforest_Data1/audioset_nonbird/cy8lehO7nqg_30.000.wav\n",
      "/media/e4e/Rainforest_Data1/audioset_nonbird/CYDFwj0KWpM_30.000.wav\n",
      "/media/e4e/Rainforest_Data1/audioset_nonbird/cydtm6WOFwQ_30.000.wav\n",
      "/media/e4e/Rainforest_Data1/audioset_nonbird/cyhncSaWmag_30.000.wav\n",
      "/media/e4e/Rainforest_Data1/audioset_nonbird/cYJxTLCFQzs_30.000.wav\n",
      "/media/e4e/Rainforest_Data1/audioset_nonbird/cyk5WAexi5k_30.000.wav\n",
      "/media/e4e/Rainforest_Data1/audioset_nonbird/CZB6WXDuM1g_30.000.wav\n",
      "/media/e4e/Rainforest_Data1/audioset_nonbird/CZgx_6XaEkg_30.000.wav\n",
      "/media/e4e/Rainforest_Data1/audioset_nonbird/CZlQbIE6FXQ_50.000.wav\n",
      "/media/e4e/Rainforest_Data1/audioset_nonbird/czqGshw43ro_30.000.wav\n",
      "/media/e4e/Rainforest_Data1/audioset_nonbird/d6xZX6qMt10_130.000.wav\n",
      "/media/e4e/Rainforest_Data1/audioset_nonbird/D7cJVCMB7u8_30.000.wav\n",
      "/media/e4e/Rainforest_Data1/audioset_nonbird/d7I4Z5t8Xdo_110.000.wav\n",
      "/media/e4e/Rainforest_Data1/audioset_nonbird/D7TB8b2t3QE_530.000.wav\n",
      "/media/e4e/Rainforest_Data1/audioset_nonbird/D7vGrnveKTE_30.000.wav\n",
      "/media/e4e/Rainforest_Data1/audioset_nonbird/D7YvEGjAwAQ_0.000.wav\n",
      "/media/e4e/Rainforest_Data1/audioset_nonbird/D8l4-MXkCZQ_19.000.wav\n",
      "/media/e4e/Rainforest_Data1/audioset_nonbird/D8LW5sTsIlc_30.000.wav\n",
      "/media/e4e/Rainforest_Data1/audioset_nonbird/D8R-u0sG5eg_9.000.wav\n",
      "/media/e4e/Rainforest_Data1/audioset_nonbird/D8z7jRhS_o4_490.000.wav\n",
      "/media/e4e/Rainforest_Data1/audioset_nonbird/D90IcvXRrbY_30.000.wav\n",
      "/media/e4e/Rainforest_Data1/audioset_nonbird/D9goWlCmrI8_410.000.wav\n",
      "/media/e4e/Rainforest_Data1/audioset_nonbird/D9J91Iq52Bk_30.000.wav\n",
      "/media/e4e/Rainforest_Data1/audioset_nonbird/d9KMKgtMEJY_0.000.wav\n",
      "/media/e4e/Rainforest_Data1/audioset_nonbird/DA0G1eRcvNk_13.000.wav\n",
      "/media/e4e/Rainforest_Data1/audioset_nonbird/DaaY_n80b2Y_5.000.wav\n",
      "/media/e4e/Rainforest_Data1/audioset_nonbird/daHbn0PKTxA_30.000.wav\n",
      "/media/e4e/Rainforest_Data1/audioset_nonbird/DApzZBcMD34_30.000.wav\n",
      "/media/e4e/Rainforest_Data1/audioset_nonbird/DarmCBV_xDk_30.000.wav\n",
      "/media/e4e/Rainforest_Data1/audioset_nonbird/DaSr6mc6TM8_140.000.wav\n",
      "/media/e4e/Rainforest_Data1/audioset_nonbird/dAWkrB_tLrM_30.000.wav\n",
      "/media/e4e/Rainforest_Data1/audioset_nonbird/daY6TRvHFB4_30.000.wav\n",
      "/media/e4e/Rainforest_Data1/audioset_nonbird/Db3VBTvUp_k_30.000.wav\n",
      "/media/e4e/Rainforest_Data1/audioset_nonbird/Db7-q3MKvys_30.000.wav\n",
      "/media/e4e/Rainforest_Data1/audioset_nonbird/DbErO8V96bg_0.000.wav\n",
      "/media/e4e/Rainforest_Data1/audioset_nonbird/dc0SNVwdDSs_30.000.wav\n",
      "/media/e4e/Rainforest_Data1/audioset_nonbird/dC1TVxwiitc_30.000.wav\n",
      "/media/e4e/Rainforest_Data1/audioset_nonbird/DCApqJ3KMrc_30.000.wav\n",
      "/media/e4e/Rainforest_Data1/audioset_nonbird/dcDZJIYbofs_420.000.wav\n",
      "/media/e4e/Rainforest_Data1/audioset_nonbird/DcNVcRK4F4g_30.000.wav\n",
      "/media/e4e/Rainforest_Data1/audioset_nonbird/DcU6AzN7imA_210.000.wav\n",
      "/media/e4e/Rainforest_Data1/audioset_nonbird/dcUuCzIngYk_1.000.wav\n",
      "/media/e4e/Rainforest_Data1/audioset_nonbird/dDa0dwx1XXg_20.000.wav\n",
      "/media/e4e/Rainforest_Data1/audioset_nonbird/dDbXkI4sbUM_12.000.wav\n",
      "/media/e4e/Rainforest_Data1/audioset_nonbird/DDH8ck_QhA8_90.000.wav\n",
      "/media/e4e/Rainforest_Data1/audioset_nonbird/dDiJVPw5hAY_30.000.wav\n",
      "/media/e4e/Rainforest_Data1/audioset_nonbird/dDj8uLWvf-k_9.000.wav\n",
      "/media/e4e/Rainforest_Data1/audioset_nonbird/De311q4Wp6Q_30.000.wav\n",
      "/media/e4e/Rainforest_Data1/audioset_nonbird/DE4E77nF8Mg_30.000.wav\n",
      "/media/e4e/Rainforest_Data1/audioset_nonbird/DE7J2BxwPto_20.000.wav\n",
      "/media/e4e/Rainforest_Data1/audioset_nonbird/DEGSyVygE98_110.000.wav\n",
      "/media/e4e/Rainforest_Data1/audioset_nonbird/dEj4-SjGg4Q_140.000.wav\n",
      "/media/e4e/Rainforest_Data1/audioset_nonbird/DEJG2qOKI24_30.000.wav\n",
      "/media/e4e/Rainforest_Data1/audioset_nonbird/dEsYWbxla08_30.000.wav\n",
      "/media/e4e/Rainforest_Data1/audioset_nonbird/DkVfro9iq80_30.000.wav\n",
      "/media/e4e/Rainforest_Data1/audioset_nonbird/DkWAn4rtLa4_160.000.wav\n",
      "/media/e4e/Rainforest_Data1/audioset_nonbird/DkwFXd5nYLE_40.000.wav\n",
      "/media/e4e/Rainforest_Data1/audioset_nonbird/dKZY5rnMa-M_30.000.wav\n",
      "/media/e4e/Rainforest_Data1/audioset_nonbird/DL8GYYC_vrk_340.000.wav\n",
      "/media/e4e/Rainforest_Data1/audioset_nonbird/DlfBveCOS_A_0.000.wav\n",
      "/media/e4e/Rainforest_Data1/audioset_nonbird/dLU_I-HGBFU_0.000.wav\n",
      "/media/e4e/Rainforest_Data1/audioset_nonbird/DLwg4ZDh1SY_30.000.wav\n",
      "/media/e4e/Rainforest_Data1/audioset_nonbird/DLYtYMvl0qg_30.000.wav\n",
      "/media/e4e/Rainforest_Data1/audioset_nonbird/dm2HfDLIwso_370.000.wav\n",
      "/media/e4e/Rainforest_Data1/audioset_nonbird/dMAp3dvs3kE_170.000.wav\n",
      "/media/e4e/Rainforest_Data1/audioset_nonbird/dMbToUN1xDU_30.000.wav\n",
      "/media/e4e/Rainforest_Data1/audioset_nonbird/dmdMvf8RkSQ_30.000.wav\n",
      "/media/e4e/Rainforest_Data1/audioset_nonbird/dMhrF-LvfUk_30.000.wav\n",
      "/media/e4e/Rainforest_Data1/audioset_nonbird/dmicaz3ISHc_330.000.wav\n",
      "/media/e4e/Rainforest_Data1/audioset_nonbird/dMQANiWPPME_30.000.wav\n",
      "/media/e4e/Rainforest_Data1/audioset_nonbird/dMTAkAnEN3U_6.000.wav\n",
      "/media/e4e/Rainforest_Data1/audioset_nonbird/Dmy4EjohxxU_60.000.wav\n",
      "/media/e4e/Rainforest_Data1/audioset_nonbird/dMZF3Nvvioo_150.000.wav\n",
      "/media/e4e/Rainforest_Data1/audioset_nonbird/dn5HNVivirA_30.000.wav\n",
      "/media/e4e/Rainforest_Data1/audioset_nonbird/Dn8xAMHistk_100.000.wav\n",
      "/media/e4e/Rainforest_Data1/audioset_nonbird/dNA4ZlG7O74_30.000.wav\n",
      "/media/e4e/Rainforest_Data1/audioset_nonbird/DNBpRJMEm4s_30.000.wav\n",
      "/media/e4e/Rainforest_Data1/audioset_nonbird/dnQvS3jATno_150.000.wav\n",
      "/media/e4e/Rainforest_Data1/audioset_nonbird/DNwWLZCupMc_300.000.wav\n",
      "/media/e4e/Rainforest_Data1/audioset_nonbird/DNYDyXn6qso_30.000.wav\n",
      "/media/e4e/Rainforest_Data1/audioset_nonbird/DNye_gxopHw_100.000.wav\n",
      "/media/e4e/Rainforest_Data1/audioset_nonbird/dOKfGfiqJns_560.000.wav\n",
      "/media/e4e/Rainforest_Data1/audioset_nonbird/dOOBrs3mBac_60.000.wav\n",
      "/media/e4e/Rainforest_Data1/audioset_nonbird/DOodvwXcpwQ_0.000.wav\n"
     ]
    },
    {
     "name": "stdout",
     "output_type": "stream",
     "text": [
      "/media/e4e/Rainforest_Data1/audioset_nonbird/AY-4KVgM6I0_30.000.wav\n",
      "/media/e4e/Rainforest_Data1/audioset_nonbird/AY0jDdFbBZQ_25.000.wav\n",
      "/media/e4e/Rainforest_Data1/audioset_nonbird/AY2h_JWPtao_30.000.wav\n",
      "/media/e4e/Rainforest_Data1/audioset_nonbird/AyA6zrWfkYY_310.000.wav\n",
      "/media/e4e/Rainforest_Data1/audioset_nonbird/ayDRaEeNN1A_120.000.wav\n",
      "/media/e4e/Rainforest_Data1/audioset_nonbird/AyEctiqVYQc_30.000.wav\n",
      "/media/e4e/Rainforest_Data1/audioset_nonbird/aYpEBWSW1C0_40.000.wav\n",
      "/media/e4e/Rainforest_Data1/audioset_nonbird/ayrzdxBwzGw_80.000.wav\n",
      "/media/e4e/Rainforest_Data1/audioset_nonbird/AYvYTvCG0Cw_4.000.wav\n",
      "/media/e4e/Rainforest_Data1/audioset_nonbird/AYZ_e30Pcf4_30.000.wav\n",
      "/media/e4e/Rainforest_Data1/audioset_nonbird/aY_5jD2TAbY_0.000.wav\n",
      "/media/e4e/Rainforest_Data1/audioset_nonbird/az0ojBD9NaI_30.000.wav\n",
      "/media/e4e/Rainforest_Data1/audioset_nonbird/aZ3FpqWTJjQ_160.000.wav\n",
      "/media/e4e/Rainforest_Data1/audioset_nonbird/AzaFXVywLWk_30.000.wav\n",
      "/media/e4e/Rainforest_Data1/audioset_nonbird/AzashCN4V_U_110.000.wav\n",
      "/media/e4e/Rainforest_Data1/audioset_nonbird/azBQiZ6wCWM_30.000.wav\n",
      "/media/e4e/Rainforest_Data1/audioset_nonbird/aZfszZqR7i4_120.000.wav\n",
      "/media/e4e/Rainforest_Data1/audioset_nonbird/AzhAMscTxyc_30.000.wav\n",
      "/media/e4e/Rainforest_Data1/audioset_nonbird/AzkP4-XZjK0_80.000.wav\n",
      "/media/e4e/Rainforest_Data1/audioset_nonbird/AznWFbIOSZw_30.000.wav\n",
      "/media/e4e/Rainforest_Data1/audioset_nonbird/A_GMaN5XtdI_0.000.wav\n",
      "/media/e4e/Rainforest_Data1/audioset_nonbird/a_HzXa0YVIo_170.000.wav\n",
      "/media/e4e/Rainforest_Data1/audioset_nonbird/A_JPcBwYGmo_30.000.wav\n",
      "/media/e4e/Rainforest_Data1/audioset_nonbird/A_yjtFD-9rE_30.000.wav\n",
      "/media/e4e/Rainforest_Data1/audioset_nonbird/b-zIVLtiIXY_140.000.wav\n",
      "/media/e4e/Rainforest_Data1/audioset_nonbird/b0KSxH37gVE_100.000.wav\n",
      "/media/e4e/Rainforest_Data1/audioset_nonbird/b0uHr8xHqfI_30.000.wav\n",
      "/media/e4e/Rainforest_Data1/audioset_nonbird/B0YP60j1VR4_12.000.wav\n",
      "/media/e4e/Rainforest_Data1/audioset_nonbird/b12vm6On2Jw_30.000.wav\n",
      "/media/e4e/Rainforest_Data1/audioset_nonbird/b1bNLLyufkA_120.000.wav\n",
      "/media/e4e/Rainforest_Data1/audioset_nonbird/b1hRkdJ69tc_510.000.wav\n",
      "/media/e4e/Rainforest_Data1/audioset_nonbird/b1naRoH5aHc_30.000.wav\n",
      "/media/e4e/Rainforest_Data1/audioset_nonbird/b2QgJU4vBNE_30.000.wav\n",
      "/media/e4e/Rainforest_Data1/audioset_nonbird/b3Dy4bghasU_150.000.wav\n",
      "/media/e4e/Rainforest_Data1/audioset_nonbird/b48v8k7fP-g_50.000.wav\n",
      "/media/e4e/Rainforest_Data1/audioset_nonbird/DPclN2AtEbQ_30.000.wav\n",
      "/media/e4e/Rainforest_Data1/audioset_nonbird/DpiGR6_i4Js_30.000.wav\n",
      "/media/e4e/Rainforest_Data1/audioset_nonbird/dpKCq-_V9uQ_24.000.wav\n",
      "/media/e4e/Rainforest_Data1/audioset_nonbird/DPNmUOnE83o_10.000.wav\n",
      "/media/e4e/Rainforest_Data1/audioset_nonbird/DpS_TigOHWo_180.000.wav\n",
      "/media/e4e/Rainforest_Data1/audioset_nonbird/dQbrfZDBq_8_30.000.wav\n",
      "/media/e4e/Rainforest_Data1/audioset_nonbird/DqCSTZYskfM_140.000.wav\n",
      "/media/e4e/Rainforest_Data1/audioset_nonbird/DqFpx3mE9fQ_30.000.wav\n",
      "/media/e4e/Rainforest_Data1/audioset_nonbird/DQg8b91HjRk_30.000.wav\n",
      "/media/e4e/Rainforest_Data1/audioset_nonbird/DqGNQbGXbcc_90.000.wav\n",
      "/media/e4e/Rainforest_Data1/audioset_nonbird/DQH2HjHugLY_30.000.wav\n",
      "/media/e4e/Rainforest_Data1/audioset_nonbird/DQHMv0Lfhyo_30.000.wav\n",
      "/media/e4e/Rainforest_Data1/audioset_nonbird/DqlK1I1yjfg_370.000.wav\n",
      "/media/e4e/Rainforest_Data1/audioset_nonbird/dqPdVONK6pA_30.000.wav\n",
      "/media/e4e/Rainforest_Data1/audioset_nonbird/dQVMQyrIxEo_10.000.wav\n",
      "/media/e4e/Rainforest_Data1/audioset_nonbird/Dr3vf42udLY_80.000.wav\n",
      "/media/e4e/Rainforest_Data1/audioset_nonbird/DRC7KTs-BLc_8.000.wav\n",
      "/media/e4e/Rainforest_Data1/audioset_nonbird/dRiYIL2NoBE_30.000.wav\n",
      "/media/e4e/Rainforest_Data1/audioset_nonbird/DrlmLvPFdg8_30.000.wav\n",
      "/media/e4e/Rainforest_Data1/audioset_nonbird/dRpfPOLMX3Y_330.000.wav\n",
      "/media/e4e/Rainforest_Data1/audioset_nonbird/drq_ww7Ytzw_21.000.wav\n",
      "/media/e4e/Rainforest_Data1/audioset_nonbird/dRTrh2IE9do_130.000.wav\n",
      "/media/e4e/Rainforest_Data1/audioset_nonbird/Drxkm1HyVxI_21.000.wav\n",
      "/media/e4e/Rainforest_Data1/audioset_nonbird/DryJ0zkQZw0_10.000.wav\n",
      "/media/e4e/Rainforest_Data1/audioset_nonbird/DSBI2Jmxo0A_30.000.wav\n",
      "/media/e4e/Rainforest_Data1/audioset_nonbird/dSfcznv4KLo_30.000.wav\n",
      "/media/e4e/Rainforest_Data1/audioset_nonbird/DSGMDArb1QI_30.000.wav\n",
      "/media/e4e/Rainforest_Data1/audioset_nonbird/dskuSNzpQ0s_30.000.wav\n",
      "/media/e4e/Rainforest_Data1/audioset_nonbird/DSLO9BKHSEk_40.000.wav\n",
      "/media/e4e/Rainforest_Data1/audioset_nonbird/dSvvb42_Ops_30.000.wav\n",
      "/media/e4e/Rainforest_Data1/audioset_nonbird/dS_WMy4T2nU_30.000.wav\n",
      "/media/e4e/Rainforest_Data1/audioset_nonbird/DT4Q7SB_pkc_260.000.wav\n",
      "/media/e4e/Rainforest_Data1/audioset_nonbird/dTVkk4GSmNA_140.000.wav\n",
      "/media/e4e/Rainforest_Data1/audioset_nonbird/DU3cNZdlylQ_60.000.wav\n",
      "/media/e4e/Rainforest_Data1/audioset_nonbird/DukgqTCrGhs_30.000.wav\n",
      "/media/e4e/Rainforest_Data1/audioset_nonbird/DUNOn71oGCw_40.000.wav\n",
      "/media/e4e/Rainforest_Data1/audioset_nonbird/DUsivUkD3ik_4.000.wav\n",
      "/media/e4e/Rainforest_Data1/audioset_nonbird/dV9YwT62U_g_30.000.wav\n",
      "/media/e4e/Rainforest_Data1/audioset_nonbird/DvmXcb9OYQs_20.000.wav\n",
      "/media/e4e/Rainforest_Data1/audioset_nonbird/DVUAveWb6tI_260.000.wav\n",
      "/media/e4e/Rainforest_Data1/audioset_nonbird/DVuWm53IlVw_30.000.wav\n",
      "/media/e4e/Rainforest_Data1/audioset_nonbird/dW-rmWpBj88_520.000.wav\n",
      "/media/e4e/Rainforest_Data1/audioset_nonbird/e9PrnIhJe7o_10.000.wav\n",
      "/media/e4e/Rainforest_Data1/audioset_nonbird/e9xPBfEJni8_230.000.wav\n",
      "/media/e4e/Rainforest_Data1/audioset_nonbird/eA2efaz3RSE_170.000.wav\n",
      "/media/e4e/Rainforest_Data1/audioset_nonbird/ea2Hd6LTScQ_30.000.wav\n",
      "/media/e4e/Rainforest_Data1/audioset_nonbird/EaBRGh2s0rU_30.000.wav\n",
      "/media/e4e/Rainforest_Data1/audioset_nonbird/eaFPbu1lP88_30.000.wav\n",
      "/media/e4e/Rainforest_Data1/audioset_nonbird/eaHCev3LDIw_470.000.wav\n",
      "/media/e4e/Rainforest_Data1/audioset_nonbird/eaHpZtEfqCg_30.000.wav\n",
      "/media/e4e/Rainforest_Data1/audioset_nonbird/eAl9WwRaWUE_30.000.wav\n",
      "/media/e4e/Rainforest_Data1/audioset_nonbird/eaLhdHS_3uU_130.000.wav\n",
      "/media/e4e/Rainforest_Data1/audioset_nonbird/eAnk9fOKUEA_200.000.wav\n",
      "/media/e4e/Rainforest_Data1/audioset_nonbird/eAnT-6wvBaI_240.000.wav\n",
      "/media/e4e/Rainforest_Data1/audioset_nonbird/eAt6si6k65c_30.000.wav\n",
      "/media/e4e/Rainforest_Data1/audioset_nonbird/eaWqseH2A60_30.000.wav\n",
      "/media/e4e/Rainforest_Data1/audioset_nonbird/eb8SGIofp5w_30.000.wav\n",
      "/media/e4e/Rainforest_Data1/audioset_nonbird/ao0feaeqxVU_190.000.wav\n",
      "/media/e4e/Rainforest_Data1/audioset_nonbird/AQXT9gOjT4s_30.000.wav\n",
      "/media/e4e/Rainforest_Data1/audioset_nonbird/aSEMBwt3lQo_30.000.wav\n",
      "/media/e4e/Rainforest_Data1/audioset_nonbird/Av9xPE2VIts_30.000.wav\n",
      "/media/e4e/Rainforest_Data1/audioset_nonbird/aX_q01mdId4_250.000.wav\n",
      "/media/e4e/Rainforest_Data1/audioset_nonbird/a_E2yXD28jw_0.000.wav\n",
      "/media/e4e/Rainforest_Data1/audioset_nonbird/b5CyS0QqX3o_70.000.wav\n",
      "/media/e4e/Rainforest_Data1/audioset_nonbird/BB3CCG8SD54_0.000.wav\n",
      "/media/e4e/Rainforest_Data1/audioset_nonbird/bg8m7K9pxFI_180.000.wav\n",
      "/media/e4e/Rainforest_Data1/audioset_nonbird/bg9fsF7o0HY_60.000.wav\n",
      "/media/e4e/Rainforest_Data1/audioset_nonbird/bgDwBAjM4A8_30.000.wav\n",
      "/media/e4e/Rainforest_Data1/audioset_nonbird/BGG616qvxBI_30.000.wav\n",
      "/media/e4e/Rainforest_Data1/audioset_nonbird/BgGXQUeYNKw_570.000.wav\n",
      "/media/e4e/Rainforest_Data1/audioset_nonbird/bgl8r_eRI1I_0.000.wav\n",
      "/media/e4e/Rainforest_Data1/audioset_nonbird/bGv1q_j1zro_0.000.wav\n",
      "/media/e4e/Rainforest_Data1/audioset_nonbird/Bh-o_G4wNZU_10.000.wav\n",
      "/media/e4e/Rainforest_Data1/audioset_nonbird/bhA-HX-Z8h8_200.000.wav\n",
      "/media/e4e/Rainforest_Data1/audioset_nonbird/BHajqlL5wmw_500.000.wav\n",
      "/media/e4e/Rainforest_Data1/audioset_nonbird/BHcN-KXwIsg_260.000.wav\n",
      "/media/e4e/Rainforest_Data1/audioset_nonbird/bhEVJLbRfGU_90.000.wav\n",
      "/media/e4e/Rainforest_Data1/audioset_nonbird/BHGB73ilrCc_30.000.wav\n",
      "/media/e4e/Rainforest_Data1/audioset_nonbird/bHmbZDvqpyo_20.000.wav\n",
      "/media/e4e/Rainforest_Data1/audioset_nonbird/BhTuYVycq0s_30.000.wav\n",
      "/media/e4e/Rainforest_Data1/audioset_nonbird/bH_4hTLhZi4_30.000.wav\n",
      "/media/e4e/Rainforest_Data1/audioset_nonbird/Bh_t-5cjTTQ_30.000.wav\n",
      "/media/e4e/Rainforest_Data1/audioset_nonbird/Bi-kpON0Miw_30.000.wav\n",
      "/media/e4e/Rainforest_Data1/audioset_nonbird/BI6Ib7wVHbM_30.000.wav\n",
      "/media/e4e/Rainforest_Data1/audioset_nonbird/BiiJrmXNgUM_0.000.wav\n",
      "/media/e4e/Rainforest_Data1/audioset_nonbird/bIkffoNUKkk_70.000.wav\n"
     ]
    },
    {
     "name": "stdout",
     "output_type": "stream",
     "text": [
      "/media/e4e/Rainforest_Data1/audioset_nonbird/biksCLgtTYc_60.000.wav\n",
      "/media/e4e/Rainforest_Data1/audioset_nonbird/BiNbPvdPthY_30.000.wav\n",
      "/media/e4e/Rainforest_Data1/audioset_nonbird/bITgazmvseY_30.000.wav\n",
      "/media/e4e/Rainforest_Data1/audioset_nonbird/BI_Llv8hnC0_25.000.wav\n",
      "/media/e4e/Rainforest_Data1/audioset_nonbird/BJhQwhiJ--A_290.000.wav\n",
      "/media/e4e/Rainforest_Data1/audioset_nonbird/BjIksWR4oKw_30.000.wav\n",
      "/media/e4e/Rainforest_Data1/audioset_nonbird/BJJg7xvwx6g_60.000.wav\n",
      "/media/e4e/Rainforest_Data1/audioset_nonbird/BJSQQ7-2hEg_5.000.wav\n",
      "/media/e4e/Rainforest_Data1/audioset_nonbird/BJX2fm61IKY_30.000.wav\n",
      "/media/e4e/Rainforest_Data1/audioset_nonbird/bjxN6KqAdbo_220.000.wav\n",
      "/media/e4e/Rainforest_Data1/audioset_nonbird/BKCTFfjHQXU_30.000.wav\n",
      "/media/e4e/Rainforest_Data1/audioset_nonbird/BkfSqWi7bm0_12.000.wav\n",
      "/media/e4e/Rainforest_Data1/audioset_nonbird/bkGy646dRjQ_30.000.wav\n",
      "/media/e4e/Rainforest_Data1/audioset_nonbird/BKVcTXsztAU_30.000.wav\n",
      "/media/e4e/Rainforest_Data1/audioset_nonbird/bKxvscnKOrA_580.000.wav\n",
      "/media/e4e/Rainforest_Data1/audioset_nonbird/bKzyLIonf0c_30.000.wav\n",
      "/media/e4e/Rainforest_Data1/audioset_nonbird/bl36ZJVAP9Y_30.000.wav\n",
      "/media/e4e/Rainforest_Data1/audioset_nonbird/blalAktxFoI_240.000.wav\n",
      "/media/e4e/Rainforest_Data1/audioset_nonbird/BLEthZXy35s_250.000.wav\n",
      "/media/e4e/Rainforest_Data1/audioset_nonbird/BLlnu2Tyqu0_30.000.wav\n",
      "/media/e4e/Rainforest_Data1/audioset_nonbird/BLmFtIbAUM0_30.000.wav\n",
      "/media/e4e/Rainforest_Data1/audioset_nonbird/BLT2erau3zo_6.000.wav\n",
      "/media/e4e/Rainforest_Data1/audioset_nonbird/BlU5-89xiac_420.000.wav\n",
      "/media/e4e/Rainforest_Data1/audioset_nonbird/BmAZb_ShnQk_90.000.wav\n",
      "/media/e4e/Rainforest_Data1/audioset_nonbird/BMFmzBBDH_k_70.000.wav\n",
      "/media/e4e/Rainforest_Data1/audioset_nonbird/BmvbfiU9ryU_90.000.wav\n",
      "/media/e4e/Rainforest_Data1/audioset_nonbird/bMz7lexTtNg_50.000.wav\n",
      "/media/e4e/Rainforest_Data1/audioset_nonbird/Bn2bWpoZOS8_30.000.wav\n",
      "/media/e4e/Rainforest_Data1/audioset_nonbird/bNbSAUZyBow_550.000.wav\n",
      "/media/e4e/Rainforest_Data1/audioset_nonbird/bNKJR4sJSDE_210.000.wav\n",
      "/media/e4e/Rainforest_Data1/audioset_nonbird/BnoyDKYQd3w_10.000.wav\n",
      "/media/e4e/Rainforest_Data1/audioset_nonbird/bnQlBzGQ0Sc_220.000.wav\n",
      "/media/e4e/Rainforest_Data1/audioset_nonbird/BNrmXcZQ-p4_30.000.wav\n",
      "/media/e4e/Rainforest_Data1/audioset_nonbird/bNsdqz8CYbs_230.000.wav\n",
      "/media/e4e/Rainforest_Data1/audioset_nonbird/bNWngTF_8aI_210.000.wav\n",
      "/media/e4e/Rainforest_Data1/audioset_nonbird/bO6gUBBcniY_30.000.wav\n",
      "/media/e4e/Rainforest_Data1/audioset_nonbird/bOCkO_RtPIo_300.000.wav\n",
      "/media/e4e/Rainforest_Data1/audioset_nonbird/BokrfYASP28_30.000.wav\n",
      "/media/e4e/Rainforest_Data1/audioset_nonbird/bonaMN0H4X8_0.000.wav\n",
      "/media/e4e/Rainforest_Data1/audioset_nonbird/BookISwJRqQ_19.000.wav\n",
      "/media/e4e/Rainforest_Data1/audioset_nonbird/BPAbYUWn3jM_19.000.wav\n",
      "/media/e4e/Rainforest_Data1/audioset_nonbird/BPcHZE-ZDYQ_130.000.wav\n",
      "/media/e4e/Rainforest_Data1/audioset_nonbird/EbI0_rtgvXw_80.000.wav\n",
      "/media/e4e/Rainforest_Data1/audioset_nonbird/ebwdFQB-5Fg_30.000.wav\n",
      "/media/e4e/Rainforest_Data1/audioset_nonbird/EBxIPHL-4hE_160.000.wav\n",
      "/media/e4e/Rainforest_Data1/audioset_nonbird/eBZPxp32Nmw_100.000.wav\n",
      "/media/e4e/Rainforest_Data1/audioset_nonbird/EC4GbkL3XvI_80.000.wav\n",
      "/media/e4e/Rainforest_Data1/audioset_nonbird/eCcMwDKQLCA_40.000.wav\n",
      "/media/e4e/Rainforest_Data1/audioset_nonbird/ECCSiRBy14M_10.000.wav\n",
      "/media/e4e/Rainforest_Data1/audioset_nonbird/eCFUwyU9ZWA_9.000.wav\n",
      "/media/e4e/Rainforest_Data1/audioset_nonbird/EcI5Dk915HI_4.000.wav\n",
      "/media/e4e/Rainforest_Data1/audioset_nonbird/ECnYUtKaTvo_30.000.wav\n",
      "/media/e4e/Rainforest_Data1/audioset_nonbird/ecwsY8zo8G8_30.000.wav\n",
      "/media/e4e/Rainforest_Data1/audioset_nonbird/eD5tXTAZtvY_180.000.wav\n",
      "/media/e4e/Rainforest_Data1/audioset_nonbird/Ede70EMDTr8_30.000.wav\n",
      "/media/e4e/Rainforest_Data1/audioset_nonbird/Edo095l4PZQ_30.000.wav\n",
      "/media/e4e/Rainforest_Data1/audioset_nonbird/EDSb0tPKU4o_10.000.wav\n",
      "/media/e4e/Rainforest_Data1/audioset_nonbird/ee-0JGvEIng_30.000.wav\n",
      "/media/e4e/Rainforest_Data1/audioset_nonbird/eEalWQr_KV4_20.000.wav\n",
      "/media/e4e/Rainforest_Data1/audioset_nonbird/EeejNiyn5Cc_30.000.wav\n",
      "/media/e4e/Rainforest_Data1/audioset_nonbird/eeKe1XoCXxs_30.000.wav\n",
      "/media/e4e/Rainforest_Data1/audioset_nonbird/eEn3IreUkas_0.000.wav\n",
      "/media/e4e/Rainforest_Data1/audioset_nonbird/EErujqgq1o0_30.000.wav\n",
      "/media/e4e/Rainforest_Data1/audioset_nonbird/EEslGZd8Dis_30.000.wav\n",
      "/media/e4e/Rainforest_Data1/audioset_nonbird/eEUjFAzhRdc_30.000.wav\n",
      "/media/e4e/Rainforest_Data1/audioset_nonbird/EF-dTj1NcJQ_30.000.wav\n",
      "/media/e4e/Rainforest_Data1/audioset_nonbird/bPDdUyzLofY_13.000.wav\n",
      "/media/e4e/Rainforest_Data1/audioset_nonbird/bPoxAdcYIHU_130.000.wav\n",
      "/media/e4e/Rainforest_Data1/audioset_nonbird/BpsMkLaEiOY_300.000.wav\n",
      "/media/e4e/Rainforest_Data1/audioset_nonbird/bpxK2ub-qCs_30.000.wav\n",
      "/media/e4e/Rainforest_Data1/audioset_nonbird/bq6C0_tAbJM_30.000.wav\n",
      "/media/e4e/Rainforest_Data1/audioset_nonbird/BQ86IY0M860_30.000.wav\n",
      "/media/e4e/Rainforest_Data1/audioset_nonbird/BqDdaUVsqfA_460.000.wav\n",
      "/media/e4e/Rainforest_Data1/audioset_nonbird/bQOqX1W3ejA_30.000.wav\n",
      "/media/e4e/Rainforest_Data1/audioset_nonbird/bQR7moK_WZg_30.000.wav\n",
      "/media/e4e/Rainforest_Data1/audioset_nonbird/bQSaQ0iX_vk_30.000.wav\n",
      "/media/e4e/Rainforest_Data1/audioset_nonbird/bQtV5tya3ZQ_110.000.wav\n",
      "/media/e4e/Rainforest_Data1/audioset_nonbird/Bqx_SZgCzZw_10.000.wav\n",
      "/media/e4e/Rainforest_Data1/audioset_nonbird/br-tmufICjc_30.000.wav\n",
      "/media/e4e/Rainforest_Data1/audioset_nonbird/Br1s0Ye8kKs_30.000.wav\n",
      "/media/e4e/Rainforest_Data1/audioset_nonbird/brF5wi1kx70_440.000.wav\n",
      "/media/e4e/Rainforest_Data1/audioset_nonbird/eI85dun7yIo_20.000.wav\n",
      "/media/e4e/Rainforest_Data1/audioset_nonbird/eIkUuCRE_0U_30.000.wav\n",
      "/media/e4e/Rainforest_Data1/audioset_nonbird/eilsiV9BIs8_30.000.wav\n",
      "/media/e4e/Rainforest_Data1/audioset_nonbird/eiyyoUt64Zc_100.000.wav\n",
      "/media/e4e/Rainforest_Data1/audioset_nonbird/ej9hTqRxWpA_30.000.wav\n",
      "/media/e4e/Rainforest_Data1/audioset_nonbird/ejInZOlwano_30.000.wav\n",
      "/media/e4e/Rainforest_Data1/audioset_nonbird/ejKuCODenK8_30.000.wav\n",
      "/media/e4e/Rainforest_Data1/audioset_nonbird/ejo2aXEWSgo_0.000.wav\n",
      "/media/e4e/Rainforest_Data1/audioset_nonbird/ejsc1BwKDn4_130.000.wav\n",
      "/media/e4e/Rainforest_Data1/audioset_nonbird/eJSpibgl0-c_30.000.wav\n",
      "/media/e4e/Rainforest_Data1/audioset_nonbird/EJUSJmQ3S_Y_30.000.wav\n",
      "/media/e4e/Rainforest_Data1/audioset_nonbird/eK4lJTWvaNs_30.000.wav\n",
      "/media/e4e/Rainforest_Data1/audioset_nonbird/EKGUsba1wXI_30.000.wav\n",
      "/media/e4e/Rainforest_Data1/audioset_nonbird/ekhsfZpce0c_30.000.wav\n",
      "/media/e4e/Rainforest_Data1/audioset_nonbird/eKMhRfdwwWI_30.000.wav\n",
      "/media/e4e/Rainforest_Data1/audioset_nonbird/EkP005U571U_0.000.wav\n",
      "/media/e4e/Rainforest_Data1/audioset_nonbird/eKz6Jpg9op8_220.000.wav\n",
      "/media/e4e/Rainforest_Data1/audioset_nonbird/el4qyJFJmbI_160.000.wav\n",
      "/media/e4e/Rainforest_Data1/audioset_nonbird/el5ScEazifA_100.000.wav\n",
      "/media/e4e/Rainforest_Data1/audioset_nonbird/elcxD1sw-dw_70.000.wav\n",
      "/media/e4e/Rainforest_Data1/audioset_nonbird/ElgXgJjGZbQ_110.000.wav\n",
      "/media/e4e/Rainforest_Data1/audioset_nonbird/ElJFYwRtrH4_30.000.wav\n",
      "/media/e4e/Rainforest_Data1/audioset_nonbird/EMbSpcMCnpU_40.000.wav\n",
      "/media/e4e/Rainforest_Data1/audioset_nonbird/emC0ees1pPA_30.000.wav\n",
      "/media/e4e/Rainforest_Data1/audioset_nonbird/EMc9mzM66N8_170.000.wav\n",
      "/media/e4e/Rainforest_Data1/audioset_nonbird/EmgjMlzlo58_0.000.wav\n",
      "/media/e4e/Rainforest_Data1/audioset_nonbird/EMkrlZD_hqw_40.000.wav\n",
      "/media/e4e/Rainforest_Data1/audioset_nonbird/emn0oCLlsGA_0.000.wav\n",
      "/media/e4e/Rainforest_Data1/audioset_nonbird/eMpg3l9nI2s_30.000.wav\n",
      "/media/e4e/Rainforest_Data1/audioset_nonbird/EMtKMP3HVs0_280.000.wav\n",
      "/media/e4e/Rainforest_Data1/audioset_nonbird/eN5Qa2N1a8k_160.000.wav\n",
      "/media/e4e/Rainforest_Data1/audioset_nonbird/ENCPkF4K9zU_30.000.wav\n",
      "/media/e4e/Rainforest_Data1/audioset_nonbird/enkr8BnZ1IM_460.000.wav\n",
      "/media/e4e/Rainforest_Data1/audioset_nonbird/enPSHKym2xI_3.000.wav\n",
      "/media/e4e/Rainforest_Data1/audioset_nonbird/ENr5NQ-Q5aM_0.000.wav\n",
      "/media/e4e/Rainforest_Data1/audioset_nonbird/EnXFqxbu-w0_150.000.wav\n",
      "/media/e4e/Rainforest_Data1/audioset_nonbird/eoalVl5ikL4_30.000.wav\n",
      "/media/e4e/Rainforest_Data1/audioset_nonbird/EoCbloHChuw_30.000.wav\n",
      "/media/e4e/Rainforest_Data1/audioset_nonbird/eOfA9FTL1Cg_220.000.wav\n",
      "/media/e4e/Rainforest_Data1/audioset_nonbird/EoquowIMQWA_0.000.wav\n",
      "/media/e4e/Rainforest_Data1/audioset_nonbird/eOrV9yNuT3o_30.000.wav\n"
     ]
    },
    {
     "name": "stdout",
     "output_type": "stream",
     "text": [
      "/media/e4e/Rainforest_Data1/audioset_nonbird/EoxaklrV4l4_30.000.wav\n",
      "/media/e4e/Rainforest_Data1/audioset_nonbird/EXekviEtzqA_30.000.wav\n",
      "/media/e4e/Rainforest_Data1/audioset_nonbird/eXH-AxP5edo_10.000.wav\n",
      "/media/e4e/Rainforest_Data1/audioset_nonbird/exjHJXAB8nA_30.000.wav\n",
      "/media/e4e/Rainforest_Data1/audioset_nonbird/eXkDr7HlT0k_0.000.wav\n",
      "/media/e4e/Rainforest_Data1/audioset_nonbird/exqbdXoRCUo_210.000.wav\n",
      "/media/e4e/Rainforest_Data1/audioset_nonbird/eXQYEfqCU08_40.000.wav\n",
      "/media/e4e/Rainforest_Data1/audioset_nonbird/EXs6V35Y4JM_250.000.wav\n",
      "/media/e4e/Rainforest_Data1/audioset_nonbird/eXwsu-Re7dQ_30.000.wav\n",
      "/media/e4e/Rainforest_Data1/audioset_nonbird/ExwZ7-s0AWQ_80.000.wav\n",
      "/media/e4e/Rainforest_Data1/audioset_nonbird/Ey6ulciy5hs_20.000.wav\n",
      "/media/e4e/Rainforest_Data1/audioset_nonbird/Ey7CIPAeqsY_30.000.wav\n",
      "/media/e4e/Rainforest_Data1/audioset_nonbird/eyanSta5aPI_30.000.wav\n",
      "/media/e4e/Rainforest_Data1/audioset_nonbird/eyFPHlybqDg_30.000.wav\n",
      "/media/e4e/Rainforest_Data1/audioset_nonbird/EYOPDAgkvK4_310.000.wav\n",
      "/media/e4e/Rainforest_Data1/audioset_nonbird/eYV9sUHLb2c_0.000.wav\n",
      "/media/e4e/Rainforest_Data1/audioset_nonbird/ez-B6EZJSa8_350.000.wav\n",
      "/media/e4e/Rainforest_Data1/audioset_nonbird/B_nDJh0ASP4_30.000.wav\n",
      "/media/e4e/Rainforest_Data1/audioset_nonbird/b_RtXz277T0_30.000.wav\n",
      "/media/e4e/Rainforest_Data1/audioset_nonbird/c-8SLUH5pp4_30.000.wav\n",
      "/media/e4e/Rainforest_Data1/audioset_nonbird/C-aMG8XXWyE_30.000.wav\n",
      "/media/e4e/Rainforest_Data1/audioset_nonbird/c-qYpm6h0Ew_220.000.wav\n",
      "/media/e4e/Rainforest_Data1/audioset_nonbird/c-rNiswUhQ4_30.000.wav\n",
      "/media/e4e/Rainforest_Data1/audioset_nonbird/C0p_h5307Mg_0.000.wav\n",
      "/media/e4e/Rainforest_Data1/audioset_nonbird/C1dnk7pe_Vg_30.000.wav\n",
      "/media/e4e/Rainforest_Data1/audioset_nonbird/c1EShoK_WLU_30.000.wav\n",
      "/media/e4e/Rainforest_Data1/audioset_nonbird/c2akbbdS7I4_30.000.wav\n",
      "/media/e4e/Rainforest_Data1/audioset_nonbird/C31iMozaMEA_10.000.wav\n",
      "/media/e4e/Rainforest_Data1/audioset_nonbird/c3AJOT4VwSE_510.000.wav\n",
      "/media/e4e/Rainforest_Data1/audioset_nonbird/c3LAEOrcrrc_150.000.wav\n",
      "/media/e4e/Rainforest_Data1/audioset_nonbird/C3LXTkKw6sU_30.000.wav\n",
      "/media/e4e/Rainforest_Data1/audioset_nonbird/C4EJRCN7f7Q_30.000.wav\n",
      "/media/e4e/Rainforest_Data1/audioset_nonbird/fAr-rC3bmd0_370.000.wav\n",
      "/media/e4e/Rainforest_Data1/audioset_nonbird/FBIbveps_SQ_30.000.wav\n",
      "/media/e4e/Rainforest_Data1/audioset_nonbird/fBIUT0mTXQs_20.000.wav\n",
      "/media/e4e/Rainforest_Data1/audioset_nonbird/fbJ0yNuwmpg_210.000.wav\n",
      "/media/e4e/Rainforest_Data1/audioset_nonbird/fbrO1_EXJS0_10.000.wav\n",
      "/media/e4e/Rainforest_Data1/audioset_nonbird/fBxPYhOnKv0_60.000.wav\n",
      "/media/e4e/Rainforest_Data1/audioset_nonbird/fbz0b5J3TFQ_20.000.wav\n",
      "/media/e4e/Rainforest_Data1/audioset_nonbird/fC5xEuLyS9o_30.000.wav\n",
      "/media/e4e/Rainforest_Data1/audioset_nonbird/fca_8duK9Rk_20.000.wav\n",
      "/media/e4e/Rainforest_Data1/audioset_nonbird/fcCm8ywBv-k_30.000.wav\n",
      "/media/e4e/Rainforest_Data1/audioset_nonbird/FCkLX6JK9mI_0.000.wav\n",
      "/media/e4e/Rainforest_Data1/audioset_nonbird/FcUVtXJMkJs_30.000.wav\n",
      "/media/e4e/Rainforest_Data1/audioset_nonbird/fCx7XGkuLfk_30.000.wav\n",
      "/media/e4e/Rainforest_Data1/audioset_nonbird/fd62UgA2Tfs_180.000.wav\n",
      "/media/e4e/Rainforest_Data1/audioset_nonbird/fdadZ_KrZVw_90.000.wav\n",
      "/media/e4e/Rainforest_Data1/audioset_nonbird/CAXAn0j5vdA_30.000.wav\n",
      "/media/e4e/Rainforest_Data1/audioset_nonbird/cBdr1Nh8K98_200.000.wav\n",
      "/media/e4e/Rainforest_Data1/audioset_nonbird/cbjdHbC62Vs_10.000.wav\n",
      "/media/e4e/Rainforest_Data1/audioset_nonbird/cBKNGWTbCbM_30.000.wav\n",
      "/media/e4e/Rainforest_Data1/audioset_nonbird/cbNtpgQbn-4_30.000.wav\n",
      "/media/e4e/Rainforest_Data1/audioset_nonbird/CbokRMsQCuk_30.000.wav\n",
      "/media/e4e/Rainforest_Data1/audioset_nonbird/CbomWMJU3ro_30.000.wav\n",
      "/media/e4e/Rainforest_Data1/audioset_nonbird/cbUYhlymUfc_20.000.wav\n",
      "/media/e4e/Rainforest_Data1/audioset_nonbird/cbYZQRz09bc_390.000.wav\n",
      "/media/e4e/Rainforest_Data1/audioset_nonbird/Cc2sezm2Y6w_120.000.wav\n",
      "/media/e4e/Rainforest_Data1/audioset_nonbird/cCVd_I1M_fs_30.000.wav\n",
      "/media/e4e/Rainforest_Data1/audioset_nonbird/CD3OyaDW348_30.000.wav\n",
      "/media/e4e/Rainforest_Data1/audioset_nonbird/CDABuTQLNe8_140.000.wav\n",
      "/media/e4e/Rainforest_Data1/audioset_nonbird/cdbYsoEasio_70.000.wav\n",
      "/media/e4e/Rainforest_Data1/audioset_nonbird/CdCiigzp5Cw_0.000.wav\n",
      "/media/e4e/Rainforest_Data1/audioset_nonbird/CdKc0umq9J4_30.000.wav\n",
      "/media/e4e/Rainforest_Data1/audioset_nonbird/cDpwGvew_N8_30.000.wav\n",
      "/media/e4e/Rainforest_Data1/audioset_nonbird/cE5Yihyqup4_70.000.wav\n",
      "/media/e4e/Rainforest_Data1/audioset_nonbird/cEEoKQ38fHY_30.000.wav\n",
      "/media/e4e/Rainforest_Data1/audioset_nonbird/ceeTMz8C3ho_30.000.wav\n",
      "/media/e4e/Rainforest_Data1/audioset_nonbird/cef972vNfUE_30.000.wav\n",
      "/media/e4e/Rainforest_Data1/audioset_nonbird/cEgiqCZLJqQ_280.000.wav\n",
      "/media/e4e/Rainforest_Data1/audioset_nonbird/CEM4strIzS8_30.000.wav\n",
      "/media/e4e/Rainforest_Data1/audioset_nonbird/cETKg03meLc_30.000.wav\n",
      "/media/e4e/Rainforest_Data1/audioset_nonbird/cetpxWSFiEw_50.000.wav\n",
      "/media/e4e/Rainforest_Data1/audioset_nonbird/CEzyxkUbG9A_30.000.wav\n",
      "/media/e4e/Rainforest_Data1/audioset_nonbird/CF30GFu4vk8_0.000.wav\n",
      "/media/e4e/Rainforest_Data1/audioset_nonbird/CfAP4gb4ErI_30.000.wav\n",
      "/media/e4e/Rainforest_Data1/audioset_nonbird/cFgcYZU6RUM_310.000.wav\n",
      "/media/e4e/Rainforest_Data1/audioset_nonbird/cfkJjwEyBLE_30.000.wav\n",
      "/media/e4e/Rainforest_Data1/audioset_nonbird/Cfkk7PFJvTI_30.000.wav\n",
      "/media/e4e/Rainforest_Data1/audioset_nonbird/CFRfL0fmAOU_140.000.wav\n",
      "/media/e4e/Rainforest_Data1/audioset_nonbird/CfUvzKZgPJQ_30.000.wav\n",
      "/media/e4e/Rainforest_Data1/audioset_nonbird/CGMUv6kE8FI_30.000.wav\n",
      "/media/e4e/Rainforest_Data1/audioset_nonbird/cgulJL9AEHg_275.000.wav\n",
      "/media/e4e/Rainforest_Data1/audioset_nonbird/FDZL0qVrKhs_30.000.wav\n",
      "/media/e4e/Rainforest_Data1/audioset_nonbird/fE7-2gllNvE_230.000.wav\n",
      "/media/e4e/Rainforest_Data1/audioset_nonbird/FEbU1XnqgLU_550.000.wav\n",
      "/media/e4e/Rainforest_Data1/audioset_nonbird/FEbXA_j4m00_30.000.wav\n",
      "/media/e4e/Rainforest_Data1/audioset_nonbird/FEGa4e6RAlw_30.000.wav\n",
      "/media/e4e/Rainforest_Data1/audioset_nonbird/feG_kSy4zIs_30.000.wav\n",
      "/media/e4e/Rainforest_Data1/audioset_nonbird/FeikEwOLSFc_30.000.wav\n",
      "/media/e4e/Rainforest_Data1/audioset_nonbird/FEoMTMxzn3U_30.000.wav\n",
      "/media/e4e/Rainforest_Data1/audioset_nonbird/FEsMnH4Lt4k_110.000.wav\n",
      "/media/e4e/Rainforest_Data1/audioset_nonbird/feYAnRy4n6g_0.000.wav\n",
      "/media/e4e/Rainforest_Data1/audioset_nonbird/FF0VaBxb27w_30.000.wav\n",
      "/media/e4e/Rainforest_Data1/audioset_nonbird/Ff3S0vvWM1o_30.000.wav\n",
      "/media/e4e/Rainforest_Data1/audioset_nonbird/Ff4IIKMGH4s_10.000.wav\n",
      "/media/e4e/Rainforest_Data1/audioset_nonbird/FfBPHWnQINM_130.000.wav\n",
      "/media/e4e/Rainforest_Data1/audioset_nonbird/FFIo9fIC3Wg_30.000.wav\n",
      "/media/e4e/Rainforest_Data1/audioset_nonbird/fFQmyJ39gQs_530.000.wav\n",
      "/media/e4e/Rainforest_Data1/audioset_nonbird/FFUSdzyhgZo_290.000.wav\n",
      "/media/e4e/Rainforest_Data1/audioset_nonbird/fFVT_CtL62M_20.000.wav\n",
      "/media/e4e/Rainforest_Data1/audioset_nonbird/Fg18M9ARcQY_30.000.wav\n",
      "/media/e4e/Rainforest_Data1/audioset_nonbird/Fg8yzA7zifw_30.000.wav\n",
      "/media/e4e/Rainforest_Data1/audioset_nonbird/fGtO3e8n_OI_30.000.wav\n",
      "/media/e4e/Rainforest_Data1/audioset_nonbird/fGvhRvFFb2I_220.000.wav\n",
      "/media/e4e/Rainforest_Data1/audioset_nonbird/FH0MZoQHSro_30.000.wav\n",
      "/media/e4e/Rainforest_Data1/audioset_nonbird/fH9CY48sfJY_330.000.wav\n",
      "/media/e4e/Rainforest_Data1/audioset_nonbird/fhAAzi6MSXw_70.000.wav\n",
      "/media/e4e/Rainforest_Data1/audioset_nonbird/FHFOO4s3DTk_30.000.wav\n",
      "/media/e4e/Rainforest_Data1/audioset_nonbird/fhOk1nzmM9U_10.000.wav\n",
      "/media/e4e/Rainforest_Data1/audioset_nonbird/fhs7AkJsYao_30.000.wav\n",
      "/media/e4e/Rainforest_Data1/audioset_nonbird/FI-yw-IS2N4_360.000.wav\n",
      "/media/e4e/Rainforest_Data1/audioset_nonbird/bha-d3HXdMI_60.000.wav\n",
      "/media/e4e/Rainforest_Data1/audioset_nonbird/bI_lEzVsHMY_30.000.wav\n",
      "/media/e4e/Rainforest_Data1/audioset_nonbird/BK_hqG0d5QE_30.000.wav\n",
      "/media/e4e/Rainforest_Data1/audioset_nonbird/Bpc_A26bN9A_30.000.wav\n",
      "/media/e4e/Rainforest_Data1/audioset_nonbird/brfHK1WL1II_170.000.wav\n",
      "/media/e4e/Rainforest_Data1/audioset_nonbird/BuK7qr_TY3g_100.000.wav\n",
      "/media/e4e/Rainforest_Data1/audioset_nonbird/BX4o_mGWmfA_160.000.wav\n",
      "/media/e4e/Rainforest_Data1/audioset_nonbird/b_kvMCmoZw0_30.000.wav\n",
      "/media/e4e/Rainforest_Data1/audioset_nonbird/c4obdd-pm0s_0.000.wav\n",
      "/media/e4e/Rainforest_Data1/audioset_nonbird/calkJwT6JHs_30.000.wav\n"
     ]
    },
    {
     "name": "stdout",
     "output_type": "stream",
     "text": [
      "/media/e4e/Rainforest_Data1/audioset_nonbird/CC_45AG63HE_330.000.wav\n",
      "/media/e4e/Rainforest_Data1/audioset_nonbird/cH0x-J5sSXw_0.000.wav\n",
      "/media/e4e/Rainforest_Data1/audioset_nonbird/Ch88EPbM9M0_20.000.wav\n",
      "/media/e4e/Rainforest_Data1/audioset_nonbird/cHCIoXF7moA_30.000.wav\n",
      "/media/e4e/Rainforest_Data1/audioset_nonbird/chFpdDV0hjo_30.000.wav\n",
      "/media/e4e/Rainforest_Data1/audioset_nonbird/chtrHNfaT9U_70.000.wav\n",
      "/media/e4e/Rainforest_Data1/audioset_nonbird/CHufyCHSF1U_30.000.wav\n",
      "/media/e4e/Rainforest_Data1/audioset_nonbird/cHw4f9925NA_30.000.wav\n",
      "/media/e4e/Rainforest_Data1/audioset_nonbird/CIDw75mUl6c_30.000.wav\n",
      "/media/e4e/Rainforest_Data1/audioset_nonbird/cifGioDxcz4_0.000.wav\n",
      "/media/e4e/Rainforest_Data1/audioset_nonbird/cIHmmSm947Q_0.000.wav\n",
      "/media/e4e/Rainforest_Data1/audioset_nonbird/CIJ9L83uKtE_30.000.wav\n",
      "/media/e4e/Rainforest_Data1/audioset_nonbird/Cis2EFd9m2U_70.000.wav\n",
      "/media/e4e/Rainforest_Data1/audioset_nonbird/ciTlajq3JTU_90.000.wav\n",
      "/media/e4e/Rainforest_Data1/audioset_nonbird/CiuMO1EkzU4_10.000.wav\n",
      "/media/e4e/Rainforest_Data1/audioset_nonbird/CI_tCaBsL_c_510.000.wav\n",
      "/media/e4e/Rainforest_Data1/audioset_nonbird/Cj1MNUI8MQ0_300.000.wav\n",
      "/media/e4e/Rainforest_Data1/audioset_nonbird/CjcczfGrDJo_30.000.wav\n",
      "/media/e4e/Rainforest_Data1/audioset_nonbird/Cjd-rRPCFCc_130.000.wav\n",
      "/media/e4e/Rainforest_Data1/audioset_nonbird/CjO1ZZZI8CE_30.000.wav\n",
      "/media/e4e/Rainforest_Data1/audioset_nonbird/CJsbUFtnENs_0.000.wav\n",
      "/media/e4e/Rainforest_Data1/audioset_nonbird/cjt0MAsGRIo_230.000.wav\n",
      "/media/e4e/Rainforest_Data1/audioset_nonbird/CJ_jV1l19IQ_310.000.wav\n",
      "/media/e4e/Rainforest_Data1/audioset_nonbird/Ck8OHNOBlSc_30.000.wav\n",
      "/media/e4e/Rainforest_Data1/audioset_nonbird/CkBZ2aNBA0E_30.000.wav\n",
      "/media/e4e/Rainforest_Data1/audioset_nonbird/CkHKkAQdQGs_40.000.wav\n",
      "/media/e4e/Rainforest_Data1/audioset_nonbird/CKJpM2qfH8M_30.000.wav\n",
      "/media/e4e/Rainforest_Data1/audioset_nonbird/CKkbZCb9Y18_30.000.wav\n",
      "/media/e4e/Rainforest_Data1/audioset_nonbird/CKn1FuB53KU_30.000.wav\n",
      "/media/e4e/Rainforest_Data1/audioset_nonbird/ckpj7O0Et28_180.000.wav\n",
      "/media/e4e/Rainforest_Data1/audioset_nonbird/CkR2jl_LI3w_30.000.wav\n",
      "/media/e4e/Rainforest_Data1/audioset_nonbird/Ckry8_o74DU_30.000.wav\n",
      "/media/e4e/Rainforest_Data1/audioset_nonbird/CKu0W25doI4_0.000.wav\n",
      "/media/e4e/Rainforest_Data1/audioset_nonbird/CkUHXjbrlN4_90.000.wav\n",
      "/media/e4e/Rainforest_Data1/audioset_nonbird/Ckv-wZbYGEw_0.000.wav\n",
      "/media/e4e/Rainforest_Data1/audioset_nonbird/CL4zOl9sgEE_30.000.wav\n",
      "/media/e4e/Rainforest_Data1/audioset_nonbird/ClaW4rHT6t0_0.000.wav\n",
      "/media/e4e/Rainforest_Data1/audioset_nonbird/cLIump75aC0_30.000.wav\n",
      "/media/e4e/Rainforest_Data1/audioset_nonbird/ClokfM86wRM_7.000.wav\n",
      "/media/e4e/Rainforest_Data1/audioset_nonbird/fkipIdHlm6I_180.000.wav\n",
      "/media/e4e/Rainforest_Data1/audioset_nonbird/FKKKTlEXtLw_23.000.wav\n",
      "/media/e4e/Rainforest_Data1/audioset_nonbird/FkpJaXzgMBQ_180.000.wav\n",
      "/media/e4e/Rainforest_Data1/audioset_nonbird/fLNiZuKgPtM_30.000.wav\n",
      "/media/e4e/Rainforest_Data1/audioset_nonbird/Flnwq0YuoAU_100.000.wav\n",
      "/media/e4e/Rainforest_Data1/audioset_nonbird/FlR5CqxP9Bw_30.000.wav\n",
      "/media/e4e/Rainforest_Data1/audioset_nonbird/fLSWntdznOk_100.000.wav\n",
      "/media/e4e/Rainforest_Data1/audioset_nonbird/flwcnHjaVZI_30.000.wav\n",
      "/media/e4e/Rainforest_Data1/audioset_nonbird/flXMshHSJIE_20.000.wav\n",
      "/media/e4e/Rainforest_Data1/audioset_nonbird/fM62ac4UkMI_260.000.wav\n",
      "/media/e4e/Rainforest_Data1/audioset_nonbird/fmYTYOxwuIk_50.000.wav\n",
      "/media/e4e/Rainforest_Data1/audioset_nonbird/FnHSzq77RGE_1.000.wav\n",
      "/media/e4e/Rainforest_Data1/audioset_nonbird/FNsAqmDqU5E_26.000.wav\n",
      "/media/e4e/Rainforest_Data1/audioset_nonbird/fNWzcaJwRjM_30.000.wav\n",
      "/media/e4e/Rainforest_Data1/audioset_nonbird/fOc6JNNdLaQ_30.000.wav\n",
      "/media/e4e/Rainforest_Data1/audioset_nonbird/FoLn9fmMmFo_30.000.wav\n",
      "/media/e4e/Rainforest_Data1/audioset_nonbird/FOseBorBQ_I_460.000.wav\n",
      "/media/e4e/Rainforest_Data1/audioset_nonbird/FoswMlvrv8o_10.000.wav\n",
      "/media/e4e/Rainforest_Data1/audioset_nonbird/FoUQI4TX0sE_30.000.wav\n",
      "/media/e4e/Rainforest_Data1/audioset_nonbird/foZ533gozSE_70.000.wav\n",
      "/media/e4e/Rainforest_Data1/audioset_nonbird/Cm3o8-G5IuI_30.000.wav\n",
      "/media/e4e/Rainforest_Data1/audioset_nonbird/cmjTYz82vJk_30.000.wav\n",
      "/media/e4e/Rainforest_Data1/audioset_nonbird/CMWoAvgD0A0_9.000.wav\n",
      "/media/e4e/Rainforest_Data1/audioset_nonbird/CMzLTmZsUGo_0.000.wav\n",
      "/media/e4e/Rainforest_Data1/audioset_nonbird/Cn3xoxvbkF0_30.000.wav\n",
      "/media/e4e/Rainforest_Data1/audioset_nonbird/cNCzBh2lbCY_320.000.wav\n",
      "/media/e4e/Rainforest_Data1/audioset_nonbird/CNeOyoJK5EE_180.000.wav\n",
      "/media/e4e/Rainforest_Data1/audioset_nonbird/cNIwdy9PWRI_30.000.wav\n",
      "/media/e4e/Rainforest_Data1/audioset_nonbird/Cnk0flfvk00_30.000.wav\n",
      "/media/e4e/Rainforest_Data1/audioset_nonbird/cNPwX7nKmOs_30.000.wav\n",
      "/media/e4e/Rainforest_Data1/audioset_nonbird/CNteFuxbbZs_30.000.wav\n",
      "/media/e4e/Rainforest_Data1/audioset_nonbird/cnvmLwFZr28_80.000.wav\n",
      "/media/e4e/Rainforest_Data1/audioset_nonbird/CNWhN1Ai-VI_30.000.wav\n",
      "/media/e4e/Rainforest_Data1/audioset_nonbird/codJp5NQYy0_0.000.wav\n",
      "/media/e4e/Rainforest_Data1/audioset_nonbird/CoFbRc1OxFU_9.000.wav\n",
      "/media/e4e/Rainforest_Data1/audioset_nonbird/_9p_8wHFnWI_10.000.wav\n",
      "/media/e4e/Rainforest_Data1/audioset_nonbird/_A0t7nYjA0E_30.000.wav\n",
      "/media/e4e/Rainforest_Data1/audioset_nonbird/_AadO6XA3OU_30.000.wav\n",
      "/media/e4e/Rainforest_Data1/audioset_nonbird/_aD1ngSXuw8_50.000.wav\n",
      "/media/e4e/Rainforest_Data1/audioset_nonbird/_AGyPvSvgGU_30.000.wav\n",
      "/media/e4e/Rainforest_Data1/audioset_nonbird/_AUtYTaYMrE_100.000.wav\n",
      "/media/e4e/Rainforest_Data1/audioset_nonbird/_bAVmK7n0fs_130.000.wav\n",
      "/media/e4e/Rainforest_Data1/audioset_nonbird/_BsgV21pwm8_30.000.wav\n",
      "/media/e4e/Rainforest_Data1/audioset_nonbird/_BWvc3aYIqw_0.000.wav\n",
      "/media/e4e/Rainforest_Data1/audioset_nonbird/_c2DFDqOFwc_30.000.wav\n",
      "/media/e4e/Rainforest_Data1/audioset_nonbird/_CI6jNCi0wo_50.000.wav\n",
      "/media/e4e/Rainforest_Data1/audioset_nonbird/_cYiqHDZGQk_60.000.wav\n",
      "/media/e4e/Rainforest_Data1/audioset_nonbird/_de3PGooIx4_370.000.wav\n",
      "/media/e4e/Rainforest_Data1/audioset_nonbird/_dtJIK15_qg_580.000.wav\n",
      "/media/e4e/Rainforest_Data1/audioset_nonbird/_FeZED3dwBs_30.000.wav\n",
      "/media/e4e/Rainforest_Data1/audioset_nonbird/Ct1-uayfSr4_30.000.wav\n",
      "/media/e4e/Rainforest_Data1/audioset_nonbird/Ct12ycfo6xI_30.000.wav\n",
      "/media/e4e/Rainforest_Data1/audioset_nonbird/CT9jQHAPlUA_30.000.wav\n",
      "/media/e4e/Rainforest_Data1/audioset_nonbird/CTbVgSeN7Ro_30.000.wav\n",
      "/media/e4e/Rainforest_Data1/audioset_nonbird/CtljBjcGyhY_240.000.wav\n",
      "/media/e4e/Rainforest_Data1/audioset_nonbird/CTNQNmPRCuQ_30.000.wav\n",
      "/media/e4e/Rainforest_Data1/audioset_nonbird/CtP83CWOMwc_100.000.wav\n",
      "/media/e4e/Rainforest_Data1/audioset_nonbird/ctPbhKldOgA_30.000.wav\n",
      "/media/e4e/Rainforest_Data1/audioset_nonbird/CTU_6kCCrYU_30.000.wav\n",
      "/media/e4e/Rainforest_Data1/audioset_nonbird/CTYO9dLDun4_20.000.wav\n",
      "/media/e4e/Rainforest_Data1/audioset_nonbird/CU8xQDos4zY_80.000.wav\n",
      "/media/e4e/Rainforest_Data1/audioset_nonbird/CuaBHNKycvI_30.000.wav\n",
      "/media/e4e/Rainforest_Data1/audioset_nonbird/cUanP3nzMvU_580.000.wav\n",
      "/media/e4e/Rainforest_Data1/audioset_nonbird/cub0YcZufCA_360.000.wav\n",
      "/media/e4e/Rainforest_Data1/audioset_nonbird/CUJ1MnvyKOw_40.000.wav\n",
      "/media/e4e/Rainforest_Data1/audioset_nonbird/Fvk3sWUjGuM_30.000.wav\n",
      "/media/e4e/Rainforest_Data1/audioset_nonbird/FvQgVl5IBHw_30.000.wav\n",
      "/media/e4e/Rainforest_Data1/audioset_nonbird/fVygSS7i3kA_280.000.wav\n",
      "/media/e4e/Rainforest_Data1/audioset_nonbird/fW6s2NhVseY_110.000.wav\n",
      "/media/e4e/Rainforest_Data1/audioset_nonbird/FWEcoBobn1I_0.000.wav\n",
      "/media/e4e/Rainforest_Data1/audioset_nonbird/FWgslugtDow_30.000.wav\n",
      "/media/e4e/Rainforest_Data1/audioset_nonbird/Fwi2B6s6vGM_30.000.wav\n",
      "/media/e4e/Rainforest_Data1/audioset_nonbird/FwJG02xSVcg_530.000.wav\n",
      "/media/e4e/Rainforest_Data1/audioset_nonbird/FwJnnf1Ogcw_30.000.wav\n",
      "/media/e4e/Rainforest_Data1/audioset_nonbird/fWLjGFgL-2Q_24.000.wav\n",
      "/media/e4e/Rainforest_Data1/audioset_nonbird/FwlNz4gc9s0_30.000.wav\n",
      "/media/e4e/Rainforest_Data1/audioset_nonbird/fWVfi9pAh_4_10.000.wav\n",
      "/media/e4e/Rainforest_Data1/audioset_nonbird/FWWM9d899l0_30.000.wav\n",
      "/media/e4e/Rainforest_Data1/audioset_nonbird/Fx2yDgMqYJA_30.000.wav\n",
      "/media/e4e/Rainforest_Data1/audioset_nonbird/Fx4Ao1oF2kI_150.000.wav\n",
      "/media/e4e/Rainforest_Data1/audioset_nonbird/FXLDx-KknZE_0.000.wav\n",
      "/media/e4e/Rainforest_Data1/audioset_nonbird/FXlyhms7JiM_300.000.wav\n"
     ]
    },
    {
     "name": "stdout",
     "output_type": "stream",
     "text": [
      "/media/e4e/Rainforest_Data1/audioset_nonbird/fXzGMlaGETw_0.000.wav\n",
      "/media/e4e/Rainforest_Data1/audioset_nonbird/fy5n7zlrt_M_30.000.wav\n",
      "/media/e4e/Rainforest_Data1/audioset_nonbird/Fy8T8zRPaEQ_100.000.wav\n",
      "/media/e4e/Rainforest_Data1/audioset_nonbird/fYawTIgEDzg_30.000.wav\n",
      "/media/e4e/Rainforest_Data1/audioset_nonbird/FYC10AA3B0k_130.000.wav\n",
      "/media/e4e/Rainforest_Data1/audioset_nonbird/fyf_A3-tLuk_130.000.wav\n",
      "/media/e4e/Rainforest_Data1/audioset_nonbird/fYhJdb8ka3k_30.000.wav\n",
      "/media/e4e/Rainforest_Data1/audioset_nonbird/FYk2paHPSdg_30.000.wav\n",
      "/media/e4e/Rainforest_Data1/audioset_nonbird/fyKONuZnPXs_50.000.wav\n",
      "/media/e4e/Rainforest_Data1/audioset_nonbird/FYQL9vgGIY8_200.000.wav\n",
      "/media/e4e/Rainforest_Data1/audioset_nonbird/FYsZROlFVVw_350.000.wav\n",
      "/media/e4e/Rainforest_Data1/audioset_nonbird/fZHybuxLwo8_60.000.wav\n",
      "/media/e4e/Rainforest_Data1/audioset_nonbird/fZhywChBkq0_30.000.wav\n",
      "/media/e4e/Rainforest_Data1/audioset_nonbird/FzIiCjnwvD4_0.000.wav\n",
      "/media/e4e/Rainforest_Data1/audioset_nonbird/fZjQBgPD1Ys_30.000.wav\n",
      "/media/e4e/Rainforest_Data1/audioset_nonbird/fZS9lPmqgl0_30.000.wav\n",
      "/media/e4e/Rainforest_Data1/audioset_nonbird/fzuXSymTtVA_30.000.wav\n",
      "/media/e4e/Rainforest_Data1/audioset_nonbird/FZVD7lduY0Y_130.000.wav\n",
      "/media/e4e/Rainforest_Data1/audioset_nonbird/gfxe5H3r7qU_140.000.wav\n",
      "/media/e4e/Rainforest_Data1/audioset_nonbird/gg98qIR9gSg_60.000.wav\n",
      "/media/e4e/Rainforest_Data1/audioset_nonbird/GgfC5ai08Ok_380.000.wav\n",
      "/media/e4e/Rainforest_Data1/audioset_nonbird/GGILl1DBto8_10.000.wav\n",
      "/media/e4e/Rainforest_Data1/audioset_nonbird/GglpWK3bBIA_130.000.wav\n",
      "/media/e4e/Rainforest_Data1/audioset_nonbird/gGmWm1i6pVo_30.000.wav\n",
      "/media/e4e/Rainforest_Data1/audioset_nonbird/gGnWTwQb9XI_20.000.wav\n",
      "/media/e4e/Rainforest_Data1/audioset_nonbird/ggwr-Ixz730_30.000.wav\n",
      "/media/e4e/Rainforest_Data1/audioset_nonbird/gH2lF5hX8Io_100.000.wav\n",
      "/media/e4e/Rainforest_Data1/audioset_nonbird/GH4Ae3x12Lk_6.000.wav\n",
      "/media/e4e/Rainforest_Data1/audioset_nonbird/gH90Uzuoj0U_80.000.wav\n",
      "/media/e4e/Rainforest_Data1/audioset_nonbird/ghl33n26d44_30.000.wav\n",
      "/media/e4e/Rainforest_Data1/audioset_nonbird/GhOXDKsmewM_30.000.wav\n",
      "/media/e4e/Rainforest_Data1/audioset_nonbird/GHQlBD-6rkA_50.000.wav\n",
      "/media/e4e/Rainforest_Data1/audioset_nonbird/gIevaPNDx3c_50.000.wav\n",
      "/media/e4e/Rainforest_Data1/audioset_nonbird/C_GSeZOpoRo_30.000.wav\n",
      "/media/e4e/Rainforest_Data1/audioset_nonbird/C_pnsyNXphA_30.000.wav\n",
      "/media/e4e/Rainforest_Data1/audioset_nonbird/d--yuVh_Wqc_290.000.wav\n",
      "/media/e4e/Rainforest_Data1/audioset_nonbird/D-1RsAdzIcc_30.000.wav\n",
      "/media/e4e/Rainforest_Data1/audioset_nonbird/d-1th_S4J0U_0.000.wav\n",
      "/media/e4e/Rainforest_Data1/audioset_nonbird/D-A7agR6y4w_110.000.wav\n",
      "/media/e4e/Rainforest_Data1/audioset_nonbird/d-do1XZ8f_E_30.000.wav\n",
      "/media/e4e/Rainforest_Data1/audioset_nonbird/d-ESQK6L9-o_0.000.wav\n",
      "/media/e4e/Rainforest_Data1/audioset_nonbird/d-m8eXCpeDg_30.000.wav\n",
      "/media/e4e/Rainforest_Data1/audioset_nonbird/d-svfUMX3BM_10.000.wav\n",
      "/media/e4e/Rainforest_Data1/audioset_nonbird/d-VFbA9_IfQ_400.000.wav\n",
      "/media/e4e/Rainforest_Data1/audioset_nonbird/D-_GFVkaRgg_0.000.wav\n",
      "/media/e4e/Rainforest_Data1/audioset_nonbird/D13hBaMgA2I_0.000.wav\n",
      "/media/e4e/Rainforest_Data1/audioset_nonbird/d16xAFjwcVw_20.000.wav\n",
      "/media/e4e/Rainforest_Data1/audioset_nonbird/d1ihv-qx-aQ_6.000.wav\n",
      "/media/e4e/Rainforest_Data1/audioset_nonbird/D1KdCkSFmnk_0.000.wav\n",
      "/media/e4e/Rainforest_Data1/audioset_nonbird/d1nz5tZckSA_280.000.wav\n",
      "/media/e4e/Rainforest_Data1/audioset_nonbird/D1tl1eS7ubI_0.000.wav\n",
      "/media/e4e/Rainforest_Data1/audioset_nonbird/D2o7XtW2-QA_210.000.wav\n",
      "/media/e4e/Rainforest_Data1/audioset_nonbird/D2w3qHmJrdU_0.000.wav\n",
      "/media/e4e/Rainforest_Data1/audioset_nonbird/d2wSzdo88gA_340.000.wav\n",
      "/media/e4e/Rainforest_Data1/audioset_nonbird/D3BJuOwltoI_10.000.wav\n",
      "/media/e4e/Rainforest_Data1/audioset_nonbird/d3eeMc74nIk_30.000.wav\n",
      "/media/e4e/Rainforest_Data1/audioset_nonbird/D3FV0JAngZ4_210.000.wav\n",
      "/media/e4e/Rainforest_Data1/audioset_nonbird/d3gMwtMK6Gs_30.000.wav\n",
      "/media/e4e/Rainforest_Data1/audioset_nonbird/d3_rqc-tOJI_380.000.wav\n",
      "/media/e4e/Rainforest_Data1/audioset_nonbird/d4G_b-s_Odw_30.000.wav\n",
      "/media/e4e/Rainforest_Data1/audioset_nonbird/d4HRC_ef1X8_50.000.wav\n",
      "/media/e4e/Rainforest_Data1/audioset_nonbird/D4qODPZO6po_30.000.wav\n",
      "/media/e4e/Rainforest_Data1/audioset_nonbird/D4YMMTIxyEo_130.000.wav\n",
      "/media/e4e/Rainforest_Data1/audioset_nonbird/D5d3kzaa4E0_30.000.wav\n",
      "/media/e4e/Rainforest_Data1/audioset_nonbird/D5FCG0RaFn8_250.000.wav\n",
      "/media/e4e/Rainforest_Data1/audioset_nonbird/D668Jl6zuAk_190.000.wav\n",
      "/media/e4e/Rainforest_Data1/audioset_nonbird/d6MzmDJfZLU_30.000.wav\n",
      "/media/e4e/Rainforest_Data1/audioset_nonbird/D6QaAYgC4Rk_10.000.wav\n",
      "/media/e4e/Rainforest_Data1/audioset_nonbird/d6ubqBBBiYY_30.000.wav\n",
      "/media/e4e/Rainforest_Data1/audioset_nonbird/gigxzYegRqM_90.000.wav\n",
      "/media/e4e/Rainforest_Data1/audioset_nonbird/giIBL5sDY0Y_10.000.wav\n",
      "/media/e4e/Rainforest_Data1/audioset_nonbird/GISQt5yiuos_30.000.wav\n",
      "/media/e4e/Rainforest_Data1/audioset_nonbird/GIWJpC_OW1E_23.000.wav\n",
      "/media/e4e/Rainforest_Data1/audioset_nonbird/GIyyb98bgno_0.000.wav\n",
      "/media/e4e/Rainforest_Data1/audioset_nonbird/Gj6etuzTWlQ_30.000.wav\n",
      "/media/e4e/Rainforest_Data1/audioset_nonbird/GJhYkfI7jpU_30.000.wav\n",
      "/media/e4e/Rainforest_Data1/audioset_nonbird/gJrGOmIXXAg_30.000.wav\n",
      "/media/e4e/Rainforest_Data1/audioset_nonbird/gjsMV1MglA4_30.000.wav\n",
      "/media/e4e/Rainforest_Data1/audioset_nonbird/Gk4YRBnvZeg_30.000.wav\n",
      "/media/e4e/Rainforest_Data1/audioset_nonbird/gKagJSrvRew_30.000.wav\n",
      "/media/e4e/Rainforest_Data1/audioset_nonbird/gKcq3s0xtzo_360.000.wav\n",
      "/media/e4e/Rainforest_Data1/audioset_nonbird/gKcqNDPi7p8_120.000.wav\n",
      "/media/e4e/Rainforest_Data1/audioset_nonbird/gkH_Zxasn8o_40.000.wav\n",
      "/media/e4e/Rainforest_Data1/audioset_nonbird/GkpUU3VX4wQ_30.000.wav\n",
      "/media/e4e/Rainforest_Data1/audioset_nonbird/gkwpXipZUoE_290.000.wav\n",
      "/media/e4e/Rainforest_Data1/audioset_nonbird/gkXFwQtjN0E_0.000.wav\n",
      "/media/e4e/Rainforest_Data1/audioset_nonbird/gL9d82dr99M_260.000.wav\n",
      "/media/e4e/Rainforest_Data1/audioset_nonbird/GLS43jSp2b0_420.000.wav\n",
      "/media/e4e/Rainforest_Data1/audioset_nonbird/gLVr8bkegro_50.000.wav\n",
      "/media/e4e/Rainforest_Data1/audioset_nonbird/GLZydk5-PRw_90.000.wav\n",
      "/media/e4e/Rainforest_Data1/audioset_nonbird/gM1DIbory6A_120.000.wav\n",
      "/media/e4e/Rainforest_Data1/audioset_nonbird/gM4rjqjJecw_30.000.wav\n",
      "/media/e4e/Rainforest_Data1/audioset_nonbird/gMgxy7Mx4FY_30.000.wav\n",
      "/media/e4e/Rainforest_Data1/audioset_nonbird/GmIxvyAqv9I_30.000.wav\n",
      "/media/e4e/Rainforest_Data1/audioset_nonbird/gmlOr2AD9d0_10.000.wav\n",
      "/media/e4e/Rainforest_Data1/audioset_nonbird/GmvVeThWNQY_30.000.wav\n",
      "/media/e4e/Rainforest_Data1/audioset_nonbird/GN7JVDmHFCc_30.000.wav\n",
      "/media/e4e/Rainforest_Data1/audioset_nonbird/GncE9WEyD98_23.000.wav\n",
      "/media/e4e/Rainforest_Data1/audioset_nonbird/gneFps8JJ9A_30.000.wav\n",
      "/media/e4e/Rainforest_Data1/audioset_nonbird/gNjeps3EbJA_30.000.wav\n",
      "/media/e4e/Rainforest_Data1/audioset_nonbird/GnmgSQq6E54_180.000.wav\n",
      "/media/e4e/Rainforest_Data1/audioset_nonbird/GNN6PhC6F8Q_290.000.wav\n",
      "/media/e4e/Rainforest_Data1/audioset_nonbird/GNu_hiHGEp0_40.000.wav\n",
      "/media/e4e/Rainforest_Data1/audioset_nonbird/gnydwgilEuA_330.000.wav\n",
      "/media/e4e/Rainforest_Data1/audioset_nonbird/Go4ivzlG818_30.000.wav\n",
      "/media/e4e/Rainforest_Data1/audioset_nonbird/gOB0nM0PRTc_30.000.wav\n",
      "/media/e4e/Rainforest_Data1/audioset_nonbird/GoKGgq7BoVM_10.000.wav\n",
      "/media/e4e/Rainforest_Data1/audioset_nonbird/GORWEdGqJN0_13.000.wav\n",
      "/media/e4e/Rainforest_Data1/audioset_nonbird/gS7sZgzT7_k_20.000.wav\n",
      "/media/e4e/Rainforest_Data1/audioset_nonbird/gsBXngKgy-Q_30.000.wav\n",
      "/media/e4e/Rainforest_Data1/audioset_nonbird/gsecDcTpVmw_0.000.wav\n",
      "/media/e4e/Rainforest_Data1/audioset_nonbird/gseEDpDIWxM_250.000.wav\n",
      "/media/e4e/Rainforest_Data1/audioset_nonbird/gsEgN-dbQjo_320.000.wav\n",
      "/media/e4e/Rainforest_Data1/audioset_nonbird/GsHY-mX6eLw_80.000.wav\n",
      "/media/e4e/Rainforest_Data1/audioset_nonbird/GspfFnEnXvE_30.000.wav\n",
      "/media/e4e/Rainforest_Data1/audioset_nonbird/GSTxgr6KkFs_22.000.wav\n",
      "/media/e4e/Rainforest_Data1/audioset_nonbird/gSyNNvHYyGg_50.000.wav\n",
      "/media/e4e/Rainforest_Data1/audioset_nonbird/GT627WBr9rA_23.000.wav\n",
      "/media/e4e/Rainforest_Data1/audioset_nonbird/gt6Njc8W0X0_330.000.wav\n",
      "/media/e4e/Rainforest_Data1/audioset_nonbird/gTcKbsKDkWk_50.000.wav\n",
      "/media/e4e/Rainforest_Data1/audioset_nonbird/GteozUDpJRc_30.000.wav\n"
     ]
    },
    {
     "name": "stdout",
     "output_type": "stream",
     "text": [
      "/media/e4e/Rainforest_Data1/audioset_nonbird/GTIIVBHdKrM_490.000.wav\n",
      "/media/e4e/Rainforest_Data1/audioset_nonbird/GtJiY4ezw_E_10.000.wav\n",
      "/media/e4e/Rainforest_Data1/audioset_nonbird/ci_5m0NxEac_190.000.wav\n",
      "/media/e4e/Rainforest_Data1/audioset_nonbird/Cl_EaIRJRtM_29.000.wav\n",
      "/media/e4e/Rainforest_Data1/audioset_nonbird/Cp27zx62zRE_30.000.wav\n",
      "/media/e4e/Rainforest_Data1/audioset_nonbird/Cs_DJvnYWTs_10.000.wav\n",
      "/media/e4e/Rainforest_Data1/audioset_nonbird/CumXKdJuogE_20.000.wav\n",
      "/media/e4e/Rainforest_Data1/audioset_nonbird/CwZbOyP1ep0_30.000.wav\n",
      "/media/e4e/Rainforest_Data1/audioset_nonbird/c_c06qrLbo4_90.000.wav\n",
      "/media/e4e/Rainforest_Data1/audioset_nonbird/d2_rTS26hvA_10.000.wav\n",
      "/media/e4e/Rainforest_Data1/audioset_nonbird/D6VGsQPmhLU_30.000.wav\n",
      "/media/e4e/Rainforest_Data1/audioset_nonbird/DA7axOalokI_0.000.wav\n",
      "/media/e4e/Rainforest_Data1/audioset_nonbird/DEXE_V8oBYI_30.000.wav\n",
      "/media/e4e/Rainforest_Data1/audioset_nonbird/Df5Y6TNiNEU_10.000.wav\n",
      "/media/e4e/Rainforest_Data1/audioset_nonbird/dFCKiXEMJA8_0.000.wav\n",
      "/media/e4e/Rainforest_Data1/audioset_nonbird/DfCTXmNRj24_30.000.wav\n",
      "/media/e4e/Rainforest_Data1/audioset_nonbird/DfCZGsD7U7k_440.000.wav\n",
      "/media/e4e/Rainforest_Data1/audioset_nonbird/dFqOBLxhEl8_20.000.wav\n",
      "/media/e4e/Rainforest_Data1/audioset_nonbird/dfsvT5xImNg_80.000.wav\n",
      "/media/e4e/Rainforest_Data1/audioset_nonbird/DFY9Y-447Fc_170.000.wav\n",
      "/media/e4e/Rainforest_Data1/audioset_nonbird/dfYYRopvVx0_30.000.wav\n",
      "/media/e4e/Rainforest_Data1/audioset_nonbird/DG3jA6Fswak_29.000.wav\n",
      "/media/e4e/Rainforest_Data1/audioset_nonbird/dg3oPBY_vXQ_0.000.wav\n",
      "/media/e4e/Rainforest_Data1/audioset_nonbird/DG5Ks3JTN5E_30.000.wav\n",
      "/media/e4e/Rainforest_Data1/audioset_nonbird/dG7RFy7mAyY_30.000.wav\n",
      "/media/e4e/Rainforest_Data1/audioset_nonbird/DGlOuk4wEn8_11.000.wav\n",
      "/media/e4e/Rainforest_Data1/audioset_nonbird/dH-FZyKTY3s_30.000.wav\n",
      "/media/e4e/Rainforest_Data1/audioset_nonbird/dHbri1pGZ2w_90.000.wav\n",
      "/media/e4e/Rainforest_Data1/audioset_nonbird/dhdwXFf3LIE_140.000.wav\n",
      "/media/e4e/Rainforest_Data1/audioset_nonbird/DhiZ6pZ8LEc_170.000.wav\n",
      "/media/e4e/Rainforest_Data1/audioset_nonbird/DHk6BiokRC4_160.000.wav\n",
      "/media/e4e/Rainforest_Data1/audioset_nonbird/DI7TX9xdGY8_30.000.wav\n",
      "/media/e4e/Rainforest_Data1/audioset_nonbird/dIgNwyFB0Tg_250.000.wav\n",
      "/media/e4e/Rainforest_Data1/audioset_nonbird/DIJhe4YuSo8_120.000.wav\n",
      "/media/e4e/Rainforest_Data1/audioset_nonbird/DiYPvqiL4K4_130.000.wav\n",
      "/media/e4e/Rainforest_Data1/audioset_nonbird/Dj3kmG8E1Ng_30.000.wav\n",
      "/media/e4e/Rainforest_Data1/audioset_nonbird/dj3NKqIm_sw_30.000.wav\n",
      "/media/e4e/Rainforest_Data1/audioset_nonbird/dJaeyk7OTzo_10.000.wav\n",
      "/media/e4e/Rainforest_Data1/audioset_nonbird/DjcbzPb1_Tk_30.000.wav\n",
      "/media/e4e/Rainforest_Data1/audioset_nonbird/DJHqDsRCHsg_100.000.wav\n",
      "/media/e4e/Rainforest_Data1/audioset_nonbird/DK6vm2JGNSE_30.000.wav\n",
      "/media/e4e/Rainforest_Data1/audioset_nonbird/dkgy2eaqZbA_70.000.wav\n",
      "/media/e4e/Rainforest_Data1/audioset_nonbird/GtPLlcyLykQ_30.000.wav\n",
      "/media/e4e/Rainforest_Data1/audioset_nonbird/GTVJ1Nb2kh4_30.000.wav\n",
      "/media/e4e/Rainforest_Data1/audioset_nonbird/Gu0sk_RYFLc_60.000.wav\n",
      "/media/e4e/Rainforest_Data1/audioset_nonbird/gubPH3WEurg_0.000.wav\n",
      "/media/e4e/Rainforest_Data1/audioset_nonbird/guD3o7aspko_30.000.wav\n",
      "/media/e4e/Rainforest_Data1/audioset_nonbird/gUdhsxNP8vs_210.000.wav\n",
      "/media/e4e/Rainforest_Data1/audioset_nonbird/guFu4Z4g1GE_30.000.wav\n",
      "/media/e4e/Rainforest_Data1/audioset_nonbird/GuKnkS2IdK8_540.000.wav\n",
      "/media/e4e/Rainforest_Data1/audioset_nonbird/gUMRfQeATuI_17.000.wav\n",
      "/media/e4e/Rainforest_Data1/audioset_nonbird/guoU_cuR8EE_30.000.wav\n",
      "/media/e4e/Rainforest_Data1/audioset_nonbird/GuQFhmGqdog_62.000.wav\n",
      "/media/e4e/Rainforest_Data1/audioset_nonbird/gUtJJIA-tTo_70.000.wav\n",
      "/media/e4e/Rainforest_Data1/audioset_nonbird/GuUPAjaacnY_120.000.wav\n",
      "/media/e4e/Rainforest_Data1/audioset_nonbird/gUZOZP-sgng_330.000.wav\n",
      "/media/e4e/Rainforest_Data1/audioset_nonbird/GVc6N3hYATg_100.000.wav\n",
      "/media/e4e/Rainforest_Data1/audioset_nonbird/gVDSFrufSJ8_120.000.wav\n",
      "/media/e4e/Rainforest_Data1/audioset_nonbird/GVISCgJrEqE_330.000.wav\n",
      "/media/e4e/Rainforest_Data1/audioset_nonbird/gvnM4kK4r70_40.000.wav\n",
      "/media/e4e/Rainforest_Data1/audioset_nonbird/gvuOhpsI9yQ_120.000.wav\n",
      "/media/e4e/Rainforest_Data1/audioset_nonbird/GVw4OKipplI_30.000.wav\n",
      "/media/e4e/Rainforest_Data1/audioset_nonbird/H2Uwrd-XK3M_80.000.wav\n",
      "/media/e4e/Rainforest_Data1/audioset_nonbird/h2XTOVCno2M_30.000.wav\n",
      "/media/e4e/Rainforest_Data1/audioset_nonbird/H3BWUt31xhM_20.000.wav\n",
      "/media/e4e/Rainforest_Data1/audioset_nonbird/h3P2Si6bC6Y_560.000.wav\n",
      "/media/e4e/Rainforest_Data1/audioset_nonbird/H3P5GZ8fMCw_30.000.wav\n",
      "/media/e4e/Rainforest_Data1/audioset_nonbird/h4IhBsi2dcw_170.000.wav\n",
      "/media/e4e/Rainforest_Data1/audioset_nonbird/h5cnvBkmyHI_30.000.wav\n",
      "/media/e4e/Rainforest_Data1/audioset_nonbird/h5heq2QPP0s_130.000.wav\n",
      "/media/e4e/Rainforest_Data1/audioset_nonbird/h5HZG_BcOB0_30.000.wav\n",
      "/media/e4e/Rainforest_Data1/audioset_nonbird/H5Q6zrL5nY4_30.000.wav\n",
      "/media/e4e/Rainforest_Data1/audioset_nonbird/H5rRqioLDxY_30.000.wav\n",
      "/media/e4e/Rainforest_Data1/audioset_nonbird/h6aorHIt-ZA_70.000.wav\n",
      "/media/e4e/Rainforest_Data1/audioset_nonbird/H6bed-SH2bc_30.000.wav\n",
      "/media/e4e/Rainforest_Data1/audioset_nonbird/H6BsnEYfyKg_140.000.wav\n",
      "/media/e4e/Rainforest_Data1/audioset_nonbird/H6gIsSF1ftM_130.000.wav\n",
      "/media/e4e/Rainforest_Data1/audioset_nonbird/h6k-ZoXBOoc_160.000.wav\n",
      "/media/e4e/Rainforest_Data1/audioset_nonbird/H7leMctSTMc_30.000.wav\n",
      "/media/e4e/Rainforest_Data1/audioset_nonbird/H85puQUqrQY_150.000.wav\n",
      "/media/e4e/Rainforest_Data1/audioset_nonbird/H88svrfkkNU_0.000.wav\n",
      "/media/e4e/Rainforest_Data1/audioset_nonbird/H8akZoFrPvo_30.000.wav\n",
      "/media/e4e/Rainforest_Data1/audioset_nonbird/H8c0X5xfV4g_350.000.wav\n",
      "/media/e4e/Rainforest_Data1/audioset_nonbird/H8CZG1Yu74Y_40.000.wav\n",
      "/media/e4e/Rainforest_Data1/audioset_nonbird/H8d1mZOqb1c_110.000.wav\n",
      "/media/e4e/Rainforest_Data1/audioset_nonbird/h8f-Wkv0VI8_130.000.wav\n",
      "/media/e4e/Rainforest_Data1/audioset_nonbird/H8gY8KC4vwI_0.000.wav\n",
      "/media/e4e/Rainforest_Data1/audioset_nonbird/H8PFjvMjGB8_320.000.wav\n",
      "/media/e4e/Rainforest_Data1/audioset_nonbird/h9cN2d6X_jo_15.000.wav\n",
      "/media/e4e/Rainforest_Data1/audioset_nonbird/H9EydrbVkPs_30.000.wav\n",
      "/media/e4e/Rainforest_Data1/audioset_nonbird/H9HNXYxRmv8_30.000.wav\n",
      "/media/e4e/Rainforest_Data1/audioset_nonbird/h9IumDQGZPM_30.000.wav\n",
      "/media/e4e/Rainforest_Data1/audioset_nonbird/H9JA9CibQmU_210.000.wav\n",
      "/media/e4e/Rainforest_Data1/audioset_nonbird/H9ozCKhRl5A_30.000.wav\n",
      "/media/e4e/Rainforest_Data1/audioset_nonbird/h9vUucEhRN4_90.000.wav\n",
      "/media/e4e/Rainforest_Data1/audioset_nonbird/hABTEASDP_U_30.000.wav\n",
      "/media/e4e/Rainforest_Data1/audioset_nonbird/hAehs6GdfIQ_30.000.wav\n",
      "/media/e4e/Rainforest_Data1/audioset_nonbird/HAHn_zB47ig_80.000.wav\n",
      "/media/e4e/Rainforest_Data1/audioset_nonbird/hAukn8dWZ2M_30.000.wav\n",
      "/media/e4e/Rainforest_Data1/audioset_nonbird/HAyJsOyHCpA_130.000.wav\n",
      "/media/e4e/Rainforest_Data1/audioset_nonbird/hBEbsEs2keg_50.000.wav\n",
      "/media/e4e/Rainforest_Data1/audioset_nonbird/HcBx-IgTqho_160.000.wav\n",
      "/media/e4e/Rainforest_Data1/audioset_nonbird/HCC9JldRsNc_0.000.wav\n",
      "/media/e4e/Rainforest_Data1/audioset_nonbird/hcfj5h_bGWI_30.000.wav\n",
      "/media/e4e/Rainforest_Data1/audioset_nonbird/hCJ5hEnQo4s_30.000.wav\n",
      "/media/e4e/Rainforest_Data1/audioset_nonbird/HcmzzM7q6-4_60.000.wav\n",
      "/media/e4e/Rainforest_Data1/audioset_nonbird/HCNZGJc4XAI_0.000.wav\n",
      "/media/e4e/Rainforest_Data1/audioset_nonbird/hCX2DpwEBQY_30.000.wav\n",
      "/media/e4e/Rainforest_Data1/audioset_nonbird/HFLeUue1fWo_30.000.wav\n",
      "/media/e4e/Rainforest_Data1/audioset_nonbird/hFqZZrj0rnM_30.000.wav\n",
      "/media/e4e/Rainforest_Data1/audioset_nonbird/Hg0Rv9JEBTQ_30.000.wav\n",
      "/media/e4e/Rainforest_Data1/audioset_nonbird/hG8odscqlfI_490.000.wav\n",
      "/media/e4e/Rainforest_Data1/audioset_nonbird/hgiPphyUS7I_30.000.wav\n",
      "/media/e4e/Rainforest_Data1/audioset_nonbird/HGnQ9pO9vgE_90.000.wav\n",
      "/media/e4e/Rainforest_Data1/audioset_nonbird/HgSqmsr5GOQ_30.000.wav\n",
      "/media/e4e/Rainforest_Data1/audioset_nonbird/hgsXKroWLUg_10.000.wav\n",
      "/media/e4e/Rainforest_Data1/audioset_nonbird/Hh6ofaxCkn0_30.000.wav\n",
      "/media/e4e/Rainforest_Data1/audioset_nonbird/hHFqyvBK8cE_120.000.wav\n",
      "/media/e4e/Rainforest_Data1/audioset_nonbird/HHI0y--P-TE_30.000.wav\n",
      "/media/e4e/Rainforest_Data1/audioset_nonbird/HHlb-h2Pc7o_30.000.wav\n",
      "/media/e4e/Rainforest_Data1/audioset_nonbird/HhP9eZ8cNIY_0.000.wav\n"
     ]
    },
    {
     "name": "stdout",
     "output_type": "stream",
     "text": [
      "/media/e4e/Rainforest_Data1/audioset_nonbird/HhZy12f860U_30.000.wav\n",
      "/media/e4e/Rainforest_Data1/audioset_nonbird/hI-awYUfZSQ_30.000.wav\n",
      "/media/e4e/Rainforest_Data1/audioset_nonbird/hIazzIF19gY_110.000.wav\n",
      "/media/e4e/Rainforest_Data1/audioset_nonbird/HigTx0yxhIE_130.000.wav\n",
      "/media/e4e/Rainforest_Data1/audioset_nonbird/HIymhnYWTKI_210.000.wav\n",
      "/media/e4e/Rainforest_Data1/audioset_nonbird/Hj-8q8SyYVM_30.000.wav\n",
      "/media/e4e/Rainforest_Data1/audioset_nonbird/HJ-rDsBb0WI_330.000.wav\n",
      "/media/e4e/Rainforest_Data1/audioset_nonbird/HkXSX7Kdhms_30.000.wav\n",
      "/media/e4e/Rainforest_Data1/audioset_nonbird/hkzmDTt9aWE_340.000.wav\n",
      "/media/e4e/Rainforest_Data1/audioset_nonbird/HL0Tyn0YTaA_10.000.wav\n",
      "/media/e4e/Rainforest_Data1/audioset_nonbird/hl19xAqJqoQ_27.000.wav\n",
      "/media/e4e/Rainforest_Data1/audioset_nonbird/HLncJNvEBH8_30.000.wav\n",
      "/media/e4e/Rainforest_Data1/audioset_nonbird/hLUn6I4BUYA_120.000.wav\n",
      "/media/e4e/Rainforest_Data1/audioset_nonbird/HLxIwN7KAks_20.000.wav\n",
      "/media/e4e/Rainforest_Data1/audioset_nonbird/HLz3N5nG8fQ_30.000.wav\n",
      "/media/e4e/Rainforest_Data1/audioset_nonbird/hmbXi3Tu56c_30.000.wav\n",
      "/media/e4e/Rainforest_Data1/audioset_nonbird/hMdEot-yfk8_30.000.wav\n",
      "/media/e4e/Rainforest_Data1/audioset_nonbird/Hmh623kqD5g_30.000.wav\n",
      "/media/e4e/Rainforest_Data1/audioset_nonbird/HMnF8n9c5-Y_30.000.wav\n",
      "/media/e4e/Rainforest_Data1/audioset_nonbird/HMopVml_zwQ_60.000.wav\n",
      "/media/e4e/Rainforest_Data1/audioset_nonbird/hN1ykzC8kZM_30.000.wav\n",
      "/media/e4e/Rainforest_Data1/audioset_nonbird/Hnlnzko0e40_30.000.wav\n",
      "/media/e4e/Rainforest_Data1/audioset_nonbird/Ho-AkPmmMVk_30.000.wav\n",
      "/media/e4e/Rainforest_Data1/audioset_nonbird/HrvdzCGjbzw_30.000.wav\n",
      "/media/e4e/Rainforest_Data1/audioset_nonbird/HrWlKN1DSYo_30.000.wav\n",
      "/media/e4e/Rainforest_Data1/audioset_nonbird/HrxfNVYirCo_30.000.wav\n",
      "/media/e4e/Rainforest_Data1/audioset_nonbird/hrzEf-5UmTs_150.000.wav\n",
      "/media/e4e/Rainforest_Data1/audioset_nonbird/HS28EUWt8dE_110.000.wav\n",
      "/media/e4e/Rainforest_Data1/audioset_nonbird/hs4z6xnkvbQ_30.000.wav\n",
      "/media/e4e/Rainforest_Data1/audioset_nonbird/HS83sOa8H5w_290.000.wav\n",
      "/media/e4e/Rainforest_Data1/audioset_nonbird/hSAgDYarzOs_60.000.wav\n",
      "/media/e4e/Rainforest_Data1/audioset_nonbird/hsC_sT0A4XM_30.000.wav\n",
      "/media/e4e/Rainforest_Data1/audioset_nonbird/HShbaC9ORSo_410.000.wav\n",
      "/media/e4e/Rainforest_Data1/audioset_nonbird/Hsink5tWkmI_30.000.wav\n",
      "/media/e4e/Rainforest_Data1/audioset_nonbird/HskqNJlIp-Y_200.000.wav\n",
      "/media/e4e/Rainforest_Data1/audioset_nonbird/HSPBrLMYWQA_30.000.wav\n",
      "/media/e4e/Rainforest_Data1/audioset_nonbird/hSpKgT1yjdE_30.000.wav\n",
      "/media/e4e/Rainforest_Data1/audioset_nonbird/hsUwQBvZGSI_530.000.wav\n",
      "/media/e4e/Rainforest_Data1/audioset_nonbird/Dw2YNHvPbng_30.000.wav\n",
      "/media/e4e/Rainforest_Data1/audioset_nonbird/Dw3DgAnnjAc_30.000.wav\n",
      "/media/e4e/Rainforest_Data1/audioset_nonbird/dW4eW0Xreik_30.000.wav\n",
      "/media/e4e/Rainforest_Data1/audioset_nonbird/DWKxHPkDoNA_70.000.wav\n",
      "/media/e4e/Rainforest_Data1/audioset_nonbird/DwQ1WyGETDY_27.000.wav\n",
      "/media/e4e/Rainforest_Data1/audioset_nonbird/DWrcxhcY26I_30.000.wav\n",
      "/media/e4e/Rainforest_Data1/audioset_nonbird/dWRS0q8d2tw_30.000.wav\n",
      "/media/e4e/Rainforest_Data1/audioset_nonbird/dwX2VFBwk4s_0.000.wav\n",
      "/media/e4e/Rainforest_Data1/audioset_nonbird/DX4tm0Rqo18_470.000.wav\n",
      "/media/e4e/Rainforest_Data1/audioset_nonbird/DxG11XnllVk_40.000.wav\n",
      "/media/e4e/Rainforest_Data1/audioset_nonbird/DXgSMIm0HHE_360.000.wav\n",
      "/media/e4e/Rainforest_Data1/audioset_nonbird/dXM1JnYck98_30.000.wav\n",
      "/media/e4e/Rainforest_Data1/audioset_nonbird/DXqGCaT5F6g_30.000.wav\n",
      "/media/e4e/Rainforest_Data1/audioset_nonbird/dxrg1wawqvY_0.000.wav\n",
      "/media/e4e/Rainforest_Data1/audioset_nonbird/dXRITRpOXUo_60.000.wav\n",
      "/media/e4e/Rainforest_Data1/audioset_nonbird/DXTawFpUEaM_220.000.wav\n",
      "/media/e4e/Rainforest_Data1/audioset_nonbird/dxvhJNXKIw0_30.000.wav\n",
      "/media/e4e/Rainforest_Data1/audioset_nonbird/dY8YjaA0blY_30.000.wav\n",
      "/media/e4e/Rainforest_Data1/audioset_nonbird/DYdalOQnx1Y_30.000.wav\n",
      "/media/e4e/Rainforest_Data1/audioset_nonbird/dYea6bmdaSY_40.000.wav\n",
      "/media/e4e/Rainforest_Data1/audioset_nonbird/dyhibsrh4k0_280.000.wav\n",
      "/media/e4e/Rainforest_Data1/audioset_nonbird/DymSRUrjT5c_560.000.wav\n",
      "/media/e4e/Rainforest_Data1/audioset_nonbird/DyW5D_SdENM_240.000.wav\n",
      "/media/e4e/Rainforest_Data1/audioset_nonbird/dYzmRe_2g0o_30.000.wav\n",
      "/media/e4e/Rainforest_Data1/audioset_nonbird/dZ5O4TRp9dk_30.000.wav\n",
      "/media/e4e/Rainforest_Data1/audioset_nonbird/dzDUnxU6mSY_450.000.wav\n",
      "/media/e4e/Rainforest_Data1/audioset_nonbird/DZdvovpyYYQ_110.000.wav\n",
      "/media/e4e/Rainforest_Data1/audioset_nonbird/dzIT-zvyVlY_590.000.wav\n",
      "/media/e4e/Rainforest_Data1/audioset_nonbird/dzrLSSVutqM_330.000.wav\n",
      "/media/e4e/Rainforest_Data1/audioset_nonbird/dZRxlPO_ItY_30.000.wav\n",
      "/media/e4e/Rainforest_Data1/audioset_nonbird/dZT0qrh1U6k_30.000.wav\n",
      "/media/e4e/Rainforest_Data1/audioset_nonbird/dzvthbJSHiQ_5.000.wav\n",
      "/media/e4e/Rainforest_Data1/audioset_nonbird/d_Hdkt1_ivo_30.000.wav\n",
      "/media/e4e/Rainforest_Data1/audioset_nonbird/d_k3fsJrW4U_210.000.wav\n",
      "/media/e4e/Rainforest_Data1/audioset_nonbird/E-ChpXLfh_E_30.000.wav\n",
      "/media/e4e/Rainforest_Data1/audioset_nonbird/E-hmA_v9ePI_22.000.wav\n",
      "/media/e4e/Rainforest_Data1/audioset_nonbird/E-QLJc3jiEg_190.000.wav\n",
      "/media/e4e/Rainforest_Data1/audioset_nonbird/E-qvsNdiFzc_140.000.wav\n",
      "/media/e4e/Rainforest_Data1/audioset_nonbird/E0gBwPTHxqE_30.000.wav\n",
      "/media/e4e/Rainforest_Data1/audioset_nonbird/e0SHMVK7cec_170.000.wav\n",
      "/media/e4e/Rainforest_Data1/audioset_nonbird/e0U_yQITBks_30.000.wav\n",
      "/media/e4e/Rainforest_Data1/audioset_nonbird/E1E8seuHr-8_580.000.wav\n",
      "/media/e4e/Rainforest_Data1/audioset_nonbird/E1o44_MNb1k_40.000.wav\n",
      "/media/e4e/Rainforest_Data1/audioset_nonbird/e1Zkg1acihw_360.000.wav\n",
      "/media/e4e/Rainforest_Data1/audioset_nonbird/e2uBPSFByac_560.000.wav\n",
      "/media/e4e/Rainforest_Data1/audioset_nonbird/e2UlRtXdTU0_30.000.wav\n",
      "/media/e4e/Rainforest_Data1/audioset_nonbird/e39bE8ctNJc_280.000.wav\n",
      "/media/e4e/Rainforest_Data1/audioset_nonbird/e3Ch3eXvJkw_200.000.wav\n",
      "/media/e4e/Rainforest_Data1/audioset_nonbird/e42ylHtkQ5M_30.000.wav\n",
      "/media/e4e/Rainforest_Data1/audioset_nonbird/E4eWjw3bmQg_30.000.wav\n",
      "/media/e4e/Rainforest_Data1/audioset_nonbird/E4oNVFYPj8Y_300.000.wav\n",
      "/media/e4e/Rainforest_Data1/audioset_nonbird/e4VoLbOdkIE_180.000.wav\n",
      "/media/e4e/Rainforest_Data1/audioset_nonbird/E5_JmqsK8_c_30.000.wav\n",
      "/media/e4e/Rainforest_Data1/audioset_nonbird/e65Q31mK4l8_80.000.wav\n",
      "/media/e4e/Rainforest_Data1/audioset_nonbird/E6JcCtlACvc_30.000.wav\n",
      "/media/e4e/Rainforest_Data1/audioset_nonbird/E7ba1G_BbCI_60.000.wav\n",
      "/media/e4e/Rainforest_Data1/audioset_nonbird/E7n4klULtxI_530.000.wav\n",
      "/media/e4e/Rainforest_Data1/audioset_nonbird/E7q_QwLYI8U_210.000.wav\n",
      "/media/e4e/Rainforest_Data1/audioset_nonbird/e8iIH5NY_cQ_50.000.wav\n",
      "/media/e4e/Rainforest_Data1/audioset_nonbird/e8iKX9r6nEA_0.000.wav\n",
      "/media/e4e/Rainforest_Data1/audioset_nonbird/E8SPrMj1cto_30.000.wav\n",
      "/media/e4e/Rainforest_Data1/audioset_nonbird/E8sYrDYcIxg_30.000.wav\n",
      "/media/e4e/Rainforest_Data1/audioset_nonbird/E8UkQe9WvzA_170.000.wav\n",
      "/media/e4e/Rainforest_Data1/audioset_nonbird/e8xkukid_2o_30.000.wav\n",
      "/media/e4e/Rainforest_Data1/audioset_nonbird/e97FQHvMrP0_30.000.wav\n",
      "/media/e4e/Rainforest_Data1/audioset_nonbird/E9CrHaJJ8I8_130.000.wav\n",
      "/media/e4e/Rainforest_Data1/audioset_nonbird/e9EUmQBO498_0.000.wav\n",
      "/media/e4e/Rainforest_Data1/audioset_nonbird/Ht3h4-eNQCU_5.000.wav\n",
      "/media/e4e/Rainforest_Data1/audioset_nonbird/ht4cuUz_X14_220.000.wav\n",
      "/media/e4e/Rainforest_Data1/audioset_nonbird/hTAWbHXCJ2A_60.000.wav\n",
      "/media/e4e/Rainforest_Data1/audioset_nonbird/HtDjOm1Iolw_30.000.wav\n",
      "/media/e4e/Rainforest_Data1/audioset_nonbird/HtSznF9_784_30.000.wav\n",
      "/media/e4e/Rainforest_Data1/audioset_nonbird/hU0QZQRTNr0_110.000.wav\n",
      "/media/e4e/Rainforest_Data1/audioset_nonbird/HUacCb4_r_c_30.000.wav\n",
      "/media/e4e/Rainforest_Data1/audioset_nonbird/humEMjHElG0_0.000.wav\n",
      "/media/e4e/Rainforest_Data1/audioset_nonbird/HvbCaYacIC4_30.000.wav\n",
      "/media/e4e/Rainforest_Data1/audioset_nonbird/hvBFjdYnW4U_30.000.wav\n",
      "/media/e4e/Rainforest_Data1/audioset_nonbird/hVG4p9QJHk0_30.000.wav\n",
      "/media/e4e/Rainforest_Data1/audioset_nonbird/hVOyXkdO1Lo_30.000.wav\n",
      "/media/e4e/Rainforest_Data1/audioset_nonbird/HVsXJDR1_Lw_30.000.wav\n",
      "/media/e4e/Rainforest_Data1/audioset_nonbird/HvtmFczEZBU_30.000.wav\n",
      "/media/e4e/Rainforest_Data1/audioset_nonbird/HvuHSr_yncE_70.000.wav\n",
      "/media/e4e/Rainforest_Data1/audioset_nonbird/HVy_lIAzhMA_6.000.wav\n"
     ]
    },
    {
     "name": "stdout",
     "output_type": "stream",
     "text": [
      "/media/e4e/Rainforest_Data1/audioset_nonbird/HVZlF3SsF7A_30.000.wav\n",
      "/media/e4e/Rainforest_Data1/audioset_nonbird/Hwgdj_cPNFo_240.000.wav\n",
      "/media/e4e/Rainforest_Data1/audioset_nonbird/HwR__vrBXBw_280.000.wav\n",
      "/media/e4e/Rainforest_Data1/audioset_nonbird/hx1EqVB_Xbs_210.000.wav\n",
      "/media/e4e/Rainforest_Data1/audioset_nonbird/HxMoMMrA6Eo_30.000.wav\n",
      "/media/e4e/Rainforest_Data1/audioset_nonbird/Idld60L2LEQ_21.000.wav\n",
      "/media/e4e/Rainforest_Data1/audioset_nonbird/IDlL10UNWGM_10.000.wav\n",
      "/media/e4e/Rainforest_Data1/audioset_nonbird/IdqTtYcY8L4_140.000.wav\n",
      "/media/e4e/Rainforest_Data1/audioset_nonbird/Idzfy0XbZRo_7.000.wav\n",
      "/media/e4e/Rainforest_Data1/audioset_nonbird/IEC8cLcZ6IE_170.000.wav\n",
      "/media/e4e/Rainforest_Data1/audioset_nonbird/ieEjmmhW9Cw_180.000.wav\n",
      "/media/e4e/Rainforest_Data1/audioset_nonbird/IEfHtxeR2S0_30.000.wav\n",
      "/media/e4e/Rainforest_Data1/audioset_nonbird/ieiLKWXm-iw_20.000.wav\n",
      "/media/e4e/Rainforest_Data1/audioset_nonbird/IEJTbreQd5s_15.000.wav\n",
      "/media/e4e/Rainforest_Data1/audioset_nonbird/iEQwupwwp0s_30.000.wav\n",
      "/media/e4e/Rainforest_Data1/audioset_nonbird/IeSgGFQYk1s_30.000.wav\n",
      "/media/e4e/Rainforest_Data1/audioset_nonbird/IETr-x7dhFY_30.000.wav\n",
      "/media/e4e/Rainforest_Data1/audioset_nonbird/IewbWL915xw_30.000.wav\n",
      "/media/e4e/Rainforest_Data1/audioset_nonbird/IeYAj30Jb8Y_30.000.wav\n",
      "/media/e4e/Rainforest_Data1/audioset_nonbird/ieZmQbzQYtw_0.000.wav\n",
      "/media/e4e/Rainforest_Data1/audioset_nonbird/dh81mRSaY5U_30.000.wav\n",
      "/media/e4e/Rainforest_Data1/audioset_nonbird/dkk1-nJesKs_590.000.wav\n",
      "/media/e4e/Rainforest_Data1/audioset_nonbird/DmkZqoczclo_0.000.wav\n",
      "/media/e4e/Rainforest_Data1/audioset_nonbird/DOwkjBCah5A_590.000.wav\n",
      "/media/e4e/Rainforest_Data1/audioset_nonbird/dR1_YrC4f6Y_220.000.wav\n",
      "/media/e4e/Rainforest_Data1/audioset_nonbird/Dw1TqcmgVc0_0.000.wav\n",
      "/media/e4e/Rainforest_Data1/audioset_nonbird/Dw_vhsj60lo_20.000.wav\n",
      "/media/e4e/Rainforest_Data1/audioset_nonbird/d_5e-oIXqOw_30.000.wav\n",
      "/media/e4e/Rainforest_Data1/audioset_nonbird/E4_8itQSrsg_30.000.wav\n",
      "/media/e4e/Rainforest_Data1/audioset_nonbird/E9o3kvSI4FM_21.000.wav\n",
      "/media/e4e/Rainforest_Data1/audioset_nonbird/EBHSSNxR-_0_4.000.wav\n",
      "/media/e4e/Rainforest_Data1/audioset_nonbird/IfsB-8hbcL8_30.000.wav\n",
      "/media/e4e/Rainforest_Data1/audioset_nonbird/IGFZfTxCc5I_20.000.wav\n",
      "/media/e4e/Rainforest_Data1/audioset_nonbird/iGsI9ikWgvs_170.000.wav\n",
      "/media/e4e/Rainforest_Data1/audioset_nonbird/Ih0xy7tt2JY_30.000.wav\n",
      "/media/e4e/Rainforest_Data1/audioset_nonbird/ih3ss0skNGQ_30.000.wav\n",
      "/media/e4e/Rainforest_Data1/audioset_nonbird/ihcAiSvZOyU_30.000.wav\n",
      "/media/e4e/Rainforest_Data1/audioset_nonbird/IHcpkrnOS_Y_30.000.wav\n",
      "/media/e4e/Rainforest_Data1/audioset_nonbird/IHfSXkyzYJg_490.000.wav\n",
      "/media/e4e/Rainforest_Data1/audioset_nonbird/IHg3nrJZQ1I_100.000.wav\n",
      "/media/e4e/Rainforest_Data1/audioset_nonbird/iHYOaGNdweo_230.000.wav\n",
      "/media/e4e/Rainforest_Data1/audioset_nonbird/iI3sh9Ir0Go_280.000.wav\n",
      "/media/e4e/Rainforest_Data1/audioset_nonbird/iiAK295_-jk_21.000.wav\n",
      "/media/e4e/Rainforest_Data1/audioset_nonbird/IiCNAp2sR9c_30.000.wav\n",
      "/media/e4e/Rainforest_Data1/audioset_nonbird/iIEfBIGEZ0o_30.000.wav\n",
      "/media/e4e/Rainforest_Data1/audioset_nonbird/IiI9ctDL10c_53.000.wav\n",
      "/media/e4e/Rainforest_Data1/audioset_nonbird/eFikrMyPpcE_10.000.wav\n",
      "/media/e4e/Rainforest_Data1/audioset_nonbird/EFIz_ZhZ4Cw_170.000.wav\n",
      "/media/e4e/Rainforest_Data1/audioset_nonbird/EfpGZ55vTVo_30.000.wav\n",
      "/media/e4e/Rainforest_Data1/audioset_nonbird/efTVnvwI2PQ_240.000.wav\n",
      "/media/e4e/Rainforest_Data1/audioset_nonbird/EfUUgsioXyU_70.000.wav\n",
      "/media/e4e/Rainforest_Data1/audioset_nonbird/EFvizsFFS4Q_30.000.wav\n",
      "/media/e4e/Rainforest_Data1/audioset_nonbird/EGcuFsbu5JI_140.000.wav\n",
      "/media/e4e/Rainforest_Data1/audioset_nonbird/EgpsSwHlXqA_0.000.wav\n",
      "/media/e4e/Rainforest_Data1/audioset_nonbird/EGsp2SKwGBw_30.000.wav\n",
      "/media/e4e/Rainforest_Data1/audioset_nonbird/eh4ZAJ3bBak_390.000.wav\n",
      "/media/e4e/Rainforest_Data1/audioset_nonbird/eh7a5sKZQr8_0.000.wav\n",
      "/media/e4e/Rainforest_Data1/audioset_nonbird/EhaMmYFANQQ_30.000.wav\n",
      "/media/e4e/Rainforest_Data1/audioset_nonbird/eHIlPlNWISg_90.000.wav\n",
      "/media/e4e/Rainforest_Data1/audioset_nonbird/EHiNnO7ZU9I_110.000.wav\n",
      "/media/e4e/Rainforest_Data1/audioset_nonbird/eHvVTa7Jy0E_20.000.wav\n",
      "/media/e4e/Rainforest_Data1/audioset_nonbird/ijc6Ma6c4O0_90.000.wav\n",
      "/media/e4e/Rainforest_Data1/audioset_nonbird/ijD7NikL4rs_60.000.wav\n",
      "/media/e4e/Rainforest_Data1/audioset_nonbird/IJDFinSTxww_17.000.wav\n",
      "/media/e4e/Rainforest_Data1/audioset_nonbird/ijgFukpVvxY_30.000.wav\n",
      "/media/e4e/Rainforest_Data1/audioset_nonbird/IJNf5hJzf5M_6.000.wav\n",
      "/media/e4e/Rainforest_Data1/audioset_nonbird/IJquEOrTj1Y_150.000.wav\n",
      "/media/e4e/Rainforest_Data1/audioset_nonbird/ijTDR6YQ9V4_30.000.wav\n",
      "/media/e4e/Rainforest_Data1/audioset_nonbird/iJTMAO4phbw_30.000.wav\n",
      "/media/e4e/Rainforest_Data1/audioset_nonbird/IJUCCMUf7Eg_120.000.wav\n",
      "/media/e4e/Rainforest_Data1/audioset_nonbird/iJUoER2xJYA_40.000.wav\n",
      "/media/e4e/Rainforest_Data1/audioset_nonbird/iK6idMx3zCI_80.000.wav\n",
      "/media/e4e/Rainforest_Data1/audioset_nonbird/IK9DLm06eLQ_60.000.wav\n",
      "/media/e4e/Rainforest_Data1/audioset_nonbird/ikbhFSG2pEs_40.000.wav\n",
      "/media/e4e/Rainforest_Data1/audioset_nonbird/ikIVo68HLwY_10.000.wav\n",
      "/media/e4e/Rainforest_Data1/audioset_nonbird/ikJKSqnTylI_70.000.wav\n",
      "/media/e4e/Rainforest_Data1/audioset_nonbird/ikO9k-jZM14_30.000.wav\n",
      "/media/e4e/Rainforest_Data1/audioset_nonbird/IkpoA2NBrS0_30.000.wav\n",
      "/media/e4e/Rainforest_Data1/audioset_nonbird/IKq2OF8jq1c_60.000.wav\n",
      "/media/e4e/Rainforest_Data1/audioset_nonbird/ikRR0vg8xLc_260.000.wav\n",
      "/media/e4e/Rainforest_Data1/audioset_nonbird/IkUsSY47oBk_20.000.wav\n",
      "/media/e4e/Rainforest_Data1/audioset_nonbird/iKwWzXGr_NY_330.000.wav\n",
      "/media/e4e/Rainforest_Data1/audioset_nonbird/IlDRFxrDWw8_90.000.wav\n",
      "/media/e4e/Rainforest_Data1/audioset_nonbird/iLHNst_on_c_0.000.wav\n",
      "/media/e4e/Rainforest_Data1/audioset_nonbird/ILpDx9MZ6Tg_60.000.wav\n",
      "/media/e4e/Rainforest_Data1/audioset_nonbird/IMCroSdHR54_30.000.wav\n",
      "/media/e4e/Rainforest_Data1/audioset_nonbird/iMe85x8JhYM_7.000.wav\n",
      "/media/e4e/Rainforest_Data1/audioset_nonbird/IMmRCgWgGNk_30.000.wav\n",
      "/media/e4e/Rainforest_Data1/audioset_nonbird/imo0-muPdy0_30.000.wav\n",
      "/media/e4e/Rainforest_Data1/audioset_nonbird/iN1yr6cVlPQ_530.000.wav\n",
      "/media/e4e/Rainforest_Data1/audioset_nonbird/INLCFbeVpmQ_30.000.wav\n",
      "/media/e4e/Rainforest_Data1/audioset_nonbird/iNsyiFRfueM_30.000.wav\n",
      "/media/e4e/Rainforest_Data1/audioset_nonbird/INZwiQGobsQ_580.000.wav\n",
      "/media/e4e/Rainforest_Data1/audioset_nonbird/Io50s8yqHcU_30.000.wav\n",
      "/media/e4e/Rainforest_Data1/audioset_nonbird/ioC2Rw1_TL4_30.000.wav\n",
      "/media/e4e/Rainforest_Data1/audioset_nonbird/IoLCBsJC7vw_11.000.wav\n",
      "/media/e4e/Rainforest_Data1/audioset_nonbird/IoQR4Gv-hfo_450.000.wav\n",
      "/media/e4e/Rainforest_Data1/audioset_nonbird/IOqtQmToNFg_10.000.wav\n",
      "/media/e4e/Rainforest_Data1/audioset_nonbird/IOzWDVGWRng_0.000.wav\n",
      "/media/e4e/Rainforest_Data1/audioset_nonbird/Ipg2tCPMPOM_100.000.wav\n",
      "/media/e4e/Rainforest_Data1/audioset_nonbird/IPhOIW-auRo_30.000.wav\n",
      "/media/e4e/Rainforest_Data1/audioset_nonbird/ipKCHDizaQI_30.000.wav\n",
      "/media/e4e/Rainforest_Data1/audioset_nonbird/IQbzpgmi4Ec_50.000.wav\n",
      "/media/e4e/Rainforest_Data1/audioset_nonbird/iqDnYvNGkFM_100.000.wav\n",
      "/media/e4e/Rainforest_Data1/audioset_nonbird/IQE3-SPFa-I_30.000.wav\n",
      "/media/e4e/Rainforest_Data1/audioset_nonbird/iQK-G22GR5Y_300.000.wav\n",
      "/media/e4e/Rainforest_Data1/audioset_nonbird/iQm2DVuHEU8_8.000.wav\n",
      "/media/e4e/Rainforest_Data1/audioset_nonbird/IqnDeca2-Zw_30.000.wav\n",
      "/media/e4e/Rainforest_Data1/audioset_nonbird/iQZ3xn-UmjI_50.000.wav\n",
      "/media/e4e/Rainforest_Data1/audioset_nonbird/irDTrVaYY3E_70.000.wav\n",
      "/media/e4e/Rainforest_Data1/audioset_nonbird/iRKgAwNtM24_30.000.wav\n",
      "/media/e4e/Rainforest_Data1/audioset_nonbird/iROgD3JRJFY_90.000.wav\n",
      "/media/e4e/Rainforest_Data1/audioset_nonbird/IS5V2yjPp3k_30.000.wav\n",
      "/media/e4e/Rainforest_Data1/audioset_nonbird/ISf1iTch39g_470.000.wav\n",
      "/media/e4e/Rainforest_Data1/audioset_nonbird/IsKPMBn6irE_12.000.wav\n",
      "/media/e4e/Rainforest_Data1/audioset_nonbird/ISNWMTLxmrQ_0.000.wav\n",
      "/media/e4e/Rainforest_Data1/audioset_nonbird/IsrDQPtE55s_30.000.wav\n",
      "/media/e4e/Rainforest_Data1/audioset_nonbird/Isuh9pOuH6I_300.000.wav\n",
      "/media/e4e/Rainforest_Data1/audioset_nonbird/iSZc5I90ddA_30.000.wav\n",
      "/media/e4e/Rainforest_Data1/audioset_nonbird/IT-DTWn4S8I_60.000.wav\n",
      "/media/e4e/Rainforest_Data1/audioset_nonbird/Ep-nvZidQZ0_110.000.wav\n"
     ]
    },
    {
     "name": "stdout",
     "output_type": "stream",
     "text": [
      "/media/e4e/Rainforest_Data1/audioset_nonbird/ep5PDq0yDks_30.000.wav\n",
      "/media/e4e/Rainforest_Data1/audioset_nonbird/eP7b4e-GLXA_30.000.wav\n",
      "/media/e4e/Rainforest_Data1/audioset_nonbird/ePaVMB0SH4Q_0.000.wav\n",
      "/media/e4e/Rainforest_Data1/audioset_nonbird/EPBpJ9X1pLg_30.000.wav\n",
      "/media/e4e/Rainforest_Data1/audioset_nonbird/epJtFMjV_FI_0.000.wav\n",
      "/media/e4e/Rainforest_Data1/audioset_nonbird/EPnxfsMsfMo_30.000.wav\n",
      "/media/e4e/Rainforest_Data1/audioset_nonbird/epvD5f58mdI_70.000.wav\n",
      "/media/e4e/Rainforest_Data1/audioset_nonbird/eQ8CMCLS5rY_550.000.wav\n",
      "/media/e4e/Rainforest_Data1/audioset_nonbird/EQ91XVsmq-I_30.000.wav\n",
      "/media/e4e/Rainforest_Data1/audioset_nonbird/EqfXm8FwFe0_9.000.wav\n",
      "/media/e4e/Rainforest_Data1/audioset_nonbird/EQh-EIlfCe8_30.000.wav\n",
      "/media/e4e/Rainforest_Data1/audioset_nonbird/EQJHgbw5LFE_0.000.wav\n",
      "/media/e4e/Rainforest_Data1/audioset_nonbird/eqmKxoa4jMI_410.000.wav\n",
      "/media/e4e/Rainforest_Data1/audioset_nonbird/equOMojH26Q_0.000.wav\n",
      "/media/e4e/Rainforest_Data1/audioset_nonbird/EQVZLtlDkHw_30.000.wav\n",
      "/media/e4e/Rainforest_Data1/audioset_nonbird/er1vQ-nse_g_30.000.wav\n",
      "/media/e4e/Rainforest_Data1/audioset_nonbird/Er6GzMSXOmk_530.000.wav\n",
      "/media/e4e/Rainforest_Data1/audioset_nonbird/Ergjh8YR0OM_20.000.wav\n",
      "/media/e4e/Rainforest_Data1/audioset_nonbird/erGqO1pNJZE_30.000.wav\n",
      "/media/e4e/Rainforest_Data1/audioset_nonbird/erIh4Q7RhE8_140.000.wav\n",
      "/media/e4e/Rainforest_Data1/audioset_nonbird/eRih9QADLQs_60.000.wav\n",
      "/media/e4e/Rainforest_Data1/audioset_nonbird/Erjhkv9AzKY_6.000.wav\n",
      "/media/e4e/Rainforest_Data1/audioset_nonbird/Es9FNjZ-SHI_30.000.wav\n",
      "/media/e4e/Rainforest_Data1/audioset_nonbird/esBiDDM_x2I_20.000.wav\n",
      "/media/e4e/Rainforest_Data1/audioset_nonbird/ESEAtIZxZYk_270.000.wav\n",
      "/media/e4e/Rainforest_Data1/audioset_nonbird/ESO0HMAmwCI_20.000.wav\n",
      "/media/e4e/Rainforest_Data1/audioset_nonbird/EsoKL_41uOc_23.000.wav\n",
      "/media/e4e/Rainforest_Data1/audioset_nonbird/et5TUaG9oEM_180.000.wav\n",
      "/media/e4e/Rainforest_Data1/audioset_nonbird/eTPhEKXZClU_570.000.wav\n",
      "/media/e4e/Rainforest_Data1/audioset_nonbird/euAdNGKqyKo_100.000.wav\n",
      "/media/e4e/Rainforest_Data1/audioset_nonbird/Euaw2ll-ONw_30.000.wav\n",
      "/media/e4e/Rainforest_Data1/audioset_nonbird/eUc8dBPrAvo_26.000.wav\n",
      "/media/e4e/Rainforest_Data1/audioset_nonbird/EuJh6cH3kcE_30.000.wav\n",
      "/media/e4e/Rainforest_Data1/audioset_nonbird/euWIV34kQ78_10.000.wav\n",
      "/media/e4e/Rainforest_Data1/audioset_nonbird/Ev-JWIcNW7A_30.000.wav\n",
      "/media/e4e/Rainforest_Data1/audioset_nonbird/JaTfqRN3IrM_20.000.wav\n",
      "/media/e4e/Rainforest_Data1/audioset_nonbird/Jb9Udi9N7Xw_30.000.wav\n",
      "/media/e4e/Rainforest_Data1/audioset_nonbird/jbtaC1hOj48_30.000.wav\n",
      "/media/e4e/Rainforest_Data1/audioset_nonbird/jBv48uOrgbs_320.000.wav\n",
      "/media/e4e/Rainforest_Data1/audioset_nonbird/jbW2ew8VMfU_50.000.wav\n",
      "/media/e4e/Rainforest_Data1/audioset_nonbird/JCGDgZKBI2A_580.000.wav\n",
      "/media/e4e/Rainforest_Data1/audioset_nonbird/JcMSFU-Twgw_30.000.wav\n",
      "/media/e4e/Rainforest_Data1/audioset_nonbird/JCsX3ZKNR5M_30.000.wav\n",
      "/media/e4e/Rainforest_Data1/audioset_nonbird/Jcz09Kj0nAY_490.000.wav\n",
      "/media/e4e/Rainforest_Data1/audioset_nonbird/JdNoEpN4kxE_140.000.wav\n",
      "/media/e4e/Rainforest_Data1/audioset_nonbird/jDog953NwJQ_30.000.wav\n",
      "/media/e4e/Rainforest_Data1/audioset_nonbird/jDVWPLGiBZI_30.000.wav\n",
      "/media/e4e/Rainforest_Data1/audioset_nonbird/JE3OyF_FFLk_20.000.wav\n",
      "/media/e4e/Rainforest_Data1/audioset_nonbird/JEHjqLEJj_I_30.000.wav\n",
      "/media/e4e/Rainforest_Data1/audioset_nonbird/JEk13hzeVkI_200.000.wav\n",
      "/media/e4e/Rainforest_Data1/audioset_nonbird/EVCnDR6nIZA_30.000.wav\n",
      "/media/e4e/Rainforest_Data1/audioset_nonbird/EvJ8xVExKAo_10.000.wav\n",
      "/media/e4e/Rainforest_Data1/audioset_nonbird/EvknY-FSQ9s_280.000.wav\n",
      "/media/e4e/Rainforest_Data1/audioset_nonbird/EVSNLohmKFc_540.000.wav\n",
      "/media/e4e/Rainforest_Data1/audioset_nonbird/Evsqcjw868A_50.000.wav\n",
      "/media/e4e/Rainforest_Data1/audioset_nonbird/EvzXps-qqO8_40.000.wav\n",
      "/media/e4e/Rainforest_Data1/audioset_nonbird/ew1epjgvuQM_30.000.wav\n",
      "/media/e4e/Rainforest_Data1/audioset_nonbird/Ew4Y5HLyT6c_210.000.wav\n",
      "/media/e4e/Rainforest_Data1/audioset_nonbird/ewbK9GWNIYE_2.000.wav\n",
      "/media/e4e/Rainforest_Data1/audioset_nonbird/eWfkC7BfP6E_30.000.wav\n",
      "/media/e4e/Rainforest_Data1/audioset_nonbird/eWGGj4duzIo_110.000.wav\n",
      "/media/e4e/Rainforest_Data1/audioset_nonbird/EWLtHjhE79Q_30.000.wav\n",
      "/media/e4e/Rainforest_Data1/audioset_nonbird/ewm9cpk6GmY_30.000.wav\n",
      "/media/e4e/Rainforest_Data1/audioset_nonbird/ewvIpqJdTfk_110.000.wav\n",
      "/media/e4e/Rainforest_Data1/audioset_nonbird/eWvOCr__m5o_50.000.wav\n",
      "/media/e4e/Rainforest_Data1/audioset_nonbird/jeroMrzgDxE_30.000.wav\n",
      "/media/e4e/Rainforest_Data1/audioset_nonbird/jeu-pldGAdw_30.000.wav\n",
      "/media/e4e/Rainforest_Data1/audioset_nonbird/jF3HUzYhOqg_30.000.wav\n",
      "/media/e4e/Rainforest_Data1/audioset_nonbird/jF73O9J4KEI_30.000.wav\n",
      "/media/e4e/Rainforest_Data1/audioset_nonbird/jFcUXJ8iv8g_30.000.wav\n",
      "/media/e4e/Rainforest_Data1/audioset_nonbird/jFek2xLbEww_190.000.wav\n",
      "/media/e4e/Rainforest_Data1/audioset_nonbird/JfSJWiwCY6Y_30.000.wav\n",
      "/media/e4e/Rainforest_Data1/audioset_nonbird/jfyGDGz0yhk_310.000.wav\n",
      "/media/e4e/Rainforest_Data1/audioset_nonbird/jGbszecoNl8_30.000.wav\n",
      "/media/e4e/Rainforest_Data1/audioset_nonbird/JgCZbn4JoRY_30.000.wav\n",
      "/media/e4e/Rainforest_Data1/audioset_nonbird/jGrIgDaqDR8_210.000.wav\n",
      "/media/e4e/Rainforest_Data1/audioset_nonbird/jGZAibw6ruQ_30.000.wav\n",
      "/media/e4e/Rainforest_Data1/audioset_nonbird/jHSWbKDx1Ms_30.000.wav\n",
      "/media/e4e/Rainforest_Data1/audioset_nonbird/jhx3dMbU7As_10.000.wav\n",
      "/media/e4e/Rainforest_Data1/audioset_nonbird/JiBAkAwK0GM_30.000.wav\n",
      "/media/e4e/Rainforest_Data1/audioset_nonbird/EzfZMHnL1o8_160.000.wav\n",
      "/media/e4e/Rainforest_Data1/audioset_nonbird/EzUCugyQf8k_40.000.wav\n",
      "/media/e4e/Rainforest_Data1/audioset_nonbird/eZUfoLIVrJ8_220.000.wav\n",
      "/media/e4e/Rainforest_Data1/audioset_nonbird/ezUkPETm6cs_30.000.wav\n",
      "/media/e4e/Rainforest_Data1/audioset_nonbird/EzwhI2K6kes_70.000.wav\n",
      "/media/e4e/Rainforest_Data1/audioset_nonbird/e_qmjD8QlK4_79.000.wav\n",
      "/media/e4e/Rainforest_Data1/audioset_nonbird/e_X3SL7daxE_30.000.wav\n",
      "/media/e4e/Rainforest_Data1/audioset_nonbird/F-yyHi8weHk_30.000.wav\n",
      "/media/e4e/Rainforest_Data1/audioset_nonbird/F09naomjaaM_24.000.wav\n",
      "/media/e4e/Rainforest_Data1/audioset_nonbird/f0hBZBe9DmQ_30.000.wav\n",
      "/media/e4e/Rainforest_Data1/audioset_nonbird/f0pWzOSt5tg_30.000.wav\n",
      "/media/e4e/Rainforest_Data1/audioset_nonbird/F1bjL__mBXk_190.000.wav\n",
      "/media/e4e/Rainforest_Data1/audioset_nonbird/F1i-q_ALxy4_300.000.wav\n",
      "/media/e4e/Rainforest_Data1/audioset_nonbird/F1OAmbbhzbI_380.000.wav\n",
      "/media/e4e/Rainforest_Data1/audioset_nonbird/f1Z-HuZ-_ZA_30.000.wav\n",
      "/media/e4e/Rainforest_Data1/audioset_nonbird/f3hMHFV_WMo_30.000.wav\n",
      "/media/e4e/Rainforest_Data1/audioset_nonbird/f3iOuKzhUlQ_30.000.wav\n",
      "/media/e4e/Rainforest_Data1/audioset_nonbird/F4lfyN85-5I_360.000.wav\n",
      "/media/e4e/Rainforest_Data1/audioset_nonbird/F4Yf2JcsDhQ_30.000.wav\n",
      "/media/e4e/Rainforest_Data1/audioset_nonbird/F5Da3a3XRGQ_10.000.wav\n",
      "/media/e4e/Rainforest_Data1/audioset_nonbird/f5PncjuY6ng_70.000.wav\n",
      "/media/e4e/Rainforest_Data1/audioset_nonbird/F5Y7BniaRXg_30.000.wav\n",
      "/media/e4e/Rainforest_Data1/audioset_nonbird/f6-paReA_xk_30.000.wav\n",
      "/media/e4e/Rainforest_Data1/audioset_nonbird/F6467rL5yDU_280.000.wav\n",
      "/media/e4e/Rainforest_Data1/audioset_nonbird/F6IV_d503io_100.000.wav\n",
      "/media/e4e/Rainforest_Data1/audioset_nonbird/F6OrKOZlrC8_21.000.wav\n",
      "/media/e4e/Rainforest_Data1/audioset_nonbird/F77rO5g2vNA_60.000.wav\n",
      "/media/e4e/Rainforest_Data1/audioset_nonbird/f7gS_Gc2nIQ_20.000.wav\n",
      "/media/e4e/Rainforest_Data1/audioset_nonbird/f7p119TIgGc_470.000.wav\n",
      "/media/e4e/Rainforest_Data1/audioset_nonbird/f8LqerexQng_50.000.wav\n",
      "/media/e4e/Rainforest_Data1/audioset_nonbird/F8OkghIn9L8_320.000.wav\n",
      "/media/e4e/Rainforest_Data1/audioset_nonbird/f8YtX-rbXl8_0.000.wav\n",
      "/media/e4e/Rainforest_Data1/audioset_nonbird/f9Of0Hp4hjM_0.000.wav\n",
      "/media/e4e/Rainforest_Data1/audioset_nonbird/f9rfsCGlpes_0.000.wav\n",
      "/media/e4e/Rainforest_Data1/audioset_nonbird/f9xzBsBljts_30.000.wav\n",
      "/media/e4e/Rainforest_Data1/audioset_nonbird/FAEXmI0uYOM_280.000.wav\n",
      "/media/e4e/Rainforest_Data1/audioset_nonbird/FafxMaXwGRI_30.000.wav\n",
      "/media/e4e/Rainforest_Data1/audioset_nonbird/FafyB5hzSqw_30.000.wav\n",
      "/media/e4e/Rainforest_Data1/audioset_nonbird/JIG2w-yhwDk_30.000.wav\n",
      "/media/e4e/Rainforest_Data1/audioset_nonbird/Jikk3-uCa8w_260.000.wav\n",
      "/media/e4e/Rainforest_Data1/audioset_nonbird/jIN3_2uHzlo_90.000.wav\n"
     ]
    },
    {
     "name": "stdout",
     "output_type": "stream",
     "text": [
      "/media/e4e/Rainforest_Data1/audioset_nonbird/JisWN5b-NjM_80.000.wav\n",
      "/media/e4e/Rainforest_Data1/audioset_nonbird/jiSy8cDtVVM_170.000.wav\n",
      "/media/e4e/Rainforest_Data1/audioset_nonbird/Jitb0fUgizQ_30.000.wav\n",
      "/media/e4e/Rainforest_Data1/audioset_nonbird/jITYXDjOnMg_10.000.wav\n",
      "/media/e4e/Rainforest_Data1/audioset_nonbird/ji_YCMygNHQ_8.000.wav\n",
      "/media/e4e/Rainforest_Data1/audioset_nonbird/JJ6wd072kNo_30.000.wav\n",
      "/media/e4e/Rainforest_Data1/audioset_nonbird/JJcR5SHFcEM_30.000.wav\n",
      "/media/e4e/Rainforest_Data1/audioset_nonbird/jJkCnY3keZk_90.000.wav\n",
      "/media/e4e/Rainforest_Data1/audioset_nonbird/jJrP7ZF9_WA_320.000.wav\n",
      "/media/e4e/Rainforest_Data1/audioset_nonbird/jJ_RSCw8v7U_130.000.wav\n",
      "/media/e4e/Rainforest_Data1/audioset_nonbird/jKISMbxXTEc_30.000.wav\n",
      "/media/e4e/Rainforest_Data1/audioset_nonbird/jko48cNdvFA_80.000.wav\n",
      "/media/e4e/Rainforest_Data1/audioset_nonbird/JkV-FibS3g0_30.000.wav\n",
      "/media/e4e/Rainforest_Data1/audioset_nonbird/jLgsZW_7TpY_20.000.wav\n",
      "/media/e4e/Rainforest_Data1/audioset_nonbird/jlK8VnWkQq0_80.000.wav\n",
      "/media/e4e/Rainforest_Data1/audioset_nonbird/JLKsLx_SGOU_30.000.wav\n",
      "/media/e4e/Rainforest_Data1/audioset_nonbird/JLLtvS60Z-c_30.000.wav\n",
      "/media/e4e/Rainforest_Data1/audioset_nonbird/JlSrK8bVKs0_40.000.wav\n",
      "/media/e4e/Rainforest_Data1/audioset_nonbird/jlSuqrGSWAk_370.000.wav\n",
      "/media/e4e/Rainforest_Data1/audioset_nonbird/JLtieDCSa6Y_0.000.wav\n",
      "/media/e4e/Rainforest_Data1/audioset_nonbird/jlz7r-NSUuA_60.000.wav\n",
      "/media/e4e/Rainforest_Data1/audioset_nonbird/JLzD44Im1Ec_30.000.wav\n",
      "/media/e4e/Rainforest_Data1/audioset_nonbird/jM44eu_DHWY_140.000.wav\n",
      "/media/e4e/Rainforest_Data1/audioset_nonbird/JM5YEz9xTps_40.000.wav\n",
      "/media/e4e/Rainforest_Data1/audioset_nonbird/jMDHWwO-1fY_30.000.wav\n",
      "/media/e4e/Rainforest_Data1/audioset_nonbird/jmJWPTU3QpQ_0.000.wav\n",
      "/media/e4e/Rainforest_Data1/audioset_nonbird/jmxRjj3hnZk_30.000.wav\n",
      "/media/e4e/Rainforest_Data1/audioset_nonbird/JN-OTphL8Z0_50.000.wav\n",
      "/media/e4e/Rainforest_Data1/audioset_nonbird/jtEjoShYL7M_0.000.wav\n",
      "/media/e4e/Rainforest_Data1/audioset_nonbird/JtiAq_LErAY_11.000.wav\n",
      "/media/e4e/Rainforest_Data1/audioset_nonbird/JtlBTAm3ImM_130.000.wav\n",
      "/media/e4e/Rainforest_Data1/audioset_nonbird/jTvT3f62Uec_230.000.wav\n",
      "/media/e4e/Rainforest_Data1/audioset_nonbird/JtzJcAPUJ-M_160.000.wav\n",
      "/media/e4e/Rainforest_Data1/audioset_nonbird/ju0lACSm7Us_480.000.wav\n",
      "/media/e4e/Rainforest_Data1/audioset_nonbird/JU7451I9418_30.000.wav\n",
      "/media/e4e/Rainforest_Data1/audioset_nonbird/jU7OTseYKQ8_30.000.wav\n",
      "/media/e4e/Rainforest_Data1/audioset_nonbird/JubrxZZlIJE_0.000.wav\n",
      "/media/e4e/Rainforest_Data1/audioset_nonbird/jucJMIMABN8_10.000.wav\n",
      "/media/e4e/Rainforest_Data1/audioset_nonbird/JuJRUieMZL0_10.000.wav\n",
      "/media/e4e/Rainforest_Data1/audioset_nonbird/JUL2kqVi4qI_0.000.wav\n",
      "/media/e4e/Rainforest_Data1/audioset_nonbird/JvdK46bcqzc_140.000.wav\n",
      "/media/e4e/Rainforest_Data1/audioset_nonbird/jVG2woyJ5Eg_28.000.wav\n",
      "/media/e4e/Rainforest_Data1/audioset_nonbird/jvkW0CsHx20_340.000.wav\n",
      "/media/e4e/Rainforest_Data1/audioset_nonbird/jVrzDZJKAq4_410.000.wav\n",
      "/media/e4e/Rainforest_Data1/audioset_nonbird/Jw-ugqr4GXk_370.000.wav\n",
      "/media/e4e/Rainforest_Data1/audioset_nonbird/eI6xSjkcXTY_30.000.wav\n",
      "/media/e4e/Rainforest_Data1/audioset_nonbird/eKOrz8pR13o_90.000.wav\n",
      "/media/e4e/Rainforest_Data1/audioset_nonbird/eO_q3AHE_d4_20.000.wav\n",
      "/media/e4e/Rainforest_Data1/audioset_nonbird/eP_jVxMS8AE_0.000.wav\n",
      "/media/e4e/Rainforest_Data1/audioset_nonbird/eV5JX81GzqA_150.000.wav\n",
      "/media/e4e/Rainforest_Data1/audioset_nonbird/eXEbwJ1wZ28_30.000.wav\n",
      "/media/e4e/Rainforest_Data1/audioset_nonbird/eZ8yopmYtPM_30.000.wav\n",
      "/media/e4e/Rainforest_Data1/audioset_nonbird/f60Me9_GdN0_260.000.wav\n",
      "/media/e4e/Rainforest_Data1/audioset_nonbird/falRG71iBqU_30.000.wav\n",
      "/media/e4e/Rainforest_Data1/audioset_nonbird/FdIl-mIq4DM_26.000.wav\n",
      "/media/e4e/Rainforest_Data1/audioset_nonbird/_fTONy_pqik_30.000.wav\n",
      "/media/e4e/Rainforest_Data1/audioset_nonbird/_gG0KNGD47M_30.000.wav\n",
      "/media/e4e/Rainforest_Data1/audioset_nonbird/_Gj_DfqgRrA_0.000.wav\n",
      "/media/e4e/Rainforest_Data1/audioset_nonbird/_gKs0RdVIxw_200.000.wav\n",
      "/media/e4e/Rainforest_Data1/audioset_nonbird/_glvHy8BsTU_30.000.wav\n",
      "/media/e4e/Rainforest_Data1/audioset_nonbird/_gQFB_Utuf0_30.000.wav\n",
      "/media/e4e/Rainforest_Data1/audioset_nonbird/_h5xxCC6r6E_30.000.wav\n",
      "/media/e4e/Rainforest_Data1/audioset_nonbird/_HEzeeRT5_0_40.000.wav\n",
      "/media/e4e/Rainforest_Data1/audioset_nonbird/_IhP6EaW2dM_90.000.wav\n",
      "/media/e4e/Rainforest_Data1/audioset_nonbird/_iL8G7GTNo0_580.000.wav\n",
      "/media/e4e/Rainforest_Data1/audioset_nonbird/_jcVnmRQD_U_130.000.wav\n",
      "/media/e4e/Rainforest_Data1/audioset_nonbird/_jfv_ziZWII_60.000.wav\n",
      "/media/e4e/Rainforest_Data1/audioset_nonbird/_JgY3UNXvVI_30.000.wav\n",
      "/media/e4e/Rainforest_Data1/audioset_nonbird/_JPokTJg2as_30.000.wav\n",
      "/media/e4e/Rainforest_Data1/audioset_nonbird/_jY56SNzIPo_40.000.wav\n",
      "/media/e4e/Rainforest_Data1/audioset_nonbird/K5AOShxcu-I_450.000.wav\n",
      "/media/e4e/Rainforest_Data1/audioset_nonbird/k6SSUXIHawg_30.000.wav\n",
      "/media/e4e/Rainforest_Data1/audioset_nonbird/K7Cn10EssFU_0.000.wav\n",
      "/media/e4e/Rainforest_Data1/audioset_nonbird/K7pObmi_L8o_14.000.wav\n",
      "/media/e4e/Rainforest_Data1/audioset_nonbird/k8WMNndhyN4_30.000.wav\n",
      "/media/e4e/Rainforest_Data1/audioset_nonbird/k9BSOx3V-hI_60.000.wav\n",
      "/media/e4e/Rainforest_Data1/audioset_nonbird/k9ltcJmSf8A_50.000.wav\n",
      "/media/e4e/Rainforest_Data1/audioset_nonbird/K9NBurQ7c0U_20.000.wav\n",
      "/media/e4e/Rainforest_Data1/audioset_nonbird/k9TtEo5P2Zc_80.000.wav\n",
      "/media/e4e/Rainforest_Data1/audioset_nonbird/K9wdSR3B7s0_130.000.wav\n",
      "/media/e4e/Rainforest_Data1/audioset_nonbird/kADGYLx9BNg_24.000.wav\n",
      "/media/e4e/Rainforest_Data1/audioset_nonbird/kAE7Ceg4VgQ_590.000.wav\n",
      "/media/e4e/Rainforest_Data1/audioset_nonbird/kAiy-A6L_ck_150.000.wav\n",
      "/media/e4e/Rainforest_Data1/audioset_nonbird/kAW1MRkWtws_30.000.wav\n",
      "/media/e4e/Rainforest_Data1/audioset_nonbird/kB2G445p23g_0.000.wav\n",
      "/media/e4e/Rainforest_Data1/audioset_nonbird/FIM7nfN6IT0_10.000.wav\n",
      "/media/e4e/Rainforest_Data1/audioset_nonbird/FIWlRp-je-w_30.000.wav\n",
      "/media/e4e/Rainforest_Data1/audioset_nonbird/fJAaTD4WhAk_30.000.wav\n",
      "/media/e4e/Rainforest_Data1/audioset_nonbird/FjeKGukXYWQ_130.000.wav\n",
      "/media/e4e/Rainforest_Data1/audioset_nonbird/fJEkkvr19I8_30.000.wav\n",
      "/media/e4e/Rainforest_Data1/audioset_nonbird/fjiv34te9vc_30.000.wav\n",
      "/media/e4e/Rainforest_Data1/audioset_nonbird/FjjPVq_wmv4_90.000.wav\n",
      "/media/e4e/Rainforest_Data1/audioset_nonbird/FJQMtiYyWh0_180.000.wav\n",
      "/media/e4e/Rainforest_Data1/audioset_nonbird/FjtC69ifklY_60.000.wav\n",
      "/media/e4e/Rainforest_Data1/audioset_nonbird/FjwCZ59rlRc_7.000.wav\n",
      "/media/e4e/Rainforest_Data1/audioset_nonbird/FJz-xAYbLeY_30.000.wav\n",
      "/media/e4e/Rainforest_Data1/audioset_nonbird/fJzwQdAQR4E_70.000.wav\n",
      "/media/e4e/Rainforest_Data1/audioset_nonbird/FK4MiC9uvWM_30.000.wav\n",
      "/media/e4e/Rainforest_Data1/audioset_nonbird/fk7r8rtaClg_120.000.wav\n",
      "/media/e4e/Rainforest_Data1/audioset_nonbird/FKHphvON0UM_250.000.wav\n",
      "/media/e4e/Rainforest_Data1/audioset_nonbird/kBL3pBLQejo_40.000.wav\n",
      "/media/e4e/Rainforest_Data1/audioset_nonbird/KbOySeP46l4_570.000.wav\n",
      "/media/e4e/Rainforest_Data1/audioset_nonbird/kcL-cVwT6IM_100.000.wav\n",
      "/media/e4e/Rainforest_Data1/audioset_nonbird/kCurh5AuoT0_0.000.wav\n",
      "/media/e4e/Rainforest_Data1/audioset_nonbird/kCXc7_Xie2s_12.000.wav\n",
      "/media/e4e/Rainforest_Data1/audioset_nonbird/Kd7aHdOwh0I_30.000.wav\n",
      "/media/e4e/Rainforest_Data1/audioset_nonbird/kdf1gSHWMKE_120.000.wav\n",
      "/media/e4e/Rainforest_Data1/audioset_nonbird/kDgSVZJ1mjc_60.000.wav\n",
      "/media/e4e/Rainforest_Data1/audioset_nonbird/KDJLote9aSc_30.000.wav\n",
      "/media/e4e/Rainforest_Data1/audioset_nonbird/kdO5ekG8Mp8_590.000.wav\n",
      "/media/e4e/Rainforest_Data1/audioset_nonbird/KdPjKD7F1-Y_390.000.wav\n",
      "/media/e4e/Rainforest_Data1/audioset_nonbird/kDwLN8_XS4Y_30.000.wav\n",
      "/media/e4e/Rainforest_Data1/audioset_nonbird/kDXJ7_ox0iU_210.000.wav\n",
      "/media/e4e/Rainforest_Data1/audioset_nonbird/Ke18uTrDXQU_40.000.wav\n",
      "/media/e4e/Rainforest_Data1/audioset_nonbird/kEakYl5pDEM_210.000.wav\n",
      "/media/e4e/Rainforest_Data1/audioset_nonbird/fpLnClEY4IU_0.000.wav\n",
      "/media/e4e/Rainforest_Data1/audioset_nonbird/fPMwOPwurKU_10.000.wav\n",
      "/media/e4e/Rainforest_Data1/audioset_nonbird/FPnCSqW4p9A_0.000.wav\n",
      "/media/e4e/Rainforest_Data1/audioset_nonbird/FptBA-EPt18_12.000.wav\n",
      "/media/e4e/Rainforest_Data1/audioset_nonbird/fPYeqTFc3IQ_50.000.wav\n",
      "/media/e4e/Rainforest_Data1/audioset_nonbird/FQ0r11rOQ1w_30.000.wav\n"
     ]
    },
    {
     "name": "stdout",
     "output_type": "stream",
     "text": [
      "/media/e4e/Rainforest_Data1/audioset_nonbird/fqGzhFzxtYw_0.000.wav\n",
      "/media/e4e/Rainforest_Data1/audioset_nonbird/fQLm0uHV_ZY_30.000.wav\n",
      "/media/e4e/Rainforest_Data1/audioset_nonbird/fQLvOdZX6is_460.000.wav\n",
      "/media/e4e/Rainforest_Data1/audioset_nonbird/fqr6r501TLI_280.000.wav\n",
      "/media/e4e/Rainforest_Data1/audioset_nonbird/fqSyibSPq5w_250.000.wav\n",
      "/media/e4e/Rainforest_Data1/audioset_nonbird/Fr0UnYeFVW0_10.000.wav\n",
      "/media/e4e/Rainforest_Data1/audioset_nonbird/fRnZAKR3D80_460.000.wav\n",
      "/media/e4e/Rainforest_Data1/audioset_nonbird/FRz7jPUl5RU_10.000.wav\n",
      "/media/e4e/Rainforest_Data1/audioset_nonbird/FRzHx9ibb9I_240.000.wav\n",
      "/media/e4e/Rainforest_Data1/audioset_nonbird/frZUEXzWE5Q_180.000.wav\n",
      "/media/e4e/Rainforest_Data1/audioset_nonbird/fsHgHsYyJbs_30.000.wav\n",
      "/media/e4e/Rainforest_Data1/audioset_nonbird/FsnRM2irjvI_30.000.wav\n",
      "/media/e4e/Rainforest_Data1/audioset_nonbird/Fsu2SmNMX7c_100.000.wav\n",
      "/media/e4e/Rainforest_Data1/audioset_nonbird/fsXAjQcV9-U_30.000.wav\n",
      "/media/e4e/Rainforest_Data1/audioset_nonbird/FsywuRmOMTM_30.000.wav\n",
      "/media/e4e/Rainforest_Data1/audioset_nonbird/ft-muwPtbzI_30.000.wav\n",
      "/media/e4e/Rainforest_Data1/audioset_nonbird/KFGLB5JNF3g_180.000.wav\n",
      "/media/e4e/Rainforest_Data1/audioset_nonbird/KFQ4sZfPaco_0.000.wav\n",
      "/media/e4e/Rainforest_Data1/audioset_nonbird/kfwyhHtOD0U_40.000.wav\n",
      "/media/e4e/Rainforest_Data1/audioset_nonbird/kFyUwSZ7O7Y_0.000.wav\n",
      "/media/e4e/Rainforest_Data1/audioset_nonbird/KG4XROjpq9Y_80.000.wav\n",
      "/media/e4e/Rainforest_Data1/audioset_nonbird/kG64kC8XlR8_490.000.wav\n",
      "/media/e4e/Rainforest_Data1/audioset_nonbird/kgdTPxdfj_c_10.000.wav\n",
      "/media/e4e/Rainforest_Data1/audioset_nonbird/kgf4GdKlSWs_30.000.wav\n",
      "/media/e4e/Rainforest_Data1/audioset_nonbird/kGG2cw_Q3pc_140.000.wav\n",
      "/media/e4e/Rainforest_Data1/audioset_nonbird/kGRHJFCRz60_20.000.wav\n",
      "/media/e4e/Rainforest_Data1/audioset_nonbird/kH6fFjIZkB0_30.000.wav\n",
      "/media/e4e/Rainforest_Data1/audioset_nonbird/kh8f6yk7kDQ_180.000.wav\n",
      "/media/e4e/Rainforest_Data1/audioset_nonbird/khDxR8Iy1Xc_40.000.wav\n",
      "/media/e4e/Rainforest_Data1/audioset_nonbird/khpP__fSpuM_210.000.wav\n",
      "/media/e4e/Rainforest_Data1/audioset_nonbird/khQN5ylb3H0_260.000.wav\n",
      "/media/e4e/Rainforest_Data1/audioset_nonbird/FtavMkHyRMM_120.000.wav\n",
      "/media/e4e/Rainforest_Data1/audioset_nonbird/FtE4v1xAhf8_30.000.wav\n",
      "/media/e4e/Rainforest_Data1/audioset_nonbird/FTIQ7Rr7SJI_80.000.wav\n",
      "/media/e4e/Rainforest_Data1/audioset_nonbird/FTOafffuu5U_150.000.wav\n",
      "/media/e4e/Rainforest_Data1/audioset_nonbird/fU0YY_TV9qQ_70.000.wav\n",
      "/media/e4e/Rainforest_Data1/audioset_nonbird/fUA3_Ay6TSw_30.000.wav\n",
      "/media/e4e/Rainforest_Data1/audioset_nonbird/fuatQGXsszE_140.000.wav\n",
      "/media/e4e/Rainforest_Data1/audioset_nonbird/fufoT1IPcX8_2.000.wav\n",
      "/media/e4e/Rainforest_Data1/audioset_nonbird/fUgj-aL6EXg_30.000.wav\n",
      "/media/e4e/Rainforest_Data1/audioset_nonbird/FujRXXHxYtA_220.000.wav\n",
      "/media/e4e/Rainforest_Data1/audioset_nonbird/FuLmViFn6f0_80.000.wav\n",
      "/media/e4e/Rainforest_Data1/audioset_nonbird/fumA4irXnyQ_30.000.wav\n",
      "/media/e4e/Rainforest_Data1/audioset_nonbird/Fup02r6oh-8_30.000.wav\n",
      "/media/e4e/Rainforest_Data1/audioset_nonbird/FUQKdl41e1A_180.000.wav\n",
      "/media/e4e/Rainforest_Data1/audioset_nonbird/FUx74eMEN4I_160.000.wav\n",
      "/media/e4e/Rainforest_Data1/audioset_nonbird/KHVZFbmt8xk_30.000.wav\n",
      "/media/e4e/Rainforest_Data1/audioset_nonbird/KHwk4_hltas_310.000.wav\n",
      "/media/e4e/Rainforest_Data1/audioset_nonbird/KiCB6pP6EEo_100.000.wav\n",
      "/media/e4e/Rainforest_Data1/audioset_nonbird/kivK_R03Ek0_0.000.wav\n",
      "/media/e4e/Rainforest_Data1/audioset_nonbird/kJ1AWz_mhmE_30.000.wav\n",
      "/media/e4e/Rainforest_Data1/audioset_nonbird/kJ4dAmQSoL8_30.000.wav\n",
      "/media/e4e/Rainforest_Data1/audioset_nonbird/KJk18rZa77I_170.000.wav\n",
      "/media/e4e/Rainforest_Data1/audioset_nonbird/KjMRf4egAyA_80.000.wav\n",
      "/media/e4e/Rainforest_Data1/audioset_nonbird/kk1OWWqov4I_6.000.wav\n",
      "/media/e4e/Rainforest_Data1/audioset_nonbird/Kk6C7Mm6qWM_20.000.wav\n",
      "/media/e4e/Rainforest_Data1/audioset_nonbird/KK70reK7syg_50.000.wav\n",
      "/media/e4e/Rainforest_Data1/audioset_nonbird/KkGTB8ESMCM_0.000.wav\n",
      "/media/e4e/Rainforest_Data1/audioset_nonbird/kKihNQ44dDQ_100.000.wav\n",
      "/media/e4e/Rainforest_Data1/audioset_nonbird/KKlkIdlS8sA_70.000.wav\n",
      "/media/e4e/Rainforest_Data1/audioset_nonbird/kL189QDeo6o_22.000.wav\n",
      "/media/e4e/Rainforest_Data1/audioset_nonbird/KLDSN-4iIms_70.000.wav\n",
      "/media/e4e/Rainforest_Data1/audioset_nonbird/klF5jHsp2rs_150.000.wav\n",
      "/media/e4e/Rainforest_Data1/audioset_nonbird/KlI-QhtZlSA_360.000.wav\n",
      "/media/e4e/Rainforest_Data1/audioset_nonbird/kLm8WRBCUtA_30.000.wav\n",
      "/media/e4e/Rainforest_Data1/audioset_nonbird/kLNtUnSm7lc_60.000.wav\n",
      "/media/e4e/Rainforest_Data1/audioset_nonbird/klZPGhxTk-s_10.000.wav\n",
      "/media/e4e/Rainforest_Data1/audioset_nonbird/Km8zVUqwQn8_30.000.wav\n",
      "/media/e4e/Rainforest_Data1/audioset_nonbird/Kmizok5mDVE_330.000.wav\n",
      "/media/e4e/Rainforest_Data1/audioset_nonbird/kmlA-y6l35w_350.000.wav\n",
      "/media/e4e/Rainforest_Data1/audioset_nonbird/kMmWO3mkRr0_20.000.wav\n",
      "/media/e4e/Rainforest_Data1/audioset_nonbird/KMrpYyZNpWw_25.000.wav\n",
      "/media/e4e/Rainforest_Data1/audioset_nonbird/kmRYrFMAAO0_0.000.wav\n",
      "/media/e4e/Rainforest_Data1/audioset_nonbird/l5Kj9oMx3iw_30.000.wav\n",
      "/media/e4e/Rainforest_Data1/audioset_nonbird/L5LyCUPLtBs_23.000.wav\n",
      "/media/e4e/Rainforest_Data1/audioset_nonbird/l5O87Umi7DI_210.000.wav\n",
      "/media/e4e/Rainforest_Data1/audioset_nonbird/L6SG_y5AhQ4_220.000.wav\n",
      "/media/e4e/Rainforest_Data1/audioset_nonbird/l78tfdSY6Is_40.000.wav\n",
      "/media/e4e/Rainforest_Data1/audioset_nonbird/l7g70mE0wAc_80.000.wav\n",
      "/media/e4e/Rainforest_Data1/audioset_nonbird/l7GpvqYYrkE_30.000.wav\n",
      "/media/e4e/Rainforest_Data1/audioset_nonbird/l7oD9WX-1CU_10.000.wav\n",
      "/media/e4e/Rainforest_Data1/audioset_nonbird/L7yHiWKf65M_70.000.wav\n",
      "/media/e4e/Rainforest_Data1/audioset_nonbird/L8MtMBVqOD0_550.000.wav\n",
      "/media/e4e/Rainforest_Data1/audioset_nonbird/l8nMg5W2INk_220.000.wav\n",
      "/media/e4e/Rainforest_Data1/audioset_nonbird/L8TboIEJyg8_20.000.wav\n",
      "/media/e4e/Rainforest_Data1/audioset_nonbird/L8W-5LTrwjM_30.000.wav\n",
      "/media/e4e/Rainforest_Data1/audioset_nonbird/L9UMvfKBaZI_30.000.wav\n",
      "/media/e4e/Rainforest_Data1/audioset_nonbird/l9wIIJsLfWU_30.000.wav\n",
      "/media/e4e/Rainforest_Data1/audioset_nonbird/F_ce9UD9rTA_90.000.wav\n",
      "/media/e4e/Rainforest_Data1/audioset_nonbird/f__6chtFRM0_30.000.wav\n",
      "/media/e4e/Rainforest_Data1/audioset_nonbird/G--718JDmAQ_0.000.wav\n",
      "/media/e4e/Rainforest_Data1/audioset_nonbird/g-IjfDszLvY_30.000.wav\n",
      "/media/e4e/Rainforest_Data1/audioset_nonbird/g-YnLgYVKGc_30.000.wav\n",
      "/media/e4e/Rainforest_Data1/audioset_nonbird/G05qd2dU9ug_10.000.wav\n",
      "/media/e4e/Rainforest_Data1/audioset_nonbird/g0scnRzoo9M_30.000.wav\n",
      "/media/e4e/Rainforest_Data1/audioset_nonbird/G1LY8Vt6GAU_100.000.wav\n",
      "/media/e4e/Rainforest_Data1/audioset_nonbird/G1OlHEvPRT8_30.000.wav\n",
      "/media/e4e/Rainforest_Data1/audioset_nonbird/G1ufesfZkEY_30.000.wav\n",
      "/media/e4e/Rainforest_Data1/audioset_nonbird/G1XVdvt3EHI_0.000.wav\n",
      "/media/e4e/Rainforest_Data1/audioset_nonbird/G2jq2X-00n4_0.000.wav\n",
      "/media/e4e/Rainforest_Data1/audioset_nonbird/g3DCGCibPQw_20.000.wav\n",
      "/media/e4e/Rainforest_Data1/audioset_nonbird/g3kkGbxwSLQ_30.000.wav\n",
      "/media/e4e/Rainforest_Data1/audioset_nonbird/G4FTYFDLp-I_0.000.wav\n",
      "/media/e4e/Rainforest_Data1/audioset_nonbird/G4MGJscUp6c_0.000.wav\n",
      "/media/e4e/Rainforest_Data1/audioset_nonbird/g4qJi2tipZ8_30.000.wav\n",
      "/media/e4e/Rainforest_Data1/audioset_nonbird/g53HdgVxRmA_30.000.wav\n",
      "/media/e4e/Rainforest_Data1/audioset_nonbird/G68JnDjOMzk_50.000.wav\n",
      "/media/e4e/Rainforest_Data1/audioset_nonbird/g7SABgna43Y_0.000.wav\n",
      "/media/e4e/Rainforest_Data1/audioset_nonbird/G81uH2Cu_eY_130.000.wav\n",
      "/media/e4e/Rainforest_Data1/audioset_nonbird/G880gxjj9dI_30.000.wav\n",
      "/media/e4e/Rainforest_Data1/audioset_nonbird/G8adMN5cIGM_80.000.wav\n",
      "/media/e4e/Rainforest_Data1/audioset_nonbird/g8E6gteawKY_30.000.wav\n",
      "/media/e4e/Rainforest_Data1/audioset_nonbird/G8F5LQn-4jQ_370.000.wav\n",
      "/media/e4e/Rainforest_Data1/audioset_nonbird/g8sDg2AjKkg_90.000.wav\n",
      "/media/e4e/Rainforest_Data1/audioset_nonbird/g9d3_4IwIgo_440.000.wav\n",
      "/media/e4e/Rainforest_Data1/audioset_nonbird/g9hV548gd2I_10.000.wav\n",
      "/media/e4e/Rainforest_Data1/audioset_nonbird/g9Qah25_yH0_14.000.wav\n",
      "/media/e4e/Rainforest_Data1/audioset_nonbird/gaFQgJLQHtU_90.000.wav\n",
      "/media/e4e/Rainforest_Data1/audioset_nonbird/gAqTfyVC31I_30.000.wav\n",
      "/media/e4e/Rainforest_Data1/audioset_nonbird/gAqXWyyk1BE_30.000.wav\n",
      "/media/e4e/Rainforest_Data1/audioset_nonbird/garZ8KkuBds_220.000.wav\n"
     ]
    },
    {
     "name": "stdout",
     "output_type": "stream",
     "text": [
      "/media/e4e/Rainforest_Data1/audioset_nonbird/GaSYzS6jVOM_30.000.wav\n",
      "/media/e4e/Rainforest_Data1/audioset_nonbird/GaVWS7xddVA_0.000.wav\n",
      "/media/e4e/Rainforest_Data1/audioset_nonbird/gB1ytjgpcW4_190.000.wav\n",
      "/media/e4e/Rainforest_Data1/audioset_nonbird/gbfC1esW_RU_40.000.wav\n",
      "/media/e4e/Rainforest_Data1/audioset_nonbird/gBWmcmIfN98_100.000.wav\n",
      "/media/e4e/Rainforest_Data1/audioset_nonbird/Gc01CEIQnM0_10.000.wav\n",
      "/media/e4e/Rainforest_Data1/audioset_nonbird/GC1ajVlK-ek_50.000.wav\n",
      "/media/e4e/Rainforest_Data1/audioset_nonbird/Gcby1sXAo64_30.000.wav\n",
      "/media/e4e/Rainforest_Data1/audioset_nonbird/gCjsKL1Mqjk_0.000.wav\n",
      "/media/e4e/Rainforest_Data1/audioset_nonbird/GCVw4MarbJE_470.000.wav\n",
      "/media/e4e/Rainforest_Data1/audioset_nonbird/GCWCB_3fvkI_30.000.wav\n",
      "/media/e4e/Rainforest_Data1/audioset_nonbird/LAeWwMC2EaI_30.000.wav\n",
      "/media/e4e/Rainforest_Data1/audioset_nonbird/LaI5Svgc63k_280.000.wav\n",
      "/media/e4e/Rainforest_Data1/audioset_nonbird/LAioE289jR4_80.000.wav\n",
      "/media/e4e/Rainforest_Data1/audioset_nonbird/lAQMH50jym8_0.000.wav\n",
      "/media/e4e/Rainforest_Data1/audioset_nonbird/LawOj4XWvpg_30.000.wav\n",
      "/media/e4e/Rainforest_Data1/audioset_nonbird/lAznHBBQkp4_30.000.wav\n",
      "/media/e4e/Rainforest_Data1/audioset_nonbird/lb1awXgoyQE_0.000.wav\n",
      "/media/e4e/Rainforest_Data1/audioset_nonbird/lbB2VQYIMo0_30.000.wav\n",
      "/media/e4e/Rainforest_Data1/audioset_nonbird/lBBqkex3VXI_60.000.wav\n",
      "/media/e4e/Rainforest_Data1/audioset_nonbird/lBkMCUiitNU_30.000.wav\n",
      "/media/e4e/Rainforest_Data1/audioset_nonbird/lBURqnDnawM_330.000.wav\n",
      "/media/e4e/Rainforest_Data1/audioset_nonbird/lbwaCIIf3co_30.000.wav\n",
      "/media/e4e/Rainforest_Data1/audioset_nonbird/LByEH80c6Eg_30.000.wav\n",
      "/media/e4e/Rainforest_Data1/audioset_nonbird/lc9AGuY9YyA_30.000.wav\n",
      "/media/e4e/Rainforest_Data1/audioset_nonbird/LCb5ac7dWyM_30.000.wav\n",
      "/media/e4e/Rainforest_Data1/audioset_nonbird/LcDOdDo-Nwg_30.000.wav\n",
      "/media/e4e/Rainforest_Data1/audioset_nonbird/lcRSwt2-uhA_30.000.wav\n",
      "/media/e4e/Rainforest_Data1/audioset_nonbird/LctHAtCMnbY_30.000.wav\n",
      "/media/e4e/Rainforest_Data1/audioset_nonbird/lCvUpQAXFE0_10.000.wav\n",
      "/media/e4e/Rainforest_Data1/audioset_nonbird/lD-kN9qCU6U_30.000.wav\n",
      "/media/e4e/Rainforest_Data1/audioset_nonbird/Gd0VJ127NYc_10.000.wav\n",
      "/media/e4e/Rainforest_Data1/audioset_nonbird/GD1vgJwYR4Q_30.000.wav\n",
      "/media/e4e/Rainforest_Data1/audioset_nonbird/GD8XWhkFC50_30.000.wav\n",
      "/media/e4e/Rainforest_Data1/audioset_nonbird/GDnR4oQX_JU_16.000.wav\n",
      "/media/e4e/Rainforest_Data1/audioset_nonbird/GdnUj_tYStA_30.000.wav\n",
      "/media/e4e/Rainforest_Data1/audioset_nonbird/gE-0JxMtUh0_20.000.wav\n",
      "/media/e4e/Rainforest_Data1/audioset_nonbird/gE-sdOo_bck_0.000.wav\n",
      "/media/e4e/Rainforest_Data1/audioset_nonbird/gEBm_DYH-xA_30.000.wav\n",
      "/media/e4e/Rainforest_Data1/audioset_nonbird/Ged4_VKv334_60.000.wav\n",
      "/media/e4e/Rainforest_Data1/audioset_nonbird/GeEqIwqjlr4_30.000.wav\n",
      "/media/e4e/Rainforest_Data1/audioset_nonbird/geFD3u6Cwis_230.000.wav\n",
      "/media/e4e/Rainforest_Data1/audioset_nonbird/GEqd1WLy6Nk_40.000.wav\n",
      "/media/e4e/Rainforest_Data1/audioset_nonbird/GEwEOl3uxC4_250.000.wav\n",
      "/media/e4e/Rainforest_Data1/audioset_nonbird/gf1y74QzhTI_30.000.wav\n",
      "/media/e4e/Rainforest_Data1/audioset_nonbird/gF5gfblw13c_370.000.wav\n",
      "/media/e4e/Rainforest_Data1/audioset_nonbird/GfDRehiF5AI_30.000.wav\n",
      "/media/e4e/Rainforest_Data1/audioset_nonbird/gFfUuyKvOBg_50.000.wav\n",
      "/media/e4e/Rainforest_Data1/audioset_nonbird/gFJjYWXeBn0_30.000.wav\n",
      "/media/e4e/Rainforest_Data1/audioset_nonbird/GFk9pT8JIQk_50.000.wav\n",
      "/media/e4e/Rainforest_Data1/audioset_nonbird/GFkB9Par4M8_580.000.wav\n",
      "/media/e4e/Rainforest_Data1/audioset_nonbird/GFPgM_v0dwo_70.000.wav\n",
      "/media/e4e/Rainforest_Data1/audioset_nonbird/gFs6lRAQsLg_160.000.wav\n",
      "/media/e4e/Rainforest_Data1/audioset_nonbird/fKI3LPnPW84_70.000.wav\n",
      "/media/e4e/Rainforest_Data1/audioset_nonbird/Fo_FDiZhzDo_30.000.wav\n",
      "/media/e4e/Rainforest_Data1/audioset_nonbird/FT81ZQynj8w_21.000.wav\n",
      "/media/e4e/Rainforest_Data1/audioset_nonbird/fVfkPyZl6o0_270.000.wav\n",
      "/media/e4e/Rainforest_Data1/audioset_nonbird/Fxl4CpEjcQU_8.000.wav\n",
      "/media/e4e/Rainforest_Data1/audioset_nonbird/F_3bj-4NkKM_10.000.wav\n",
      "/media/e4e/Rainforest_Data1/audioset_nonbird/g3_g_nV88kw_30.000.wav\n",
      "/media/e4e/Rainforest_Data1/audioset_nonbird/Gc_FTqgfRAA_150.000.wav\n",
      "/media/e4e/Rainforest_Data1/audioset_nonbird/ge091r_nIXs_470.000.wav\n",
      "/media/e4e/Rainforest_Data1/audioset_nonbird/GFT6TeQx_0U_30.000.wav\n",
      "/media/e4e/Rainforest_Data1/audioset_nonbird/gIfDs4TQ4bM_20.000.wav\n",
      "/media/e4e/Rainforest_Data1/audioset_nonbird/gksGyZQWxgw_90.000.wav\n",
      "/media/e4e/Rainforest_Data1/audioset_nonbird/Lg1HG6D_0Qk_30.000.wav\n",
      "/media/e4e/Rainforest_Data1/audioset_nonbird/Lg5MdfZCI6A_390.000.wav\n",
      "/media/e4e/Rainforest_Data1/audioset_nonbird/lGdT5OozLXs_80.000.wav\n",
      "/media/e4e/Rainforest_Data1/audioset_nonbird/LgkC2MEMbx0_23.000.wav\n",
      "/media/e4e/Rainforest_Data1/audioset_nonbird/LGrpsZ7BsQA_30.000.wav\n",
      "/media/e4e/Rainforest_Data1/audioset_nonbird/lGS2U9O0wwA_0.000.wav\n",
      "/media/e4e/Rainforest_Data1/audioset_nonbird/lGZCODwfn0g_30.000.wav\n",
      "/media/e4e/Rainforest_Data1/audioset_nonbird/LHAMgbrcnbs_170.000.wav\n",
      "/media/e4e/Rainforest_Data1/audioset_nonbird/Lhc5eE9X-ak_30.000.wav\n",
      "/media/e4e/Rainforest_Data1/audioset_nonbird/LHkkJM-LjHs_0.000.wav\n",
      "/media/e4e/Rainforest_Data1/audioset_nonbird/LhL0H-LI8SE_90.000.wav\n",
      "/media/e4e/Rainforest_Data1/audioset_nonbird/lHP0q2sQzPQ_30.000.wav\n",
      "/media/e4e/Rainforest_Data1/audioset_nonbird/LhpzNXhZ44c_30.000.wav\n",
      "/media/e4e/Rainforest_Data1/audioset_nonbird/LhRNnXaSsCk_30.000.wav\n",
      "/media/e4e/Rainforest_Data1/audioset_nonbird/LHY9L1MjQvQ_30.000.wav\n",
      "/media/e4e/Rainforest_Data1/audioset_nonbird/LiHQ6oUWCNM_70.000.wav\n",
      "/media/e4e/Rainforest_Data1/audioset_nonbird/LIHu5Y752Kc_0.000.wav\n",
      "/media/e4e/Rainforest_Data1/audioset_nonbird/liLQ8PfKgu0_80.000.wav\n",
      "/media/e4e/Rainforest_Data1/audioset_nonbird/LIPprUxFap8_6.000.wav\n",
      "/media/e4e/Rainforest_Data1/audioset_nonbird/Liqv3KgXThk_220.000.wav\n",
      "/media/e4e/Rainforest_Data1/audioset_nonbird/lITwmH5fw9A_410.000.wav\n",
      "/media/e4e/Rainforest_Data1/audioset_nonbird/LIU7EYJEbYQ_10.000.wav\n",
      "/media/e4e/Rainforest_Data1/audioset_nonbird/LIU7qUVBSWU_14.000.wav\n",
      "/media/e4e/Rainforest_Data1/audioset_nonbird/liwnju991lQ_0.000.wav\n",
      "/media/e4e/Rainforest_Data1/audioset_nonbird/lJ-A7c0ax8U_140.000.wav\n",
      "/media/e4e/Rainforest_Data1/audioset_nonbird/lmSmwPsWvII_30.000.wav\n",
      "/media/e4e/Rainforest_Data1/audioset_nonbird/LnDrVrfDVvw_40.000.wav\n",
      "/media/e4e/Rainforest_Data1/audioset_nonbird/lNG8l7BtwQo_0.000.wav\n",
      "/media/e4e/Rainforest_Data1/audioset_nonbird/LnQn4pXxduE_20.000.wav\n",
      "/media/e4e/Rainforest_Data1/audioset_nonbird/lnUT11QWYGM_60.000.wav\n",
      "/media/e4e/Rainforest_Data1/audioset_nonbird/LNWKGu3kYic_30.000.wav\n",
      "/media/e4e/Rainforest_Data1/audioset_nonbird/lnZakZnnpMo_80.000.wav\n",
      "/media/e4e/Rainforest_Data1/audioset_nonbird/lO1rUT_MTjk_210.000.wav\n",
      "/media/e4e/Rainforest_Data1/audioset_nonbird/lo3yvn1av2E_30.000.wav\n",
      "/media/e4e/Rainforest_Data1/audioset_nonbird/LOHw8cZZ9-U_450.000.wav\n",
      "/media/e4e/Rainforest_Data1/audioset_nonbird/LOK3eUPj6c4_70.000.wav\n",
      "/media/e4e/Rainforest_Data1/audioset_nonbird/loKkvegkPJ8_30.000.wav\n",
      "/media/e4e/Rainforest_Data1/audioset_nonbird/lOOLf3bCY8E_20.000.wav\n",
      "/media/e4e/Rainforest_Data1/audioset_nonbird/Lp0SqoV2e0A_70.000.wav\n",
      "/media/e4e/Rainforest_Data1/audioset_nonbird/lp66EaEOOoU_30.000.wav\n",
      "/media/e4e/Rainforest_Data1/audioset_nonbird/LPvJFjsxMj8_30.000.wav\n",
      "/media/e4e/Rainforest_Data1/audioset_nonbird/lPWZU9kWJEI_120.000.wav\n",
      "/media/e4e/Rainforest_Data1/audioset_nonbird/lPxP1lw-hy8_200.000.wav\n",
      "/media/e4e/Rainforest_Data1/audioset_nonbird/lPyBMsjVG94_30.000.wav\n",
      "/media/e4e/Rainforest_Data1/audioset_nonbird/Lq0LMMZfHCU_140.000.wav\n",
      "/media/e4e/Rainforest_Data1/audioset_nonbird/lQ2_0IqvH8g_60.000.wav\n",
      "/media/e4e/Rainforest_Data1/audioset_nonbird/lqCx0HgF1ZM_30.000.wav\n",
      "/media/e4e/Rainforest_Data1/audioset_nonbird/LQdCy79W9Vw_20.000.wav\n",
      "/media/e4e/Rainforest_Data1/audioset_nonbird/lqj3tJv9XCg_30.000.wav\n",
      "/media/e4e/Rainforest_Data1/audioset_nonbird/lqMjDyHbhXk_30.000.wav\n",
      "/media/e4e/Rainforest_Data1/audioset_nonbird/lQNWx4KRlz0_450.000.wav\n",
      "/media/e4e/Rainforest_Data1/audioset_nonbird/lR1jhR14cGs_320.000.wav\n",
      "/media/e4e/Rainforest_Data1/audioset_nonbird/lR8am4rK7qQ_70.000.wav\n",
      "/media/e4e/Rainforest_Data1/audioset_nonbird/lrCA2ow4PPE_160.000.wav\n",
      "/media/e4e/Rainforest_Data1/audioset_nonbird/LrcvUfmRN8k_30.000.wav\n",
      "/media/e4e/Rainforest_Data1/audioset_nonbird/LRiob2HPx0o_30.000.wav\n"
     ]
    },
    {
     "name": "stdout",
     "output_type": "stream",
     "text": [
      "/media/e4e/Rainforest_Data1/audioset_nonbird/LrIWlaXGJIM_370.000.wav\n",
      "/media/e4e/Rainforest_Data1/audioset_nonbird/lRrv5m9Xu4k_30.000.wav\n",
      "/media/e4e/Rainforest_Data1/audioset_nonbird/lS3jp74mLHk_60.000.wav\n",
      "/media/e4e/Rainforest_Data1/audioset_nonbird/LS44Gj5--F4_0.000.wav\n",
      "/media/e4e/Rainforest_Data1/audioset_nonbird/LsBCiA7jkHI_30.000.wav\n",
      "/media/e4e/Rainforest_Data1/audioset_nonbird/lsT7qA0k7iY_320.000.wav\n",
      "/media/e4e/Rainforest_Data1/audioset_nonbird/LSZgqOe6ubQ_70.000.wav\n",
      "/media/e4e/Rainforest_Data1/audioset_nonbird/LSZPNwZex9s_30.000.wav\n",
      "/media/e4e/Rainforest_Data1/audioset_nonbird/Lt7dagnE-3A_70.000.wav\n",
      "/media/e4e/Rainforest_Data1/audioset_nonbird/LTA3ncpTnUo_30.000.wav\n",
      "/media/e4e/Rainforest_Data1/audioset_nonbird/lTLsL94ABRs_30.000.wav\n",
      "/media/e4e/Rainforest_Data1/audioset_nonbird/ltqgLsWHR0s_30.000.wav\n",
      "/media/e4e/Rainforest_Data1/audioset_nonbird/LtYJXKeUMXA_0.000.wav\n",
      "/media/e4e/Rainforest_Data1/audioset_nonbird/LtYMqV3JlKw_11.000.wav\n",
      "/media/e4e/Rainforest_Data1/audioset_nonbird/m4LZQbH5tsc_360.000.wav\n",
      "/media/e4e/Rainforest_Data1/audioset_nonbird/m5HeCy87QYY_270.000.wav\n",
      "/media/e4e/Rainforest_Data1/audioset_nonbird/M5KlKvASgaE_40.000.wav\n",
      "/media/e4e/Rainforest_Data1/audioset_nonbird/M5rWO2qL6WQ_23.000.wav\n",
      "/media/e4e/Rainforest_Data1/audioset_nonbird/m5wKXpO6hRk_390.000.wav\n",
      "/media/e4e/Rainforest_Data1/audioset_nonbird/M61BBJpvvx8_30.000.wav\n",
      "/media/e4e/Rainforest_Data1/audioset_nonbird/m6VnZEvN9FE_150.000.wav\n",
      "/media/e4e/Rainforest_Data1/audioset_nonbird/M6XLGqoquxI_0.000.wav\n",
      "/media/e4e/Rainforest_Data1/audioset_nonbird/M7NvD1WJQ7o_70.000.wav\n",
      "/media/e4e/Rainforest_Data1/audioset_nonbird/m98BKPAD-84_20.000.wav\n",
      "/media/e4e/Rainforest_Data1/audioset_nonbird/m9MQdg0k1t0_30.000.wav\n",
      "/media/e4e/Rainforest_Data1/audioset_nonbird/Ma0Ye2xMqXA_30.000.wav\n",
      "/media/e4e/Rainforest_Data1/audioset_nonbird/Ma19m133Lmk_100.000.wav\n",
      "/media/e4e/Rainforest_Data1/audioset_nonbird/MA2MTloAjr8_10.000.wav\n",
      "/media/e4e/Rainforest_Data1/audioset_nonbird/MA9rigt5MiI_30.000.wav\n",
      "/media/e4e/Rainforest_Data1/audioset_nonbird/MAbDEeLF4cQ_30.000.wav\n",
      "/media/e4e/Rainforest_Data1/audioset_nonbird/mAdxOkcjvrA_10.000.wav\n",
      "/media/e4e/Rainforest_Data1/audioset_nonbird/mAg1_aL-fCY_30.000.wav\n",
      "/media/e4e/Rainforest_Data1/audioset_nonbird/MaG2BHKuTD8_0.000.wav\n",
      "/media/e4e/Rainforest_Data1/audioset_nonbird/MAhYAMZ50VI_100.000.wav\n",
      "/media/e4e/Rainforest_Data1/audioset_nonbird/mai23vW8uFM_550.000.wav\n",
      "/media/e4e/Rainforest_Data1/audioset_nonbird/MaPm9hh8xeI_50.000.wav\n",
      "/media/e4e/Rainforest_Data1/audioset_nonbird/mauu3_mDpFE_50.000.wav\n",
      "/media/e4e/Rainforest_Data1/audioset_nonbird/Mb-GyQEKoEc_30.000.wav\n",
      "/media/e4e/Rainforest_Data1/audioset_nonbird/Gp43FlJ2ykQ_30.000.wav\n",
      "/media/e4e/Rainforest_Data1/audioset_nonbird/gPaoJv-NrEU_30.000.wav\n",
      "/media/e4e/Rainforest_Data1/audioset_nonbird/GpFJgMVHIu0_0.000.wav\n",
      "/media/e4e/Rainforest_Data1/audioset_nonbird/GpGKHdqpoLE_30.000.wav\n",
      "/media/e4e/Rainforest_Data1/audioset_nonbird/gpIqy11a1Jc_20.000.wav\n",
      "/media/e4e/Rainforest_Data1/audioset_nonbird/gpvYlHv1Ra4_300.000.wav\n",
      "/media/e4e/Rainforest_Data1/audioset_nonbird/gpV_qR4nC7Y_30.000.wav\n",
      "/media/e4e/Rainforest_Data1/audioset_nonbird/gQKWGk5HBcs_220.000.wav\n",
      "/media/e4e/Rainforest_Data1/audioset_nonbird/gqwjKbcfNBY_30.000.wav\n",
      "/media/e4e/Rainforest_Data1/audioset_nonbird/GQ_xjIj455c_340.000.wav\n",
      "/media/e4e/Rainforest_Data1/audioset_nonbird/gRDt262JpQQ_80.000.wav\n",
      "/media/e4e/Rainforest_Data1/audioset_nonbird/GRjdL6M63m4_60.000.wav\n",
      "/media/e4e/Rainforest_Data1/audioset_nonbird/gRn6OjQf2ZQ_30.000.wav\n",
      "/media/e4e/Rainforest_Data1/audioset_nonbird/gRSJoFczYEo_30.000.wav\n",
      "/media/e4e/Rainforest_Data1/audioset_nonbird/Grtmre_r9yI_250.000.wav\n",
      "/media/e4e/Rainforest_Data1/audioset_nonbird/mhGA4vJJbSE_30.000.wav\n",
      "/media/e4e/Rainforest_Data1/audioset_nonbird/MhgCbObAHZg_30.000.wav\n",
      "/media/e4e/Rainforest_Data1/audioset_nonbird/MhKSI8ggZ7Y_30.000.wav\n",
      "/media/e4e/Rainforest_Data1/audioset_nonbird/mHLefE8GLHQ_2.000.wav\n",
      "/media/e4e/Rainforest_Data1/audioset_nonbird/mhQ2rnN9Ang_200.000.wav\n",
      "/media/e4e/Rainforest_Data1/audioset_nonbird/mhQmrwu12VA_0.000.wav\n",
      "/media/e4e/Rainforest_Data1/audioset_nonbird/mI5XZKP59Ms_30.000.wav\n",
      "/media/e4e/Rainforest_Data1/audioset_nonbird/mi6DQRlrD7g_30.000.wav\n",
      "/media/e4e/Rainforest_Data1/audioset_nonbird/mID5B2MNmoY_0.000.wav\n",
      "/media/e4e/Rainforest_Data1/audioset_nonbird/MiQZ0dGQuIA_170.000.wav\n",
      "/media/e4e/Rainforest_Data1/audioset_nonbird/mIvQZm8K-yU_170.000.wav\n",
      "/media/e4e/Rainforest_Data1/audioset_nonbird/Mj51bVlY8Fg_150.000.wav\n",
      "/media/e4e/Rainforest_Data1/audioset_nonbird/MjgUwbwjOzQ_30.000.wav\n",
      "/media/e4e/Rainforest_Data1/audioset_nonbird/mkgglNiKY84_30.000.wav\n",
      "/media/e4e/Rainforest_Data1/audioset_nonbird/mkoe6AUR8BQ_0.000.wav\n",
      "/media/e4e/Rainforest_Data1/audioset_nonbird/mkVcFFOe3LI_30.000.wav\n",
      "/media/e4e/Rainforest_Data1/audioset_nonbird/mlMg0q2iPvU_30.000.wav\n",
      "/media/e4e/Rainforest_Data1/audioset_nonbird/mlpF226Gvlo_0.000.wav\n",
      "/media/e4e/Rainforest_Data1/audioset_nonbird/MLxttVd-Jc4_210.000.wav\n",
      "/media/e4e/Rainforest_Data1/audioset_nonbird/MMB2VR0087w_20.000.wav\n",
      "/media/e4e/Rainforest_Data1/audioset_nonbird/MMVkRbIJ8Ms_0.000.wav\n",
      "/media/e4e/Rainforest_Data1/audioset_nonbird/mn2-63qW_wo_30.000.wav\n",
      "/media/e4e/Rainforest_Data1/audioset_nonbird/MnLVDYBkjM4_260.000.wav\n",
      "/media/e4e/Rainforest_Data1/audioset_nonbird/MNnlykTxbB0_30.000.wav\n",
      "/media/e4e/Rainforest_Data1/audioset_nonbird/MnO6pJNE9zk_0.000.wav\n",
      "/media/e4e/Rainforest_Data1/audioset_nonbird/MnTJFRW-SVA_30.000.wav\n",
      "/media/e4e/Rainforest_Data1/audioset_nonbird/MNwv1tGeR_I_30.000.wav\n",
      "/media/e4e/Rainforest_Data1/audioset_nonbird/MoG0nt_0iSw_0.000.wav\n",
      "/media/e4e/Rainforest_Data1/audioset_nonbird/mogBZZCJRao_220.000.wav\n",
      "/media/e4e/Rainforest_Data1/audioset_nonbird/mOgqXWRv7EY_80.000.wav\n",
      "/media/e4e/Rainforest_Data1/audioset_nonbird/GwBS2NzjAvA_30.000.wav\n",
      "/media/e4e/Rainforest_Data1/audioset_nonbird/gWClkWgWVkQ_30.000.wav\n",
      "/media/e4e/Rainforest_Data1/audioset_nonbird/GwElTrC3uBQ_100.000.wav\n",
      "/media/e4e/Rainforest_Data1/audioset_nonbird/GWTZtu3NOCc_30.000.wav\n",
      "/media/e4e/Rainforest_Data1/audioset_nonbird/GX-QhoihLeI_30.000.wav\n",
      "/media/e4e/Rainforest_Data1/audioset_nonbird/gx6wJrRxq-4_30.000.wav\n",
      "/media/e4e/Rainforest_Data1/audioset_nonbird/gXA9XNUmK1o_20.000.wav\n",
      "/media/e4e/Rainforest_Data1/audioset_nonbird/GxeBrxy8U0k_30.000.wav\n",
      "/media/e4e/Rainforest_Data1/audioset_nonbird/GXG35fDAAwE_7.000.wav\n",
      "/media/e4e/Rainforest_Data1/audioset_nonbird/GXnD41nbT88_100.000.wav\n",
      "/media/e4e/Rainforest_Data1/audioset_nonbird/GxnUY0u8fY8_30.000.wav\n",
      "/media/e4e/Rainforest_Data1/audioset_nonbird/gXOMXreZ-rc_360.000.wav\n",
      "/media/e4e/Rainforest_Data1/audioset_nonbird/gXOyw8a4_Xs_30.000.wav\n",
      "/media/e4e/Rainforest_Data1/audioset_nonbird/GXRooshOGuc_30.000.wav\n",
      "/media/e4e/Rainforest_Data1/audioset_nonbird/gxVhAVNjSU0_30.000.wav\n",
      "/media/e4e/Rainforest_Data1/audioset_nonbird/GXzBe9D-N3k_24.000.wav\n",
      "/media/e4e/Rainforest_Data1/audioset_nonbird/gXZMtVjo3g0_30.000.wav\n",
      "/media/e4e/Rainforest_Data1/audioset_nonbird/gyhxCxzvIps_10.000.wav\n",
      "/media/e4e/Rainforest_Data1/audioset_nonbird/gykX5ypabYY_180.000.wav\n",
      "/media/e4e/Rainforest_Data1/audioset_nonbird/GysESJNs2Ek_300.000.wav\n",
      "/media/e4e/Rainforest_Data1/audioset_nonbird/gYt9seC8Ylk_180.000.wav\n",
      "/media/e4e/Rainforest_Data1/audioset_nonbird/GYXA8WsJoFw_30.000.wav\n",
      "/media/e4e/Rainforest_Data1/audioset_nonbird/gZ-nGWXrYCA_220.000.wav\n",
      "/media/e4e/Rainforest_Data1/audioset_nonbird/MOoVDBEdElY_420.000.wav\n",
      "/media/e4e/Rainforest_Data1/audioset_nonbird/MOr1AtMw1bw_40.000.wav\n",
      "/media/e4e/Rainforest_Data1/audioset_nonbird/MosOtH1imQA_30.000.wav\n",
      "/media/e4e/Rainforest_Data1/audioset_nonbird/MoWCyPQTcIc_0.000.wav\n",
      "/media/e4e/Rainforest_Data1/audioset_nonbird/mownXigc89w_30.000.wav\n",
      "/media/e4e/Rainforest_Data1/audioset_nonbird/moZ49NEGqfk_310.000.wav\n",
      "/media/e4e/Rainforest_Data1/audioset_nonbird/mPInqZGEimU_160.000.wav\n",
      "/media/e4e/Rainforest_Data1/audioset_nonbird/MplEgknxafE_0.000.wav\n",
      "/media/e4e/Rainforest_Data1/audioset_nonbird/mPmqgGTdzm0_50.000.wav\n",
      "/media/e4e/Rainforest_Data1/audioset_nonbird/mPP7c8TSGes_430.000.wav\n",
      "/media/e4e/Rainforest_Data1/audioset_nonbird/mPtIJOdWFso_30.000.wav\n",
      "/media/e4e/Rainforest_Data1/audioset_nonbird/MPtmyo9SMiY_30.000.wav\n",
      "/media/e4e/Rainforest_Data1/audioset_nonbird/mpZTC55aF-A_280.000.wav\n",
      "/media/e4e/Rainforest_Data1/audioset_nonbird/MQ0YasvMcuQ_1.000.wav\n",
      "/media/e4e/Rainforest_Data1/audioset_nonbird/mQdxg1Q6FrE_450.000.wav\n"
     ]
    },
    {
     "name": "stdout",
     "output_type": "stream",
     "text": [
      "/media/e4e/Rainforest_Data1/audioset_nonbird/Mqhi83-ntG4_340.000.wav\n",
      "/media/e4e/Rainforest_Data1/audioset_nonbird/mqoDGDifyzw_0.000.wav\n",
      "/media/e4e/Rainforest_Data1/audioset_nonbird/mQQkq5jNq8A_30.000.wav\n",
      "/media/e4e/Rainforest_Data1/audioset_nonbird/mqqm_2v2wTY_40.000.wav\n",
      "/media/e4e/Rainforest_Data1/audioset_nonbird/mQwZ9JP8zkA_120.000.wav\n",
      "/media/e4e/Rainforest_Data1/audioset_nonbird/MQXnlGdrhxI_370.000.wav\n",
      "/media/e4e/Rainforest_Data1/audioset_nonbird/mRbMJiXlfOs_300.000.wav\n",
      "/media/e4e/Rainforest_Data1/audioset_nonbird/MrHp70quN94_30.000.wav\n",
      "/media/e4e/Rainforest_Data1/audioset_nonbird/mROFSvnZGJU_0.000.wav\n",
      "/media/e4e/Rainforest_Data1/audioset_nonbird/MROotmz8a-U_180.000.wav\n",
      "/media/e4e/Rainforest_Data1/audioset_nonbird/MR_SSRoEsf0_0.000.wav\n",
      "/media/e4e/Rainforest_Data1/audioset_nonbird/Ms-M0gM_Sy8_30.000.wav\n",
      "/media/e4e/Rainforest_Data1/audioset_nonbird/G_F9-8OS6tA_150.000.wav\n",
      "/media/e4e/Rainforest_Data1/audioset_nonbird/g_GP-ky4ReM_10.000.wav\n",
      "/media/e4e/Rainforest_Data1/audioset_nonbird/G_VkmrK4Cbw_30.000.wav\n",
      "/media/e4e/Rainforest_Data1/audioset_nonbird/g_zNxdDgJfI_120.000.wav\n",
      "/media/e4e/Rainforest_Data1/audioset_nonbird/h-mAjear0r4_30.000.wav\n",
      "/media/e4e/Rainforest_Data1/audioset_nonbird/h-orlqreiSE_30.000.wav\n",
      "/media/e4e/Rainforest_Data1/audioset_nonbird/h-QpuLXiN6U_270.000.wav\n",
      "/media/e4e/Rainforest_Data1/audioset_nonbird/H-tXe_jnWIs_250.000.wav\n",
      "/media/e4e/Rainforest_Data1/audioset_nonbird/h-yOxQlGVNc_1.000.wav\n",
      "/media/e4e/Rainforest_Data1/audioset_nonbird/h0Gu82TEm6U_480.000.wav\n",
      "/media/e4e/Rainforest_Data1/audioset_nonbird/H0hTOJUj5yw_30.000.wav\n",
      "/media/e4e/Rainforest_Data1/audioset_nonbird/h0_YMMWEUWQ_1.000.wav\n",
      "/media/e4e/Rainforest_Data1/audioset_nonbird/H15z26_HiJY_500.000.wav\n",
      "/media/e4e/Rainforest_Data1/audioset_nonbird/h1LnDN6y9DU_21.000.wav\n",
      "/media/e4e/Rainforest_Data1/audioset_nonbird/H1mmjVvMsGs_80.000.wav\n",
      "/media/e4e/Rainforest_Data1/audioset_nonbird/mvAcwJ1DGJA_380.000.wav\n",
      "/media/e4e/Rainforest_Data1/audioset_nonbird/MVLEz28ZdFU_10.000.wav\n",
      "/media/e4e/Rainforest_Data1/audioset_nonbird/mVSSv6-fr8M_40.000.wav\n",
      "/media/e4e/Rainforest_Data1/audioset_nonbird/mvxwtod00To_40.000.wav\n",
      "/media/e4e/Rainforest_Data1/audioset_nonbird/MW0ZTvRCS1o_220.000.wav\n",
      "/media/e4e/Rainforest_Data1/audioset_nonbird/mW3S0u8bj58_570.000.wav\n"
     ]
    },
    {
     "ename": "ValueError",
     "evalue": "Input signal length=0 is too small to resample from 22050->44100",
     "output_type": "error",
     "traceback": [
      "\u001b[0;31m---------------------------------------------------------------------------\u001b[0m",
      "\u001b[0;31mValueError\u001b[0m                                Traceback (most recent call last)",
      "\u001b[0;32m<ipython-input-24-999b1625afbf>\u001b[0m in \u001b[0;36m<module>\u001b[0;34m\u001b[0m\n\u001b[1;32m      1\u001b[0m \u001b[0moriginal_audioset_path\u001b[0m \u001b[0;34m=\u001b[0m \u001b[0;34m'/media/e4e/Rainforest_Data1/audioset_nonbird'\u001b[0m\u001b[0;34m\u001b[0m\u001b[0;34m\u001b[0m\u001b[0m\n\u001b[0;32m----> 2\u001b[0;31m \u001b[0mallfilenames_audioset\u001b[0m\u001b[0;34m,\u001b[0m \u001b[0mtimestamp_audioset\u001b[0m \u001b[0;34m=\u001b[0m \u001b[0mfind_n_second_multiples_and_filenames\u001b[0m\u001b[0;34m(\u001b[0m\u001b[0moriginal_audioset_path\u001b[0m\u001b[0;34m,\u001b[0m \u001b[0msplit_path_audioset\u001b[0m\u001b[0;34m,\u001b[0m \u001b[0;36m5\u001b[0m\u001b[0;34m)\u001b[0m\u001b[0;34m\u001b[0m\u001b[0;34m\u001b[0m\u001b[0m\n\u001b[0m",
      "\u001b[0;32m<ipython-input-15-6acd6a9bea1d>\u001b[0m in \u001b[0;36mfind_n_second_multiples_and_filenames\u001b[0;34m(dir_path, des_dir_path, n)\u001b[0m\n\u001b[1;32m     17\u001b[0m         \u001b[0mprint\u001b[0m\u001b[0;34m(\u001b[0m\u001b[0mfilepath\u001b[0m\u001b[0;34m)\u001b[0m\u001b[0;34m\u001b[0m\u001b[0;34m\u001b[0m\u001b[0m\n\u001b[1;32m     18\u001b[0m \u001b[0;34m\u001b[0m\u001b[0m\n\u001b[0;32m---> 19\u001b[0;31m         \u001b[0mdata\u001b[0m\u001b[0;34m,\u001b[0m \u001b[0msr\u001b[0m \u001b[0;34m=\u001b[0m \u001b[0mlibrosa\u001b[0m\u001b[0;34m.\u001b[0m\u001b[0mload\u001b[0m\u001b[0;34m(\u001b[0m\u001b[0mfilepath\u001b[0m\u001b[0;34m,\u001b[0m \u001b[0msr\u001b[0m\u001b[0;34m=\u001b[0m\u001b[0;36m44100\u001b[0m\u001b[0;34m)\u001b[0m\u001b[0;34m\u001b[0m\u001b[0;34m\u001b[0m\u001b[0m\n\u001b[0m\u001b[1;32m     20\u001b[0m         \u001b[0mnum_samples_in_n_seconds\u001b[0m \u001b[0;34m=\u001b[0m  \u001b[0mn\u001b[0m  \u001b[0;34m*\u001b[0m \u001b[0msr\u001b[0m\u001b[0;34m\u001b[0m\u001b[0;34m\u001b[0m\u001b[0m\n\u001b[1;32m     21\u001b[0m         \u001b[0mlength_data\u001b[0m \u001b[0;34m=\u001b[0m \u001b[0mlen\u001b[0m\u001b[0;34m(\u001b[0m\u001b[0mdata\u001b[0m\u001b[0;34m)\u001b[0m\u001b[0;34m\u001b[0m\u001b[0;34m\u001b[0m\u001b[0m\n",
      "\u001b[0;32m~/acoustic-species-id-environments/Yoo-Jin/opensoundscape/opensoundscape-env/lib/python3.8/site-packages/librosa/core/audio.py\u001b[0m in \u001b[0;36mload\u001b[0;34m(path, sr, mono, offset, duration, dtype, res_type)\u001b[0m\n\u001b[1;32m    169\u001b[0m \u001b[0;34m\u001b[0m\u001b[0m\n\u001b[1;32m    170\u001b[0m     \u001b[0;32mif\u001b[0m \u001b[0msr\u001b[0m \u001b[0;32mis\u001b[0m \u001b[0;32mnot\u001b[0m \u001b[0;32mNone\u001b[0m\u001b[0;34m:\u001b[0m\u001b[0;34m\u001b[0m\u001b[0;34m\u001b[0m\u001b[0m\n\u001b[0;32m--> 171\u001b[0;31m         \u001b[0my\u001b[0m \u001b[0;34m=\u001b[0m \u001b[0mresample\u001b[0m\u001b[0;34m(\u001b[0m\u001b[0my\u001b[0m\u001b[0;34m,\u001b[0m \u001b[0msr_native\u001b[0m\u001b[0;34m,\u001b[0m \u001b[0msr\u001b[0m\u001b[0;34m,\u001b[0m \u001b[0mres_type\u001b[0m\u001b[0;34m=\u001b[0m\u001b[0mres_type\u001b[0m\u001b[0;34m)\u001b[0m\u001b[0;34m\u001b[0m\u001b[0;34m\u001b[0m\u001b[0m\n\u001b[0m\u001b[1;32m    172\u001b[0m \u001b[0;34m\u001b[0m\u001b[0m\n\u001b[1;32m    173\u001b[0m     \u001b[0;32melse\u001b[0m\u001b[0;34m:\u001b[0m\u001b[0;34m\u001b[0m\u001b[0;34m\u001b[0m\u001b[0m\n",
      "\u001b[0;32m~/acoustic-species-id-environments/Yoo-Jin/opensoundscape/opensoundscape-env/lib/python3.8/site-packages/librosa/core/audio.py\u001b[0m in \u001b[0;36mresample\u001b[0;34m(y, orig_sr, target_sr, res_type, fix, scale, **kwargs)\u001b[0m\n\u001b[1;32m    545\u001b[0m         \u001b[0my_hat\u001b[0m \u001b[0;34m=\u001b[0m \u001b[0mscipy\u001b[0m\u001b[0;34m.\u001b[0m\u001b[0msignal\u001b[0m\u001b[0;34m.\u001b[0m\u001b[0mresample_poly\u001b[0m\u001b[0;34m(\u001b[0m\u001b[0my\u001b[0m\u001b[0;34m,\u001b[0m \u001b[0mtarget_sr\u001b[0m \u001b[0;34m//\u001b[0m \u001b[0mgcd\u001b[0m\u001b[0;34m,\u001b[0m \u001b[0morig_sr\u001b[0m \u001b[0;34m//\u001b[0m \u001b[0mgcd\u001b[0m\u001b[0;34m,\u001b[0m \u001b[0maxis\u001b[0m\u001b[0;34m=\u001b[0m\u001b[0;34m-\u001b[0m\u001b[0;36m1\u001b[0m\u001b[0;34m)\u001b[0m\u001b[0;34m\u001b[0m\u001b[0;34m\u001b[0m\u001b[0m\n\u001b[1;32m    546\u001b[0m     \u001b[0;32melse\u001b[0m\u001b[0;34m:\u001b[0m\u001b[0;34m\u001b[0m\u001b[0;34m\u001b[0m\u001b[0m\n\u001b[0;32m--> 547\u001b[0;31m         \u001b[0my_hat\u001b[0m \u001b[0;34m=\u001b[0m \u001b[0mresampy\u001b[0m\u001b[0;34m.\u001b[0m\u001b[0mresample\u001b[0m\u001b[0;34m(\u001b[0m\u001b[0my\u001b[0m\u001b[0;34m,\u001b[0m \u001b[0morig_sr\u001b[0m\u001b[0;34m,\u001b[0m \u001b[0mtarget_sr\u001b[0m\u001b[0;34m,\u001b[0m \u001b[0mfilter\u001b[0m\u001b[0;34m=\u001b[0m\u001b[0mres_type\u001b[0m\u001b[0;34m,\u001b[0m \u001b[0maxis\u001b[0m\u001b[0;34m=\u001b[0m\u001b[0;34m-\u001b[0m\u001b[0;36m1\u001b[0m\u001b[0;34m)\u001b[0m\u001b[0;34m\u001b[0m\u001b[0;34m\u001b[0m\u001b[0m\n\u001b[0m\u001b[1;32m    548\u001b[0m \u001b[0;34m\u001b[0m\u001b[0m\n\u001b[1;32m    549\u001b[0m     \u001b[0;32mif\u001b[0m \u001b[0mfix\u001b[0m\u001b[0;34m:\u001b[0m\u001b[0;34m\u001b[0m\u001b[0;34m\u001b[0m\u001b[0m\n",
      "\u001b[0;32m~/acoustic-species-id-environments/Yoo-Jin/opensoundscape/opensoundscape-env/lib/python3.8/site-packages/resampy/core.py\u001b[0m in \u001b[0;36mresample\u001b[0;34m(x, sr_orig, sr_new, axis, filter, **kwargs)\u001b[0m\n\u001b[1;32m     95\u001b[0m \u001b[0;34m\u001b[0m\u001b[0m\n\u001b[1;32m     96\u001b[0m     \u001b[0;32mif\u001b[0m \u001b[0mshape\u001b[0m\u001b[0;34m[\u001b[0m\u001b[0maxis\u001b[0m\u001b[0;34m]\u001b[0m \u001b[0;34m<\u001b[0m \u001b[0;36m1\u001b[0m\u001b[0;34m:\u001b[0m\u001b[0;34m\u001b[0m\u001b[0;34m\u001b[0m\u001b[0m\n\u001b[0;32m---> 97\u001b[0;31m         raise ValueError('Input signal length={} is too small to '\n\u001b[0m\u001b[1;32m     98\u001b[0m                          'resample from {}->{}'.format(x.shape[axis], sr_orig, sr_new))\n\u001b[1;32m     99\u001b[0m \u001b[0;34m\u001b[0m\u001b[0m\n",
      "\u001b[0;31mValueError\u001b[0m: Input signal length=0 is too small to resample from 22050->44100"
     ]
    }
   ],
   "source": [
    "original_audioset_path = '/media/e4e/Rainforest_Data1/audioset_nonbird'\n",
    "allfilenames_audioset, timestamp_audioset = find_n_second_multiples_and_filenames(original_audioset_path, split_path_audioset, 5)"
   ]
  },
  {
   "cell_type": "code",
   "execution_count": 20,
   "metadata": {
    "scrolled": true
   },
   "outputs": [
    {
     "name": "stdout",
     "output_type": "stream",
     "text": [
      "/media/e4e/Rainforest_Data1/Madre_de_Dios_Xeno_Canto_Birdcalls/XC47568 - White-winged Becard - Pachyramphus polychopterus nigriventris.mp3\n"
     ]
    },
    {
     "name": "stderr",
     "output_type": "stream",
     "text": [
      "/home/e4e/acoustic-species-id-environments/Yoo-Jin/opensoundscape/opensoundscape-env/lib/python3.8/site-packages/librosa/core/audio.py:161: UserWarning: PySoundFile failed. Trying audioread instead.\n",
      "  warnings.warn('PySoundFile failed. Trying audioread instead.')\n"
     ]
    },
    {
     "name": "stdout",
     "output_type": "stream",
     "text": [
      "/media/e4e/Rainforest_Data1/Madre_de_Dios_Xeno_Canto_Birdcalls/XC146509 - Three-striped Flycatcher - Conopias trivirgatus.mp3\n"
     ]
    },
    {
     "name": "stderr",
     "output_type": "stream",
     "text": [
      "/home/e4e/acoustic-species-id-environments/Yoo-Jin/opensoundscape/opensoundscape-env/lib/python3.8/site-packages/librosa/core/audio.py:161: UserWarning: PySoundFile failed. Trying audioread instead.\n",
      "  warnings.warn('PySoundFile failed. Trying audioread instead.')\n"
     ]
    },
    {
     "name": "stdout",
     "output_type": "stream",
     "text": [
      "/media/e4e/Rainforest_Data1/Madre_de_Dios_Xeno_Canto_Birdcalls/XC146524 - Black-faced Cotinga - Conioptilon mcilhennyi.mp3\n",
      "/media/e4e/Rainforest_Data1/Madre_de_Dios_Xeno_Canto_Birdcalls/XC146525 - Olive Oropendola - Psarocolius bifasciatus yuracares.mp3\n"
     ]
    },
    {
     "name": "stderr",
     "output_type": "stream",
     "text": [
      "/home/e4e/acoustic-species-id-environments/Yoo-Jin/opensoundscape/opensoundscape-env/lib/python3.8/site-packages/librosa/core/audio.py:161: UserWarning: PySoundFile failed. Trying audioread instead.\n",
      "  warnings.warn('PySoundFile failed. Trying audioread instead.')\n",
      "/home/e4e/acoustic-species-id-environments/Yoo-Jin/opensoundscape/opensoundscape-env/lib/python3.8/site-packages/librosa/core/audio.py:161: UserWarning: PySoundFile failed. Trying audioread instead.\n",
      "  warnings.warn('PySoundFile failed. Trying audioread instead.')\n"
     ]
    },
    {
     "name": "stdout",
     "output_type": "stream",
     "text": [
      "/media/e4e/Rainforest_Data1/Madre_de_Dios_Xeno_Canto_Birdcalls/XC146526 - Mato Grosso Swift - Chaetura viridipennis.mp3\n",
      "/media/e4e/Rainforest_Data1/Madre_de_Dios_Xeno_Canto_Birdcalls/XC146527 - Buff-throated Saltator - Saltator maximus.mp3\n"
     ]
    },
    {
     "name": "stderr",
     "output_type": "stream",
     "text": [
      "/home/e4e/acoustic-species-id-environments/Yoo-Jin/opensoundscape/opensoundscape-env/lib/python3.8/site-packages/librosa/core/audio.py:161: UserWarning: PySoundFile failed. Trying audioread instead.\n",
      "  warnings.warn('PySoundFile failed. Trying audioread instead.')\n",
      "/home/e4e/acoustic-species-id-environments/Yoo-Jin/opensoundscape/opensoundscape-env/lib/python3.8/site-packages/librosa/core/audio.py:161: UserWarning: PySoundFile failed. Trying audioread instead.\n",
      "  warnings.warn('PySoundFile failed. Trying audioread instead.')\n"
     ]
    },
    {
     "name": "stdout",
     "output_type": "stream",
     "text": [
      "/media/e4e/Rainforest_Data1/Madre_de_Dios_Xeno_Canto_Birdcalls/XC146528 - Buff-throated Saltator - Saltator maximus.mp3\n"
     ]
    },
    {
     "name": "stderr",
     "output_type": "stream",
     "text": [
      "/home/e4e/acoustic-species-id-environments/Yoo-Jin/opensoundscape/opensoundscape-env/lib/python3.8/site-packages/librosa/core/audio.py:161: UserWarning: PySoundFile failed. Trying audioread instead.\n",
      "  warnings.warn('PySoundFile failed. Trying audioread instead.')\n"
     ]
    },
    {
     "name": "stdout",
     "output_type": "stream",
     "text": [
      "/media/e4e/Rainforest_Data1/Madre_de_Dios_Xeno_Canto_Birdcalls/XC146529 - Yellow-browed Sparrow - Ammodramus aurifrons.mp3\n"
     ]
    },
    {
     "name": "stderr",
     "output_type": "stream",
     "text": [
      "/home/e4e/acoustic-species-id-environments/Yoo-Jin/opensoundscape/opensoundscape-env/lib/python3.8/site-packages/librosa/core/audio.py:161: UserWarning: PySoundFile failed. Trying audioread instead.\n",
      "  warnings.warn('PySoundFile failed. Trying audioread instead.')\n"
     ]
    },
    {
     "name": "stdout",
     "output_type": "stream",
     "text": [
      "/media/e4e/Rainforest_Data1/Madre_de_Dios_Xeno_Canto_Birdcalls/XC146530 - Tui Parakeet - Brotogeris sanctithomae.mp3\n"
     ]
    },
    {
     "name": "stderr",
     "output_type": "stream",
     "text": [
      "/home/e4e/acoustic-species-id-environments/Yoo-Jin/opensoundscape/opensoundscape-env/lib/python3.8/site-packages/librosa/core/audio.py:161: UserWarning: PySoundFile failed. Trying audioread instead.\n",
      "  warnings.warn('PySoundFile failed. Trying audioread instead.')\n"
     ]
    },
    {
     "name": "stdout",
     "output_type": "stream",
     "text": [
      "/media/e4e/Rainforest_Data1/Madre_de_Dios_Xeno_Canto_Birdcalls/XC146531 - Black-faced Cotinga - Conioptilon mcilhennyi.mp3\n",
      "/media/e4e/Rainforest_Data1/Madre_de_Dios_Xeno_Canto_Birdcalls/XC146532 - Tui Parakeet - Brotogeris sanctithomae.mp3\n"
     ]
    },
    {
     "name": "stderr",
     "output_type": "stream",
     "text": [
      "/home/e4e/acoustic-species-id-environments/Yoo-Jin/opensoundscape/opensoundscape-env/lib/python3.8/site-packages/librosa/core/audio.py:161: UserWarning: PySoundFile failed. Trying audioread instead.\n",
      "  warnings.warn('PySoundFile failed. Trying audioread instead.')\n",
      "/home/e4e/acoustic-species-id-environments/Yoo-Jin/opensoundscape/opensoundscape-env/lib/python3.8/site-packages/librosa/core/audio.py:161: UserWarning: PySoundFile failed. Trying audioread instead.\n",
      "  warnings.warn('PySoundFile failed. Trying audioread instead.')\n"
     ]
    },
    {
     "name": "stdout",
     "output_type": "stream",
     "text": [
      "/media/e4e/Rainforest_Data1/Madre_de_Dios_Xeno_Canto_Birdcalls/XC146534 - Greyish Saltator - Saltator coerulescens.mp3\n",
      "/media/e4e/Rainforest_Data1/Madre_de_Dios_Xeno_Canto_Birdcalls/XC146535 - Greyish Saltator - Saltator coerulescens.mp3\n"
     ]
    },
    {
     "name": "stderr",
     "output_type": "stream",
     "text": [
      "/home/e4e/acoustic-species-id-environments/Yoo-Jin/opensoundscape/opensoundscape-env/lib/python3.8/site-packages/librosa/core/audio.py:161: UserWarning: PySoundFile failed. Trying audioread instead.\n",
      "  warnings.warn('PySoundFile failed. Trying audioread instead.')\n",
      "/home/e4e/acoustic-species-id-environments/Yoo-Jin/opensoundscape/opensoundscape-env/lib/python3.8/site-packages/librosa/core/audio.py:161: UserWarning: PySoundFile failed. Trying audioread instead.\n",
      "  warnings.warn('PySoundFile failed. Trying audioread instead.')\n"
     ]
    },
    {
     "name": "stdout",
     "output_type": "stream",
     "text": [
      "/media/e4e/Rainforest_Data1/Madre_de_Dios_Xeno_Canto_Birdcalls/XC146536 - Spot-breasted Woodpecker - Colaptes punctigula.mp3\n",
      "/media/e4e/Rainforest_Data1/Madre_de_Dios_Xeno_Canto_Birdcalls/XC146538 - Blue-black Grassquit - Volatinia jacarina.mp3\n"
     ]
    },
    {
     "name": "stderr",
     "output_type": "stream",
     "text": [
      "/home/e4e/acoustic-species-id-environments/Yoo-Jin/opensoundscape/opensoundscape-env/lib/python3.8/site-packages/librosa/core/audio.py:161: UserWarning: PySoundFile failed. Trying audioread instead.\n",
      "  warnings.warn('PySoundFile failed. Trying audioread instead.')\n",
      "/home/e4e/acoustic-species-id-environments/Yoo-Jin/opensoundscape/opensoundscape-env/lib/python3.8/site-packages/librosa/core/audio.py:161: UserWarning: PySoundFile failed. Trying audioread instead.\n",
      "  warnings.warn('PySoundFile failed. Trying audioread instead.')\n"
     ]
    },
    {
     "name": "stdout",
     "output_type": "stream",
     "text": [
      "/media/e4e/Rainforest_Data1/Madre_de_Dios_Xeno_Canto_Birdcalls/XC146539 - Chestnut-bellied Seedeater - Sporophila castaneiventris.mp3\n",
      "/media/e4e/Rainforest_Data1/Madre_de_Dios_Xeno_Canto_Birdcalls/XC146540 - Blue-black Grassquit - Volatinia jacarina.mp3\n"
     ]
    },
    {
     "name": "stderr",
     "output_type": "stream",
     "text": [
      "/home/e4e/acoustic-species-id-environments/Yoo-Jin/opensoundscape/opensoundscape-env/lib/python3.8/site-packages/librosa/core/audio.py:161: UserWarning: PySoundFile failed. Trying audioread instead.\n",
      "  warnings.warn('PySoundFile failed. Trying audioread instead.')\n",
      "/home/e4e/acoustic-species-id-environments/Yoo-Jin/opensoundscape/opensoundscape-env/lib/python3.8/site-packages/librosa/core/audio.py:161: UserWarning: PySoundFile failed. Trying audioread instead.\n",
      "  warnings.warn('PySoundFile failed. Trying audioread instead.')\n"
     ]
    },
    {
     "name": "stdout",
     "output_type": "stream",
     "text": [
      "/media/e4e/Rainforest_Data1/Madre_de_Dios_Xeno_Canto_Birdcalls/XC146541 - Great Antshrike - Taraba major.mp3\n"
     ]
    },
    {
     "name": "stderr",
     "output_type": "stream",
     "text": [
      "/home/e4e/acoustic-species-id-environments/Yoo-Jin/opensoundscape/opensoundscape-env/lib/python3.8/site-packages/librosa/core/audio.py:161: UserWarning: PySoundFile failed. Trying audioread instead.\n",
      "  warnings.warn('PySoundFile failed. Trying audioread instead.')\n"
     ]
    },
    {
     "name": "stdout",
     "output_type": "stream",
     "text": [
      "/media/e4e/Rainforest_Data1/Madre_de_Dios_Xeno_Canto_Birdcalls/XC146542 - Grey-breasted Crake - Laterallus exilis.mp3\n",
      "/media/e4e/Rainforest_Data1/Madre_de_Dios_Xeno_Canto_Birdcalls/XC146543 - Tropical Kingbird - Tyrannus melancholicus.mp3\n"
     ]
    },
    {
     "name": "stderr",
     "output_type": "stream",
     "text": [
      "/home/e4e/acoustic-species-id-environments/Yoo-Jin/opensoundscape/opensoundscape-env/lib/python3.8/site-packages/librosa/core/audio.py:161: UserWarning: PySoundFile failed. Trying audioread instead.\n",
      "  warnings.warn('PySoundFile failed. Trying audioread instead.')\n",
      "/home/e4e/acoustic-species-id-environments/Yoo-Jin/opensoundscape/opensoundscape-env/lib/python3.8/site-packages/librosa/core/audio.py:161: UserWarning: PySoundFile failed. Trying audioread instead.\n",
      "  warnings.warn('PySoundFile failed. Trying audioread instead.')\n"
     ]
    },
    {
     "name": "stdout",
     "output_type": "stream",
     "text": [
      "/media/e4e/Rainforest_Data1/Madre_de_Dios_Xeno_Canto_Birdcalls/XC146545 - Rufous-browed Peppershrike - Cyclarhis gujanensis gujanensis_.mp3\n"
     ]
    },
    {
     "name": "stderr",
     "output_type": "stream",
     "text": [
      "/home/e4e/acoustic-species-id-environments/Yoo-Jin/opensoundscape/opensoundscape-env/lib/python3.8/site-packages/librosa/core/audio.py:161: UserWarning: PySoundFile failed. Trying audioread instead.\n",
      "  warnings.warn('PySoundFile failed. Trying audioread instead.')\n"
     ]
    },
    {
     "name": "stdout",
     "output_type": "stream",
     "text": [
      "/media/e4e/Rainforest_Data1/Madre_de_Dios_Xeno_Canto_Birdcalls/XC146546 - Chattering Gnatwren - Ramphocaenus sticturus obscurus.mp3\n"
     ]
    },
    {
     "name": "stderr",
     "output_type": "stream",
     "text": [
      "/home/e4e/acoustic-species-id-environments/Yoo-Jin/opensoundscape/opensoundscape-env/lib/python3.8/site-packages/librosa/core/audio.py:161: UserWarning: PySoundFile failed. Trying audioread instead.\n",
      "  warnings.warn('PySoundFile failed. Trying audioread instead.')\n"
     ]
    },
    {
     "name": "stdout",
     "output_type": "stream",
     "text": [
      "/media/e4e/Rainforest_Data1/Madre_de_Dios_Xeno_Canto_Birdcalls/XC146547 - Johannes's Tody-Tyrant - Hemitriccus iohannis.mp3\n"
     ]
    },
    {
     "name": "stderr",
     "output_type": "stream",
     "text": [
      "/home/e4e/acoustic-species-id-environments/Yoo-Jin/opensoundscape/opensoundscape-env/lib/python3.8/site-packages/librosa/core/audio.py:161: UserWarning: PySoundFile failed. Trying audioread instead.\n",
      "  warnings.warn('PySoundFile failed. Trying audioread instead.')\n"
     ]
    },
    {
     "name": "stdout",
     "output_type": "stream",
     "text": [
      "/media/e4e/Rainforest_Data1/Madre_de_Dios_Xeno_Canto_Birdcalls/XC146548 - Manu Antbird - Cercomacra manu.mp3\n"
     ]
    },
    {
     "name": "stderr",
     "output_type": "stream",
     "text": [
      "/home/e4e/acoustic-species-id-environments/Yoo-Jin/opensoundscape/opensoundscape-env/lib/python3.8/site-packages/librosa/core/audio.py:161: UserWarning: PySoundFile failed. Trying audioread instead.\n",
      "  warnings.warn('PySoundFile failed. Trying audioread instead.')\n"
     ]
    },
    {
     "name": "stdout",
     "output_type": "stream",
     "text": [
      "/media/e4e/Rainforest_Data1/Madre_de_Dios_Xeno_Canto_Birdcalls/XC146549 - Amazonian Antpitta - Hylopezus berlepschi.mp3\n"
     ]
    },
    {
     "name": "stderr",
     "output_type": "stream",
     "text": [
      "/home/e4e/acoustic-species-id-environments/Yoo-Jin/opensoundscape/opensoundscape-env/lib/python3.8/site-packages/librosa/core/audio.py:161: UserWarning: PySoundFile failed. Trying audioread instead.\n",
      "  warnings.warn('PySoundFile failed. Trying audioread instead.')\n"
     ]
    },
    {
     "name": "stdout",
     "output_type": "stream",
     "text": [
      "/media/e4e/Rainforest_Data1/Madre_de_Dios_Xeno_Canto_Birdcalls/XC188746 - Acre Tody-Tyrant - Hemitriccus cohnhafti.mp3\n"
     ]
    },
    {
     "name": "stderr",
     "output_type": "stream",
     "text": [
      "/home/e4e/acoustic-species-id-environments/Yoo-Jin/opensoundscape/opensoundscape-env/lib/python3.8/site-packages/librosa/core/audio.py:161: UserWarning: PySoundFile failed. Trying audioread instead.\n",
      "  warnings.warn('PySoundFile failed. Trying audioread instead.')\n"
     ]
    },
    {
     "name": "stdout",
     "output_type": "stream",
     "text": [
      "/media/e4e/Rainforest_Data1/Madre_de_Dios_Xeno_Canto_Birdcalls/XC22019 - Blue-crowned Trogon - Trogon curucui.mp3\n",
      "/media/e4e/Rainforest_Data1/Madre_de_Dios_Xeno_Canto_Birdcalls/XC22035 - White-bellied Tody-Tyrant - Hemitriccus griseipectus.mp3\n"
     ]
    },
    {
     "name": "stderr",
     "output_type": "stream",
     "text": [
      "/home/e4e/acoustic-species-id-environments/Yoo-Jin/opensoundscape/opensoundscape-env/lib/python3.8/site-packages/librosa/core/audio.py:161: UserWarning: PySoundFile failed. Trying audioread instead.\n",
      "  warnings.warn('PySoundFile failed. Trying audioread instead.')\n",
      "/home/e4e/acoustic-species-id-environments/Yoo-Jin/opensoundscape/opensoundscape-env/lib/python3.8/site-packages/librosa/core/audio.py:161: UserWarning: PySoundFile failed. Trying audioread instead.\n",
      "  warnings.warn('PySoundFile failed. Trying audioread instead.')\n"
     ]
    },
    {
     "name": "stdout",
     "output_type": "stream",
     "text": [
      "/media/e4e/Rainforest_Data1/Madre_de_Dios_Xeno_Canto_Birdcalls/XC22072 - Sapphire-spangled Emerald - Amazilia lactea.mp3\n",
      "/media/e4e/Rainforest_Data1/Madre_de_Dios_Xeno_Canto_Birdcalls/XC22087 - Silky-tailed Nightjar - Antrostomus sericocaudatus.mp3\n"
     ]
    },
    {
     "name": "stderr",
     "output_type": "stream",
     "text": [
      "/home/e4e/acoustic-species-id-environments/Yoo-Jin/opensoundscape/opensoundscape-env/lib/python3.8/site-packages/librosa/core/audio.py:161: UserWarning: PySoundFile failed. Trying audioread instead.\n",
      "  warnings.warn('PySoundFile failed. Trying audioread instead.')\n",
      "/home/e4e/acoustic-species-id-environments/Yoo-Jin/opensoundscape/opensoundscape-env/lib/python3.8/site-packages/librosa/core/audio.py:161: UserWarning: PySoundFile failed. Trying audioread instead.\n",
      "  warnings.warn('PySoundFile failed. Trying audioread instead.')\n"
     ]
    },
    {
     "name": "stdout",
     "output_type": "stream",
     "text": [
      "/media/e4e/Rainforest_Data1/Madre_de_Dios_Xeno_Canto_Birdcalls/XC22099 - White-bellied Tody-Tyrant - Hemitriccus griseipectus.mp3\n",
      "/media/e4e/Rainforest_Data1/Madre_de_Dios_Xeno_Canto_Birdcalls/XC22193 - Red-necked Woodpecker - Campephilus rubricollis.mp3\n"
     ]
    },
    {
     "name": "stderr",
     "output_type": "stream",
     "text": [
      "/home/e4e/acoustic-species-id-environments/Yoo-Jin/opensoundscape/opensoundscape-env/lib/python3.8/site-packages/librosa/core/audio.py:161: UserWarning: PySoundFile failed. Trying audioread instead.\n",
      "  warnings.warn('PySoundFile failed. Trying audioread instead.')\n",
      "/home/e4e/acoustic-species-id-environments/Yoo-Jin/opensoundscape/opensoundscape-env/lib/python3.8/site-packages/librosa/core/audio.py:161: UserWarning: PySoundFile failed. Trying audioread instead.\n",
      "  warnings.warn('PySoundFile failed. Trying audioread instead.')\n"
     ]
    },
    {
     "name": "stdout",
     "output_type": "stream",
     "text": [
      "/media/e4e/Rainforest_Data1/Madre_de_Dios_Xeno_Canto_Birdcalls/XC22208 - White-crested Spadebill - Platyrinchus platyrhynchos.mp3\n",
      "/media/e4e/Rainforest_Data1/Madre_de_Dios_Xeno_Canto_Birdcalls/XC22211 - White-bellied Tody-Tyrant - Hemitriccus griseipectus.mp3\n"
     ]
    },
    {
     "name": "stderr",
     "output_type": "stream",
     "text": [
      "/home/e4e/acoustic-species-id-environments/Yoo-Jin/opensoundscape/opensoundscape-env/lib/python3.8/site-packages/librosa/core/audio.py:161: UserWarning: PySoundFile failed. Trying audioread instead.\n",
      "  warnings.warn('PySoundFile failed. Trying audioread instead.')\n",
      "/home/e4e/acoustic-species-id-environments/Yoo-Jin/opensoundscape/opensoundscape-env/lib/python3.8/site-packages/librosa/core/audio.py:161: UserWarning: PySoundFile failed. Trying audioread instead.\n",
      "  warnings.warn('PySoundFile failed. Trying audioread instead.')\n"
     ]
    },
    {
     "name": "stdout",
     "output_type": "stream",
     "text": [
      "/media/e4e/Rainforest_Data1/Madre_de_Dios_Xeno_Canto_Birdcalls/XC22269 - White-crested Spadebill - Platyrinchus platyrhynchos.mp3\n",
      "/media/e4e/Rainforest_Data1/Madre_de_Dios_Xeno_Canto_Birdcalls/XC22270 - White-crested Spadebill - Platyrinchus platyrhynchos.mp3\n"
     ]
    },
    {
     "name": "stderr",
     "output_type": "stream",
     "text": [
      "/home/e4e/acoustic-species-id-environments/Yoo-Jin/opensoundscape/opensoundscape-env/lib/python3.8/site-packages/librosa/core/audio.py:161: UserWarning: PySoundFile failed. Trying audioread instead.\n",
      "  warnings.warn('PySoundFile failed. Trying audioread instead.')\n",
      "/home/e4e/acoustic-species-id-environments/Yoo-Jin/opensoundscape/opensoundscape-env/lib/python3.8/site-packages/librosa/core/audio.py:161: UserWarning: PySoundFile failed. Trying audioread instead.\n",
      "  warnings.warn('PySoundFile failed. Trying audioread instead.')\n"
     ]
    },
    {
     "name": "stdout",
     "output_type": "stream",
     "text": [
      "/media/e4e/Rainforest_Data1/Madre_de_Dios_Xeno_Canto_Birdcalls/XC22279 - Greyish Mourner - Rhytipterna simplex.mp3\n"
     ]
    },
    {
     "name": "stderr",
     "output_type": "stream",
     "text": [
      "/home/e4e/acoustic-species-id-environments/Yoo-Jin/opensoundscape/opensoundscape-env/lib/python3.8/site-packages/librosa/core/audio.py:161: UserWarning: PySoundFile failed. Trying audioread instead.\n",
      "  warnings.warn('PySoundFile failed. Trying audioread instead.')\n"
     ]
    },
    {
     "name": "stdout",
     "output_type": "stream",
     "text": [
      "/media/e4e/Rainforest_Data1/Madre_de_Dios_Xeno_Canto_Birdcalls/XC22404 - Black Antbird - Cercomacroides serva.mp3\n"
     ]
    },
    {
     "name": "stderr",
     "output_type": "stream",
     "text": [
      "/home/e4e/acoustic-species-id-environments/Yoo-Jin/opensoundscape/opensoundscape-env/lib/python3.8/site-packages/librosa/core/audio.py:161: UserWarning: PySoundFile failed. Trying audioread instead.\n",
      "  warnings.warn('PySoundFile failed. Trying audioread instead.')\n"
     ]
    },
    {
     "name": "stdout",
     "output_type": "stream",
     "text": [
      "/media/e4e/Rainforest_Data1/Madre_de_Dios_Xeno_Canto_Birdcalls/XC22481 - Black-faced Antbird - Myrmoborus myotherinus.mp3\n"
     ]
    },
    {
     "name": "stderr",
     "output_type": "stream",
     "text": [
      "/home/e4e/acoustic-species-id-environments/Yoo-Jin/opensoundscape/opensoundscape-env/lib/python3.8/site-packages/librosa/core/audio.py:161: UserWarning: PySoundFile failed. Trying audioread instead.\n",
      "  warnings.warn('PySoundFile failed. Trying audioread instead.')\n"
     ]
    },
    {
     "name": "stdout",
     "output_type": "stream",
     "text": [
      "/media/e4e/Rainforest_Data1/Madre_de_Dios_Xeno_Canto_Birdcalls/XC22503 - Southern Chestnut-tailed Antbird - Sciaphylax hemimelaena.mp3\n",
      "/media/e4e/Rainforest_Data1/Madre_de_Dios_Xeno_Canto_Birdcalls/XC22516 - Screaming Piha - Lipaugus vociferans.mp3\n"
     ]
    },
    {
     "name": "stderr",
     "output_type": "stream",
     "text": [
      "/home/e4e/acoustic-species-id-environments/Yoo-Jin/opensoundscape/opensoundscape-env/lib/python3.8/site-packages/librosa/core/audio.py:161: UserWarning: PySoundFile failed. Trying audioread instead.\n",
      "  warnings.warn('PySoundFile failed. Trying audioread instead.')\n",
      "/home/e4e/acoustic-species-id-environments/Yoo-Jin/opensoundscape/opensoundscape-env/lib/python3.8/site-packages/librosa/core/audio.py:161: UserWarning: PySoundFile failed. Trying audioread instead.\n",
      "  warnings.warn('PySoundFile failed. Trying audioread instead.')\n",
      "/home/e4e/acoustic-species-id-environments/Yoo-Jin/opensoundscape/opensoundscape-env/lib/python3.8/site-packages/librosa/core/audio.py:161: UserWarning: PySoundFile failed. Trying audioread instead.\n",
      "  warnings.warn('PySoundFile failed. Trying audioread instead.')\n"
     ]
    },
    {
     "name": "stdout",
     "output_type": "stream",
     "text": [
      "/media/e4e/Rainforest_Data1/Madre_de_Dios_Xeno_Canto_Birdcalls/XC22533 - Blue-backed Manakin - Chiroxiphia pareola.mp3\n",
      "/media/e4e/Rainforest_Data1/Madre_de_Dios_Xeno_Canto_Birdcalls/XC23064 - Tawny-crowned Greenlet - Hylophilus ochraceiceps.mp3\n"
     ]
    },
    {
     "name": "stderr",
     "output_type": "stream",
     "text": [
      "/home/e4e/acoustic-species-id-environments/Yoo-Jin/opensoundscape/opensoundscape-env/lib/python3.8/site-packages/librosa/core/audio.py:161: UserWarning: PySoundFile failed. Trying audioread instead.\n",
      "  warnings.warn('PySoundFile failed. Trying audioread instead.')\n",
      "/home/e4e/acoustic-species-id-environments/Yoo-Jin/opensoundscape/opensoundscape-env/lib/python3.8/site-packages/librosa/core/audio.py:161: UserWarning: PySoundFile failed. Trying audioread instead.\n",
      "  warnings.warn('PySoundFile failed. Trying audioread instead.')\n"
     ]
    },
    {
     "name": "stdout",
     "output_type": "stream",
     "text": [
      "/media/e4e/Rainforest_Data1/Madre_de_Dios_Xeno_Canto_Birdcalls/XC23101 - Slaty-capped Shrike-Vireo - Vireolanius leucotis.mp3\n",
      "/media/e4e/Rainforest_Data1/Madre_de_Dios_Xeno_Canto_Birdcalls/XC23400 - Red-billed Pied Tanager - Lamprospiza melanoleuca.mp3\n"
     ]
    },
    {
     "name": "stderr",
     "output_type": "stream",
     "text": [
      "/home/e4e/acoustic-species-id-environments/Yoo-Jin/opensoundscape/opensoundscape-env/lib/python3.8/site-packages/librosa/core/audio.py:161: UserWarning: PySoundFile failed. Trying audioread instead.\n",
      "  warnings.warn('PySoundFile failed. Trying audioread instead.')\n",
      "/home/e4e/acoustic-species-id-environments/Yoo-Jin/opensoundscape/opensoundscape-env/lib/python3.8/site-packages/librosa/core/audio.py:161: UserWarning: PySoundFile failed. Trying audioread instead.\n",
      "  warnings.warn('PySoundFile failed. Trying audioread instead.')\n"
     ]
    },
    {
     "name": "stdout",
     "output_type": "stream",
     "text": [
      "/media/e4e/Rainforest_Data1/Madre_de_Dios_Xeno_Canto_Birdcalls/XC23428 - White-winged Shrike-Tanager - Lanio versicolor.mp3\n",
      "/media/e4e/Rainforest_Data1/Madre_de_Dios_Xeno_Canto_Birdcalls/XC23434 - White-winged Shrike-Tanager - Lanio versicolor.mp3\n"
     ]
    },
    {
     "name": "stderr",
     "output_type": "stream",
     "text": [
      "/home/e4e/acoustic-species-id-environments/Yoo-Jin/opensoundscape/opensoundscape-env/lib/python3.8/site-packages/librosa/core/audio.py:161: UserWarning: PySoundFile failed. Trying audioread instead.\n",
      "  warnings.warn('PySoundFile failed. Trying audioread instead.')\n",
      "/home/e4e/acoustic-species-id-environments/Yoo-Jin/opensoundscape/opensoundscape-env/lib/python3.8/site-packages/librosa/core/audio.py:161: UserWarning: PySoundFile failed. Trying audioread instead.\n",
      "  warnings.warn('PySoundFile failed. Trying audioread instead.')\n"
     ]
    },
    {
     "name": "stdout",
     "output_type": "stream",
     "text": [
      "/media/e4e/Rainforest_Data1/Madre_de_Dios_Xeno_Canto_Birdcalls/XC23435 - Paradise Tanager - Tangara chilensis.mp3\n",
      "/media/e4e/Rainforest_Data1/Madre_de_Dios_Xeno_Canto_Birdcalls/XC146533 - Eastern Wood Pewee - Contopus virens.mp3\n"
     ]
    },
    {
     "name": "stderr",
     "output_type": "stream",
     "text": [
      "/home/e4e/acoustic-species-id-environments/Yoo-Jin/opensoundscape/opensoundscape-env/lib/python3.8/site-packages/librosa/core/audio.py:161: UserWarning: PySoundFile failed. Trying audioread instead.\n",
      "  warnings.warn('PySoundFile failed. Trying audioread instead.')\n"
     ]
    },
    {
     "name": "stdout",
     "output_type": "stream",
     "text": [
      "/media/e4e/Rainforest_Data1/Madre_de_Dios_Xeno_Canto_Birdcalls/XC146544 - Silver-beaked Tanager - Ramphocelus carbo.mp3\n"
     ]
    },
    {
     "name": "stderr",
     "output_type": "stream",
     "text": [
      "/home/e4e/acoustic-species-id-environments/Yoo-Jin/opensoundscape/opensoundscape-env/lib/python3.8/site-packages/librosa/core/audio.py:161: UserWarning: PySoundFile failed. Trying audioread instead.\n",
      "  warnings.warn('PySoundFile failed. Trying audioread instead.')\n"
     ]
    },
    {
     "name": "stdout",
     "output_type": "stream",
     "text": [
      "/media/e4e/Rainforest_Data1/Madre_de_Dios_Xeno_Canto_Birdcalls/XC22082 - Channel-billed Toucan - Ramphastos vitellinus.mp3\n"
     ]
    },
    {
     "name": "stderr",
     "output_type": "stream",
     "text": [
      "/home/e4e/acoustic-species-id-environments/Yoo-Jin/opensoundscape/opensoundscape-env/lib/python3.8/site-packages/librosa/core/audio.py:161: UserWarning: PySoundFile failed. Trying audioread instead.\n",
      "  warnings.warn('PySoundFile failed. Trying audioread instead.')\n"
     ]
    },
    {
     "name": "stdout",
     "output_type": "stream",
     "text": [
      "/media/e4e/Rainforest_Data1/Madre_de_Dios_Xeno_Canto_Birdcalls/XC22458 - White-eyed Antwren - Epinecrophylla leucophthalma.mp3\n",
      "/media/e4e/Rainforest_Data1/Madre_de_Dios_Xeno_Canto_Birdcalls/XC343100 - Russet-backed Oropendola - Psarocolius angustifrons.mp3\n"
     ]
    },
    {
     "name": "stderr",
     "output_type": "stream",
     "text": [
      "/home/e4e/acoustic-species-id-environments/Yoo-Jin/opensoundscape/opensoundscape-env/lib/python3.8/site-packages/librosa/core/audio.py:161: UserWarning: PySoundFile failed. Trying audioread instead.\n",
      "  warnings.warn('PySoundFile failed. Trying audioread instead.')\n",
      "/home/e4e/acoustic-species-id-environments/Yoo-Jin/opensoundscape/opensoundscape-env/lib/python3.8/site-packages/librosa/core/audio.py:161: UserWarning: PySoundFile failed. Trying audioread instead.\n",
      "  warnings.warn('PySoundFile failed. Trying audioread instead.')\n"
     ]
    },
    {
     "name": "stdout",
     "output_type": "stream",
     "text": [
      "/media/e4e/Rainforest_Data1/Madre_de_Dios_Xeno_Canto_Birdcalls/XC40311 - White-throated Jacamar - Brachygalba albogularis.mp3\n"
     ]
    },
    {
     "name": "stderr",
     "output_type": "stream",
     "text": [
      "/home/e4e/acoustic-species-id-environments/Yoo-Jin/opensoundscape/opensoundscape-env/lib/python3.8/site-packages/librosa/core/audio.py:161: UserWarning: PySoundFile failed. Trying audioread instead.\n",
      "  warnings.warn('PySoundFile failed. Trying audioread instead.')\n"
     ]
    },
    {
     "name": "stdout",
     "output_type": "stream",
     "text": [
      "/media/e4e/Rainforest_Data1/Madre_de_Dios_Xeno_Canto_Birdcalls/XC431125 - Rufous Twistwing - Cnipodectes superrufus.mp3\n"
     ]
    },
    {
     "name": "stderr",
     "output_type": "stream",
     "text": [
      "/home/e4e/acoustic-species-id-environments/Yoo-Jin/opensoundscape/opensoundscape-env/lib/python3.8/site-packages/librosa/core/audio.py:161: UserWarning: PySoundFile failed. Trying audioread instead.\n",
      "  warnings.warn('PySoundFile failed. Trying audioread instead.')\n"
     ]
    },
    {
     "name": "stdout",
     "output_type": "stream",
     "text": [
      "/media/e4e/Rainforest_Data1/Madre_de_Dios_Xeno_Canto_Birdcalls/XC47481 - Yellow-breasted Warbling Antbird - Hypocnemis subflava.mp3\n"
     ]
    },
    {
     "name": "stderr",
     "output_type": "stream",
     "text": [
      "/home/e4e/acoustic-species-id-environments/Yoo-Jin/opensoundscape/opensoundscape-env/lib/python3.8/site-packages/librosa/core/audio.py:161: UserWarning: PySoundFile failed. Trying audioread instead.\n",
      "  warnings.warn('PySoundFile failed. Trying audioread instead.')\n"
     ]
    },
    {
     "name": "stdout",
     "output_type": "stream",
     "text": [
      "/media/e4e/Rainforest_Data1/Madre_de_Dios_Xeno_Canto_Birdcalls/XC47558 - Long-billed Woodcreeper - Nasica longirostris.mp3\n"
     ]
    },
    {
     "name": "stderr",
     "output_type": "stream",
     "text": [
      "/home/e4e/acoustic-species-id-environments/Yoo-Jin/opensoundscape/opensoundscape-env/lib/python3.8/site-packages/librosa/core/audio.py:161: UserWarning: PySoundFile failed. Trying audioread instead.\n",
      "  warnings.warn('PySoundFile failed. Trying audioread instead.')\n"
     ]
    },
    {
     "name": "stdout",
     "output_type": "stream",
     "text": [
      "/media/e4e/Rainforest_Data1/Madre_de_Dios_Xeno_Canto_Birdcalls/XC40219 - Rufous Twistwing - Cnipodectes superrufus.mp3\n"
     ]
    },
    {
     "name": "stderr",
     "output_type": "stream",
     "text": [
      "/home/e4e/acoustic-species-id-environments/Yoo-Jin/opensoundscape/opensoundscape-env/lib/python3.8/site-packages/librosa/core/audio.py:161: UserWarning: PySoundFile failed. Trying audioread instead.\n",
      "  warnings.warn('PySoundFile failed. Trying audioread instead.')\n"
     ]
    },
    {
     "name": "stdout",
     "output_type": "stream",
     "text": [
      "/media/e4e/Rainforest_Data1/Madre_de_Dios_Xeno_Canto_Birdcalls/XC40220 - Rufous Twistwing - Cnipodectes superrufus.mp3\n"
     ]
    },
    {
     "name": "stderr",
     "output_type": "stream",
     "text": [
      "/home/e4e/acoustic-species-id-environments/Yoo-Jin/opensoundscape/opensoundscape-env/lib/python3.8/site-packages/librosa/core/audio.py:161: UserWarning: PySoundFile failed. Trying audioread instead.\n",
      "  warnings.warn('PySoundFile failed. Trying audioread instead.')\n"
     ]
    },
    {
     "name": "stdout",
     "output_type": "stream",
     "text": [
      "/media/e4e/Rainforest_Data1/Madre_de_Dios_Xeno_Canto_Birdcalls/XC40221 - Rufous Twistwing - Cnipodectes superrufus.mp3\n"
     ]
    },
    {
     "name": "stderr",
     "output_type": "stream",
     "text": [
      "/home/e4e/acoustic-species-id-environments/Yoo-Jin/opensoundscape/opensoundscape-env/lib/python3.8/site-packages/librosa/core/audio.py:161: UserWarning: PySoundFile failed. Trying audioread instead.\n",
      "  warnings.warn('PySoundFile failed. Trying audioread instead.')\n"
     ]
    },
    {
     "name": "stdout",
     "output_type": "stream",
     "text": [
      "/media/e4e/Rainforest_Data1/Madre_de_Dios_Xeno_Canto_Birdcalls/XC40223 - Rufous Twistwing - Cnipodectes superrufus.mp3\n"
     ]
    },
    {
     "name": "stderr",
     "output_type": "stream",
     "text": [
      "/home/e4e/acoustic-species-id-environments/Yoo-Jin/opensoundscape/opensoundscape-env/lib/python3.8/site-packages/librosa/core/audio.py:161: UserWarning: PySoundFile failed. Trying audioread instead.\n",
      "  warnings.warn('PySoundFile failed. Trying audioread instead.')\n"
     ]
    },
    {
     "name": "stdout",
     "output_type": "stream",
     "text": [
      "/media/e4e/Rainforest_Data1/Madre_de_Dios_Xeno_Canto_Birdcalls/XC40224 - Rufous Twistwing - Cnipodectes superrufus.mp3\n"
     ]
    },
    {
     "name": "stderr",
     "output_type": "stream",
     "text": [
      "/home/e4e/acoustic-species-id-environments/Yoo-Jin/opensoundscape/opensoundscape-env/lib/python3.8/site-packages/librosa/core/audio.py:161: UserWarning: PySoundFile failed. Trying audioread instead.\n",
      "  warnings.warn('PySoundFile failed. Trying audioread instead.')\n"
     ]
    },
    {
     "name": "stdout",
     "output_type": "stream",
     "text": [
      "/media/e4e/Rainforest_Data1/Madre_de_Dios_Xeno_Canto_Birdcalls/XC40226 - Rufous Twistwing - Cnipodectes superrufus.mp3\n"
     ]
    },
    {
     "name": "stderr",
     "output_type": "stream",
     "text": [
      "/home/e4e/acoustic-species-id-environments/Yoo-Jin/opensoundscape/opensoundscape-env/lib/python3.8/site-packages/librosa/core/audio.py:161: UserWarning: PySoundFile failed. Trying audioread instead.\n",
      "  warnings.warn('PySoundFile failed. Trying audioread instead.')\n"
     ]
    },
    {
     "name": "stdout",
     "output_type": "stream",
     "text": [
      "/media/e4e/Rainforest_Data1/Madre_de_Dios_Xeno_Canto_Birdcalls/XC40229 - Rufous Twistwing - Cnipodectes superrufus.mp3\n"
     ]
    },
    {
     "name": "stderr",
     "output_type": "stream",
     "text": [
      "/home/e4e/acoustic-species-id-environments/Yoo-Jin/opensoundscape/opensoundscape-env/lib/python3.8/site-packages/librosa/core/audio.py:161: UserWarning: PySoundFile failed. Trying audioread instead.\n",
      "  warnings.warn('PySoundFile failed. Trying audioread instead.')\n"
     ]
    },
    {
     "name": "stdout",
     "output_type": "stream",
     "text": [
      "/media/e4e/Rainforest_Data1/Madre_de_Dios_Xeno_Canto_Birdcalls/XC40307 - Fine-barred Piculet - Picumnus subtilis.mp3\n"
     ]
    },
    {
     "name": "stderr",
     "output_type": "stream",
     "text": [
      "/home/e4e/acoustic-species-id-environments/Yoo-Jin/opensoundscape/opensoundscape-env/lib/python3.8/site-packages/librosa/core/audio.py:161: UserWarning: PySoundFile failed. Trying audioread instead.\n",
      "  warnings.warn('PySoundFile failed. Trying audioread instead.')\n"
     ]
    },
    {
     "name": "stdout",
     "output_type": "stream",
     "text": [
      "/media/e4e/Rainforest_Data1/Madre_de_Dios_Xeno_Canto_Birdcalls/XC40309 - White-throated Jacamar - Brachygalba albogularis.mp3\n"
     ]
    },
    {
     "name": "stderr",
     "output_type": "stream",
     "text": [
      "/home/e4e/acoustic-species-id-environments/Yoo-Jin/opensoundscape/opensoundscape-env/lib/python3.8/site-packages/librosa/core/audio.py:161: UserWarning: PySoundFile failed. Trying audioread instead.\n",
      "  warnings.warn('PySoundFile failed. Trying audioread instead.')\n"
     ]
    },
    {
     "name": "stdout",
     "output_type": "stream",
     "text": [
      "/media/e4e/Rainforest_Data1/Madre_de_Dios_Xeno_Canto_Birdcalls/XC40310 - White-throated Jacamar - Brachygalba albogularis.mp3\n"
     ]
    },
    {
     "name": "stderr",
     "output_type": "stream",
     "text": [
      "/home/e4e/acoustic-species-id-environments/Yoo-Jin/opensoundscape/opensoundscape-env/lib/python3.8/site-packages/librosa/core/audio.py:161: UserWarning: PySoundFile failed. Trying audioread instead.\n",
      "  warnings.warn('PySoundFile failed. Trying audioread instead.')\n"
     ]
    },
    {
     "name": "stdout",
     "output_type": "stream",
     "text": [
      "/media/e4e/Rainforest_Data1/Madre_de_Dios_Xeno_Canto_Birdcalls/XC40312 - Chestnut-capped Puffbird - Bucco macrodactylus.mp3\n"
     ]
    },
    {
     "name": "stderr",
     "output_type": "stream",
     "text": [
      "/home/e4e/acoustic-species-id-environments/Yoo-Jin/opensoundscape/opensoundscape-env/lib/python3.8/site-packages/librosa/core/audio.py:161: UserWarning: PySoundFile failed. Trying audioread instead.\n",
      "  warnings.warn('PySoundFile failed. Trying audioread instead.')\n"
     ]
    },
    {
     "name": "stdout",
     "output_type": "stream",
     "text": [
      "/media/e4e/Rainforest_Data1/Madre_de_Dios_Xeno_Canto_Birdcalls/XC40313 - Goeldi's Antbird - Akletos goeldii.mp3\n"
     ]
    },
    {
     "name": "stderr",
     "output_type": "stream",
     "text": [
      "/home/e4e/acoustic-species-id-environments/Yoo-Jin/opensoundscape/opensoundscape-env/lib/python3.8/site-packages/librosa/core/audio.py:161: UserWarning: PySoundFile failed. Trying audioread instead.\n",
      "  warnings.warn('PySoundFile failed. Trying audioread instead.')\n"
     ]
    },
    {
     "name": "stdout",
     "output_type": "stream",
     "text": [
      "/media/e4e/Rainforest_Data1/Madre_de_Dios_Xeno_Canto_Birdcalls/XC40314 - White-lined Antbird - Myrmoborus lophotes.mp3\n"
     ]
    },
    {
     "name": "stderr",
     "output_type": "stream",
     "text": [
      "/home/e4e/acoustic-species-id-environments/Yoo-Jin/opensoundscape/opensoundscape-env/lib/python3.8/site-packages/librosa/core/audio.py:161: UserWarning: PySoundFile failed. Trying audioread instead.\n",
      "  warnings.warn('PySoundFile failed. Trying audioread instead.')\n"
     ]
    },
    {
     "name": "stdout",
     "output_type": "stream",
     "text": [
      "/media/e4e/Rainforest_Data1/Madre_de_Dios_Xeno_Canto_Birdcalls/XC40315 - Slender-billed Kite - Helicolestes hamatus.mp3\n"
     ]
    },
    {
     "name": "stderr",
     "output_type": "stream",
     "text": [
      "/home/e4e/acoustic-species-id-environments/Yoo-Jin/opensoundscape/opensoundscape-env/lib/python3.8/site-packages/librosa/core/audio.py:161: UserWarning: PySoundFile failed. Trying audioread instead.\n",
      "  warnings.warn('PySoundFile failed. Trying audioread instead.')\n"
     ]
    },
    {
     "name": "stdout",
     "output_type": "stream",
     "text": [
      "/media/e4e/Rainforest_Data1/Madre_de_Dios_Xeno_Canto_Birdcalls/XC40316 - Bamboo Antshrike - Cymbilaimus sanctaemariae.mp3\n"
     ]
    },
    {
     "name": "stderr",
     "output_type": "stream",
     "text": [
      "/home/e4e/acoustic-species-id-environments/Yoo-Jin/opensoundscape/opensoundscape-env/lib/python3.8/site-packages/librosa/core/audio.py:161: UserWarning: PySoundFile failed. Trying audioread instead.\n",
      "  warnings.warn('PySoundFile failed. Trying audioread instead.')\n"
     ]
    },
    {
     "name": "stdout",
     "output_type": "stream",
     "text": [
      "/media/e4e/Rainforest_Data1/Madre_de_Dios_Xeno_Canto_Birdcalls/XC40317 - Black-capped Tinamou - Crypturellus atrocapillus.mp3\n"
     ]
    },
    {
     "name": "stderr",
     "output_type": "stream",
     "text": [
      "/home/e4e/acoustic-species-id-environments/Yoo-Jin/opensoundscape/opensoundscape-env/lib/python3.8/site-packages/librosa/core/audio.py:161: UserWarning: PySoundFile failed. Trying audioread instead.\n",
      "  warnings.warn('PySoundFile failed. Trying audioread instead.')\n"
     ]
    },
    {
     "name": "stdout",
     "output_type": "stream",
     "text": [
      "/media/e4e/Rainforest_Data1/Madre_de_Dios_Xeno_Canto_Birdcalls/XC40544 - Rufous Twistwing - Cnipodectes superrufus.mp3\n",
      "/media/e4e/Rainforest_Data1/Madre_de_Dios_Xeno_Canto_Birdcalls/XC40545 - Rufous Twistwing - Cnipodectes superrufus.mp3\n"
     ]
    },
    {
     "name": "stderr",
     "output_type": "stream",
     "text": [
      "/home/e4e/acoustic-species-id-environments/Yoo-Jin/opensoundscape/opensoundscape-env/lib/python3.8/site-packages/librosa/core/audio.py:161: UserWarning: PySoundFile failed. Trying audioread instead.\n",
      "  warnings.warn('PySoundFile failed. Trying audioread instead.')\n",
      "/home/e4e/acoustic-species-id-environments/Yoo-Jin/opensoundscape/opensoundscape-env/lib/python3.8/site-packages/librosa/core/audio.py:161: UserWarning: PySoundFile failed. Trying audioread instead.\n",
      "  warnings.warn('PySoundFile failed. Trying audioread instead.')\n"
     ]
    },
    {
     "name": "stdout",
     "output_type": "stream",
     "text": [
      "/media/e4e/Rainforest_Data1/Madre_de_Dios_Xeno_Canto_Birdcalls/XC418582 - Acre Tody-Tyrant - Hemitriccus cohnhafti.mp3\n"
     ]
    },
    {
     "name": "stderr",
     "output_type": "stream",
     "text": [
      "/home/e4e/acoustic-species-id-environments/Yoo-Jin/opensoundscape/opensoundscape-env/lib/python3.8/site-packages/librosa/core/audio.py:161: UserWarning: PySoundFile failed. Trying audioread instead.\n",
      "  warnings.warn('PySoundFile failed. Trying audioread instead.')\n"
     ]
    },
    {
     "name": "stdout",
     "output_type": "stream",
     "text": [
      "/media/e4e/Rainforest_Data1/Madre_de_Dios_Xeno_Canto_Birdcalls/XC431120 - Rufous Twistwing - Cnipodectes superrufus.mp3\n"
     ]
    },
    {
     "name": "stderr",
     "output_type": "stream",
     "text": [
      "/home/e4e/acoustic-species-id-environments/Yoo-Jin/opensoundscape/opensoundscape-env/lib/python3.8/site-packages/librosa/core/audio.py:161: UserWarning: PySoundFile failed. Trying audioread instead.\n",
      "  warnings.warn('PySoundFile failed. Trying audioread instead.')\n"
     ]
    },
    {
     "name": "stdout",
     "output_type": "stream",
     "text": [
      "/media/e4e/Rainforest_Data1/Madre_de_Dios_Xeno_Canto_Birdcalls/XC431131 - Acre Tody-Tyrant - Hemitriccus cohnhafti.mp3\n"
     ]
    },
    {
     "name": "stderr",
     "output_type": "stream",
     "text": [
      "/home/e4e/acoustic-species-id-environments/Yoo-Jin/opensoundscape/opensoundscape-env/lib/python3.8/site-packages/librosa/core/audio.py:161: UserWarning: PySoundFile failed. Trying audioread instead.\n",
      "  warnings.warn('PySoundFile failed. Trying audioread instead.')\n"
     ]
    },
    {
     "name": "stdout",
     "output_type": "stream",
     "text": [
      "/media/e4e/Rainforest_Data1/Madre_de_Dios_Xeno_Canto_Birdcalls/XC47471 - Riparian Antbird - Cercomacroides fuscicauda.mp3\n"
     ]
    },
    {
     "name": "stderr",
     "output_type": "stream",
     "text": [
      "/home/e4e/acoustic-species-id-environments/Yoo-Jin/opensoundscape/opensoundscape-env/lib/python3.8/site-packages/librosa/core/audio.py:161: UserWarning: PySoundFile failed. Trying audioread instead.\n",
      "  warnings.warn('PySoundFile failed. Trying audioread instead.')\n"
     ]
    },
    {
     "name": "stdout",
     "output_type": "stream",
     "text": [
      "/media/e4e/Rainforest_Data1/Madre_de_Dios_Xeno_Canto_Birdcalls/XC47472 - Black-throated Antbird - Myrmophylax atrothorax.mp3\n"
     ]
    },
    {
     "name": "stderr",
     "output_type": "stream",
     "text": [
      "/home/e4e/acoustic-species-id-environments/Yoo-Jin/opensoundscape/opensoundscape-env/lib/python3.8/site-packages/librosa/core/audio.py:161: UserWarning: PySoundFile failed. Trying audioread instead.\n",
      "  warnings.warn('PySoundFile failed. Trying audioread instead.')\n"
     ]
    },
    {
     "name": "stdout",
     "output_type": "stream",
     "text": [
      "/media/e4e/Rainforest_Data1/Madre_de_Dios_Xeno_Canto_Birdcalls/XC47473 - Bluish-fronted Jacamar - Galbula cyanescens.mp3\n"
     ]
    },
    {
     "name": "stderr",
     "output_type": "stream",
     "text": [
      "/home/e4e/acoustic-species-id-environments/Yoo-Jin/opensoundscape/opensoundscape-env/lib/python3.8/site-packages/librosa/core/audio.py:161: UserWarning: PySoundFile failed. Trying audioread instead.\n",
      "  warnings.warn('PySoundFile failed. Trying audioread instead.')\n"
     ]
    },
    {
     "name": "stdout",
     "output_type": "stream",
     "text": [
      "/media/e4e/Rainforest_Data1/Madre_de_Dios_Xeno_Canto_Birdcalls/XC47475 - Peruvian Recurvebill - Syndactyla ucayalae.mp3\n"
     ]
    },
    {
     "name": "stderr",
     "output_type": "stream",
     "text": [
      "/home/e4e/acoustic-species-id-environments/Yoo-Jin/opensoundscape/opensoundscape-env/lib/python3.8/site-packages/librosa/core/audio.py:161: UserWarning: PySoundFile failed. Trying audioread instead.\n",
      "  warnings.warn('PySoundFile failed. Trying audioread instead.')\n"
     ]
    },
    {
     "name": "stdout",
     "output_type": "stream",
     "text": [
      "/media/e4e/Rainforest_Data1/Madre_de_Dios_Xeno_Canto_Birdcalls/XC47476 - Peruvian Recurvebill - Syndactyla ucayalae.mp3\n"
     ]
    },
    {
     "name": "stderr",
     "output_type": "stream",
     "text": [
      "/home/e4e/acoustic-species-id-environments/Yoo-Jin/opensoundscape/opensoundscape-env/lib/python3.8/site-packages/librosa/core/audio.py:161: UserWarning: PySoundFile failed. Trying audioread instead.\n",
      "  warnings.warn('PySoundFile failed. Trying audioread instead.')\n"
     ]
    },
    {
     "name": "stdout",
     "output_type": "stream",
     "text": [
      "/media/e4e/Rainforest_Data1/Madre_de_Dios_Xeno_Canto_Birdcalls/XC47477 - Peruvian Recurvebill - Syndactyla ucayalae.mp3\n"
     ]
    },
    {
     "name": "stderr",
     "output_type": "stream",
     "text": [
      "/home/e4e/acoustic-species-id-environments/Yoo-Jin/opensoundscape/opensoundscape-env/lib/python3.8/site-packages/librosa/core/audio.py:161: UserWarning: PySoundFile failed. Trying audioread instead.\n",
      "  warnings.warn('PySoundFile failed. Trying audioread instead.')\n"
     ]
    },
    {
     "name": "stdout",
     "output_type": "stream",
     "text": [
      "/media/e4e/Rainforest_Data1/Madre_de_Dios_Xeno_Canto_Birdcalls/XC47478 - Purus Jacamar - Galbalcyrhynchus purusianus.mp3\n"
     ]
    },
    {
     "name": "stderr",
     "output_type": "stream",
     "text": [
      "/home/e4e/acoustic-species-id-environments/Yoo-Jin/opensoundscape/opensoundscape-env/lib/python3.8/site-packages/librosa/core/audio.py:161: UserWarning: PySoundFile failed. Trying audioread instead.\n",
      "  warnings.warn('PySoundFile failed. Trying audioread instead.')\n"
     ]
    },
    {
     "name": "stdout",
     "output_type": "stream",
     "text": [
      "/media/e4e/Rainforest_Data1/Madre_de_Dios_Xeno_Canto_Birdcalls/XC47480 - Yellow-breasted Warbling Antbird - Hypocnemis subflava.mp3\n"
     ]
    },
    {
     "name": "stderr",
     "output_type": "stream",
     "text": [
      "/home/e4e/acoustic-species-id-environments/Yoo-Jin/opensoundscape/opensoundscape-env/lib/python3.8/site-packages/librosa/core/audio.py:161: UserWarning: PySoundFile failed. Trying audioread instead.\n",
      "  warnings.warn('PySoundFile failed. Trying audioread instead.')\n"
     ]
    },
    {
     "name": "stdout",
     "output_type": "stream",
     "text": [
      "/media/e4e/Rainforest_Data1/Madre_de_Dios_Xeno_Canto_Birdcalls/XC47482 - Yellow-breasted Warbling Antbird - Hypocnemis subflava.mp3\n"
     ]
    },
    {
     "name": "stderr",
     "output_type": "stream",
     "text": [
      "/home/e4e/acoustic-species-id-environments/Yoo-Jin/opensoundscape/opensoundscape-env/lib/python3.8/site-packages/librosa/core/audio.py:161: UserWarning: PySoundFile failed. Trying audioread instead.\n",
      "  warnings.warn('PySoundFile failed. Trying audioread instead.')\n"
     ]
    },
    {
     "name": "stdout",
     "output_type": "stream",
     "text": [
      "/media/e4e/Rainforest_Data1/Madre_de_Dios_Xeno_Canto_Birdcalls/XC47550 - Riparian Antbird - Cercomacroides fuscicauda.mp3\n"
     ]
    },
    {
     "name": "stderr",
     "output_type": "stream",
     "text": [
      "/home/e4e/acoustic-species-id-environments/Yoo-Jin/opensoundscape/opensoundscape-env/lib/python3.8/site-packages/librosa/core/audio.py:161: UserWarning: PySoundFile failed. Trying audioread instead.\n",
      "  warnings.warn('PySoundFile failed. Trying audioread instead.')\n"
     ]
    },
    {
     "name": "stdout",
     "output_type": "stream",
     "text": [
      "/media/e4e/Rainforest_Data1/Madre_de_Dios_Xeno_Canto_Birdcalls/XC47551 - Black-throated Antbird - Myrmophylax atrothorax.mp3\n"
     ]
    },
    {
     "name": "stderr",
     "output_type": "stream",
     "text": [
      "/home/e4e/acoustic-species-id-environments/Yoo-Jin/opensoundscape/opensoundscape-env/lib/python3.8/site-packages/librosa/core/audio.py:161: UserWarning: PySoundFile failed. Trying audioread instead.\n",
      "  warnings.warn('PySoundFile failed. Trying audioread instead.')\n"
     ]
    },
    {
     "name": "stdout",
     "output_type": "stream",
     "text": [
      "/media/e4e/Rainforest_Data1/Madre_de_Dios_Xeno_Canto_Birdcalls/XC47552 - Black-throated Antbird - Myrmophylax atrothorax.mp3\n"
     ]
    },
    {
     "name": "stderr",
     "output_type": "stream",
     "text": [
      "/home/e4e/acoustic-species-id-environments/Yoo-Jin/opensoundscape/opensoundscape-env/lib/python3.8/site-packages/librosa/core/audio.py:161: UserWarning: PySoundFile failed. Trying audioread instead.\n",
      "  warnings.warn('PySoundFile failed. Trying audioread instead.')\n"
     ]
    },
    {
     "name": "stdout",
     "output_type": "stream",
     "text": [
      "/media/e4e/Rainforest_Data1/Madre_de_Dios_Xeno_Canto_Birdcalls/XC47553 - Chestnut-crowned Foliage-gleaner - Automolus rufipileatus.mp3\n"
     ]
    },
    {
     "name": "stderr",
     "output_type": "stream",
     "text": [
      "/home/e4e/acoustic-species-id-environments/Yoo-Jin/opensoundscape/opensoundscape-env/lib/python3.8/site-packages/librosa/core/audio.py:161: UserWarning: PySoundFile failed. Trying audioread instead.\n",
      "  warnings.warn('PySoundFile failed. Trying audioread instead.')\n"
     ]
    },
    {
     "name": "stdout",
     "output_type": "stream",
     "text": [
      "/media/e4e/Rainforest_Data1/Madre_de_Dios_Xeno_Canto_Birdcalls/XC47554 - White-eyed Attila - Attila bolivianus.mp3\n"
     ]
    },
    {
     "name": "stderr",
     "output_type": "stream",
     "text": [
      "/home/e4e/acoustic-species-id-environments/Yoo-Jin/opensoundscape/opensoundscape-env/lib/python3.8/site-packages/librosa/core/audio.py:161: UserWarning: PySoundFile failed. Trying audioread instead.\n",
      "  warnings.warn('PySoundFile failed. Trying audioread instead.')\n"
     ]
    },
    {
     "name": "stdout",
     "output_type": "stream",
     "text": [
      "/media/e4e/Rainforest_Data1/Madre_de_Dios_Xeno_Canto_Birdcalls/XC47555 - Dusky-headed Parakeet - Aratinga weddellii.mp3\n"
     ]
    },
    {
     "name": "stderr",
     "output_type": "stream",
     "text": [
      "/home/e4e/acoustic-species-id-environments/Yoo-Jin/opensoundscape/opensoundscape-env/lib/python3.8/site-packages/librosa/core/audio.py:161: UserWarning: PySoundFile failed. Trying audioread instead.\n",
      "  warnings.warn('PySoundFile failed. Trying audioread instead.')\n"
     ]
    },
    {
     "name": "stdout",
     "output_type": "stream",
     "text": [
      "/media/e4e/Rainforest_Data1/Madre_de_Dios_Xeno_Canto_Birdcalls/XC47556 - Grey-lined Hawk - Buteo nitidus.mp3\n"
     ]
    },
    {
     "name": "stderr",
     "output_type": "stream",
     "text": [
      "/home/e4e/acoustic-species-id-environments/Yoo-Jin/opensoundscape/opensoundscape-env/lib/python3.8/site-packages/librosa/core/audio.py:161: UserWarning: PySoundFile failed. Trying audioread instead.\n",
      "  warnings.warn('PySoundFile failed. Trying audioread instead.')\n"
     ]
    },
    {
     "name": "stdout",
     "output_type": "stream",
     "text": [
      "/media/e4e/Rainforest_Data1/Madre_de_Dios_Xeno_Canto_Birdcalls/XC47557 - Johannes's Tody-Tyrant - Hemitriccus iohannis.mp3\n"
     ]
    },
    {
     "name": "stderr",
     "output_type": "stream",
     "text": [
      "/home/e4e/acoustic-species-id-environments/Yoo-Jin/opensoundscape/opensoundscape-env/lib/python3.8/site-packages/librosa/core/audio.py:161: UserWarning: PySoundFile failed. Trying audioread instead.\n",
      "  warnings.warn('PySoundFile failed. Trying audioread instead.')\n"
     ]
    },
    {
     "name": "stdout",
     "output_type": "stream",
     "text": [
      "/media/e4e/Rainforest_Data1/Madre_de_Dios_Xeno_Canto_Birdcalls/XC47559 - Plumbeous Antbird - Myrmelastes hyperythrus.mp3\n"
     ]
    },
    {
     "name": "stderr",
     "output_type": "stream",
     "text": [
      "/home/e4e/acoustic-species-id-environments/Yoo-Jin/opensoundscape/opensoundscape-env/lib/python3.8/site-packages/librosa/core/audio.py:161: UserWarning: PySoundFile failed. Trying audioread instead.\n",
      "  warnings.warn('PySoundFile failed. Trying audioread instead.')\n"
     ]
    },
    {
     "name": "stdout",
     "output_type": "stream",
     "text": [
      "/media/e4e/Rainforest_Data1/Madre_de_Dios_Xeno_Canto_Birdcalls/XC47560 - Rufous-breasted Piculet - Picumnus rufiventris.mp3\n"
     ]
    },
    {
     "name": "stderr",
     "output_type": "stream",
     "text": [
      "/home/e4e/acoustic-species-id-environments/Yoo-Jin/opensoundscape/opensoundscape-env/lib/python3.8/site-packages/librosa/core/audio.py:161: UserWarning: PySoundFile failed. Trying audioread instead.\n",
      "  warnings.warn('PySoundFile failed. Trying audioread instead.')\n"
     ]
    },
    {
     "name": "stdout",
     "output_type": "stream",
     "text": [
      "/media/e4e/Rainforest_Data1/Madre_de_Dios_Xeno_Canto_Birdcalls/XC47561 - Rufous-breasted Piculet - Picumnus rufiventris.mp3\n"
     ]
    },
    {
     "name": "stderr",
     "output_type": "stream",
     "text": [
      "/home/e4e/acoustic-species-id-environments/Yoo-Jin/opensoundscape/opensoundscape-env/lib/python3.8/site-packages/librosa/core/audio.py:161: UserWarning: PySoundFile failed. Trying audioread instead.\n",
      "  warnings.warn('PySoundFile failed. Trying audioread instead.')\n"
     ]
    },
    {
     "name": "stdout",
     "output_type": "stream",
     "text": [
      "/media/e4e/Rainforest_Data1/Madre_de_Dios_Xeno_Canto_Birdcalls/XC47562 - Rufous-breasted Piculet - Picumnus rufiventris.mp3\n"
     ]
    },
    {
     "name": "stderr",
     "output_type": "stream",
     "text": [
      "/home/e4e/acoustic-species-id-environments/Yoo-Jin/opensoundscape/opensoundscape-env/lib/python3.8/site-packages/librosa/core/audio.py:161: UserWarning: PySoundFile failed. Trying audioread instead.\n",
      "  warnings.warn('PySoundFile failed. Trying audioread instead.')\n"
     ]
    },
    {
     "name": "stdout",
     "output_type": "stream",
     "text": [
      "/media/e4e/Rainforest_Data1/Madre_de_Dios_Xeno_Canto_Birdcalls/XC47563 - Sapphire-spangled Emerald - Amazilia lactea.mp3\n"
     ]
    },
    {
     "name": "stderr",
     "output_type": "stream",
     "text": [
      "/home/e4e/acoustic-species-id-environments/Yoo-Jin/opensoundscape/opensoundscape-env/lib/python3.8/site-packages/librosa/core/audio.py:161: UserWarning: PySoundFile failed. Trying audioread instead.\n",
      "  warnings.warn('PySoundFile failed. Trying audioread instead.')\n"
     ]
    },
    {
     "name": "stdout",
     "output_type": "stream",
     "text": [
      "/media/e4e/Rainforest_Data1/Madre_de_Dios_Xeno_Canto_Birdcalls/XC47564 - Speckled Chachalaca - Ortalis guttata.mp3\n"
     ]
    },
    {
     "name": "stderr",
     "output_type": "stream",
     "text": [
      "/home/e4e/acoustic-species-id-environments/Yoo-Jin/opensoundscape/opensoundscape-env/lib/python3.8/site-packages/librosa/core/audio.py:161: UserWarning: PySoundFile failed. Trying audioread instead.\n",
      "  warnings.warn('PySoundFile failed. Trying audioread instead.')\n"
     ]
    },
    {
     "name": "stdout",
     "output_type": "stream",
     "text": [
      "/media/e4e/Rainforest_Data1/Madre_de_Dios_Xeno_Canto_Birdcalls/XC47565 - Spotted Tody-Flycatcher - Todirostrum maculatum.mp3\n"
     ]
    },
    {
     "name": "stderr",
     "output_type": "stream",
     "text": [
      "/home/e4e/acoustic-species-id-environments/Yoo-Jin/opensoundscape/opensoundscape-env/lib/python3.8/site-packages/librosa/core/audio.py:161: UserWarning: PySoundFile failed. Trying audioread instead.\n",
      "  warnings.warn('PySoundFile failed. Trying audioread instead.')\n"
     ]
    },
    {
     "name": "stdout",
     "output_type": "stream",
     "text": [
      "/media/e4e/Rainforest_Data1/Madre_de_Dios_Xeno_Canto_Birdcalls/XC47566 - Tui Parakeet - Brotogeris sanctithomae.mp3\n"
     ]
    },
    {
     "name": "stderr",
     "output_type": "stream",
     "text": [
      "/home/e4e/acoustic-species-id-environments/Yoo-Jin/opensoundscape/opensoundscape-env/lib/python3.8/site-packages/librosa/core/audio.py:161: UserWarning: PySoundFile failed. Trying audioread instead.\n",
      "  warnings.warn('PySoundFile failed. Trying audioread instead.')\n"
     ]
    },
    {
     "name": "stdout",
     "output_type": "stream",
     "text": [
      "/media/e4e/Rainforest_Data1/Madre_de_Dios_Xeno_Canto_Birdcalls/XC47567 - Tui Parakeet - Brotogeris sanctithomae.mp3\n"
     ]
    },
    {
     "name": "stderr",
     "output_type": "stream",
     "text": [
      "/home/e4e/acoustic-species-id-environments/Yoo-Jin/opensoundscape/opensoundscape-env/lib/python3.8/site-packages/librosa/core/audio.py:161: UserWarning: PySoundFile failed. Trying audioread instead.\n",
      "  warnings.warn('PySoundFile failed. Trying audioread instead.')\n"
     ]
    },
    {
     "name": "stdout",
     "output_type": "stream",
     "text": [
      "/media/e4e/Rainforest_Data1/Madre_de_Dios_Xeno_Canto_Birdcalls/XC47569 - White-winged Becard - Pachyramphus polychopterus nigriventris.mp3\n"
     ]
    },
    {
     "name": "stderr",
     "output_type": "stream",
     "text": [
      "/home/e4e/acoustic-species-id-environments/Yoo-Jin/opensoundscape/opensoundscape-env/lib/python3.8/site-packages/librosa/core/audio.py:161: UserWarning: PySoundFile failed. Trying audioread instead.\n",
      "  warnings.warn('PySoundFile failed. Trying audioread instead.')\n"
     ]
    },
    {
     "name": "stdout",
     "output_type": "stream",
     "text": [
      "/media/e4e/Rainforest_Data1/Madre_de_Dios_Xeno_Canto_Birdcalls/XC47570 - Yellow-browed Sparrow - Ammodramus aurifrons.mp3\n"
     ]
    },
    {
     "name": "stderr",
     "output_type": "stream",
     "text": [
      "/home/e4e/acoustic-species-id-environments/Yoo-Jin/opensoundscape/opensoundscape-env/lib/python3.8/site-packages/librosa/core/audio.py:161: UserWarning: PySoundFile failed. Trying audioread instead.\n",
      "  warnings.warn('PySoundFile failed. Trying audioread instead.')\n"
     ]
    },
    {
     "name": "stdout",
     "output_type": "stream",
     "text": [
      "/media/e4e/Rainforest_Data1/Madre_de_Dios_Xeno_Canto_Birdcalls/XC47673 - Greyish Saltator - Saltator coerulescens azarae.mp3\n"
     ]
    },
    {
     "name": "stderr",
     "output_type": "stream",
     "text": [
      "/home/e4e/acoustic-species-id-environments/Yoo-Jin/opensoundscape/opensoundscape-env/lib/python3.8/site-packages/librosa/core/audio.py:161: UserWarning: PySoundFile failed. Trying audioread instead.\n",
      "  warnings.warn('PySoundFile failed. Trying audioread instead.')\n"
     ]
    },
    {
     "name": "stdout",
     "output_type": "stream",
     "text": [
      "/media/e4e/Rainforest_Data1/Madre_de_Dios_Xeno_Canto_Birdcalls/XC47678 - Violaceous Jay - Cyanocorax violaceus.mp3\n"
     ]
    },
    {
     "name": "stderr",
     "output_type": "stream",
     "text": [
      "/home/e4e/acoustic-species-id-environments/Yoo-Jin/opensoundscape/opensoundscape-env/lib/python3.8/site-packages/librosa/core/audio.py:161: UserWarning: PySoundFile failed. Trying audioread instead.\n",
      "  warnings.warn('PySoundFile failed. Trying audioread instead.')\n"
     ]
    },
    {
     "name": "stdout",
     "output_type": "stream",
     "text": [
      "/media/e4e/Rainforest_Data1/Madre_de_Dios_Xeno_Canto_Birdcalls/XC47843 - Rufous-breasted Hermit - Glaucis hirsutus.mp3\n"
     ]
    },
    {
     "name": "stderr",
     "output_type": "stream",
     "text": [
      "/home/e4e/acoustic-species-id-environments/Yoo-Jin/opensoundscape/opensoundscape-env/lib/python3.8/site-packages/librosa/core/audio.py:161: UserWarning: PySoundFile failed. Trying audioread instead.\n",
      "  warnings.warn('PySoundFile failed. Trying audioread instead.')\n"
     ]
    },
    {
     "name": "stdout",
     "output_type": "stream",
     "text": [
      "/media/e4e/Rainforest_Data1/Madre_de_Dios_Xeno_Canto_Birdcalls/XC496773 - White-lined Antbird - Myrmoborus lophotes.mp3\n"
     ]
    },
    {
     "name": "stderr",
     "output_type": "stream",
     "text": [
      "/home/e4e/acoustic-species-id-environments/Yoo-Jin/opensoundscape/opensoundscape-env/lib/python3.8/site-packages/librosa/core/audio.py:161: UserWarning: PySoundFile failed. Trying audioread instead.\n",
      "  warnings.warn('PySoundFile failed. Trying audioread instead.')\n"
     ]
    },
    {
     "name": "stdout",
     "output_type": "stream",
     "text": [
      "/media/e4e/Rainforest_Data1/Madre_de_Dios_Xeno_Canto_Birdcalls/XC496780 - Chestnut-crowned Foliage-gleaner - Automolus rufipileatus.mp3\n"
     ]
    },
    {
     "name": "stderr",
     "output_type": "stream",
     "text": [
      "/home/e4e/acoustic-species-id-environments/Yoo-Jin/opensoundscape/opensoundscape-env/lib/python3.8/site-packages/librosa/core/audio.py:161: UserWarning: PySoundFile failed. Trying audioread instead.\n",
      "  warnings.warn('PySoundFile failed. Trying audioread instead.')\n"
     ]
    },
    {
     "name": "stdout",
     "output_type": "stream",
     "text": [
      "/media/e4e/Rainforest_Data1/Madre_de_Dios_Xeno_Canto_Birdcalls/XC496788 - Great Jacamar - Jacamerops aureus.mp3\n"
     ]
    },
    {
     "name": "stderr",
     "output_type": "stream",
     "text": [
      "/home/e4e/acoustic-species-id-environments/Yoo-Jin/opensoundscape/opensoundscape-env/lib/python3.8/site-packages/librosa/core/audio.py:161: UserWarning: PySoundFile failed. Trying audioread instead.\n",
      "  warnings.warn('PySoundFile failed. Trying audioread instead.')\n"
     ]
    },
    {
     "name": "stdout",
     "output_type": "stream",
     "text": [
      "/media/e4e/Rainforest_Data1/Madre_de_Dios_Xeno_Canto_Birdcalls/XC496789 - Yellow-breasted Warbling Antbird - Hypocnemis subflava.mp3\n"
     ]
    },
    {
     "name": "stderr",
     "output_type": "stream",
     "text": [
      "/home/e4e/acoustic-species-id-environments/Yoo-Jin/opensoundscape/opensoundscape-env/lib/python3.8/site-packages/librosa/core/audio.py:161: UserWarning: PySoundFile failed. Trying audioread instead.\n",
      "  warnings.warn('PySoundFile failed. Trying audioread instead.')\n"
     ]
    },
    {
     "name": "stdout",
     "output_type": "stream",
     "text": [
      "/media/e4e/Rainforest_Data1/Madre_de_Dios_Xeno_Canto_Birdcalls/XC496791 - Riparian Antbird - Cercomacroides fuscicauda.mp3\n"
     ]
    },
    {
     "name": "stderr",
     "output_type": "stream",
     "text": [
      "/home/e4e/acoustic-species-id-environments/Yoo-Jin/opensoundscape/opensoundscape-env/lib/python3.8/site-packages/librosa/core/audio.py:161: UserWarning: PySoundFile failed. Trying audioread instead.\n",
      "  warnings.warn('PySoundFile failed. Trying audioread instead.')\n"
     ]
    },
    {
     "name": "stdout",
     "output_type": "stream",
     "text": [
      "/media/e4e/Rainforest_Data1/Madre_de_Dios_Xeno_Canto_Birdcalls/XC496793 - Rufous-headed Woodpecker - Celeus spectabilis.mp3\n"
     ]
    },
    {
     "name": "stderr",
     "output_type": "stream",
     "text": [
      "/home/e4e/acoustic-species-id-environments/Yoo-Jin/opensoundscape/opensoundscape-env/lib/python3.8/site-packages/librosa/core/audio.py:161: UserWarning: PySoundFile failed. Trying audioread instead.\n",
      "  warnings.warn('PySoundFile failed. Trying audioread instead.')\n"
     ]
    },
    {
     "name": "stdout",
     "output_type": "stream",
     "text": [
      "/media/e4e/Rainforest_Data1/Madre_de_Dios_Xeno_Canto_Birdcalls/XC496922 - Slate-colored Grosbeak - Saltator grossus.mp3\n"
     ]
    },
    {
     "name": "stderr",
     "output_type": "stream",
     "text": [
      "/home/e4e/acoustic-species-id-environments/Yoo-Jin/opensoundscape/opensoundscape-env/lib/python3.8/site-packages/librosa/core/audio.py:161: UserWarning: PySoundFile failed. Trying audioread instead.\n",
      "  warnings.warn('PySoundFile failed. Trying audioread instead.')\n"
     ]
    },
    {
     "name": "stdout",
     "output_type": "stream",
     "text": [
      "/media/e4e/Rainforest_Data1/Madre_de_Dios_Xeno_Canto_Birdcalls/XC496967 - Moustached Wren - Pheugopedius genibarbis.mp3\n"
     ]
    },
    {
     "name": "stderr",
     "output_type": "stream",
     "text": [
      "/home/e4e/acoustic-species-id-environments/Yoo-Jin/opensoundscape/opensoundscape-env/lib/python3.8/site-packages/librosa/core/audio.py:161: UserWarning: PySoundFile failed. Trying audioread instead.\n",
      "  warnings.warn('PySoundFile failed. Trying audioread instead.')\n"
     ]
    },
    {
     "name": "stdout",
     "output_type": "stream",
     "text": [
      "/media/e4e/Rainforest_Data1/Madre_de_Dios_Xeno_Canto_Birdcalls/XC497062 - Bright-rumped Attila - Attila spadiceus.mp3\n"
     ]
    },
    {
     "name": "stderr",
     "output_type": "stream",
     "text": [
      "/home/e4e/acoustic-species-id-environments/Yoo-Jin/opensoundscape/opensoundscape-env/lib/python3.8/site-packages/librosa/core/audio.py:161: UserWarning: PySoundFile failed. Trying audioread instead.\n",
      "  warnings.warn('PySoundFile failed. Trying audioread instead.')\n"
     ]
    },
    {
     "name": "stdout",
     "output_type": "stream",
     "text": [
      "/media/e4e/Rainforest_Data1/Madre_de_Dios_Xeno_Canto_Birdcalls/XC497294 - Peruvian Recurvebill - Syndactyla ucayalae.mp3\n"
     ]
    },
    {
     "name": "stderr",
     "output_type": "stream",
     "text": [
      "/home/e4e/acoustic-species-id-environments/Yoo-Jin/opensoundscape/opensoundscape-env/lib/python3.8/site-packages/librosa/core/audio.py:161: UserWarning: PySoundFile failed. Trying audioread instead.\n",
      "  warnings.warn('PySoundFile failed. Trying audioread instead.')\n"
     ]
    },
    {
     "name": "stdout",
     "output_type": "stream",
     "text": [
      "/media/e4e/Rainforest_Data1/Madre_de_Dios_Xeno_Canto_Birdcalls/XC497312 - Lemon-throated Barbet - Eubucco richardsoni.mp3\n"
     ]
    },
    {
     "name": "stderr",
     "output_type": "stream",
     "text": [
      "/home/e4e/acoustic-species-id-environments/Yoo-Jin/opensoundscape/opensoundscape-env/lib/python3.8/site-packages/librosa/core/audio.py:161: UserWarning: PySoundFile failed. Trying audioread instead.\n",
      "  warnings.warn('PySoundFile failed. Trying audioread instead.')\n"
     ]
    },
    {
     "name": "stdout",
     "output_type": "stream",
     "text": [
      "/media/e4e/Rainforest_Data1/Madre_de_Dios_Xeno_Canto_Birdcalls/XC91306 - Mato Grosso Swift - Chaetura viridipennis.mp3\n"
     ]
    },
    {
     "name": "stderr",
     "output_type": "stream",
     "text": [
      "/home/e4e/acoustic-species-id-environments/Yoo-Jin/opensoundscape/opensoundscape-env/lib/python3.8/site-packages/librosa/core/audio.py:161: UserWarning: PySoundFile failed. Trying audioread instead.\n",
      "  warnings.warn('PySoundFile failed. Trying audioread instead.')\n"
     ]
    },
    {
     "name": "stdout",
     "output_type": "stream",
     "text": [
      "/media/e4e/Rainforest_Data1/Madre_de_Dios_Xeno_Canto_Birdcalls/XC91316 - Tropical Kingbird - Tyrannus melancholicus.mp3\n",
      "/media/e4e/Rainforest_Data1/Madre_de_Dios_Xeno_Canto_Birdcalls/XC91318 - Rusty-fronted Tody-Flycatcher - Poecilotriccus latirostris.mp3\n"
     ]
    },
    {
     "name": "stderr",
     "output_type": "stream",
     "text": [
      "/home/e4e/acoustic-species-id-environments/Yoo-Jin/opensoundscape/opensoundscape-env/lib/python3.8/site-packages/librosa/core/audio.py:161: UserWarning: PySoundFile failed. Trying audioread instead.\n",
      "  warnings.warn('PySoundFile failed. Trying audioread instead.')\n",
      "/home/e4e/acoustic-species-id-environments/Yoo-Jin/opensoundscape/opensoundscape-env/lib/python3.8/site-packages/librosa/core/audio.py:161: UserWarning: PySoundFile failed. Trying audioread instead.\n",
      "  warnings.warn('PySoundFile failed. Trying audioread instead.')\n"
     ]
    },
    {
     "name": "stdout",
     "output_type": "stream",
     "text": [
      "/media/e4e/Rainforest_Data1/Madre_de_Dios_Xeno_Canto_Birdcalls/XC91319 - Rusty-margined Flycatcher - Myiozetetes cayanensis.mp3\n"
     ]
    },
    {
     "name": "stderr",
     "output_type": "stream",
     "text": [
      "/home/e4e/acoustic-species-id-environments/Yoo-Jin/opensoundscape/opensoundscape-env/lib/python3.8/site-packages/librosa/core/audio.py:161: UserWarning: PySoundFile failed. Trying audioread instead.\n",
      "  warnings.warn('PySoundFile failed. Trying audioread instead.')\n"
     ]
    },
    {
     "name": "stdout",
     "output_type": "stream",
     "text": [
      "/media/e4e/Rainforest_Data1/Madre_de_Dios_Xeno_Canto_Birdcalls/XC91320 - Paint-billed Crake - Neocrex erythrops.mp3\n"
     ]
    },
    {
     "name": "stderr",
     "output_type": "stream",
     "text": [
      "/home/e4e/acoustic-species-id-environments/Yoo-Jin/opensoundscape/opensoundscape-env/lib/python3.8/site-packages/librosa/core/audio.py:161: UserWarning: PySoundFile failed. Trying audioread instead.\n",
      "  warnings.warn('PySoundFile failed. Trying audioread instead.')\n"
     ]
    },
    {
     "name": "stdout",
     "output_type": "stream",
     "text": [
      "/media/e4e/Rainforest_Data1/Madre_de_Dios_Xeno_Canto_Birdcalls/XC91321 - Paint-billed Crake - Neocrex erythrops.mp3\n"
     ]
    },
    {
     "name": "stderr",
     "output_type": "stream",
     "text": [
      "/home/e4e/acoustic-species-id-environments/Yoo-Jin/opensoundscape/opensoundscape-env/lib/python3.8/site-packages/librosa/core/audio.py:161: UserWarning: PySoundFile failed. Trying audioread instead.\n",
      "  warnings.warn('PySoundFile failed. Trying audioread instead.')\n"
     ]
    },
    {
     "name": "stdout",
     "output_type": "stream",
     "text": [
      "/media/e4e/Rainforest_Data1/Madre_de_Dios_Xeno_Canto_Birdcalls/XC91322 - Paint-billed Crake - Neocrex erythrops.mp3\n"
     ]
    },
    {
     "name": "stderr",
     "output_type": "stream",
     "text": [
      "/home/e4e/acoustic-species-id-environments/Yoo-Jin/opensoundscape/opensoundscape-env/lib/python3.8/site-packages/librosa/core/audio.py:161: UserWarning: PySoundFile failed. Trying audioread instead.\n",
      "  warnings.warn('PySoundFile failed. Trying audioread instead.')\n"
     ]
    },
    {
     "name": "stdout",
     "output_type": "stream",
     "text": [
      "/media/e4e/Rainforest_Data1/Madre_de_Dios_Xeno_Canto_Birdcalls/XC91323 - White-eyed Parakeet - Psittacara leucophthalmus.mp3\n",
      "/media/e4e/Rainforest_Data1/Madre_de_Dios_Xeno_Canto_Birdcalls/XC91324 - Stripe-chested Antwren - Myrmotherula longicauda.mp3\n"
     ]
    },
    {
     "name": "stderr",
     "output_type": "stream",
     "text": [
      "/home/e4e/acoustic-species-id-environments/Yoo-Jin/opensoundscape/opensoundscape-env/lib/python3.8/site-packages/librosa/core/audio.py:161: UserWarning: PySoundFile failed. Trying audioread instead.\n",
      "  warnings.warn('PySoundFile failed. Trying audioread instead.')\n",
      "/home/e4e/acoustic-species-id-environments/Yoo-Jin/opensoundscape/opensoundscape-env/lib/python3.8/site-packages/librosa/core/audio.py:161: UserWarning: PySoundFile failed. Trying audioread instead.\n",
      "  warnings.warn('PySoundFile failed. Trying audioread instead.')\n"
     ]
    },
    {
     "name": "stdout",
     "output_type": "stream",
     "text": [
      "/media/e4e/Rainforest_Data1/Madre_de_Dios_Xeno_Canto_Birdcalls/XC91325 - Southern Mealy Amazon - Amazona farinosa.mp3\n",
      "/media/e4e/Rainforest_Data1/Madre_de_Dios_Xeno_Canto_Birdcalls/XC91326 - Spot-breasted Woodpecker - Colaptes punctigula.mp3\n"
     ]
    },
    {
     "name": "stderr",
     "output_type": "stream",
     "text": [
      "/home/e4e/acoustic-species-id-environments/Yoo-Jin/opensoundscape/opensoundscape-env/lib/python3.8/site-packages/librosa/core/audio.py:161: UserWarning: PySoundFile failed. Trying audioread instead.\n",
      "  warnings.warn('PySoundFile failed. Trying audioread instead.')\n",
      "/home/e4e/acoustic-species-id-environments/Yoo-Jin/opensoundscape/opensoundscape-env/lib/python3.8/site-packages/librosa/core/audio.py:161: UserWarning: PySoundFile failed. Trying audioread instead.\n",
      "  warnings.warn('PySoundFile failed. Trying audioread instead.')\n"
     ]
    },
    {
     "name": "stdout",
     "output_type": "stream",
     "text": [
      "/media/e4e/Rainforest_Data1/Madre_de_Dios_Xeno_Canto_Birdcalls/XC91328 - Yellow-browed Sparrow - Ammodramus aurifrons.mp3\n"
     ]
    },
    {
     "name": "stderr",
     "output_type": "stream",
     "text": [
      "/home/e4e/acoustic-species-id-environments/Yoo-Jin/opensoundscape/opensoundscape-env/lib/python3.8/site-packages/librosa/core/audio.py:161: UserWarning: PySoundFile failed. Trying audioread instead.\n",
      "  warnings.warn('PySoundFile failed. Trying audioread instead.')\n"
     ]
    },
    {
     "name": "stdout",
     "output_type": "stream",
     "text": [
      "/media/e4e/Rainforest_Data1/Madre_de_Dios_Xeno_Canto_Birdcalls/XC91329 - Yellow-tufted Woodpecker - Melanerpes cruentatus.mp3\n",
      "/media/e4e/Rainforest_Data1/Madre_de_Dios_Xeno_Canto_Birdcalls/XC91330 - Sunbittern - Eurypyga helias helias.mp3\n"
     ]
    },
    {
     "name": "stderr",
     "output_type": "stream",
     "text": [
      "/home/e4e/acoustic-species-id-environments/Yoo-Jin/opensoundscape/opensoundscape-env/lib/python3.8/site-packages/librosa/core/audio.py:161: UserWarning: PySoundFile failed. Trying audioread instead.\n",
      "  warnings.warn('PySoundFile failed. Trying audioread instead.')\n",
      "/home/e4e/acoustic-species-id-environments/Yoo-Jin/opensoundscape/opensoundscape-env/lib/python3.8/site-packages/librosa/core/audio.py:161: UserWarning: PySoundFile failed. Trying audioread instead.\n",
      "  warnings.warn('PySoundFile failed. Trying audioread instead.')\n"
     ]
    },
    {
     "name": "stdout",
     "output_type": "stream",
     "text": [
      "/media/e4e/Rainforest_Data1/Madre_de_Dios_Xeno_Canto_Birdcalls/XC91331 - Rufous Twistwing - Cnipodectes superrufus.mp3\n"
     ]
    },
    {
     "name": "stderr",
     "output_type": "stream",
     "text": [
      "/home/e4e/acoustic-species-id-environments/Yoo-Jin/opensoundscape/opensoundscape-env/lib/python3.8/site-packages/librosa/core/audio.py:161: UserWarning: PySoundFile failed. Trying audioread instead.\n",
      "  warnings.warn('PySoundFile failed. Trying audioread instead.')\n"
     ]
    },
    {
     "name": "stdout",
     "output_type": "stream",
     "text": [
      "/media/e4e/Rainforest_Data1/Madre_de_Dios_Xeno_Canto_Birdcalls/XC91332 - Rufous Twistwing - Cnipodectes superrufus.mp3\n"
     ]
    },
    {
     "name": "stderr",
     "output_type": "stream",
     "text": [
      "/home/e4e/acoustic-species-id-environments/Yoo-Jin/opensoundscape/opensoundscape-env/lib/python3.8/site-packages/librosa/core/audio.py:161: UserWarning: PySoundFile failed. Trying audioread instead.\n",
      "  warnings.warn('PySoundFile failed. Trying audioread instead.')\n"
     ]
    },
    {
     "name": "stdout",
     "output_type": "stream",
     "text": [
      "/media/e4e/Rainforest_Data1/Madre_de_Dios_Xeno_Canto_Birdcalls/XC91333 - Rufous-capped Nunlet - Nonnula ruficapilla.mp3\n"
     ]
    },
    {
     "name": "stderr",
     "output_type": "stream",
     "text": [
      "/home/e4e/acoustic-species-id-environments/Yoo-Jin/opensoundscape/opensoundscape-env/lib/python3.8/site-packages/librosa/core/audio.py:161: UserWarning: PySoundFile failed. Trying audioread instead.\n",
      "  warnings.warn('PySoundFile failed. Trying audioread instead.')\n"
     ]
    },
    {
     "name": "stdout",
     "output_type": "stream",
     "text": [
      "/media/e4e/Rainforest_Data1/Madre_de_Dios_Xeno_Canto_Birdcalls/XC91334 - Long-billed Starthroat - Heliomaster longirostris.mp3\n"
     ]
    },
    {
     "name": "stderr",
     "output_type": "stream",
     "text": [
      "/home/e4e/acoustic-species-id-environments/Yoo-Jin/opensoundscape/opensoundscape-env/lib/python3.8/site-packages/librosa/core/audio.py:161: UserWarning: PySoundFile failed. Trying audioread instead.\n",
      "  warnings.warn('PySoundFile failed. Trying audioread instead.')\n"
     ]
    },
    {
     "name": "stdout",
     "output_type": "stream",
     "text": [
      "/media/e4e/Rainforest_Data1/Madre_de_Dios_Xeno_Canto_Birdcalls/XC91335 - Yellow-cheeked Becard - Pachyramphus xanthogenys.mp3\n",
      "/media/e4e/Rainforest_Data1/Madre_de_Dios_Xeno_Canto_Birdcalls/XC91336 - Greyish Saltator - Saltator coerulescens.mp3\n"
     ]
    },
    {
     "name": "stderr",
     "output_type": "stream",
     "text": [
      "/home/e4e/acoustic-species-id-environments/Yoo-Jin/opensoundscape/opensoundscape-env/lib/python3.8/site-packages/librosa/core/audio.py:161: UserWarning: PySoundFile failed. Trying audioread instead.\n",
      "  warnings.warn('PySoundFile failed. Trying audioread instead.')\n",
      "/home/e4e/acoustic-species-id-environments/Yoo-Jin/opensoundscape/opensoundscape-env/lib/python3.8/site-packages/librosa/core/audio.py:161: UserWarning: PySoundFile failed. Trying audioread instead.\n",
      "  warnings.warn('PySoundFile failed. Trying audioread instead.')\n"
     ]
    },
    {
     "name": "stdout",
     "output_type": "stream",
     "text": [
      "/media/e4e/Rainforest_Data1/Madre_de_Dios_Xeno_Canto_Birdcalls/XC91337 - Paint-billed Crake - Neocrex erythrops.mp3\n"
     ]
    },
    {
     "name": "stderr",
     "output_type": "stream",
     "text": [
      "/home/e4e/acoustic-species-id-environments/Yoo-Jin/opensoundscape/opensoundscape-env/lib/python3.8/site-packages/librosa/core/audio.py:161: UserWarning: PySoundFile failed. Trying audioread instead.\n",
      "  warnings.warn('PySoundFile failed. Trying audioread instead.')\n"
     ]
    },
    {
     "name": "stdout",
     "output_type": "stream",
     "text": [
      "/media/e4e/Rainforest_Data1/Madre_de_Dios_Xeno_Canto_Birdcalls/XC91339 - Double-collared Seedeater - Sporophila caerulescens.mp3\n",
      "/media/e4e/Rainforest_Data1/Madre_de_Dios_Xeno_Canto_Birdcalls/XC91438 - Pale-rumped Swift - Chaetura egregia.mp3\n"
     ]
    },
    {
     "name": "stderr",
     "output_type": "stream",
     "text": [
      "/home/e4e/acoustic-species-id-environments/Yoo-Jin/opensoundscape/opensoundscape-env/lib/python3.8/site-packages/librosa/core/audio.py:161: UserWarning: PySoundFile failed. Trying audioread instead.\n",
      "  warnings.warn('PySoundFile failed. Trying audioread instead.')\n",
      "/home/e4e/acoustic-species-id-environments/Yoo-Jin/opensoundscape/opensoundscape-env/lib/python3.8/site-packages/librosa/core/audio.py:161: UserWarning: PySoundFile failed. Trying audioread instead.\n",
      "  warnings.warn('PySoundFile failed. Trying audioread instead.')\n"
     ]
    },
    {
     "name": "stdout",
     "output_type": "stream",
     "text": [
      "/media/e4e/Rainforest_Data1/Madre_de_Dios_Xeno_Canto_Birdcalls/XC91439 - Black-tailed Tityra - Tityra cayana.mp3\n",
      "/media/e4e/Rainforest_Data1/Madre_de_Dios_Xeno_Canto_Birdcalls/XC91440 - Yellow-rumped Cacique - Cacicus cela.mp3\n"
     ]
    },
    {
     "name": "stderr",
     "output_type": "stream",
     "text": [
      "/home/e4e/acoustic-species-id-environments/Yoo-Jin/opensoundscape/opensoundscape-env/lib/python3.8/site-packages/librosa/core/audio.py:161: UserWarning: PySoundFile failed. Trying audioread instead.\n",
      "  warnings.warn('PySoundFile failed. Trying audioread instead.')\n",
      "/home/e4e/acoustic-species-id-environments/Yoo-Jin/opensoundscape/opensoundscape-env/lib/python3.8/site-packages/librosa/core/audio.py:161: UserWarning: PySoundFile failed. Trying audioread instead.\n",
      "  warnings.warn('PySoundFile failed. Trying audioread instead.')\n"
     ]
    },
    {
     "name": "stdout",
     "output_type": "stream",
     "text": [
      "/media/e4e/Rainforest_Data1/Madre_de_Dios_Xeno_Canto_Birdcalls/XC91441 - Yellow-rumped Cacique - Cacicus cela.mp3\n"
     ]
    },
    {
     "name": "stderr",
     "output_type": "stream",
     "text": [
      "/home/e4e/acoustic-species-id-environments/Yoo-Jin/opensoundscape/opensoundscape-env/lib/python3.8/site-packages/librosa/core/audio.py:161: UserWarning: PySoundFile failed. Trying audioread instead.\n",
      "  warnings.warn('PySoundFile failed. Trying audioread instead.')\n"
     ]
    },
    {
     "name": "stdout",
     "output_type": "stream",
     "text": [
      "/media/e4e/Rainforest_Data1/Madre_de_Dios_Xeno_Canto_Birdcalls/XC91442 - Yellow-browed Sparrow - Ammodramus aurifrons.mp3\n"
     ]
    },
    {
     "name": "stderr",
     "output_type": "stream",
     "text": [
      "/home/e4e/acoustic-species-id-environments/Yoo-Jin/opensoundscape/opensoundscape-env/lib/python3.8/site-packages/librosa/core/audio.py:161: UserWarning: PySoundFile failed. Trying audioread instead.\n",
      "  warnings.warn('PySoundFile failed. Trying audioread instead.')\n"
     ]
    },
    {
     "name": "stdout",
     "output_type": "stream",
     "text": [
      "/media/e4e/Rainforest_Data1/Madre_de_Dios_Xeno_Canto_Birdcalls/XC91443 - Eastern Wood Pewee - Contopus virens.mp3\n"
     ]
    },
    {
     "name": "stderr",
     "output_type": "stream",
     "text": [
      "/home/e4e/acoustic-species-id-environments/Yoo-Jin/opensoundscape/opensoundscape-env/lib/python3.8/site-packages/librosa/core/audio.py:161: UserWarning: PySoundFile failed. Trying audioread instead.\n",
      "  warnings.warn('PySoundFile failed. Trying audioread instead.')\n"
     ]
    },
    {
     "name": "stdout",
     "output_type": "stream",
     "text": [
      "/media/e4e/Rainforest_Data1/Madre_de_Dios_Xeno_Canto_Birdcalls/XC91444 - Little Woodpecker - Veniliornis passerinus.mp3\n"
     ]
    },
    {
     "name": "stderr",
     "output_type": "stream",
     "text": [
      "/home/e4e/acoustic-species-id-environments/Yoo-Jin/opensoundscape/opensoundscape-env/lib/python3.8/site-packages/librosa/core/audio.py:161: UserWarning: PySoundFile failed. Trying audioread instead.\n",
      "  warnings.warn('PySoundFile failed. Trying audioread instead.')\n"
     ]
    },
    {
     "name": "stdout",
     "output_type": "stream",
     "text": [
      "/media/e4e/Rainforest_Data1/Madre_de_Dios_Xeno_Canto_Birdcalls/XC91445 - Ihering's Antwren - Myrmotherula iheringi.mp3\n"
     ]
    },
    {
     "name": "stderr",
     "output_type": "stream",
     "text": [
      "/home/e4e/acoustic-species-id-environments/Yoo-Jin/opensoundscape/opensoundscape-env/lib/python3.8/site-packages/librosa/core/audio.py:161: UserWarning: PySoundFile failed. Trying audioread instead.\n",
      "  warnings.warn('PySoundFile failed. Trying audioread instead.')\n"
     ]
    },
    {
     "name": "stdout",
     "output_type": "stream",
     "text": [
      "/media/e4e/Rainforest_Data1/Madre_de_Dios_Xeno_Canto_Birdcalls/XC91446 - Rusty-belted Tapaculo - Liosceles thoracicus.mp3\n"
     ]
    },
    {
     "name": "stderr",
     "output_type": "stream",
     "text": [
      "/home/e4e/acoustic-species-id-environments/Yoo-Jin/opensoundscape/opensoundscape-env/lib/python3.8/site-packages/librosa/core/audio.py:161: UserWarning: PySoundFile failed. Trying audioread instead.\n",
      "  warnings.warn('PySoundFile failed. Trying audioread instead.')\n"
     ]
    },
    {
     "name": "stdout",
     "output_type": "stream",
     "text": [
      "/media/e4e/Rainforest_Data1/Madre_de_Dios_Xeno_Canto_Birdcalls/XC91448 - Red-necked Woodpecker - Campephilus rubricollis.mp3\n",
      "/media/e4e/Rainforest_Data1/Madre_de_Dios_Xeno_Canto_Birdcalls/XC91449 - Black-faced Cotinga - Conioptilon mcilhennyi.mp3\n"
     ]
    },
    {
     "name": "stderr",
     "output_type": "stream",
     "text": [
      "/home/e4e/acoustic-species-id-environments/Yoo-Jin/opensoundscape/opensoundscape-env/lib/python3.8/site-packages/librosa/core/audio.py:161: UserWarning: PySoundFile failed. Trying audioread instead.\n",
      "  warnings.warn('PySoundFile failed. Trying audioread instead.')\n",
      "/home/e4e/acoustic-species-id-environments/Yoo-Jin/opensoundscape/opensoundscape-env/lib/python3.8/site-packages/librosa/core/audio.py:161: UserWarning: PySoundFile failed. Trying audioread instead.\n",
      "  warnings.warn('PySoundFile failed. Trying audioread instead.')\n"
     ]
    },
    {
     "name": "stdout",
     "output_type": "stream",
     "text": [
      "/media/e4e/Rainforest_Data1/Madre_de_Dios_Xeno_Canto_Birdcalls/XC91450 - Plum-throated Cotinga - Cotinga maynana.mp3\n",
      "/media/e4e/Rainforest_Data1/Madre_de_Dios_Xeno_Canto_Birdcalls/XC91451 - Black-faced Cotinga - Conioptilon mcilhennyi.mp3\n"
     ]
    },
    {
     "name": "stderr",
     "output_type": "stream",
     "text": [
      "/home/e4e/acoustic-species-id-environments/Yoo-Jin/opensoundscape/opensoundscape-env/lib/python3.8/site-packages/librosa/core/audio.py:161: UserWarning: PySoundFile failed. Trying audioread instead.\n",
      "  warnings.warn('PySoundFile failed. Trying audioread instead.')\n",
      "/home/e4e/acoustic-species-id-environments/Yoo-Jin/opensoundscape/opensoundscape-env/lib/python3.8/site-packages/librosa/core/audio.py:161: UserWarning: PySoundFile failed. Trying audioread instead.\n",
      "  warnings.warn('PySoundFile failed. Trying audioread instead.')\n"
     ]
    },
    {
     "name": "stdout",
     "output_type": "stream",
     "text": [
      "/media/e4e/Rainforest_Data1/Madre_de_Dios_Xeno_Canto_Birdcalls/XC91452 - Black-faced Cotinga - Conioptilon mcilhennyi.mp3\n",
      "/media/e4e/Rainforest_Data1/Madre_de_Dios_Xeno_Canto_Birdcalls/XC91453 - Ihering's Antwren - Myrmotherula iheringi.mp3\n"
     ]
    },
    {
     "name": "stderr",
     "output_type": "stream",
     "text": [
      "/home/e4e/acoustic-species-id-environments/Yoo-Jin/opensoundscape/opensoundscape-env/lib/python3.8/site-packages/librosa/core/audio.py:161: UserWarning: PySoundFile failed. Trying audioread instead.\n",
      "  warnings.warn('PySoundFile failed. Trying audioread instead.')\n",
      "/home/e4e/acoustic-species-id-environments/Yoo-Jin/opensoundscape/opensoundscape-env/lib/python3.8/site-packages/librosa/core/audio.py:161: UserWarning: PySoundFile failed. Trying audioread instead.\n",
      "  warnings.warn('PySoundFile failed. Trying audioread instead.')\n"
     ]
    },
    {
     "name": "stdout",
     "output_type": "stream",
     "text": [
      "/media/e4e/Rainforest_Data1/Madre_de_Dios_Xeno_Canto_Birdcalls/XC91454 - Ihering's Antwren - Myrmotherula iheringi.mp3\n"
     ]
    },
    {
     "name": "stderr",
     "output_type": "stream",
     "text": [
      "/home/e4e/acoustic-species-id-environments/Yoo-Jin/opensoundscape/opensoundscape-env/lib/python3.8/site-packages/librosa/core/audio.py:161: UserWarning: PySoundFile failed. Trying audioread instead.\n",
      "  warnings.warn('PySoundFile failed. Trying audioread instead.')\n"
     ]
    },
    {
     "name": "stdout",
     "output_type": "stream",
     "text": [
      "/media/e4e/Rainforest_Data1/Madre_de_Dios_Xeno_Canto_Birdcalls/XC91455 - Ihering's Antwren - Myrmotherula iheringi.mp3\n",
      "/media/e4e/Rainforest_Data1/Madre_de_Dios_Xeno_Canto_Birdcalls/XC91456 - Ihering's Antwren - Myrmotherula iheringi.mp3\n"
     ]
    },
    {
     "name": "stderr",
     "output_type": "stream",
     "text": [
      "/home/e4e/acoustic-species-id-environments/Yoo-Jin/opensoundscape/opensoundscape-env/lib/python3.8/site-packages/librosa/core/audio.py:161: UserWarning: PySoundFile failed. Trying audioread instead.\n",
      "  warnings.warn('PySoundFile failed. Trying audioread instead.')\n",
      "/home/e4e/acoustic-species-id-environments/Yoo-Jin/opensoundscape/opensoundscape-env/lib/python3.8/site-packages/librosa/core/audio.py:161: UserWarning: PySoundFile failed. Trying audioread instead.\n",
      "  warnings.warn('PySoundFile failed. Trying audioread instead.')\n"
     ]
    },
    {
     "name": "stdout",
     "output_type": "stream",
     "text": [
      "/media/e4e/Rainforest_Data1/Madre_de_Dios_Xeno_Canto_Birdcalls/XC91457 - Black-capped Parakeet - Pyrrhura rupicola lowlands.mp3\n"
     ]
    },
    {
     "name": "stderr",
     "output_type": "stream",
     "text": [
      "/home/e4e/acoustic-species-id-environments/Yoo-Jin/opensoundscape/opensoundscape-env/lib/python3.8/site-packages/librosa/core/audio.py:161: UserWarning: PySoundFile failed. Trying audioread instead.\n",
      "  warnings.warn('PySoundFile failed. Trying audioread instead.')\n"
     ]
    },
    {
     "name": "stdout",
     "output_type": "stream",
     "text": [
      "/media/e4e/Rainforest_Data1/Madre_de_Dios_Xeno_Canto_Birdcalls/XC91459 - Black-faced Antthrush - Formicarius analis.mp3\n",
      "/media/e4e/Rainforest_Data1/Madre_de_Dios_Xeno_Canto_Birdcalls/XC91460 - Black Hawk-Eagle - Spizaetus tyrannus.mp3\n"
     ]
    },
    {
     "name": "stderr",
     "output_type": "stream",
     "text": [
      "/home/e4e/acoustic-species-id-environments/Yoo-Jin/opensoundscape/opensoundscape-env/lib/python3.8/site-packages/librosa/core/audio.py:161: UserWarning: PySoundFile failed. Trying audioread instead.\n",
      "  warnings.warn('PySoundFile failed. Trying audioread instead.')\n",
      "/home/e4e/acoustic-species-id-environments/Yoo-Jin/opensoundscape/opensoundscape-env/lib/python3.8/site-packages/librosa/core/audio.py:161: UserWarning: PySoundFile failed. Trying audioread instead.\n",
      "  warnings.warn('PySoundFile failed. Trying audioread instead.')\n"
     ]
    },
    {
     "name": "stdout",
     "output_type": "stream",
     "text": [
      "/media/e4e/Rainforest_Data1/Madre_de_Dios_Xeno_Canto_Birdcalls/XC91492 - Yellow Tyrannulet - Capsiempis flaveola flaveola_.mp3\n"
     ]
    },
    {
     "name": "stderr",
     "output_type": "stream",
     "text": [
      "/home/e4e/acoustic-species-id-environments/Yoo-Jin/opensoundscape/opensoundscape-env/lib/python3.8/site-packages/librosa/core/audio.py:161: UserWarning: PySoundFile failed. Trying audioread instead.\n",
      "  warnings.warn('PySoundFile failed. Trying audioread instead.')\n"
     ]
    },
    {
     "name": "stdout",
     "output_type": "stream",
     "text": [
      "/media/e4e/Rainforest_Data1/Madre_de_Dios_Xeno_Canto_Birdcalls/XC91493 - Yellow Tyrannulet - Capsiempis flaveola flaveola_.mp3\n",
      "/media/e4e/Rainforest_Data1/Madre_de_Dios_Xeno_Canto_Birdcalls/XC91494 - Violaceous Jay - Cyanocorax violaceus (1).mp3\n"
     ]
    },
    {
     "name": "stderr",
     "output_type": "stream",
     "text": [
      "/home/e4e/acoustic-species-id-environments/Yoo-Jin/opensoundscape/opensoundscape-env/lib/python3.8/site-packages/librosa/core/audio.py:161: UserWarning: PySoundFile failed. Trying audioread instead.\n",
      "  warnings.warn('PySoundFile failed. Trying audioread instead.')\n",
      "/home/e4e/acoustic-species-id-environments/Yoo-Jin/opensoundscape/opensoundscape-env/lib/python3.8/site-packages/librosa/core/audio.py:161: UserWarning: PySoundFile failed. Trying audioread instead.\n",
      "  warnings.warn('PySoundFile failed. Trying audioread instead.')\n"
     ]
    },
    {
     "name": "stdout",
     "output_type": "stream",
     "text": [
      "/media/e4e/Rainforest_Data1/Madre_de_Dios_Xeno_Canto_Birdcalls/XC91494 - Violaceous Jay - Cyanocorax violaceus.mp3\n"
     ]
    },
    {
     "name": "stderr",
     "output_type": "stream",
     "text": [
      "/home/e4e/acoustic-species-id-environments/Yoo-Jin/opensoundscape/opensoundscape-env/lib/python3.8/site-packages/librosa/core/audio.py:161: UserWarning: PySoundFile failed. Trying audioread instead.\n",
      "  warnings.warn('PySoundFile failed. Trying audioread instead.')\n"
     ]
    },
    {
     "name": "stdout",
     "output_type": "stream",
     "text": [
      "/media/e4e/Rainforest_Data1/Madre_de_Dios_Xeno_Canto_Birdcalls/XC91495 - Chestnut-headed Crake - Anurolimnas castaneiceps.mp3\n"
     ]
    },
    {
     "name": "stderr",
     "output_type": "stream",
     "text": [
      "/home/e4e/acoustic-species-id-environments/Yoo-Jin/opensoundscape/opensoundscape-env/lib/python3.8/site-packages/librosa/core/audio.py:161: UserWarning: PySoundFile failed. Trying audioread instead.\n",
      "  warnings.warn('PySoundFile failed. Trying audioread instead.')\n"
     ]
    },
    {
     "name": "stdout",
     "output_type": "stream",
     "text": [
      "/media/e4e/Rainforest_Data1/Madre_de_Dios_Xeno_Canto_Birdcalls/XC91496 - Fork-tailed Woodnymph - Thalurania furcata.mp3\n",
      "/media/e4e/Rainforest_Data1/Madre_de_Dios_Xeno_Canto_Birdcalls/XC91498 - Sclater's Antwren - Myrmotherula sclateri.mp3\n"
     ]
    },
    {
     "name": "stderr",
     "output_type": "stream",
     "text": [
      "/home/e4e/acoustic-species-id-environments/Yoo-Jin/opensoundscape/opensoundscape-env/lib/python3.8/site-packages/librosa/core/audio.py:161: UserWarning: PySoundFile failed. Trying audioread instead.\n",
      "  warnings.warn('PySoundFile failed. Trying audioread instead.')\n",
      "/home/e4e/acoustic-species-id-environments/Yoo-Jin/opensoundscape/opensoundscape-env/lib/python3.8/site-packages/librosa/core/audio.py:161: UserWarning: PySoundFile failed. Trying audioread instead.\n",
      "  warnings.warn('PySoundFile failed. Trying audioread instead.')\n"
     ]
    },
    {
     "name": "stdout",
     "output_type": "stream",
     "text": [
      "/media/e4e/Rainforest_Data1/Madre_de_Dios_Xeno_Canto_Birdcalls/XC91501 - Sclater's Antwren - Myrmotherula sclateri.mp3\n"
     ]
    },
    {
     "name": "stderr",
     "output_type": "stream",
     "text": [
      "/home/e4e/acoustic-species-id-environments/Yoo-Jin/opensoundscape/opensoundscape-env/lib/python3.8/site-packages/librosa/core/audio.py:161: UserWarning: PySoundFile failed. Trying audioread instead.\n",
      "  warnings.warn('PySoundFile failed. Trying audioread instead.')\n"
     ]
    },
    {
     "name": "stdout",
     "output_type": "stream",
     "text": [
      "/media/e4e/Rainforest_Data1/Madre_de_Dios_Xeno_Canto_Birdcalls/XC91503 - White-chinned Sapphire - Hylocharis cyanus.mp3\n",
      "/media/e4e/Rainforest_Data1/Madre_de_Dios_Xeno_Canto_Birdcalls/XC91505 - White-bearded Hermit - Phaethornis hispidus.mp3\n"
     ]
    },
    {
     "name": "stderr",
     "output_type": "stream",
     "text": [
      "/home/e4e/acoustic-species-id-environments/Yoo-Jin/opensoundscape/opensoundscape-env/lib/python3.8/site-packages/librosa/core/audio.py:161: UserWarning: PySoundFile failed. Trying audioread instead.\n",
      "  warnings.warn('PySoundFile failed. Trying audioread instead.')\n",
      "/home/e4e/acoustic-species-id-environments/Yoo-Jin/opensoundscape/opensoundscape-env/lib/python3.8/site-packages/librosa/core/audio.py:161: UserWarning: PySoundFile failed. Trying audioread instead.\n",
      "  warnings.warn('PySoundFile failed. Trying audioread instead.')\n"
     ]
    },
    {
     "name": "stdout",
     "output_type": "stream",
     "text": [
      "/media/e4e/Rainforest_Data1/Madre_de_Dios_Xeno_Canto_Birdcalls/XC91507 - White-bearded Hermit - Phaethornis hispidus.mp3\n"
     ]
    },
    {
     "name": "stderr",
     "output_type": "stream",
     "text": [
      "/home/e4e/acoustic-species-id-environments/Yoo-Jin/opensoundscape/opensoundscape-env/lib/python3.8/site-packages/librosa/core/audio.py:161: UserWarning: PySoundFile failed. Trying audioread instead.\n",
      "  warnings.warn('PySoundFile failed. Trying audioread instead.')\n"
     ]
    },
    {
     "name": "stdout",
     "output_type": "stream",
     "text": [
      "/media/e4e/Rainforest_Data1/Madre_de_Dios_Xeno_Canto_Birdcalls/XC91508 - White-bearded Hermit - Phaethornis hispidus.mp3\n"
     ]
    },
    {
     "name": "stderr",
     "output_type": "stream",
     "text": [
      "/home/e4e/acoustic-species-id-environments/Yoo-Jin/opensoundscape/opensoundscape-env/lib/python3.8/site-packages/librosa/core/audio.py:161: UserWarning: PySoundFile failed. Trying audioread instead.\n",
      "  warnings.warn('PySoundFile failed. Trying audioread instead.')\n"
     ]
    },
    {
     "name": "stdout",
     "output_type": "stream",
     "text": [
      "/media/e4e/Rainforest_Data1/Madre_de_Dios_Xeno_Canto_Birdcalls/XC91509 - Olivaceous Flatbill - Rhynchocyclus olivaceus.mp3\n"
     ]
    },
    {
     "name": "stderr",
     "output_type": "stream",
     "text": [
      "/home/e4e/acoustic-species-id-environments/Yoo-Jin/opensoundscape/opensoundscape-env/lib/python3.8/site-packages/librosa/core/audio.py:161: UserWarning: PySoundFile failed. Trying audioread instead.\n",
      "  warnings.warn('PySoundFile failed. Trying audioread instead.')\n"
     ]
    },
    {
     "name": "stdout",
     "output_type": "stream",
     "text": [
      "/media/e4e/Rainforest_Data1/Madre_de_Dios_Xeno_Canto_Birdcalls/XC91510 - Red-eyed Vireo - Vireo olivaceus.mp3\n",
      "/media/e4e/Rainforest_Data1/Madre_de_Dios_Xeno_Canto_Birdcalls/XC91511 - Sulphury Flycatcher - Tyrannopsis sulphurea.mp3\n"
     ]
    },
    {
     "name": "stderr",
     "output_type": "stream",
     "text": [
      "/home/e4e/acoustic-species-id-environments/Yoo-Jin/opensoundscape/opensoundscape-env/lib/python3.8/site-packages/librosa/core/audio.py:161: UserWarning: PySoundFile failed. Trying audioread instead.\n",
      "  warnings.warn('PySoundFile failed. Trying audioread instead.')\n",
      "/home/e4e/acoustic-species-id-environments/Yoo-Jin/opensoundscape/opensoundscape-env/lib/python3.8/site-packages/librosa/core/audio.py:161: UserWarning: PySoundFile failed. Trying audioread instead.\n",
      "  warnings.warn('PySoundFile failed. Trying audioread instead.')\n"
     ]
    },
    {
     "name": "stdout",
     "output_type": "stream",
     "text": [
      "/media/e4e/Rainforest_Data1/Madre_de_Dios_Xeno_Canto_Birdcalls/XC91512 - Sulphury Flycatcher - Tyrannopsis sulphurea.mp3\n"
     ]
    },
    {
     "name": "stderr",
     "output_type": "stream",
     "text": [
      "/home/e4e/acoustic-species-id-environments/Yoo-Jin/opensoundscape/opensoundscape-env/lib/python3.8/site-packages/librosa/core/audio.py:161: UserWarning: PySoundFile failed. Trying audioread instead.\n",
      "  warnings.warn('PySoundFile failed. Trying audioread instead.')\n"
     ]
    },
    {
     "name": "stdout",
     "output_type": "stream",
     "text": [
      "/media/e4e/Rainforest_Data1/Madre_de_Dios_Xeno_Canto_Birdcalls/XC91513 - Johannes's Tody-Tyrant - Hemitriccus iohannis.mp3\n"
     ]
    },
    {
     "name": "stderr",
     "output_type": "stream",
     "text": [
      "/home/e4e/acoustic-species-id-environments/Yoo-Jin/opensoundscape/opensoundscape-env/lib/python3.8/site-packages/librosa/core/audio.py:161: UserWarning: PySoundFile failed. Trying audioread instead.\n",
      "  warnings.warn('PySoundFile failed. Trying audioread instead.')\n"
     ]
    },
    {
     "name": "stdout",
     "output_type": "stream",
     "text": [
      "/media/e4e/Rainforest_Data1/Madre_de_Dios_Xeno_Canto_Birdcalls/XC91514 - Tui Parakeet - Brotogeris sanctithomae.mp3\n"
     ]
    },
    {
     "name": "stderr",
     "output_type": "stream",
     "text": [
      "/home/e4e/acoustic-species-id-environments/Yoo-Jin/opensoundscape/opensoundscape-env/lib/python3.8/site-packages/librosa/core/audio.py:161: UserWarning: PySoundFile failed. Trying audioread instead.\n",
      "  warnings.warn('PySoundFile failed. Trying audioread instead.')\n"
     ]
    },
    {
     "name": "stdout",
     "output_type": "stream",
     "text": [
      "/media/e4e/Rainforest_Data1/Madre_de_Dios_Xeno_Canto_Birdcalls/XC91516 - Rufous-fronted Antthrush - Formicarius rufifrons.mp3\n"
     ]
    },
    {
     "name": "stderr",
     "output_type": "stream",
     "text": [
      "/home/e4e/acoustic-species-id-environments/Yoo-Jin/opensoundscape/opensoundscape-env/lib/python3.8/site-packages/librosa/core/audio.py:161: UserWarning: PySoundFile failed. Trying audioread instead.\n",
      "  warnings.warn('PySoundFile failed. Trying audioread instead.')\n"
     ]
    },
    {
     "name": "stdout",
     "output_type": "stream",
     "text": [
      "/media/e4e/Rainforest_Data1/Madre_de_Dios_Xeno_Canto_Birdcalls/XC91517 - Chattering Gnatwren - Ramphocaenus sticturus obscurus.mp3\n"
     ]
    },
    {
     "name": "stderr",
     "output_type": "stream",
     "text": [
      "/home/e4e/acoustic-species-id-environments/Yoo-Jin/opensoundscape/opensoundscape-env/lib/python3.8/site-packages/librosa/core/audio.py:161: UserWarning: PySoundFile failed. Trying audioread instead.\n",
      "  warnings.warn('PySoundFile failed. Trying audioread instead.')\n"
     ]
    },
    {
     "name": "stdout",
     "output_type": "stream",
     "text": [
      "/media/e4e/Rainforest_Data1/Madre_de_Dios_Xeno_Canto_Birdcalls/XC91518 - Flammulated Bamboo Tyrant - Hemitriccus flammulatus.mp3\n",
      "/media/e4e/Rainforest_Data1/Madre_de_Dios_Xeno_Canto_Birdcalls/XC91519 - Rusty-fronted Tody-Flycatcher - Poecilotriccus latirostris.mp3\n"
     ]
    },
    {
     "name": "stderr",
     "output_type": "stream",
     "text": [
      "/home/e4e/acoustic-species-id-environments/Yoo-Jin/opensoundscape/opensoundscape-env/lib/python3.8/site-packages/librosa/core/audio.py:161: UserWarning: PySoundFile failed. Trying audioread instead.\n",
      "  warnings.warn('PySoundFile failed. Trying audioread instead.')\n",
      "/home/e4e/acoustic-species-id-environments/Yoo-Jin/opensoundscape/opensoundscape-env/lib/python3.8/site-packages/librosa/core/audio.py:161: UserWarning: PySoundFile failed. Trying audioread instead.\n",
      "  warnings.warn('PySoundFile failed. Trying audioread instead.')\n"
     ]
    },
    {
     "name": "stdout",
     "output_type": "stream",
     "text": [
      "/media/e4e/Rainforest_Data1/Madre_de_Dios_Xeno_Canto_Birdcalls/XC91558 - Greyish Saltator - Saltator coerulescens.mp3\n",
      "/media/e4e/Rainforest_Data1/Madre_de_Dios_Xeno_Canto_Birdcalls/XC91559 - Black-faced Cotinga - Conioptilon mcilhennyi.mp3\n"
     ]
    },
    {
     "name": "stderr",
     "output_type": "stream",
     "text": [
      "/home/e4e/acoustic-species-id-environments/Yoo-Jin/opensoundscape/opensoundscape-env/lib/python3.8/site-packages/librosa/core/audio.py:161: UserWarning: PySoundFile failed. Trying audioread instead.\n",
      "  warnings.warn('PySoundFile failed. Trying audioread instead.')\n",
      "/home/e4e/acoustic-species-id-environments/Yoo-Jin/opensoundscape/opensoundscape-env/lib/python3.8/site-packages/librosa/core/audio.py:161: UserWarning: PySoundFile failed. Trying audioread instead.\n",
      "  warnings.warn('PySoundFile failed. Trying audioread instead.')\n"
     ]
    },
    {
     "name": "stdout",
     "output_type": "stream",
     "text": [
      "/media/e4e/Rainforest_Data1/Madre_de_Dios_Xeno_Canto_Birdcalls/XC91561 - Yellow-crowned Amazon - Amazona ochrocephala.mp3\n",
      "/media/e4e/Rainforest_Data1/Madre_de_Dios_Xeno_Canto_Birdcalls/XC91562 - Yellow-crowned Amazon - Amazona ochrocephala.mp3\n"
     ]
    },
    {
     "name": "stderr",
     "output_type": "stream",
     "text": [
      "/home/e4e/acoustic-species-id-environments/Yoo-Jin/opensoundscape/opensoundscape-env/lib/python3.8/site-packages/librosa/core/audio.py:161: UserWarning: PySoundFile failed. Trying audioread instead.\n",
      "  warnings.warn('PySoundFile failed. Trying audioread instead.')\n",
      "/home/e4e/acoustic-species-id-environments/Yoo-Jin/opensoundscape/opensoundscape-env/lib/python3.8/site-packages/librosa/core/audio.py:161: UserWarning: PySoundFile failed. Trying audioread instead.\n",
      "  warnings.warn('PySoundFile failed. Trying audioread instead.')\n"
     ]
    },
    {
     "name": "stdout",
     "output_type": "stream",
     "text": [
      "/media/e4e/Rainforest_Data1/Madre_de_Dios_Xeno_Canto_Birdcalls/XC91563 - Olive-faced Flatbill - Tolmomyias viridiceps.mp3\n"
     ]
    },
    {
     "name": "stderr",
     "output_type": "stream",
     "text": [
      "/home/e4e/acoustic-species-id-environments/Yoo-Jin/opensoundscape/opensoundscape-env/lib/python3.8/site-packages/librosa/core/audio.py:161: UserWarning: PySoundFile failed. Trying audioread instead.\n",
      "  warnings.warn('PySoundFile failed. Trying audioread instead.')\n"
     ]
    },
    {
     "name": "stdout",
     "output_type": "stream",
     "text": [
      "/media/e4e/Rainforest_Data1/Madre_de_Dios_Xeno_Canto_Birdcalls/XC91565 - Black-throated Antbird - Myrmophylax atrothorax.mp3\n"
     ]
    },
    {
     "name": "stderr",
     "output_type": "stream",
     "text": [
      "/home/e4e/acoustic-species-id-environments/Yoo-Jin/opensoundscape/opensoundscape-env/lib/python3.8/site-packages/librosa/core/audio.py:161: UserWarning: PySoundFile failed. Trying audioread instead.\n",
      "  warnings.warn('PySoundFile failed. Trying audioread instead.')\n"
     ]
    },
    {
     "name": "stdout",
     "output_type": "stream",
     "text": [
      "/media/e4e/Rainforest_Data1/Madre_de_Dios_Xeno_Canto_Birdcalls/XC91567 - Large-headed Flatbill - Ramphotrigon megacephalum.mp3\n"
     ]
    },
    {
     "name": "stderr",
     "output_type": "stream",
     "text": [
      "/home/e4e/acoustic-species-id-environments/Yoo-Jin/opensoundscape/opensoundscape-env/lib/python3.8/site-packages/librosa/core/audio.py:161: UserWarning: PySoundFile failed. Trying audioread instead.\n",
      "  warnings.warn('PySoundFile failed. Trying audioread instead.')\n"
     ]
    },
    {
     "name": "stdout",
     "output_type": "stream",
     "text": [
      "/media/e4e/Rainforest_Data1/Madre_de_Dios_Xeno_Canto_Birdcalls/XC91568 - White-lined Antbird - Myrmoborus lophotes.mp3\n",
      "/media/e4e/Rainforest_Data1/Madre_de_Dios_Xeno_Canto_Birdcalls/XC91569 - Yellow Tyrannulet - Capsiempis flaveola flaveola_.mp3\n"
     ]
    },
    {
     "name": "stderr",
     "output_type": "stream",
     "text": [
      "/home/e4e/acoustic-species-id-environments/Yoo-Jin/opensoundscape/opensoundscape-env/lib/python3.8/site-packages/librosa/core/audio.py:161: UserWarning: PySoundFile failed. Trying audioread instead.\n",
      "  warnings.warn('PySoundFile failed. Trying audioread instead.')\n",
      "/home/e4e/acoustic-species-id-environments/Yoo-Jin/opensoundscape/opensoundscape-env/lib/python3.8/site-packages/librosa/core/audio.py:161: UserWarning: PySoundFile failed. Trying audioread instead.\n",
      "  warnings.warn('PySoundFile failed. Trying audioread instead.')\n"
     ]
    },
    {
     "name": "stdout",
     "output_type": "stream",
     "text": [
      "/media/e4e/Rainforest_Data1/Madre_de_Dios_Xeno_Canto_Birdcalls/XC91570 - Olive-sided Flycatcher - Contopus cooperi.mp3\n"
     ]
    },
    {
     "name": "stderr",
     "output_type": "stream",
     "text": [
      "/home/e4e/acoustic-species-id-environments/Yoo-Jin/opensoundscape/opensoundscape-env/lib/python3.8/site-packages/librosa/core/audio.py:161: UserWarning: PySoundFile failed. Trying audioread instead.\n",
      "  warnings.warn('PySoundFile failed. Trying audioread instead.')\n"
     ]
    },
    {
     "name": "stdout",
     "output_type": "stream",
     "text": [
      "/media/e4e/Rainforest_Data1/Madre_de_Dios_Xeno_Canto_Birdcalls/XC91571 - Crested Oropendola - Psarocolius decumanus.mp3\n"
     ]
    },
    {
     "name": "stderr",
     "output_type": "stream",
     "text": [
      "/home/e4e/acoustic-species-id-environments/Yoo-Jin/opensoundscape/opensoundscape-env/lib/python3.8/site-packages/librosa/core/audio.py:161: UserWarning: PySoundFile failed. Trying audioread instead.\n",
      "  warnings.warn('PySoundFile failed. Trying audioread instead.')\n"
     ]
    },
    {
     "name": "stdout",
     "output_type": "stream",
     "text": [
      "/media/e4e/Rainforest_Data1/Madre_de_Dios_Xeno_Canto_Birdcalls/XC91572 - Bamboo Antshrike - Cymbilaimus sanctaemariae.mp3\n"
     ]
    },
    {
     "name": "stderr",
     "output_type": "stream",
     "text": [
      "/home/e4e/acoustic-species-id-environments/Yoo-Jin/opensoundscape/opensoundscape-env/lib/python3.8/site-packages/librosa/core/audio.py:161: UserWarning: PySoundFile failed. Trying audioread instead.\n",
      "  warnings.warn('PySoundFile failed. Trying audioread instead.')\n"
     ]
    },
    {
     "name": "stdout",
     "output_type": "stream",
     "text": [
      "/media/e4e/Rainforest_Data1/Madre_de_Dios_Xeno_Canto_Birdcalls/XC91573 - Grey-crowned Flatbill - Tolmomyias poliocephalus.mp3\n"
     ]
    },
    {
     "name": "stderr",
     "output_type": "stream",
     "text": [
      "/home/e4e/acoustic-species-id-environments/Yoo-Jin/opensoundscape/opensoundscape-env/lib/python3.8/site-packages/librosa/core/audio.py:161: UserWarning: PySoundFile failed. Trying audioread instead.\n",
      "  warnings.warn('PySoundFile failed. Trying audioread instead.')\n"
     ]
    },
    {
     "name": "stdout",
     "output_type": "stream",
     "text": [
      "/media/e4e/Rainforest_Data1/Madre_de_Dios_Xeno_Canto_Birdcalls/XC91574 - Black-tailed Tityra - Tityra cayana.mp3\n",
      "/media/e4e/Rainforest_Data1/Madre_de_Dios_Xeno_Canto_Birdcalls/XC91575 - Barred Antshrike - Thamnophilus doliatus.mp3\n"
     ]
    },
    {
     "name": "stderr",
     "output_type": "stream",
     "text": [
      "/home/e4e/acoustic-species-id-environments/Yoo-Jin/opensoundscape/opensoundscape-env/lib/python3.8/site-packages/librosa/core/audio.py:161: UserWarning: PySoundFile failed. Trying audioread instead.\n",
      "  warnings.warn('PySoundFile failed. Trying audioread instead.')\n",
      "/home/e4e/acoustic-species-id-environments/Yoo-Jin/opensoundscape/opensoundscape-env/lib/python3.8/site-packages/librosa/core/audio.py:161: UserWarning: PySoundFile failed. Trying audioread instead.\n",
      "  warnings.warn('PySoundFile failed. Trying audioread instead.')\n"
     ]
    },
    {
     "name": "stdout",
     "output_type": "stream",
     "text": [
      "/media/e4e/Rainforest_Data1/Madre_de_Dios_Xeno_Canto_Birdcalls/XC496790 - Great Jacamar - Jacamerops aureus.mp3\n"
     ]
    },
    {
     "name": "stderr",
     "output_type": "stream",
     "text": [
      "/home/e4e/acoustic-species-id-environments/Yoo-Jin/opensoundscape/opensoundscape-env/lib/python3.8/site-packages/librosa/core/audio.py:161: UserWarning: PySoundFile failed. Trying audioread instead.\n",
      "  warnings.warn('PySoundFile failed. Trying audioread instead.')\n"
     ]
    },
    {
     "name": "stdout",
     "output_type": "stream",
     "text": [
      "/media/e4e/Rainforest_Data1/Madre_de_Dios_Xeno_Canto_Birdcalls/XC91317 - Mouse-colored Tyrannulet - Phaeomyias murina wagae.mp3\n"
     ]
    },
    {
     "name": "stderr",
     "output_type": "stream",
     "text": [
      "/home/e4e/acoustic-species-id-environments/Yoo-Jin/opensoundscape/opensoundscape-env/lib/python3.8/site-packages/librosa/core/audio.py:161: UserWarning: PySoundFile failed. Trying audioread instead.\n",
      "  warnings.warn('PySoundFile failed. Trying audioread instead.')\n"
     ]
    },
    {
     "name": "stdout",
     "output_type": "stream",
     "text": [
      "/media/e4e/Rainforest_Data1/Madre_de_Dios_Xeno_Canto_Birdcalls/XC91327 - Chestnut-bellied Seed Finch - Oryzoborus angolensis.mp3\n"
     ]
    },
    {
     "name": "stderr",
     "output_type": "stream",
     "text": [
      "/home/e4e/acoustic-species-id-environments/Yoo-Jin/opensoundscape/opensoundscape-env/lib/python3.8/site-packages/librosa/core/audio.py:161: UserWarning: PySoundFile failed. Trying audioread instead.\n",
      "  warnings.warn('PySoundFile failed. Trying audioread instead.')\n"
     ]
    },
    {
     "name": "stdout",
     "output_type": "stream",
     "text": [
      "/media/e4e/Rainforest_Data1/Madre_de_Dios_Xeno_Canto_Birdcalls/XC91338 - Double-collared Seedeater - Sporophila caerulescens.mp3\n"
     ]
    },
    {
     "name": "stderr",
     "output_type": "stream",
     "text": [
      "/home/e4e/acoustic-species-id-environments/Yoo-Jin/opensoundscape/opensoundscape-env/lib/python3.8/site-packages/librosa/core/audio.py:161: UserWarning: PySoundFile failed. Trying audioread instead.\n",
      "  warnings.warn('PySoundFile failed. Trying audioread instead.')\n"
     ]
    },
    {
     "name": "stdout",
     "output_type": "stream",
     "text": [
      "/media/e4e/Rainforest_Data1/Madre_de_Dios_Xeno_Canto_Birdcalls/XC91447 - Rusty-belted Tapaculo - Liosceles thoracicus.mp3\n"
     ]
    },
    {
     "name": "stderr",
     "output_type": "stream",
     "text": [
      "/home/e4e/acoustic-species-id-environments/Yoo-Jin/opensoundscape/opensoundscape-env/lib/python3.8/site-packages/librosa/core/audio.py:161: UserWarning: PySoundFile failed. Trying audioread instead.\n",
      "  warnings.warn('PySoundFile failed. Trying audioread instead.')\n"
     ]
    },
    {
     "name": "stdout",
     "output_type": "stream",
     "text": [
      "/media/e4e/Rainforest_Data1/Madre_de_Dios_Xeno_Canto_Birdcalls/XC91458 - Humaita Antbird - Myrmelastes humaythae.mp3\n",
      "/media/e4e/Rainforest_Data1/Madre_de_Dios_Xeno_Canto_Birdcalls/XC91502 - Olivaceous Flatbill - Rhynchocyclus olivaceus.mp3\n"
     ]
    },
    {
     "name": "stderr",
     "output_type": "stream",
     "text": [
      "/home/e4e/acoustic-species-id-environments/Yoo-Jin/opensoundscape/opensoundscape-env/lib/python3.8/site-packages/librosa/core/audio.py:161: UserWarning: PySoundFile failed. Trying audioread instead.\n",
      "  warnings.warn('PySoundFile failed. Trying audioread instead.')\n",
      "/home/e4e/acoustic-species-id-environments/Yoo-Jin/opensoundscape/opensoundscape-env/lib/python3.8/site-packages/librosa/core/audio.py:161: UserWarning: PySoundFile failed. Trying audioread instead.\n",
      "  warnings.warn('PySoundFile failed. Trying audioread instead.')\n"
     ]
    },
    {
     "name": "stdout",
     "output_type": "stream",
     "text": [
      "/media/e4e/Rainforest_Data1/Madre_de_Dios_Xeno_Canto_Birdcalls/XC91515 - Plumbeous Kite - Ictinia plumbea.mp3\n"
     ]
    },
    {
     "name": "stderr",
     "output_type": "stream",
     "text": [
      "/home/e4e/acoustic-species-id-environments/Yoo-Jin/opensoundscape/opensoundscape-env/lib/python3.8/site-packages/librosa/core/audio.py:161: UserWarning: PySoundFile failed. Trying audioread instead.\n",
      "  warnings.warn('PySoundFile failed. Trying audioread instead.')\n"
     ]
    },
    {
     "name": "stdout",
     "output_type": "stream",
     "text": [
      "/media/e4e/Rainforest_Data1/Madre_de_Dios_Xeno_Canto_Birdcalls/XC91564 - Slate-colored Seedeater - Sporophila schistacea.mp3\n"
     ]
    },
    {
     "name": "stderr",
     "output_type": "stream",
     "text": [
      "/home/e4e/acoustic-species-id-environments/Yoo-Jin/opensoundscape/opensoundscape-env/lib/python3.8/site-packages/librosa/core/audio.py:161: UserWarning: PySoundFile failed. Trying audioread instead.\n",
      "  warnings.warn('PySoundFile failed. Trying audioread instead.')\n"
     ]
    },
    {
     "name": "stdout",
     "output_type": "stream",
     "text": [
      "/media/e4e/Rainforest_Data1/Madre_de_Dios_Xeno_Canto_Birdcalls/XC91576 - Grey-lined Hawk - Buteo nitidus.mp3\n"
     ]
    },
    {
     "name": "stderr",
     "output_type": "stream",
     "text": [
      "/home/e4e/acoustic-species-id-environments/Yoo-Jin/opensoundscape/opensoundscape-env/lib/python3.8/site-packages/librosa/core/audio.py:161: UserWarning: PySoundFile failed. Trying audioread instead.\n",
      "  warnings.warn('PySoundFile failed. Trying audioread instead.')\n"
     ]
    },
    {
     "name": "stdout",
     "output_type": "stream",
     "text": [
      "/media/e4e/Rainforest_Data1/Madre_de_Dios_Xeno_Canto_Birdcalls/XC91662 - Chattering Gnatwren - Ramphocaenus sticturus obscurus.mp3\n"
     ]
    },
    {
     "name": "stderr",
     "output_type": "stream",
     "text": [
      "/home/e4e/acoustic-species-id-environments/Yoo-Jin/opensoundscape/opensoundscape-env/lib/python3.8/site-packages/librosa/core/audio.py:161: UserWarning: PySoundFile failed. Trying audioread instead.\n",
      "  warnings.warn('PySoundFile failed. Trying audioread instead.')\n"
     ]
    },
    {
     "name": "stdout",
     "output_type": "stream",
     "text": [
      "/media/e4e/Rainforest_Data1/Madre_de_Dios_Xeno_Canto_Birdcalls/XC91674 - Plum-throated Cotinga - Cotinga maynana.mp3\n"
     ]
    },
    {
     "name": "stderr",
     "output_type": "stream",
     "text": [
      "/home/e4e/acoustic-species-id-environments/Yoo-Jin/opensoundscape/opensoundscape-env/lib/python3.8/site-packages/librosa/core/audio.py:161: UserWarning: PySoundFile failed. Trying audioread instead.\n",
      "  warnings.warn('PySoundFile failed. Trying audioread instead.')\n"
     ]
    },
    {
     "name": "stdout",
     "output_type": "stream",
     "text": [
      "/media/e4e/Rainforest_Data1/Madre_de_Dios_Xeno_Canto_Birdcalls/XC91685 - Rufous-fronted Antthrush - Formicarius rufifrons.mp3\n"
     ]
    },
    {
     "name": "stderr",
     "output_type": "stream",
     "text": [
      "/home/e4e/acoustic-species-id-environments/Yoo-Jin/opensoundscape/opensoundscape-env/lib/python3.8/site-packages/librosa/core/audio.py:161: UserWarning: PySoundFile failed. Trying audioread instead.\n",
      "  warnings.warn('PySoundFile failed. Trying audioread instead.')\n"
     ]
    },
    {
     "name": "stdout",
     "output_type": "stream",
     "text": [
      "/media/e4e/Rainforest_Data1/Madre_de_Dios_Xeno_Canto_Birdcalls/XC91577 - Plumbeous Kite - Ictinia plumbea.mp3\n"
     ]
    },
    {
     "name": "stderr",
     "output_type": "stream",
     "text": [
      "/home/e4e/acoustic-species-id-environments/Yoo-Jin/opensoundscape/opensoundscape-env/lib/python3.8/site-packages/librosa/core/audio.py:161: UserWarning: PySoundFile failed. Trying audioread instead.\n",
      "  warnings.warn('PySoundFile failed. Trying audioread instead.')\n"
     ]
    },
    {
     "name": "stdout",
     "output_type": "stream",
     "text": [
      "/media/e4e/Rainforest_Data1/Madre_de_Dios_Xeno_Canto_Birdcalls/XC91584 - Tropical Gnatcatcher - Polioptila plumbea parvirostris.mp3\n"
     ]
    },
    {
     "name": "stderr",
     "output_type": "stream",
     "text": [
      "/home/e4e/acoustic-species-id-environments/Yoo-Jin/opensoundscape/opensoundscape-env/lib/python3.8/site-packages/librosa/core/audio.py:161: UserWarning: PySoundFile failed. Trying audioread instead.\n",
      "  warnings.warn('PySoundFile failed. Trying audioread instead.')\n"
     ]
    },
    {
     "name": "stdout",
     "output_type": "stream",
     "text": [
      "/media/e4e/Rainforest_Data1/Madre_de_Dios_Xeno_Canto_Birdcalls/XC91586 - White-lined Tanager - Tachyphonus rufus.mp3\n"
     ]
    },
    {
     "name": "stderr",
     "output_type": "stream",
     "text": [
      "/home/e4e/acoustic-species-id-environments/Yoo-Jin/opensoundscape/opensoundscape-env/lib/python3.8/site-packages/librosa/core/audio.py:161: UserWarning: PySoundFile failed. Trying audioread instead.\n",
      "  warnings.warn('PySoundFile failed. Trying audioread instead.')\n"
     ]
    },
    {
     "name": "stdout",
     "output_type": "stream",
     "text": [
      "/media/e4e/Rainforest_Data1/Madre_de_Dios_Xeno_Canto_Birdcalls/XC91588 - Black-capped Parakeet - Pyrrhura rupicola lowlands.mp3\n"
     ]
    },
    {
     "name": "stderr",
     "output_type": "stream",
     "text": [
      "/home/e4e/acoustic-species-id-environments/Yoo-Jin/opensoundscape/opensoundscape-env/lib/python3.8/site-packages/librosa/core/audio.py:161: UserWarning: PySoundFile failed. Trying audioread instead.\n",
      "  warnings.warn('PySoundFile failed. Trying audioread instead.')\n"
     ]
    },
    {
     "name": "stdout",
     "output_type": "stream",
     "text": [
      "/media/e4e/Rainforest_Data1/Madre_de_Dios_Xeno_Canto_Birdcalls/XC91592 - Lined Seedeater - Sporophila lineola.mp3\n"
     ]
    },
    {
     "name": "stderr",
     "output_type": "stream",
     "text": [
      "/home/e4e/acoustic-species-id-environments/Yoo-Jin/opensoundscape/opensoundscape-env/lib/python3.8/site-packages/librosa/core/audio.py:161: UserWarning: PySoundFile failed. Trying audioread instead.\n",
      "  warnings.warn('PySoundFile failed. Trying audioread instead.')\n"
     ]
    },
    {
     "name": "stdout",
     "output_type": "stream",
     "text": [
      "/media/e4e/Rainforest_Data1/Madre_de_Dios_Xeno_Canto_Birdcalls/XC91658 - Boat-billed Flycatcher - Megarynchus pitangua.mp3\n"
     ]
    },
    {
     "name": "stderr",
     "output_type": "stream",
     "text": [
      "/home/e4e/acoustic-species-id-environments/Yoo-Jin/opensoundscape/opensoundscape-env/lib/python3.8/site-packages/librosa/core/audio.py:161: UserWarning: PySoundFile failed. Trying audioread instead.\n",
      "  warnings.warn('PySoundFile failed. Trying audioread instead.')\n"
     ]
    },
    {
     "name": "stdout",
     "output_type": "stream",
     "text": [
      "/media/e4e/Rainforest_Data1/Madre_de_Dios_Xeno_Canto_Birdcalls/XC91659 - Boat-billed Flycatcher - Megarynchus pitangua.mp3\n"
     ]
    },
    {
     "name": "stderr",
     "output_type": "stream",
     "text": [
      "/home/e4e/acoustic-species-id-environments/Yoo-Jin/opensoundscape/opensoundscape-env/lib/python3.8/site-packages/librosa/core/audio.py:161: UserWarning: PySoundFile failed. Trying audioread instead.\n",
      "  warnings.warn('PySoundFile failed. Trying audioread instead.')\n"
     ]
    },
    {
     "name": "stdout",
     "output_type": "stream",
     "text": [
      "/media/e4e/Rainforest_Data1/Madre_de_Dios_Xeno_Canto_Birdcalls/XC91660 - Yellow-breasted Warbling Antbird - Hypocnemis subflava.mp3\n"
     ]
    },
    {
     "name": "stderr",
     "output_type": "stream",
     "text": [
      "/home/e4e/acoustic-species-id-environments/Yoo-Jin/opensoundscape/opensoundscape-env/lib/python3.8/site-packages/librosa/core/audio.py:161: UserWarning: PySoundFile failed. Trying audioread instead.\n",
      "  warnings.warn('PySoundFile failed. Trying audioread instead.')\n"
     ]
    },
    {
     "name": "stdout",
     "output_type": "stream",
     "text": [
      "/media/e4e/Rainforest_Data1/Madre_de_Dios_Xeno_Canto_Birdcalls/XC91661 - Olive Oropendola - Psarocolius bifasciatus yuracares.mp3\n"
     ]
    },
    {
     "name": "stderr",
     "output_type": "stream",
     "text": [
      "/home/e4e/acoustic-species-id-environments/Yoo-Jin/opensoundscape/opensoundscape-env/lib/python3.8/site-packages/librosa/core/audio.py:161: UserWarning: PySoundFile failed. Trying audioread instead.\n",
      "  warnings.warn('PySoundFile failed. Trying audioread instead.')\n"
     ]
    },
    {
     "name": "stdout",
     "output_type": "stream",
     "text": [
      "/media/e4e/Rainforest_Data1/Madre_de_Dios_Xeno_Canto_Birdcalls/XC91663 - Chattering Gnatwren - Ramphocaenus sticturus obscurus.mp3\n"
     ]
    },
    {
     "name": "stderr",
     "output_type": "stream",
     "text": [
      "/home/e4e/acoustic-species-id-environments/Yoo-Jin/opensoundscape/opensoundscape-env/lib/python3.8/site-packages/librosa/core/audio.py:161: UserWarning: PySoundFile failed. Trying audioread instead.\n",
      "  warnings.warn('PySoundFile failed. Trying audioread instead.')\n"
     ]
    },
    {
     "name": "stdout",
     "output_type": "stream",
     "text": [
      "/media/e4e/Rainforest_Data1/Madre_de_Dios_Xeno_Canto_Birdcalls/XC91664 - Double-collared Seedeater - Sporophila caerulescens.mp3\n"
     ]
    },
    {
     "name": "stderr",
     "output_type": "stream",
     "text": [
      "/home/e4e/acoustic-species-id-environments/Yoo-Jin/opensoundscape/opensoundscape-env/lib/python3.8/site-packages/librosa/core/audio.py:161: UserWarning: PySoundFile failed. Trying audioread instead.\n",
      "  warnings.warn('PySoundFile failed. Trying audioread instead.')\n"
     ]
    },
    {
     "name": "stdout",
     "output_type": "stream",
     "text": [
      "/media/e4e/Rainforest_Data1/Madre_de_Dios_Xeno_Canto_Birdcalls/XC91665 - Chattering Gnatwren - Ramphocaenus sticturus obscurus.mp3\n"
     ]
    },
    {
     "name": "stderr",
     "output_type": "stream",
     "text": [
      "/home/e4e/acoustic-species-id-environments/Yoo-Jin/opensoundscape/opensoundscape-env/lib/python3.8/site-packages/librosa/core/audio.py:161: UserWarning: PySoundFile failed. Trying audioread instead.\n",
      "  warnings.warn('PySoundFile failed. Trying audioread instead.')\n"
     ]
    },
    {
     "name": "stdout",
     "output_type": "stream",
     "text": [
      "/media/e4e/Rainforest_Data1/Madre_de_Dios_Xeno_Canto_Birdcalls/XC91666 - Black-and-white Tanager - Conothraupis speculigera.mp3\n"
     ]
    },
    {
     "name": "stderr",
     "output_type": "stream",
     "text": [
      "/home/e4e/acoustic-species-id-environments/Yoo-Jin/opensoundscape/opensoundscape-env/lib/python3.8/site-packages/librosa/core/audio.py:161: UserWarning: PySoundFile failed. Trying audioread instead.\n",
      "  warnings.warn('PySoundFile failed. Trying audioread instead.')\n"
     ]
    },
    {
     "name": "stdout",
     "output_type": "stream",
     "text": [
      "/media/e4e/Rainforest_Data1/Madre_de_Dios_Xeno_Canto_Birdcalls/XC91668 - Black-and-white Tanager - Conothraupis speculigera.mp3\n"
     ]
    },
    {
     "name": "stderr",
     "output_type": "stream",
     "text": [
      "/home/e4e/acoustic-species-id-environments/Yoo-Jin/opensoundscape/opensoundscape-env/lib/python3.8/site-packages/librosa/core/audio.py:161: UserWarning: PySoundFile failed. Trying audioread instead.\n",
      "  warnings.warn('PySoundFile failed. Trying audioread instead.')\n"
     ]
    },
    {
     "name": "stdout",
     "output_type": "stream",
     "text": [
      "/media/e4e/Rainforest_Data1/Madre_de_Dios_Xeno_Canto_Birdcalls/XC91669 - Cabanis's Spinetail - Synallaxis cabanisi.mp3\n"
     ]
    },
    {
     "name": "stderr",
     "output_type": "stream",
     "text": [
      "/home/e4e/acoustic-species-id-environments/Yoo-Jin/opensoundscape/opensoundscape-env/lib/python3.8/site-packages/librosa/core/audio.py:161: UserWarning: PySoundFile failed. Trying audioread instead.\n",
      "  warnings.warn('PySoundFile failed. Trying audioread instead.')\n"
     ]
    },
    {
     "name": "stdout",
     "output_type": "stream",
     "text": [
      "/media/e4e/Rainforest_Data1/Madre_de_Dios_Xeno_Canto_Birdcalls/XC91671 - Cabanis's Spinetail - Synallaxis cabanisi.mp3\n"
     ]
    },
    {
     "name": "stderr",
     "output_type": "stream",
     "text": [
      "/home/e4e/acoustic-species-id-environments/Yoo-Jin/opensoundscape/opensoundscape-env/lib/python3.8/site-packages/librosa/core/audio.py:161: UserWarning: PySoundFile failed. Trying audioread instead.\n",
      "  warnings.warn('PySoundFile failed. Trying audioread instead.')\n"
     ]
    },
    {
     "name": "stdout",
     "output_type": "stream",
     "text": [
      "/media/e4e/Rainforest_Data1/Madre_de_Dios_Xeno_Canto_Birdcalls/XC91672 - Cabanis's Spinetail - Synallaxis cabanisi.mp3\n"
     ]
    },
    {
     "name": "stderr",
     "output_type": "stream",
     "text": [
      "/home/e4e/acoustic-species-id-environments/Yoo-Jin/opensoundscape/opensoundscape-env/lib/python3.8/site-packages/librosa/core/audio.py:161: UserWarning: PySoundFile failed. Trying audioread instead.\n",
      "  warnings.warn('PySoundFile failed. Trying audioread instead.')\n"
     ]
    },
    {
     "name": "stdout",
     "output_type": "stream",
     "text": [
      "/media/e4e/Rainforest_Data1/Madre_de_Dios_Xeno_Canto_Birdcalls/XC91673 - Bananaquit - Coereba flaveola.mp3\n"
     ]
    },
    {
     "name": "stderr",
     "output_type": "stream",
     "text": [
      "/home/e4e/acoustic-species-id-environments/Yoo-Jin/opensoundscape/opensoundscape-env/lib/python3.8/site-packages/librosa/core/audio.py:161: UserWarning: PySoundFile failed. Trying audioread instead.\n",
      "  warnings.warn('PySoundFile failed. Trying audioread instead.')\n"
     ]
    },
    {
     "name": "stdout",
     "output_type": "stream",
     "text": [
      "/media/e4e/Rainforest_Data1/Madre_de_Dios_Xeno_Canto_Birdcalls/XC91675 - Rufous-fronted Antthrush - Formicarius rufifrons.mp3\n"
     ]
    },
    {
     "name": "stderr",
     "output_type": "stream",
     "text": [
      "/home/e4e/acoustic-species-id-environments/Yoo-Jin/opensoundscape/opensoundscape-env/lib/python3.8/site-packages/librosa/core/audio.py:161: UserWarning: PySoundFile failed. Trying audioread instead.\n",
      "  warnings.warn('PySoundFile failed. Trying audioread instead.')\n"
     ]
    },
    {
     "name": "stdout",
     "output_type": "stream",
     "text": [
      "/media/e4e/Rainforest_Data1/Madre_de_Dios_Xeno_Canto_Birdcalls/XC91676 - Sulphur-bellied Tyrant-Manakin - Neopelma sulphureiventer.mp3\n"
     ]
    },
    {
     "name": "stderr",
     "output_type": "stream",
     "text": [
      "/home/e4e/acoustic-species-id-environments/Yoo-Jin/opensoundscape/opensoundscape-env/lib/python3.8/site-packages/librosa/core/audio.py:161: UserWarning: PySoundFile failed. Trying audioread instead.\n",
      "  warnings.warn('PySoundFile failed. Trying audioread instead.')\n"
     ]
    },
    {
     "name": "stdout",
     "output_type": "stream",
     "text": [
      "/media/e4e/Rainforest_Data1/Madre_de_Dios_Xeno_Canto_Birdcalls/XC91677 - Sulphur-bellied Tyrant-Manakin - Neopelma sulphureiventer.mp3\n"
     ]
    },
    {
     "name": "stderr",
     "output_type": "stream",
     "text": [
      "/home/e4e/acoustic-species-id-environments/Yoo-Jin/opensoundscape/opensoundscape-env/lib/python3.8/site-packages/librosa/core/audio.py:161: UserWarning: PySoundFile failed. Trying audioread instead.\n",
      "  warnings.warn('PySoundFile failed. Trying audioread instead.')\n"
     ]
    },
    {
     "name": "stdout",
     "output_type": "stream",
     "text": [
      "/media/e4e/Rainforest_Data1/Madre_de_Dios_Xeno_Canto_Birdcalls/XC91678 - Rufous-headed Woodpecker - Celeus spectabilis.mp3\n",
      "/media/e4e/Rainforest_Data1/Madre_de_Dios_Xeno_Canto_Birdcalls/XC91679 - Rufous-headed Woodpecker - Celeus spectabilis.mp3\n"
     ]
    },
    {
     "name": "stderr",
     "output_type": "stream",
     "text": [
      "/home/e4e/acoustic-species-id-environments/Yoo-Jin/opensoundscape/opensoundscape-env/lib/python3.8/site-packages/librosa/core/audio.py:161: UserWarning: PySoundFile failed. Trying audioread instead.\n",
      "  warnings.warn('PySoundFile failed. Trying audioread instead.')\n",
      "/home/e4e/acoustic-species-id-environments/Yoo-Jin/opensoundscape/opensoundscape-env/lib/python3.8/site-packages/librosa/core/audio.py:161: UserWarning: PySoundFile failed. Trying audioread instead.\n",
      "  warnings.warn('PySoundFile failed. Trying audioread instead.')\n"
     ]
    },
    {
     "name": "stdout",
     "output_type": "stream",
     "text": [
      "/media/e4e/Rainforest_Data1/Madre_de_Dios_Xeno_Canto_Birdcalls/XC91680 - Chattering Gnatwren - Ramphocaenus sticturus obscurus.mp3\n"
     ]
    },
    {
     "name": "stderr",
     "output_type": "stream",
     "text": [
      "/home/e4e/acoustic-species-id-environments/Yoo-Jin/opensoundscape/opensoundscape-env/lib/python3.8/site-packages/librosa/core/audio.py:161: UserWarning: PySoundFile failed. Trying audioread instead.\n",
      "  warnings.warn('PySoundFile failed. Trying audioread instead.')\n"
     ]
    },
    {
     "name": "stdout",
     "output_type": "stream",
     "text": [
      "/media/e4e/Rainforest_Data1/Madre_de_Dios_Xeno_Canto_Birdcalls/XC91681 - Scarlet Tanager - Piranga olivacea.mp3\n"
     ]
    },
    {
     "name": "stderr",
     "output_type": "stream",
     "text": [
      "/home/e4e/acoustic-species-id-environments/Yoo-Jin/opensoundscape/opensoundscape-env/lib/python3.8/site-packages/librosa/core/audio.py:161: UserWarning: PySoundFile failed. Trying audioread instead.\n",
      "  warnings.warn('PySoundFile failed. Trying audioread instead.')\n"
     ]
    },
    {
     "name": "stdout",
     "output_type": "stream",
     "text": [
      "/media/e4e/Rainforest_Data1/Madre_de_Dios_Xeno_Canto_Birdcalls/XC91682 - Streaked Flycatcher - Myiodynastes maculatus solitarius.mp3\n"
     ]
    },
    {
     "name": "stderr",
     "output_type": "stream",
     "text": [
      "/home/e4e/acoustic-species-id-environments/Yoo-Jin/opensoundscape/opensoundscape-env/lib/python3.8/site-packages/librosa/core/audio.py:161: UserWarning: PySoundFile failed. Trying audioread instead.\n",
      "  warnings.warn('PySoundFile failed. Trying audioread instead.')\n"
     ]
    },
    {
     "name": "stdout",
     "output_type": "stream",
     "text": [
      "/media/e4e/Rainforest_Data1/Madre_de_Dios_Xeno_Canto_Birdcalls/XC91683 - Green Ibis - Mesembrinibis cayennensis.mp3\n",
      "/media/e4e/Rainforest_Data1/Madre_de_Dios_Xeno_Canto_Birdcalls/XC91684 - Paint-billed Crake - Neocrex erythrops.mp3\n"
     ]
    },
    {
     "name": "stderr",
     "output_type": "stream",
     "text": [
      "/home/e4e/acoustic-species-id-environments/Yoo-Jin/opensoundscape/opensoundscape-env/lib/python3.8/site-packages/librosa/core/audio.py:161: UserWarning: PySoundFile failed. Trying audioread instead.\n",
      "  warnings.warn('PySoundFile failed. Trying audioread instead.')\n",
      "/home/e4e/acoustic-species-id-environments/Yoo-Jin/opensoundscape/opensoundscape-env/lib/python3.8/site-packages/librosa/core/audio.py:161: UserWarning: PySoundFile failed. Trying audioread instead.\n",
      "  warnings.warn('PySoundFile failed. Trying audioread instead.')\n"
     ]
    },
    {
     "name": "stdout",
     "output_type": "stream",
     "text": [
      "/media/e4e/Rainforest_Data1/Madre_de_Dios_Xeno_Canto_Birdcalls/XC91686 - Slate-colored Seedeater - Sporophila schistacea.mp3\n"
     ]
    },
    {
     "name": "stderr",
     "output_type": "stream",
     "text": [
      "/home/e4e/acoustic-species-id-environments/Yoo-Jin/opensoundscape/opensoundscape-env/lib/python3.8/site-packages/librosa/core/audio.py:161: UserWarning: PySoundFile failed. Trying audioread instead.\n",
      "  warnings.warn('PySoundFile failed. Trying audioread instead.')\n"
     ]
    },
    {
     "name": "stdout",
     "output_type": "stream",
     "text": [
      "/media/e4e/Rainforest_Data1/Madre_de_Dios_Xeno_Canto_Birdcalls/XC91687 - Rufous Twistwing - Cnipodectes superrufus.mp3\n"
     ]
    },
    {
     "name": "stderr",
     "output_type": "stream",
     "text": [
      "/home/e4e/acoustic-species-id-environments/Yoo-Jin/opensoundscape/opensoundscape-env/lib/python3.8/site-packages/librosa/core/audio.py:161: UserWarning: PySoundFile failed. Trying audioread instead.\n",
      "  warnings.warn('PySoundFile failed. Trying audioread instead.')\n"
     ]
    },
    {
     "name": "stdout",
     "output_type": "stream",
     "text": [
      "/media/e4e/Rainforest_Data1/Madre_de_Dios_Xeno_Canto_Birdcalls/XC91688 - Rufous Twistwing - Cnipodectes superrufus.mp3\n"
     ]
    },
    {
     "name": "stderr",
     "output_type": "stream",
     "text": [
      "/home/e4e/acoustic-species-id-environments/Yoo-Jin/opensoundscape/opensoundscape-env/lib/python3.8/site-packages/librosa/core/audio.py:161: UserWarning: PySoundFile failed. Trying audioread instead.\n",
      "  warnings.warn('PySoundFile failed. Trying audioread instead.')\n"
     ]
    },
    {
     "name": "stdout",
     "output_type": "stream",
     "text": [
      "/media/e4e/Rainforest_Data1/Madre_de_Dios_Xeno_Canto_Birdcalls/XC91689 - Rufous Twistwing - Cnipodectes superrufus.mp3\n"
     ]
    },
    {
     "name": "stderr",
     "output_type": "stream",
     "text": [
      "/home/e4e/acoustic-species-id-environments/Yoo-Jin/opensoundscape/opensoundscape-env/lib/python3.8/site-packages/librosa/core/audio.py:161: UserWarning: PySoundFile failed. Trying audioread instead.\n",
      "  warnings.warn('PySoundFile failed. Trying audioread instead.')\n"
     ]
    },
    {
     "name": "stdout",
     "output_type": "stream",
     "text": [
      "/media/e4e/Rainforest_Data1/Madre_de_Dios_Xeno_Canto_Birdcalls/XC91690 - Rufous Twistwing - Cnipodectes superrufus.mp3\n"
     ]
    },
    {
     "name": "stderr",
     "output_type": "stream",
     "text": [
      "/home/e4e/acoustic-species-id-environments/Yoo-Jin/opensoundscape/opensoundscape-env/lib/python3.8/site-packages/librosa/core/audio.py:161: UserWarning: PySoundFile failed. Trying audioread instead.\n",
      "  warnings.warn('PySoundFile failed. Trying audioread instead.')\n"
     ]
    },
    {
     "name": "stdout",
     "output_type": "stream",
     "text": [
      "/media/e4e/Rainforest_Data1/Madre_de_Dios_Xeno_Canto_Birdcalls/XC91691 - Rufous Twistwing - Cnipodectes superrufus.mp3\n"
     ]
    },
    {
     "name": "stderr",
     "output_type": "stream",
     "text": [
      "/home/e4e/acoustic-species-id-environments/Yoo-Jin/opensoundscape/opensoundscape-env/lib/python3.8/site-packages/librosa/core/audio.py:161: UserWarning: PySoundFile failed. Trying audioread instead.\n",
      "  warnings.warn('PySoundFile failed. Trying audioread instead.')\n"
     ]
    },
    {
     "name": "stdout",
     "output_type": "stream",
     "text": [
      "/media/e4e/Rainforest_Data1/Madre_de_Dios_Xeno_Canto_Birdcalls/XC91692 - Yungas Tyrannulet - Phyllomyias weedeni.mp3\n"
     ]
    },
    {
     "name": "stderr",
     "output_type": "stream",
     "text": [
      "/home/e4e/acoustic-species-id-environments/Yoo-Jin/opensoundscape/opensoundscape-env/lib/python3.8/site-packages/librosa/core/audio.py:161: UserWarning: PySoundFile failed. Trying audioread instead.\n",
      "  warnings.warn('PySoundFile failed. Trying audioread instead.')\n"
     ]
    },
    {
     "name": "stdout",
     "output_type": "stream",
     "text": [
      "/media/e4e/Rainforest_Data1/Madre_de_Dios_Xeno_Canto_Birdcalls/XC91693 - Yungas Tyrannulet - Phyllomyias weedeni.mp3\n"
     ]
    },
    {
     "name": "stderr",
     "output_type": "stream",
     "text": [
      "/home/e4e/acoustic-species-id-environments/Yoo-Jin/opensoundscape/opensoundscape-env/lib/python3.8/site-packages/librosa/core/audio.py:161: UserWarning: PySoundFile failed. Trying audioread instead.\n",
      "  warnings.warn('PySoundFile failed. Trying audioread instead.')\n"
     ]
    },
    {
     "name": "stdout",
     "output_type": "stream",
     "text": [
      "/media/e4e/Rainforest_Data1/Madre_de_Dios_Xeno_Canto_Birdcalls/XC91694 - Yungas Tyrannulet - Phyllomyias weedeni.mp3\n",
      "/media/e4e/Rainforest_Data1/Madre_de_Dios_Xeno_Canto_Birdcalls/XC97439 - Acre Tody-Tyrant - Hemitriccus cohnhafti.mp3\n"
     ]
    },
    {
     "name": "stderr",
     "output_type": "stream",
     "text": [
      "/home/e4e/acoustic-species-id-environments/Yoo-Jin/opensoundscape/opensoundscape-env/lib/python3.8/site-packages/librosa/core/audio.py:161: UserWarning: PySoundFile failed. Trying audioread instead.\n",
      "  warnings.warn('PySoundFile failed. Trying audioread instead.')\n",
      "/home/e4e/acoustic-species-id-environments/Yoo-Jin/opensoundscape/opensoundscape-env/lib/python3.8/site-packages/librosa/core/audio.py:161: UserWarning: PySoundFile failed. Trying audioread instead.\n",
      "  warnings.warn('PySoundFile failed. Trying audioread instead.')\n"
     ]
    },
    {
     "name": "stdout",
     "output_type": "stream",
     "text": [
      "/media/e4e/Rainforest_Data1/Madre_de_Dios_Xeno_Canto_Birdcalls/XC97441 - Acre Tody-Tyrant - Hemitriccus cohnhafti.mp3\n"
     ]
    },
    {
     "name": "stderr",
     "output_type": "stream",
     "text": [
      "/home/e4e/acoustic-species-id-environments/Yoo-Jin/opensoundscape/opensoundscape-env/lib/python3.8/site-packages/librosa/core/audio.py:161: UserWarning: PySoundFile failed. Trying audioread instead.\n",
      "  warnings.warn('PySoundFile failed. Trying audioread instead.')\n"
     ]
    },
    {
     "name": "stdout",
     "output_type": "stream",
     "text": [
      "/media/e4e/Rainforest_Data1/Madre_de_Dios_Xeno_Canto_Birdcalls/XC97443 - Acre Tody-Tyrant - Hemitriccus cohnhafti.mp3\n"
     ]
    },
    {
     "name": "stderr",
     "output_type": "stream",
     "text": [
      "/home/e4e/acoustic-species-id-environments/Yoo-Jin/opensoundscape/opensoundscape-env/lib/python3.8/site-packages/librosa/core/audio.py:161: UserWarning: PySoundFile failed. Trying audioread instead.\n",
      "  warnings.warn('PySoundFile failed. Trying audioread instead.')\n"
     ]
    },
    {
     "name": "stdout",
     "output_type": "stream",
     "text": [
      "/media/e4e/Rainforest_Data1/Madre_de_Dios_Xeno_Canto_Birdcalls/XC97444 - Acre Tody-Tyrant - Hemitriccus cohnhafti.mp3\n"
     ]
    },
    {
     "name": "stderr",
     "output_type": "stream",
     "text": [
      "/home/e4e/acoustic-species-id-environments/Yoo-Jin/opensoundscape/opensoundscape-env/lib/python3.8/site-packages/librosa/core/audio.py:161: UserWarning: PySoundFile failed. Trying audioread instead.\n",
      "  warnings.warn('PySoundFile failed. Trying audioread instead.')\n"
     ]
    }
   ],
   "source": [
    "original_path = '/media/e4e/Rainforest_Data1/Madre_de_Dios_Xeno_Canto_Birdcalls'\n",
    "allfilenames_bird, timestamp_bird = find_n_second_multiples_and_filenames(original_path, split_path, 5)"
   ]
  },
  {
   "cell_type": "markdown",
   "metadata": {},
   "source": [
    "# Labelling Dataset\n",
    "\n",
    "In order to use a binary bird classifier with a CNN, we need to label the audio files we input to see if it has a bird or not. The dataset we will be using to train the CNN will ultimately have audio files from AudioSet and Xeno Canto data. Let us label the data accurately."
   ]
  },
  {
   "cell_type": "code",
   "execution_count": 26,
   "metadata": {},
   "outputs": [
    {
     "ename": "NameError",
     "evalue": "name 'allfilenames_audioset' is not defined",
     "output_type": "error",
     "traceback": [
      "\u001b[0;31m---------------------------------------------------------------------------\u001b[0m",
      "\u001b[0;31mNameError\u001b[0m                                 Traceback (most recent call last)",
      "\u001b[0;32m<ipython-input-26-e6e0632c3d92>\u001b[0m in \u001b[0;36m<module>\u001b[0;34m\u001b[0m\n\u001b[0;32m----> 1\u001b[0;31m \u001b[0mallfilenames\u001b[0m \u001b[0;34m=\u001b[0m \u001b[0mallfilenames_audioset\u001b[0m \u001b[0;34m+\u001b[0m \u001b[0mallfilenames_bird\u001b[0m\u001b[0;34m\u001b[0m\u001b[0;34m\u001b[0m\u001b[0m\n\u001b[0m\u001b[1;32m      2\u001b[0m \u001b[0mprint\u001b[0m\u001b[0;34m(\u001b[0m\u001b[0mallfilenames\u001b[0m\u001b[0;34m)\u001b[0m\u001b[0;34m\u001b[0m\u001b[0;34m\u001b[0m\u001b[0m\n",
      "\u001b[0;31mNameError\u001b[0m: name 'allfilenames_audioset' is not defined"
     ]
    }
   ],
   "source": [
    "allfilenames = allfilenames_audioset + allfilenames_bird\n",
    "print(allfilenames)"
   ]
  },
  {
   "cell_type": "markdown",
   "metadata": {},
   "source": [
    "Labelling dataset for Madre de Dios data:"
   ]
  },
  {
   "cell_type": "code",
   "execution_count": null,
   "metadata": {},
   "outputs": [],
   "source": []
  },
  {
   "cell_type": "markdown",
   "metadata": {},
   "source": [
    "Labelling dataset for Audioset data:"
   ]
  },
  {
   "cell_type": "code",
   "execution_count": null,
   "metadata": {},
   "outputs": [],
   "source": []
  },
  {
   "cell_type": "markdown",
   "metadata": {},
   "source": [
    "Since we are using xeno canto data (which is labelled data - bird and not bird), we need to label each of these files. In order to do so, we extract this information from the filename. Note that all the xeno canto data starts with 'XC'. "
   ]
  },
  {
   "cell_type": "code",
   "execution_count": 51,
   "metadata": {},
   "outputs": [],
   "source": [
    "def label_files(file_list): \n",
    "    bird_present_binary = []\n",
    "    bird_species_list = []\n",
    "    for f in file_list: \n",
    "        if f[:2] == 'XC':\n",
    "            bird_present_binary.append(1)\n",
    "            bird_species_list.append(os.path.splitext(f.split(\"-\",1)[1].strip())[0])\n",
    "        else:\n",
    "            bird_present_binary.append(0)\n",
    "            bird_species_list.append('N/A')\n",
    "    return bird_species_list, bird_present_binary\n",
    "            \n",
    "bird_species_list, bird_present_binary = label_files(allfilenames)\n",
    "\n",
    "assert(len(allfilenames)==len(bird_present_binary))\n",
    "assert(len(bird_species_list)==len(bird_present_binary))"
   ]
  },
  {
   "cell_type": "code",
   "execution_count": 52,
   "metadata": {
    "scrolled": true
   },
   "outputs": [
    {
     "name": "stdout",
     "output_type": "stream",
     "text": [
      "['N/A', 'N/A', 'N/A', 'N/A', 'N/A', 'N/A', 'N/A', 'N/A', 'Blue-crowned Trogon - Trogon curucui', 'Blue-crowned Trogon - Trogon curucui', 'Blue-crowned Trogon - Trogon curucui', 'Blue-crowned Trogon - Trogon curucui', 'Blue-crowned Trogon - Trogon curucui', 'White-bellied Tody-Tyrant - Hemitriccus griseipectus', 'White-bellied Tody-Tyrant - Hemitriccus griseipectus', 'White-bellied Tody-Tyrant - Hemitriccus griseipectus', 'White-bellied Tody-Tyrant - Hemitriccus griseipectus', 'White-bellied Tody-Tyrant - Hemitriccus griseipectus', 'White-bellied Tody-Tyrant - Hemitriccus griseipectus', 'White-bellied Tody-Tyrant - Hemitriccus griseipectus', 'White-bellied Tody-Tyrant - Hemitriccus griseipectus', 'Sapphire-spangled Emerald - Amazilia lactea', 'N/A', 'N/A', 'N/A', 'N/A', 'N/A', 'N/A', 'N/A', 'N/A', 'Red-necked Woodpecker - Campephilus rubricollis', 'Red-necked Woodpecker - Campephilus rubricollis', 'Red-necked Woodpecker - Campephilus rubricollis', 'N/A', 'N/A', 'White-crested Spadebill - Platyrinchus platyrhynchos', 'White-crested Spadebill - Platyrinchus platyrhynchos', 'White-crested Spadebill - Platyrinchus platyrhynchos', 'N/A', 'N/A', 'Channel-billed Toucan - Ramphastos vitellinus', 'Channel-billed Toucan - Ramphastos vitellinus', 'White-crested Spadebill - Platyrinchus platyrhynchos', 'N/A', 'N/A', 'N/A', 'N/A', 'Silky-tailed Nightjar - Antrostomus sericocaudatus', 'Silky-tailed Nightjar - Antrostomus sericocaudatus', 'Silky-tailed Nightjar - Antrostomus sericocaudatus', 'Silky-tailed Nightjar - Antrostomus sericocaudatus', 'White-crested Spadebill - Platyrinchus platyrhynchos', 'White-bellied Tody-Tyrant - Hemitriccus griseipectus', 'White-bellied Tody-Tyrant - Hemitriccus griseipectus', 'White-bellied Tody-Tyrant - Hemitriccus griseipectus', 'White-bellied Tody-Tyrant - Hemitriccus griseipectus'] [0, 0, 0, 0, 0, 0, 0, 0, 1, 1, 1, 1, 1, 1, 1, 1, 1, 1, 1, 1, 1, 1, 0, 0, 0, 0, 0, 0, 0, 0, 1, 1, 1, 0, 0, 1, 1, 1, 0, 0, 1, 1, 1, 0, 0, 0, 0, 1, 1, 1, 1, 1, 1, 1, 1, 1]\n"
     ]
    }
   ],
   "source": [
    "print(bird_species_list, bird_present_binary)"
   ]
  },
  {
   "cell_type": "markdown",
   "metadata": {},
   "source": [
    "## Put all this data into a Pandas dataframe\n",
    "There would be a pandas dataframe that would include filenames, the timestamp of the file, if a bird is present in the file, and the bird species."
   ]
  },
  {
   "cell_type": "code",
   "execution_count": 53,
   "metadata": {},
   "outputs": [
    {
     "name": "stdout",
     "output_type": "stream",
     "text": [
      "['_8MvhMlbwiE_40.000.wav', '_8MvhMlbwiE_40.000.wav', '_6spzSHLoY0_30.000.wav', '_6spzSHLoY0_30.000.wav', '_7AHvLZsXFQ_580.000.wav', '_7AHvLZsXFQ_580.000.wav', '_8HcEdMMbzQ_130.000.wav', '_8HcEdMMbzQ_130.000.wav', 'XC22019 - Blue-crowned Trogon - Trogon curucui.mp3', 'XC22019 - Blue-crowned Trogon - Trogon curucui.mp3', 'XC22019 - Blue-crowned Trogon - Trogon curucui.mp3', 'XC22019 - Blue-crowned Trogon - Trogon curucui.mp3', 'XC22019 - Blue-crowned Trogon - Trogon curucui.mp3', 'XC22211 - White-bellied Tody-Tyrant - Hemitriccus griseipectus.mp3', 'XC22211 - White-bellied Tody-Tyrant - Hemitriccus griseipectus.mp3', 'XC22211 - White-bellied Tody-Tyrant - Hemitriccus griseipectus.mp3', 'XC22211 - White-bellied Tody-Tyrant - Hemitriccus griseipectus.mp3', 'XC22211 - White-bellied Tody-Tyrant - Hemitriccus griseipectus.mp3', 'XC22211 - White-bellied Tody-Tyrant - Hemitriccus griseipectus.mp3', 'XC22211 - White-bellied Tody-Tyrant - Hemitriccus griseipectus.mp3', 'XC22211 - White-bellied Tody-Tyrant - Hemitriccus griseipectus.mp3', 'XC22072 - Sapphire-spangled Emerald - Amazilia lactea.mp3', '_3ZOigx8e3c_30.000.wav', '_3ZOigx8e3c_30.000.wav', '_5mfNxFuXos_30.000.wav', '_5mfNxFuXos_30.000.wav', '_4oW93l094k_30.000.wav', '_4oW93l094k_30.000.wav', '_1woPC5HWSg_30.000.wav', '_1woPC5HWSg_30.000.wav', 'XC22193 - Red-necked Woodpecker - Campephilus rubricollis.mp3', 'XC22193 - Red-necked Woodpecker - Campephilus rubricollis.mp3', 'XC22193 - Red-necked Woodpecker - Campephilus rubricollis.mp3', '_4rolMIFkgQ_30.000.wav', '_4rolMIFkgQ_30.000.wav', 'XC22208 - White-crested Spadebill - Platyrinchus platyrhynchos.mp3', 'XC22208 - White-crested Spadebill - Platyrinchus platyrhynchos.mp3', 'XC22208 - White-crested Spadebill - Platyrinchus platyrhynchos.mp3', '_3yc8z3kXgg_30.000.wav', '_3yc8z3kXgg_30.000.wav', 'XC22082 - Channel-billed Toucan - Ramphastos vitellinus.mp3', 'XC22082 - Channel-billed Toucan - Ramphastos vitellinus.mp3', 'XC22270 - White-crested Spadebill - Platyrinchus platyrhynchos.mp3', '_5FQFj1d9Qs_550.000.wav', '_5FQFj1d9Qs_550.000.wav', '_3F2ThHyn64_30.000.wav', '_3F2ThHyn64_30.000.wav', 'XC22087 - Silky-tailed Nightjar - Antrostomus sericocaudatus.mp3', 'XC22087 - Silky-tailed Nightjar - Antrostomus sericocaudatus.mp3', 'XC22087 - Silky-tailed Nightjar - Antrostomus sericocaudatus.mp3', 'XC22087 - Silky-tailed Nightjar - Antrostomus sericocaudatus.mp3', 'XC22269 - White-crested Spadebill - Platyrinchus platyrhynchos.mp3', 'XC22099 - White-bellied Tody-Tyrant - Hemitriccus griseipectus.mp3', 'XC22099 - White-bellied Tody-Tyrant - Hemitriccus griseipectus.mp3', 'XC22035 - White-bellied Tody-Tyrant - Hemitriccus griseipectus.mp3', 'XC22035 - White-bellied Tody-Tyrant - Hemitriccus griseipectus.mp3']\n"
     ]
    }
   ],
   "source": [
    "print(allfilenames)"
   ]
  },
  {
   "cell_type": "code",
   "execution_count": 55,
   "metadata": {
    "scrolled": false
   },
   "outputs": [
    {
     "name": "stdout",
     "output_type": "stream",
     "text": [
      "                                            Filenames  Bird present  \\\n",
      "0                              _8MvhMlbwiE_40.000.wav             0   \n",
      "1                              _8MvhMlbwiE_40.000.wav             0   \n",
      "2                              _6spzSHLoY0_30.000.wav             0   \n",
      "3                              _6spzSHLoY0_30.000.wav             0   \n",
      "4                             _7AHvLZsXFQ_580.000.wav             0   \n",
      "5                             _7AHvLZsXFQ_580.000.wav             0   \n",
      "6                             _8HcEdMMbzQ_130.000.wav             0   \n",
      "7                             _8HcEdMMbzQ_130.000.wav             0   \n",
      "8   XC22019 - Blue-crowned Trogon - Trogon curucui...             1   \n",
      "9   XC22019 - Blue-crowned Trogon - Trogon curucui...             1   \n",
      "10  XC22019 - Blue-crowned Trogon - Trogon curucui...             1   \n",
      "11  XC22019 - Blue-crowned Trogon - Trogon curucui...             1   \n",
      "12  XC22019 - Blue-crowned Trogon - Trogon curucui...             1   \n",
      "13  XC22211 - White-bellied Tody-Tyrant - Hemitric...             1   \n",
      "14  XC22211 - White-bellied Tody-Tyrant - Hemitric...             1   \n",
      "15  XC22211 - White-bellied Tody-Tyrant - Hemitric...             1   \n",
      "16  XC22211 - White-bellied Tody-Tyrant - Hemitric...             1   \n",
      "17  XC22211 - White-bellied Tody-Tyrant - Hemitric...             1   \n",
      "18  XC22211 - White-bellied Tody-Tyrant - Hemitric...             1   \n",
      "19  XC22211 - White-bellied Tody-Tyrant - Hemitric...             1   \n",
      "20  XC22211 - White-bellied Tody-Tyrant - Hemitric...             1   \n",
      "21  XC22072 - Sapphire-spangled Emerald - Amazilia...             1   \n",
      "22                             _3ZOigx8e3c_30.000.wav             0   \n",
      "23                             _3ZOigx8e3c_30.000.wav             0   \n",
      "24                             _5mfNxFuXos_30.000.wav             0   \n",
      "25                             _5mfNxFuXos_30.000.wav             0   \n",
      "26                             _4oW93l094k_30.000.wav             0   \n",
      "27                             _4oW93l094k_30.000.wav             0   \n",
      "28                             _1woPC5HWSg_30.000.wav             0   \n",
      "29                             _1woPC5HWSg_30.000.wav             0   \n",
      "30  XC22193 - Red-necked Woodpecker - Campephilus ...             1   \n",
      "31  XC22193 - Red-necked Woodpecker - Campephilus ...             1   \n",
      "32  XC22193 - Red-necked Woodpecker - Campephilus ...             1   \n",
      "33                             _4rolMIFkgQ_30.000.wav             0   \n",
      "34                             _4rolMIFkgQ_30.000.wav             0   \n",
      "35  XC22208 - White-crested Spadebill - Platyrinch...             1   \n",
      "36  XC22208 - White-crested Spadebill - Platyrinch...             1   \n",
      "37  XC22208 - White-crested Spadebill - Platyrinch...             1   \n",
      "38                             _3yc8z3kXgg_30.000.wav             0   \n",
      "39                             _3yc8z3kXgg_30.000.wav             0   \n",
      "40  XC22082 - Channel-billed Toucan - Ramphastos v...             1   \n",
      "41  XC22082 - Channel-billed Toucan - Ramphastos v...             1   \n",
      "42  XC22270 - White-crested Spadebill - Platyrinch...             1   \n",
      "43                            _5FQFj1d9Qs_550.000.wav             0   \n",
      "44                            _5FQFj1d9Qs_550.000.wav             0   \n",
      "45                             _3F2ThHyn64_30.000.wav             0   \n",
      "46                             _3F2ThHyn64_30.000.wav             0   \n",
      "47  XC22087 - Silky-tailed Nightjar - Antrostomus ...             1   \n",
      "48  XC22087 - Silky-tailed Nightjar - Antrostomus ...             1   \n",
      "49  XC22087 - Silky-tailed Nightjar - Antrostomus ...             1   \n",
      "50  XC22087 - Silky-tailed Nightjar - Antrostomus ...             1   \n",
      "51  XC22269 - White-crested Spadebill - Platyrinch...             1   \n",
      "52  XC22099 - White-bellied Tody-Tyrant - Hemitric...             1   \n",
      "53  XC22099 - White-bellied Tody-Tyrant - Hemitric...             1   \n",
      "54  XC22035 - White-bellied Tody-Tyrant - Hemitric...             1   \n",
      "55  XC22035 - White-bellied Tody-Tyrant - Hemitric...             1   \n",
      "\n",
      "                                         Bird species  \n",
      "0                                                 N/A  \n",
      "1                                                 N/A  \n",
      "2                                                 N/A  \n",
      "3                                                 N/A  \n",
      "4                                                 N/A  \n",
      "5                                                 N/A  \n",
      "6                                                 N/A  \n",
      "7                                                 N/A  \n",
      "8                Blue-crowned Trogon - Trogon curucui  \n",
      "9                Blue-crowned Trogon - Trogon curucui  \n",
      "10               Blue-crowned Trogon - Trogon curucui  \n",
      "11               Blue-crowned Trogon - Trogon curucui  \n",
      "12               Blue-crowned Trogon - Trogon curucui  \n",
      "13  White-bellied Tody-Tyrant - Hemitriccus grisei...  \n",
      "14  White-bellied Tody-Tyrant - Hemitriccus grisei...  \n",
      "15  White-bellied Tody-Tyrant - Hemitriccus grisei...  \n",
      "16  White-bellied Tody-Tyrant - Hemitriccus grisei...  \n",
      "17  White-bellied Tody-Tyrant - Hemitriccus grisei...  \n",
      "18  White-bellied Tody-Tyrant - Hemitriccus grisei...  \n",
      "19  White-bellied Tody-Tyrant - Hemitriccus grisei...  \n",
      "20  White-bellied Tody-Tyrant - Hemitriccus grisei...  \n",
      "21        Sapphire-spangled Emerald - Amazilia lactea  \n",
      "22                                                N/A  \n",
      "23                                                N/A  \n",
      "24                                                N/A  \n",
      "25                                                N/A  \n",
      "26                                                N/A  \n",
      "27                                                N/A  \n",
      "28                                                N/A  \n",
      "29                                                N/A  \n",
      "30    Red-necked Woodpecker - Campephilus rubricollis  \n",
      "31    Red-necked Woodpecker - Campephilus rubricollis  \n",
      "32    Red-necked Woodpecker - Campephilus rubricollis  \n",
      "33                                                N/A  \n",
      "34                                                N/A  \n",
      "35  White-crested Spadebill - Platyrinchus platyrh...  \n",
      "36  White-crested Spadebill - Platyrinchus platyrh...  \n",
      "37  White-crested Spadebill - Platyrinchus platyrh...  \n",
      "38                                                N/A  \n",
      "39                                                N/A  \n",
      "40      Channel-billed Toucan - Ramphastos vitellinus  \n",
      "41      Channel-billed Toucan - Ramphastos vitellinus  \n",
      "42  White-crested Spadebill - Platyrinchus platyrh...  \n",
      "43                                                N/A  \n",
      "44                                                N/A  \n",
      "45                                                N/A  \n",
      "46                                                N/A  \n",
      "47  Silky-tailed Nightjar - Antrostomus sericocaud...  \n",
      "48  Silky-tailed Nightjar - Antrostomus sericocaud...  \n",
      "49  Silky-tailed Nightjar - Antrostomus sericocaud...  \n",
      "50  Silky-tailed Nightjar - Antrostomus sericocaud...  \n",
      "51  White-crested Spadebill - Platyrinchus platyrh...  \n",
      "52  White-bellied Tody-Tyrant - Hemitriccus grisei...  \n",
      "53  White-bellied Tody-Tyrant - Hemitriccus grisei...  \n",
      "54  White-bellied Tody-Tyrant - Hemitriccus grisei...  \n",
      "55  White-bellied Tody-Tyrant - Hemitriccus grisei...  \n",
      "{0: 'bird-absent', 1: 'bird-present'}\n"
     ]
    }
   ],
   "source": [
    "labels = {'Filenames': allfilenames,\n",
    "        'Bird present': bird_present_binary,\n",
    "        'Bird species': bird_species_list\n",
    "        }\n",
    "\n",
    "df = pd.DataFrame(labels, columns = ['Filenames', 'Bird present', 'Bird species'])\n",
    "label_dict = {0:'bird-absent', 1:'bird-present'}\n",
    "\n",
    "print(df)\n",
    "print(label_dict)"
   ]
  },
  {
   "cell_type": "code",
   "execution_count": 56,
   "metadata": {},
   "outputs": [
    {
     "name": "stdout",
     "output_type": "stream",
     "text": [
      "/home/e4e/Desktop/binary_bird_small_testset/original_data/\n"
     ]
    }
   ],
   "source": [
    "print(dir_path)"
   ]
  },
  {
   "cell_type": "code",
   "execution_count": 57,
   "metadata": {},
   "outputs": [],
   "source": [
    "# Make allfilenames into a path \n",
    "\n",
    "# '/Volumes/Elements/Binary_Bird_Classifer_Small_Testset/[\\'5D0E8668.WAV\\', \\'5D0E8668.WAV\\', \\'5D0E8668.WAV\\', \\'5D0E8668.WAV\\', \\'5D0E8668.WAV\\', \\'5D0E8668.WAV\\', \\'5D0EA4E0.WAV\\', \\'5D0EA4E0.WAV\\', \\'5D0EA4E0.WAV\\', \\'5D0EA4E0.WAV\\', \\'5D0EA4E0.WAV\\', \\'5D0EA4E0.WAV\\', \\'5D0EA738.WAV\\', \\'5D0EA738.WAV\\', \\'5D0EA738.WAV\\', \\'5D0EA738.WAV\\', \\'5D0EA738.WAV\\', \\'5D0EA738.WAV\\', \\'5D0EA990.WAV\\', \\'5D0EA990.WAV\\', \\'5D0EA990.WAV\\', \\'5D0EA990.WAV\\', \\'5D0EA990.WAV\\', \\'5D0EA990.WAV\\', \\'5D0EABE8.WAV\\', \\'5D0EABE8.WAV\\', \\'5D0EABE8.WAV\\', \\'5D0EABE8.WAV\\', \\'5D0EABE8.WAV\\', \\'5D0EABE8.WAV\\', \\'5D0EAE40.WAV\\', \\'5D0EAE40.WAV\\', \\'5D0EAE40.WAV\\', \\'5D0EAE40.WAV\\', \\'5D0EAE40.WAV\\', \\'5D0EAE40.WAV\\', \\'5D0EB098.WAV\\', \\'5D0EB098.WAV\\', \\'5D0EB098.WAV\\', \\'5D0EB098.WAV\\', \\'5D0EB098.WAV\\', \\'5D0EB098.WAV\\', \\'5D0EB2F0.WAV\\', \\'5D0EB2F0.WAV\\', \\'5D0EB2F0.WAV\\', \\'5D0EB2F0.WAV\\', \\'5D0EB2F0.WAV\\', \\'5D0EB2F0.WAV\\', \\'5D0EC808.WAV\\', \\'5D0EC808.WAV\\', \\'5D0EC808.WAV\\', \\'5D0EC808.WAV\\', \\'5D0EC808.WAV\\', \\'5D0EC808.WAV\\', \\'5D0FC078.WAV\\', \\'5D0FC078.WAV\\', \\'5D0FC078.WAV\\', \\'5D0FC078.WAV\\', \\'5D0FC078.WAV\\', \\'5D0FC078.WAV\\', \\'XC22404 - Black Antbird - Cercomacroides serva.mp3\\', \\'XC22404 - Black Antbird - Cercomacroides serva.mp3\\', \\'XC22458 - White-eyed Antwren - Epinecrophylla leucophthalma.mp3\\', \\'XC22458 - White-eyed Antwren - Epinecrophylla leucophthalma.mp3\\', \\'XC23434 - White-winged Shrike-Tanager - Lanio versicolor.mp3\\', \\'XC23434 - White-winged Shrike-Tanager - Lanio versicolor.mp3\\', \"XC40313 - Goeldi\\'s Antbird - Akletos goeldii.mp3\", \"XC40313 - Goeldi\\'s Antbird - Akletos goeldii.mp3\", \"XC40313 - Goeldi\\'s Antbird - Akletos goeldii.mp3\", \"XC40313 - Goeldi\\'s Antbird - Akletos goeldii.mp3\", \"XC40313 - Goeldi\\'s Antbird - Akletos goeldii.mp3\", \"XC40313 - Goeldi\\'s Antbird - Akletos goeldii.mp3\"]'\n",
    "s = pd.Series(allfilenames)\n",
    "\n",
    "for i in range(len(allfilenames)): \n",
    "    df['Filenames'] = dir_path + allfilenames[i]\n",
    "    "
   ]
  },
  {
   "cell_type": "code",
   "execution_count": 58,
   "metadata": {},
   "outputs": [
    {
     "name": "stdout",
     "output_type": "stream",
     "text": [
      "                                            Filenames  Bird present  \\\n",
      "0   /home/e4e/Desktop/binary_bird_small_testset/or...             0   \n",
      "1   /home/e4e/Desktop/binary_bird_small_testset/or...             0   \n",
      "2   /home/e4e/Desktop/binary_bird_small_testset/or...             0   \n",
      "3   /home/e4e/Desktop/binary_bird_small_testset/or...             0   \n",
      "4   /home/e4e/Desktop/binary_bird_small_testset/or...             0   \n",
      "5   /home/e4e/Desktop/binary_bird_small_testset/or...             0   \n",
      "6   /home/e4e/Desktop/binary_bird_small_testset/or...             0   \n",
      "7   /home/e4e/Desktop/binary_bird_small_testset/or...             0   \n",
      "8   /home/e4e/Desktop/binary_bird_small_testset/or...             1   \n",
      "9   /home/e4e/Desktop/binary_bird_small_testset/or...             1   \n",
      "10  /home/e4e/Desktop/binary_bird_small_testset/or...             1   \n",
      "11  /home/e4e/Desktop/binary_bird_small_testset/or...             1   \n",
      "12  /home/e4e/Desktop/binary_bird_small_testset/or...             1   \n",
      "13  /home/e4e/Desktop/binary_bird_small_testset/or...             1   \n",
      "14  /home/e4e/Desktop/binary_bird_small_testset/or...             1   \n",
      "15  /home/e4e/Desktop/binary_bird_small_testset/or...             1   \n",
      "16  /home/e4e/Desktop/binary_bird_small_testset/or...             1   \n",
      "17  /home/e4e/Desktop/binary_bird_small_testset/or...             1   \n",
      "18  /home/e4e/Desktop/binary_bird_small_testset/or...             1   \n",
      "19  /home/e4e/Desktop/binary_bird_small_testset/or...             1   \n",
      "20  /home/e4e/Desktop/binary_bird_small_testset/or...             1   \n",
      "21  /home/e4e/Desktop/binary_bird_small_testset/or...             1   \n",
      "22  /home/e4e/Desktop/binary_bird_small_testset/or...             0   \n",
      "23  /home/e4e/Desktop/binary_bird_small_testset/or...             0   \n",
      "24  /home/e4e/Desktop/binary_bird_small_testset/or...             0   \n",
      "25  /home/e4e/Desktop/binary_bird_small_testset/or...             0   \n",
      "26  /home/e4e/Desktop/binary_bird_small_testset/or...             0   \n",
      "27  /home/e4e/Desktop/binary_bird_small_testset/or...             0   \n",
      "28  /home/e4e/Desktop/binary_bird_small_testset/or...             0   \n",
      "29  /home/e4e/Desktop/binary_bird_small_testset/or...             0   \n",
      "30  /home/e4e/Desktop/binary_bird_small_testset/or...             1   \n",
      "31  /home/e4e/Desktop/binary_bird_small_testset/or...             1   \n",
      "32  /home/e4e/Desktop/binary_bird_small_testset/or...             1   \n",
      "33  /home/e4e/Desktop/binary_bird_small_testset/or...             0   \n",
      "34  /home/e4e/Desktop/binary_bird_small_testset/or...             0   \n",
      "35  /home/e4e/Desktop/binary_bird_small_testset/or...             1   \n",
      "36  /home/e4e/Desktop/binary_bird_small_testset/or...             1   \n",
      "37  /home/e4e/Desktop/binary_bird_small_testset/or...             1   \n",
      "38  /home/e4e/Desktop/binary_bird_small_testset/or...             0   \n",
      "39  /home/e4e/Desktop/binary_bird_small_testset/or...             0   \n",
      "40  /home/e4e/Desktop/binary_bird_small_testset/or...             1   \n",
      "41  /home/e4e/Desktop/binary_bird_small_testset/or...             1   \n",
      "42  /home/e4e/Desktop/binary_bird_small_testset/or...             1   \n",
      "43  /home/e4e/Desktop/binary_bird_small_testset/or...             0   \n",
      "44  /home/e4e/Desktop/binary_bird_small_testset/or...             0   \n",
      "45  /home/e4e/Desktop/binary_bird_small_testset/or...             0   \n",
      "46  /home/e4e/Desktop/binary_bird_small_testset/or...             0   \n",
      "47  /home/e4e/Desktop/binary_bird_small_testset/or...             1   \n",
      "48  /home/e4e/Desktop/binary_bird_small_testset/or...             1   \n",
      "49  /home/e4e/Desktop/binary_bird_small_testset/or...             1   \n",
      "50  /home/e4e/Desktop/binary_bird_small_testset/or...             1   \n",
      "51  /home/e4e/Desktop/binary_bird_small_testset/or...             1   \n",
      "52  /home/e4e/Desktop/binary_bird_small_testset/or...             1   \n",
      "53  /home/e4e/Desktop/binary_bird_small_testset/or...             1   \n",
      "54  /home/e4e/Desktop/binary_bird_small_testset/or...             1   \n",
      "55  /home/e4e/Desktop/binary_bird_small_testset/or...             1   \n",
      "\n",
      "                                         Bird species  \n",
      "0                                                 N/A  \n",
      "1                                                 N/A  \n",
      "2                                                 N/A  \n",
      "3                                                 N/A  \n",
      "4                                                 N/A  \n",
      "5                                                 N/A  \n",
      "6                                                 N/A  \n",
      "7                                                 N/A  \n",
      "8                Blue-crowned Trogon - Trogon curucui  \n",
      "9                Blue-crowned Trogon - Trogon curucui  \n",
      "10               Blue-crowned Trogon - Trogon curucui  \n",
      "11               Blue-crowned Trogon - Trogon curucui  \n",
      "12               Blue-crowned Trogon - Trogon curucui  \n",
      "13  White-bellied Tody-Tyrant - Hemitriccus grisei...  \n",
      "14  White-bellied Tody-Tyrant - Hemitriccus grisei...  \n",
      "15  White-bellied Tody-Tyrant - Hemitriccus grisei...  \n",
      "16  White-bellied Tody-Tyrant - Hemitriccus grisei...  \n",
      "17  White-bellied Tody-Tyrant - Hemitriccus grisei...  \n",
      "18  White-bellied Tody-Tyrant - Hemitriccus grisei...  \n",
      "19  White-bellied Tody-Tyrant - Hemitriccus grisei...  \n",
      "20  White-bellied Tody-Tyrant - Hemitriccus grisei...  \n",
      "21        Sapphire-spangled Emerald - Amazilia lactea  \n",
      "22                                                N/A  \n",
      "23                                                N/A  \n",
      "24                                                N/A  \n",
      "25                                                N/A  \n",
      "26                                                N/A  \n",
      "27                                                N/A  \n",
      "28                                                N/A  \n",
      "29                                                N/A  \n",
      "30    Red-necked Woodpecker - Campephilus rubricollis  \n",
      "31    Red-necked Woodpecker - Campephilus rubricollis  \n",
      "32    Red-necked Woodpecker - Campephilus rubricollis  \n",
      "33                                                N/A  \n",
      "34                                                N/A  \n",
      "35  White-crested Spadebill - Platyrinchus platyrh...  \n",
      "36  White-crested Spadebill - Platyrinchus platyrh...  \n",
      "37  White-crested Spadebill - Platyrinchus platyrh...  \n",
      "38                                                N/A  \n",
      "39                                                N/A  \n",
      "40      Channel-billed Toucan - Ramphastos vitellinus  \n",
      "41      Channel-billed Toucan - Ramphastos vitellinus  \n",
      "42  White-crested Spadebill - Platyrinchus platyrh...  \n",
      "43                                                N/A  \n",
      "44                                                N/A  \n",
      "45                                                N/A  \n",
      "46                                                N/A  \n",
      "47  Silky-tailed Nightjar - Antrostomus sericocaud...  \n",
      "48  Silky-tailed Nightjar - Antrostomus sericocaud...  \n",
      "49  Silky-tailed Nightjar - Antrostomus sericocaud...  \n",
      "50  Silky-tailed Nightjar - Antrostomus sericocaud...  \n",
      "51  White-crested Spadebill - Platyrinchus platyrh...  \n",
      "52  White-bellied Tody-Tyrant - Hemitriccus grisei...  \n",
      "53  White-bellied Tody-Tyrant - Hemitriccus grisei...  \n",
      "54  White-bellied Tody-Tyrant - Hemitriccus grisei...  \n",
      "55  White-bellied Tody-Tyrant - Hemitriccus grisei...  \n"
     ]
    }
   ],
   "source": [
    "print(df)"
   ]
  },
  {
   "cell_type": "code",
   "execution_count": 59,
   "metadata": {},
   "outputs": [
    {
     "name": "stdout",
     "output_type": "stream",
     "text": [
      "<bound method NDFrame.head of                                             Filenames  Bird present  \\\n",
      "0   /home/e4e/Desktop/binary_bird_small_testset/or...             0   \n",
      "1   /home/e4e/Desktop/binary_bird_small_testset/or...             0   \n",
      "2   /home/e4e/Desktop/binary_bird_small_testset/or...             0   \n",
      "3   /home/e4e/Desktop/binary_bird_small_testset/or...             0   \n",
      "4   /home/e4e/Desktop/binary_bird_small_testset/or...             0   \n",
      "5   /home/e4e/Desktop/binary_bird_small_testset/or...             0   \n",
      "6   /home/e4e/Desktop/binary_bird_small_testset/or...             0   \n",
      "7   /home/e4e/Desktop/binary_bird_small_testset/or...             0   \n",
      "8   /home/e4e/Desktop/binary_bird_small_testset/or...             1   \n",
      "9   /home/e4e/Desktop/binary_bird_small_testset/or...             1   \n",
      "10  /home/e4e/Desktop/binary_bird_small_testset/or...             1   \n",
      "11  /home/e4e/Desktop/binary_bird_small_testset/or...             1   \n",
      "12  /home/e4e/Desktop/binary_bird_small_testset/or...             1   \n",
      "13  /home/e4e/Desktop/binary_bird_small_testset/or...             1   \n",
      "14  /home/e4e/Desktop/binary_bird_small_testset/or...             1   \n",
      "15  /home/e4e/Desktop/binary_bird_small_testset/or...             1   \n",
      "16  /home/e4e/Desktop/binary_bird_small_testset/or...             1   \n",
      "17  /home/e4e/Desktop/binary_bird_small_testset/or...             1   \n",
      "18  /home/e4e/Desktop/binary_bird_small_testset/or...             1   \n",
      "19  /home/e4e/Desktop/binary_bird_small_testset/or...             1   \n",
      "20  /home/e4e/Desktop/binary_bird_small_testset/or...             1   \n",
      "21  /home/e4e/Desktop/binary_bird_small_testset/or...             1   \n",
      "22  /home/e4e/Desktop/binary_bird_small_testset/or...             0   \n",
      "23  /home/e4e/Desktop/binary_bird_small_testset/or...             0   \n",
      "24  /home/e4e/Desktop/binary_bird_small_testset/or...             0   \n",
      "25  /home/e4e/Desktop/binary_bird_small_testset/or...             0   \n",
      "26  /home/e4e/Desktop/binary_bird_small_testset/or...             0   \n",
      "27  /home/e4e/Desktop/binary_bird_small_testset/or...             0   \n",
      "28  /home/e4e/Desktop/binary_bird_small_testset/or...             0   \n",
      "29  /home/e4e/Desktop/binary_bird_small_testset/or...             0   \n",
      "30  /home/e4e/Desktop/binary_bird_small_testset/or...             1   \n",
      "31  /home/e4e/Desktop/binary_bird_small_testset/or...             1   \n",
      "32  /home/e4e/Desktop/binary_bird_small_testset/or...             1   \n",
      "33  /home/e4e/Desktop/binary_bird_small_testset/or...             0   \n",
      "34  /home/e4e/Desktop/binary_bird_small_testset/or...             0   \n",
      "35  /home/e4e/Desktop/binary_bird_small_testset/or...             1   \n",
      "36  /home/e4e/Desktop/binary_bird_small_testset/or...             1   \n",
      "37  /home/e4e/Desktop/binary_bird_small_testset/or...             1   \n",
      "38  /home/e4e/Desktop/binary_bird_small_testset/or...             0   \n",
      "39  /home/e4e/Desktop/binary_bird_small_testset/or...             0   \n",
      "40  /home/e4e/Desktop/binary_bird_small_testset/or...             1   \n",
      "41  /home/e4e/Desktop/binary_bird_small_testset/or...             1   \n",
      "42  /home/e4e/Desktop/binary_bird_small_testset/or...             1   \n",
      "43  /home/e4e/Desktop/binary_bird_small_testset/or...             0   \n",
      "44  /home/e4e/Desktop/binary_bird_small_testset/or...             0   \n",
      "45  /home/e4e/Desktop/binary_bird_small_testset/or...             0   \n",
      "46  /home/e4e/Desktop/binary_bird_small_testset/or...             0   \n",
      "47  /home/e4e/Desktop/binary_bird_small_testset/or...             1   \n",
      "48  /home/e4e/Desktop/binary_bird_small_testset/or...             1   \n",
      "49  /home/e4e/Desktop/binary_bird_small_testset/or...             1   \n",
      "50  /home/e4e/Desktop/binary_bird_small_testset/or...             1   \n",
      "51  /home/e4e/Desktop/binary_bird_small_testset/or...             1   \n",
      "52  /home/e4e/Desktop/binary_bird_small_testset/or...             1   \n",
      "53  /home/e4e/Desktop/binary_bird_small_testset/or...             1   \n",
      "54  /home/e4e/Desktop/binary_bird_small_testset/or...             1   \n",
      "55  /home/e4e/Desktop/binary_bird_small_testset/or...             1   \n",
      "\n",
      "                                         Bird species  \n",
      "0                                                 N/A  \n",
      "1                                                 N/A  \n",
      "2                                                 N/A  \n",
      "3                                                 N/A  \n",
      "4                                                 N/A  \n",
      "5                                                 N/A  \n",
      "6                                                 N/A  \n",
      "7                                                 N/A  \n",
      "8                Blue-crowned Trogon - Trogon curucui  \n",
      "9                Blue-crowned Trogon - Trogon curucui  \n",
      "10               Blue-crowned Trogon - Trogon curucui  \n",
      "11               Blue-crowned Trogon - Trogon curucui  \n",
      "12               Blue-crowned Trogon - Trogon curucui  \n",
      "13  White-bellied Tody-Tyrant - Hemitriccus grisei...  \n",
      "14  White-bellied Tody-Tyrant - Hemitriccus grisei...  \n",
      "15  White-bellied Tody-Tyrant - Hemitriccus grisei...  \n",
      "16  White-bellied Tody-Tyrant - Hemitriccus grisei...  \n",
      "17  White-bellied Tody-Tyrant - Hemitriccus grisei...  \n",
      "18  White-bellied Tody-Tyrant - Hemitriccus grisei...  \n",
      "19  White-bellied Tody-Tyrant - Hemitriccus grisei...  \n",
      "20  White-bellied Tody-Tyrant - Hemitriccus grisei...  \n",
      "21        Sapphire-spangled Emerald - Amazilia lactea  \n",
      "22                                                N/A  \n",
      "23                                                N/A  \n",
      "24                                                N/A  \n",
      "25                                                N/A  \n",
      "26                                                N/A  \n",
      "27                                                N/A  \n",
      "28                                                N/A  \n",
      "29                                                N/A  \n",
      "30    Red-necked Woodpecker - Campephilus rubricollis  \n",
      "31    Red-necked Woodpecker - Campephilus rubricollis  \n",
      "32    Red-necked Woodpecker - Campephilus rubricollis  \n",
      "33                                                N/A  \n",
      "34                                                N/A  \n",
      "35  White-crested Spadebill - Platyrinchus platyrh...  \n",
      "36  White-crested Spadebill - Platyrinchus platyrh...  \n",
      "37  White-crested Spadebill - Platyrinchus platyrh...  \n",
      "38                                                N/A  \n",
      "39                                                N/A  \n",
      "40      Channel-billed Toucan - Ramphastos vitellinus  \n",
      "41      Channel-billed Toucan - Ramphastos vitellinus  \n",
      "42  White-crested Spadebill - Platyrinchus platyrh...  \n",
      "43                                                N/A  \n",
      "44                                                N/A  \n",
      "45                                                N/A  \n",
      "46                                                N/A  \n",
      "47  Silky-tailed Nightjar - Antrostomus sericocaud...  \n",
      "48  Silky-tailed Nightjar - Antrostomus sericocaud...  \n",
      "49  Silky-tailed Nightjar - Antrostomus sericocaud...  \n",
      "50  Silky-tailed Nightjar - Antrostomus sericocaud...  \n",
      "51  White-crested Spadebill - Platyrinchus platyrh...  \n",
      "52  White-bellied Tody-Tyrant - Hemitriccus grisei...  \n",
      "53  White-bellied Tody-Tyrant - Hemitriccus grisei...  \n",
      "54  White-bellied Tody-Tyrant - Hemitriccus grisei...  \n",
      "55  White-bellied Tody-Tyrant - Hemitriccus grisei...  >\n"
     ]
    }
   ],
   "source": [
    "print(df.head)"
   ]
  },
  {
   "cell_type": "markdown",
   "metadata": {},
   "source": [
    "# Machine learning: training\n",
    "\n",
    "Biologists are increasingly using acoustic recorders to study species of interest. Many bioacousticians want to determine the identity of the sounds they have recorded; a variety of manual and automated methods exist for this purpose. Automated methods can make it easier and faster to quickly predict which species or sounds are in one's recordings.\n",
    "\n",
    "Using a process called machine learning, bioacousticians can create (or \"train\") algorithms that can predict the identities of species vocalizing in acoustic recordings. These algorithms, called classifiers, typically do not identify sounds using the recording alone. Instead, they use image recognition techniques to identify sounds in spectrograms created from short segments of audio.\n",
    "\n",
    "This tutorial will guide you through the process of training a simple classifier for a single species. To download the tutorial as a Jupyter Notebook and run it on your own computer, click the \"Edit on GitHub\" button at the top right of the tutorial. You will have to [install OpenSoundscape](installation.html#installation) to use the tutorial."
   ]
  },
  {
   "cell_type": "markdown",
   "metadata": {},
   "source": [
    "Import the following machine learning-related modules. OpenSoundscape uses PyTorch to do machine learning."
   ]
  },
  {
   "cell_type": "code",
   "execution_count": 60,
   "metadata": {},
   "outputs": [],
   "source": [
    "import torch\n",
    "import torch.nn\n",
    "import torch.optim\n",
    "import torchvision.models"
   ]
  },
  {
   "cell_type": "markdown",
   "metadata": {},
   "source": [
    "Lastly, use a few miscellaneous functions."
   ]
  },
  {
   "cell_type": "code",
   "execution_count": 61,
   "metadata": {},
   "outputs": [],
   "source": [
    "# For interacting with paths on the filesystem\n",
    "import os.path\n",
    "from pathlib import Path\n",
    "from sklearn.model_selection import train_test_split\n",
    "\n",
    "# For handling output of the training function\n",
    "import io\n",
    "from contextlib import redirect_stdout"
   ]
  },
  {
   "cell_type": "markdown",
   "metadata": {},
   "source": [
    "## Prepare audio data\n",
    "\n",
    "### Download labeled audio files\n",
    "\n",
    "Training a machine learning model requires some pre-labeled data. These data, in the form of audio recordings or spectrograms, are labeled with whether or not they contain the sound of the species of interest. These data can be obtained from online databases such as Xeno-Canto.org, or by labeling one's own ARU data using a program like Cornell's \"Raven\" sound analysis software.\n",
    "\n",
    "For ML pipelines, we need a training, validation, and test set. \n",
    "Outline: \n",
    "- Use audio augmented data of the actual test set for the training and validation set (split)\n",
    "- Then use the actual test set (collection of Xeno Canto data and Audioset) for the test set \n",
    "\n",
    "1. Training set: sample of data used to fit the model AKA the actual dataset that we use to train the model (audio augmented set of data)\n",
    "2. Validation: sample of data used to provide an unbiased evaluation of a model fit on the training dataset while tuning model hyperparameters\n",
    "3. Test set: sample of data used to provide an unbiased evaluation of a final model fit on the training dataset (usually unlabelled data)\n",
    "\n",
    "Sources: \n",
    "https://towardsdatascience.com/train-validation-and-test-sets-72cb40cba9e7 "
   ]
  },
  {
   "cell_type": "markdown",
   "metadata": {},
   "source": [
    "### Audio Augmentation\n",
    "Reference for audio augmentation as seen here: https://github.com/UCSD-E4E/passive-acoustic-biodiversity/blob/master/Audio_Data_Augmentation/Data_Augmentation_Tutorial.ipynb"
   ]
  },
  {
   "cell_type": "code",
   "execution_count": 62,
   "metadata": {},
   "outputs": [
    {
     "name": "stdout",
     "output_type": "stream",
     "text": [
      "56\n"
     ]
    },
    {
     "data": {
      "text/html": [
       "<div>\n",
       "<style scoped>\n",
       "    .dataframe tbody tr th:only-of-type {\n",
       "        vertical-align: middle;\n",
       "    }\n",
       "\n",
       "    .dataframe tbody tr th {\n",
       "        vertical-align: top;\n",
       "    }\n",
       "\n",
       "    .dataframe thead th {\n",
       "        text-align: right;\n",
       "    }\n",
       "</style>\n",
       "<table border=\"1\" class=\"dataframe\">\n",
       "  <thead>\n",
       "    <tr style=\"text-align: right;\">\n",
       "      <th></th>\n",
       "      <th>Filenames</th>\n",
       "      <th>Bird present</th>\n",
       "      <th>Bird species</th>\n",
       "    </tr>\n",
       "  </thead>\n",
       "  <tbody>\n",
       "    <tr>\n",
       "      <th>0</th>\n",
       "      <td>/home/e4e/Desktop/binary_bird_small_testset/or...</td>\n",
       "      <td>0</td>\n",
       "      <td>N/A</td>\n",
       "    </tr>\n",
       "    <tr>\n",
       "      <th>1</th>\n",
       "      <td>/home/e4e/Desktop/binary_bird_small_testset/or...</td>\n",
       "      <td>0</td>\n",
       "      <td>N/A</td>\n",
       "    </tr>\n",
       "    <tr>\n",
       "      <th>2</th>\n",
       "      <td>/home/e4e/Desktop/binary_bird_small_testset/or...</td>\n",
       "      <td>0</td>\n",
       "      <td>N/A</td>\n",
       "    </tr>\n",
       "    <tr>\n",
       "      <th>3</th>\n",
       "      <td>/home/e4e/Desktop/binary_bird_small_testset/or...</td>\n",
       "      <td>0</td>\n",
       "      <td>N/A</td>\n",
       "    </tr>\n",
       "    <tr>\n",
       "      <th>4</th>\n",
       "      <td>/home/e4e/Desktop/binary_bird_small_testset/or...</td>\n",
       "      <td>0</td>\n",
       "      <td>N/A</td>\n",
       "    </tr>\n",
       "  </tbody>\n",
       "</table>\n",
       "</div>"
      ],
      "text/plain": [
       "                                           Filenames  Bird present  \\\n",
       "0  /home/e4e/Desktop/binary_bird_small_testset/or...             0   \n",
       "1  /home/e4e/Desktop/binary_bird_small_testset/or...             0   \n",
       "2  /home/e4e/Desktop/binary_bird_small_testset/or...             0   \n",
       "3  /home/e4e/Desktop/binary_bird_small_testset/or...             0   \n",
       "4  /home/e4e/Desktop/binary_bird_small_testset/or...             0   \n",
       "\n",
       "  Bird species  \n",
       "0          N/A  \n",
       "1          N/A  \n",
       "2          N/A  \n",
       "3          N/A  \n",
       "4          N/A  "
      ]
     },
     "execution_count": 62,
     "metadata": {},
     "output_type": "execute_result"
    }
   ],
   "source": [
    "print(len(df))\n",
    "df.head()"
   ]
  },
  {
   "cell_type": "code",
   "execution_count": 63,
   "metadata": {},
   "outputs": [],
   "source": [
    "train_df, valid_df = train_test_split(df, train_size=0.8, stratify=labels['Bird present'])\n"
   ]
  },
  {
   "cell_type": "code",
   "execution_count": 64,
   "metadata": {},
   "outputs": [
    {
     "name": "stdout",
     "output_type": "stream",
     "text": [
      "Fraction of original dataframe with bird species present: 0.57\n",
      "Fraction of train samples with bird species present: 0.57\n",
      "Fraction of train samples with bird species present: 0.58\n"
     ]
    }
   ],
   "source": [
    "num_samples = df.shape[0]\n",
    "num_present = sum(df['Bird present'] == 1)\n",
    "print(f\"Fraction of original dataframe with bird species present: {num_present/num_samples:.2f}\")\n",
    "\n",
    "num_train_samples = train_df.shape[0]\n",
    "num_train_present = sum(train_df['Bird present'] == 1)\n",
    "print(f\"Fraction of train samples with bird species present: {num_train_present/num_train_samples:.2f}\")\n",
    "    \n",
    "num_valid_samples = valid_df.shape[0]\n",
    "num_valid_present = sum(valid_df['Bird present'] == 1)\n",
    "print(f\"Fraction of train samples with bird species present: {num_valid_present/num_valid_samples:.2f}\")\n"
   ]
  },
  {
   "cell_type": "markdown",
   "metadata": {},
   "source": [
    "### Format as `SingleTargetAudioDataset`s\n",
    "\n",
    "Turn these dataframes into \"Datasets\" using the `SingleTargetAudioDataset` class. Once they are set up in this class, they can be used by the training algorithm. Data augmentation could be applied in this step, but is not demonstrated here; for more information, see the [relevant API documentation](api.html#opensoundscape.datasets.SingleTargetAudioDataset).\n",
    "\n",
    "To use this class, specify the names of the relevant columns in the dataframes:"
   ]
  },
  {
   "cell_type": "code",
   "execution_count": 65,
   "metadata": {},
   "outputs": [],
   "source": [
    "train_dataset = SingleTargetAudioDataset(\n",
    "    df=train_df, label_dict=label_dict, label_column='Bird present', filename_column='Filenames', add_noise=True)\n",
    "valid_dataset = SingleTargetAudioDataset(\n",
    "    df=valid_df, label_dict=label_dict, label_column='Bird present', filename_column='Filenames', add_noise=True)\n"
   ]
  },
  {
   "cell_type": "markdown",
   "metadata": {},
   "source": [
    "## Train the machine learning model\n",
    "Next, set up the architecture of the machine learning model and train it. \n",
    "\n",
    "### Set up model architecture\n",
    "The model architecture is a neural network. Neural networks are so-named for their loose similarity to neurons. Each **neuron** takes in a small amount of data, performs a transformation to the data, and passes it on with some weight to the next neuron. Neurons are usually organized in **layers**; each neuron in one layer can be connected to one or multiple neurons in the next layer. Complex structures can arise from this series of connections.\n",
    "\n",
    "The neural network used here is a combination of a feature extractor and a classifier. The **feature extractor** is a convolutional neural network (CNN). CNNs are a special class of neural network commonly used for image classification. They are able to interpret pixels that are near each other to identify shapes or textures in images, like lines, dots, and edges. During the training process, the CNN learns which shapes and textures are important for distinguishing between different classes.\n",
    "\n",
    "The specific CNN used here is `resnet18`, using the `pretrained=True` option. This means that the model loaded is a version that somebody has already trained on another image dataset called ImageNet, so it has a head start on understanding features commonly seen in images. Although spectrograms aren't the same type of images as the photographs used in ImageNet, using the pretrained model will allow the model to more quickly adapt to identifying spectrograms."
   ]
  },
  {
   "cell_type": "code",
   "execution_count": 66,
   "metadata": {},
   "outputs": [],
   "source": [
    "model = torchvision.models.resnet18(pretrained = True)"
   ]
  },
  {
   "cell_type": "markdown",
   "metadata": {},
   "source": [
    "Although we refer to the whole neural network as a classifier, the part of the neural network that actually does the species classification is its `fc`, or \"fully connected,\" layers. This part of the neural network is called \"fully connected\" because it consists of several layers of neurons, where every neuron in each layer is connected to every other neuron in its adjacent layers.\n",
    "\n",
    "These layers come after the CNN layers, which have already interpreted an image's features. The `fc` layers then use those interpretations to classify the image. The number of output features of the CNN, therefore, is the number of input features of the `fc` layers:"
   ]
  },
  {
   "cell_type": "code",
   "execution_count": 67,
   "metadata": {},
   "outputs": [
    {
     "data": {
      "text/plain": [
       "512"
      ]
     },
     "execution_count": 67,
     "metadata": {},
     "output_type": "execute_result"
    }
   ],
   "source": [
    "model.fc.in_features"
   ]
  },
  {
   "cell_type": "markdown",
   "metadata": {},
   "source": [
    "Use a `Linear` classifier for the `fc`. To set up the `Linear` classifier, identify the input and output size for this classifier. As described above, the `fc` takes in the outputs of the feature extractor, so `in_features = model.fc.in_features`. The model identifies one species, so it has to be able to output a \"present\" or \"absent\" classification. Thus, `out_features=2`. A multi-species model would use `out_features=number_of_species`."
   ]
  },
  {
   "cell_type": "code",
   "execution_count": 68,
   "metadata": {},
   "outputs": [],
   "source": [
    "model.fc = torch.nn.Linear(in_features = model.fc.in_features, out_features = 2)\n"
   ]
  },
  {
   "cell_type": "markdown",
   "metadata": {},
   "source": [
    "### Train the model\n",
    "\n",
    "Next, create set up a directory in which to save results."
   ]
  },
  {
   "cell_type": "code",
   "execution_count": 69,
   "metadata": {},
   "outputs": [],
   "source": [
    "results_path = Path('/home/e4e/Desktop/model_train_results')\n",
    "if not results_path.exists(): results_path.mkdir()\n"
   ]
  },
  {
   "cell_type": "code",
   "execution_count": 70,
   "metadata": {},
   "outputs": [
    {
     "name": "stdout",
     "output_type": "stream",
     "text": [
      "/home/e4e/Desktop/model_train_results\n"
     ]
    }
   ],
   "source": [
    "print(results_path)"
   ]
  },
  {
   "cell_type": "markdown",
   "metadata": {},
   "source": [
    "The scikit-learn function may throw errors when calculating metrics; the following code will silence them."
   ]
  },
  {
   "cell_type": "code",
   "execution_count": 71,
   "metadata": {},
   "outputs": [],
   "source": [
    "def warn(*args, **kwargs):\n",
    "    pass\n",
    "import warnings\n",
    "warnings.warn = warn"
   ]
  },
  {
   "cell_type": "markdown",
   "metadata": {},
   "source": [
    "Finally, run the model training with the following parameters:\n",
    "* `save_dir`: the directory in which to save results (which is created if it doesn't exist)\n",
    "* `model`: the model set up in the previous cell\n",
    "* `train_dataset`: the training dataset created using `SingleTargetAudioDataset`\n",
    "* `optimizer`: the optimizer to use for training the algorithm\n",
    "* `loss_fn`: the loss function used to assess the algorithm's performance during training\n",
    "* `epochs`: the number of times the model will run through the training data\n",
    "* `log_every`: how frequently to save performance data and save intermediate machine learning weights (`log_every=1` will save every epoch)\n",
    "\n",
    "The `train` function allows the user to control more parameters, but they are not demonstrated here. For more information, see the [train API](http://opensoundscape.org/en/latest/api.html#module-opensoundscape.torch.train)."
   ]
  },
  {
   "cell_type": "code",
   "execution_count": 72,
   "metadata": {},
   "outputs": [
    {
     "name": "stdout",
     "output_type": "stream",
     "text": [
      "<_io.StringIO object at 0x7fe66c4a89d0>\n"
     ]
    }
   ],
   "source": [
    "train_outputs = io.StringIO()\n",
    "print(train_outputs)\n",
    "\n",
    "with redirect_stdout(train_outputs):\n",
    "    train(\n",
    "        save_dir = results_path,\n",
    "        model = model,\n",
    "        train_dataset = train_dataset,\n",
    "        valid_dataset = valid_dataset,\n",
    "        optimizer = torch.optim.SGD(model.parameters(), lr=1e-3),\n",
    "        loss_fn = torch.nn.CrossEntropyLoss(),\n",
    "        epochs=10,\n",
    "        log_every=1,\n",
    "        print_logging=True,\n",
    "    )\n",
    "    "
   ]
  },
  {
   "cell_type": "markdown",
   "metadata": {},
   "source": [
    "## Evaluate model performance\n",
    "When training is complete, it is important to check the training results to see how well the model identifies sounds. This model was only trained on a limited amount of data, so the model is expected to not be usable--it is for demonstration purposes only.\n",
    "\n",
    "The outputs of the training function were saved to `train_outputs`. Check out the first 100 characters of this output.\n",
    "\n",
    "Notes on the statistics: \n",
    "- loss: In neural network, we want to minimize the error and the objective function for this is called a loss function. The value calculated by the loss function is referred to as \"loss\" \n",
    "- accuracy: Accuracy is the fraction of prediction our model got right aka the number of correct predictions / total number of predictions\n",
    "- precision: Answers the question: what proportion of positive identifications was actually correct? A model that produces no false positives (e.g. labels an audio file as a bird but does not contain any bird sounds) would have a precision of 1.0. Equation: TP / (TP + FP) \n",
    "- recall: Answers the question: what proportion of actual positives was identified correctly? A model that produces no false negatives has a recall of 1.0. So, in equation form: TP/ TP + FN\n",
    "- f1: A metric that relies on both precision and recall. \n",
    "\n",
    "Resources: \n",
    "- https://developers.google.com/machine-learning/crash-course/classification/precision-and-recall "
   ]
  },
  {
   "cell_type": "code",
   "execution_count": null,
   "metadata": {
    "scrolled": true
   },
   "outputs": [],
   "source": [
    "source_text = train_outputs.getvalue()\n",
    "print(source_text)"
   ]
  },
  {
   "cell_type": "markdown",
   "metadata": {},
   "source": [
    "These functions help to parse the log text. They simply extract the resulting \"metric\" in each epoch. Metrics include accuracy, precision, recall, and f1 score."
   ]
  },
  {
   "cell_type": "code",
   "execution_count": null,
   "metadata": {},
   "outputs": [],
   "source": [
    "def extract_all_lines_containing(source_text, str_to_extract):\n",
    "    \"\"\"Case-sensitive search for lines containing str_to_extract\"\"\"\n",
    "    finished = False\n",
    "    lines = source_text.split('\\n')\n",
    "    extract_lines = [line for line in lines if str_to_extract in line]\n",
    "    return extract_lines\n",
    "\n",
    "def strip_log(log, sep=':     '):\n",
    "    return log.split(sep)[1]\n",
    "\n",
    "def get_metric_from_log(source_text, metric):\n",
    "    if 'precision' in metric or 'recall' in metric:\n",
    "        return [float(strip_log(line, sep=': ').strip('[]').split()[1]) for line in extract_all_lines_containing(source_text, metric)]\n",
    "    return [float(strip_log(line, sep=': ')) for line in extract_all_lines_containing(source_text, metric)]"
   ]
  },
  {
   "cell_type": "code",
   "execution_count": null,
   "metadata": {},
   "outputs": [],
   "source": [
    "# get_metric_from_log(source_text, 'precision')\n",
    "# get_metric_from_log(source_text, 'accuracy')\n",
    "# get_metric_from_log(source_text, 'recall')\n",
    "# get_metric_from_log(source_text, 'f1 score')"
   ]
  },
  {
   "cell_type": "markdown",
   "metadata": {},
   "source": [
    "Plot the validation accuracy each epoch. These results will look different every time the model is trained, as it is a stochastic process (randomly determined)."
   ]
  },
  {
   "cell_type": "code",
   "execution_count": null,
   "metadata": {
    "scrolled": true
   },
   "outputs": [],
   "source": [
    "metrics_to_plot = ['valid_accuracy', 'train_accuracy']\n",
    "fig, ax = plt.subplots(1, 1)\n",
    "for metric in metrics_to_plot:\n",
    "    results = get_metric_from_log(source_text, metric)\n",
    "    ax.scatter(range(len(results)), results)\n",
    "ax.set_ylim(0, 1)\n",
    "ax.set_title('model training results')\n",
    "ax.legend(metrics_to_plot)\n",
    "plt.show()"
   ]
  },
  {
   "cell_type": "markdown",
   "metadata": {},
   "source": [
    "Lastly, this command \"cleans up\" by deleting all the downloaded files and results. Only run this if you are ready to remove the results of this analysis."
   ]
  },
  {
   "cell_type": "code",
   "execution_count": null,
   "metadata": {},
   "outputs": [],
   "source": [
    "#import shutil\n",
    "# Delete results\n",
    "#shutil.rmtree(results_path)"
   ]
  }
 ],
 "metadata": {
  "kernelspec": {
   "display_name": "Python 3",
   "language": "python",
   "name": "python3"
  },
  "language_info": {
   "codemirror_mode": {
    "name": "ipython",
    "version": 3
   },
   "file_extension": ".py",
   "mimetype": "text/x-python",
   "name": "python",
   "nbconvert_exporter": "python",
   "pygments_lexer": "ipython3",
   "version": "3.8.5"
  }
 },
 "nbformat": 4,
 "nbformat_minor": 4
}
